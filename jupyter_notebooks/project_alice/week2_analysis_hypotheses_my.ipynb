{
 "cells": [
  {
   "cell_type": "markdown",
   "metadata": {},
   "source": [
    "<center>\n",
    "<img src=\"https://habrastorage.org/web/677/8e1/337/6778e1337c3d4b159d7e99df94227cb2.jpg\"/>\n",
    "## Специализация \"Машинное обучение и анализ данных\"\n",
    "</center>\n",
    "<center>Автор материала: программист-исследователь Mail.ru Group, старший преподаватель Факультета Компьютерных Наук ВШЭ Юрий Кашницкий"
   ]
  },
  {
   "cell_type": "markdown",
   "metadata": {},
   "source": [
    "# <center> Capstone проект №1. Идентификация пользователей по посещенным веб-страницам\n",
    "<img src='http://i.istockimg.com/file_thumbview_approve/21546327/5/stock-illustration-21546327-identification-de-l-utilisateur.jpg'>\n",
    "\n",
    "# <center>Неделя 2. Подготовка и первичный анализ данных\n",
    "\n",
    "На второй неделе мы продолжим подготавливать данные для дальнейшего анализа и построения прогнозных моделей. Конкретно, раньше мы определили что сессия – это последовательность из 10 посещенных пользователем сайтов, теперь сделаем длину сессии параметром, и потом при обучении прогнозных моделей выберем лучшую длину сессии.\n",
    "Также мы познакомимся с предобработанными данными и статистически проверим первые гипотезы, связанные с нашими наблюдениями. \n",
    "\n",
    "**План 2 недели:**\n",
    " - Часть 1. Подготовка нескольких обучающих выборок для сравнения\n",
    " - Часть 2. Первичный анализ данных, проверка гипотез\n",
    "\n",
    "**В этой части проекта Вам могут быть полезны  следующие видеозаписи лекций курса \"Построение выводов по данным\":**\n",
    "\n",
    "   - [Доверительные интервалы для доли](https://www.coursera.org/learn/stats-for-data-analysis/lecture/3oi53/dovieritiel-nyie-intiervaly-dlia-doli)\n",
    "   - [Биномиальный критерий для доли](https://www.coursera.org/learn/stats-for-data-analysis/lecture/JwmBw/binomial-nyi-kritierii-dlia-doli)\n",
    "   - [Доверительные интервалы на основе бутстрепа](https://www.coursera.org/learn/stats-for-data-analysis/lecture/GZjW7/dovieritiel-nyie-intiervaly-na-osnovie-butstriepa)\n",
    "   \n",
    "**Кроме того, в задании будут использоваться библиотеки Python [glob](https://docs.python.org/3/library/glob.html), [pickle](https://docs.python.org/2/library/pickle.html), [itertools](https://docs.python.org/3/library/itertools.html) и класс [csr_matrix](https://docs.scipy.org/doc/scipy-0.14.0/reference/generated/scipy.sparse.csr_matrix.html) из scipy.sparse.**"
   ]
  },
  {
   "cell_type": "markdown",
   "metadata": {},
   "source": [
    "<font color='red'>**Задание:**</font> заполните код в этой тетрадке и выберите ответы в [веб-форме](https://docs.google.com/forms/d/13ZnT7w7foHD0uw0ynTtj7atdiCGvlltF8ThhbJCvLsc). \n"
   ]
  },
  {
   "cell_type": "markdown",
   "metadata": {},
   "source": [
    "## Часть 1. Подготовка нескольких обучающих выборок для сравнения\n",
    "\n",
    "Пока мы брали последовательности из 10 сайтов, и это было наобум. Давайте сделаем число сайтов в сессии параметром, чтоб в дальнейшем сравнить модели классификации, обученные на разных выборках – с 5, 7, 10 и 15 сайтами в сессии. Более того, пока мы брали по 10 сайтов подряд, без пересечения. Теперь давайте применим идею скользящего окна – сессии будут перекрываться. \n",
    "\n",
    "**Пример**: для длины сессии 10 и ширины окна 7 файл из 30 записей породит не 3 сессии, как раньше (1-10, 11-20, 21-30), а 5 (1-10, 8-17, 15-24, 22-30, 29-30). При этом в предпоследней сессии будет один ноль, а в последней – 8 нолей.\n",
    "\n",
    "Создадим несколько выборок для разных сочетаний параметров длины сессии и ширины окна. Все они представлены в табличке ниже:\n",
    "\n",
    "<style type=\"text/css\">\n",
    ".tg  {border-collapse:collapse;border-spacing:0;}\n",
    ".tg td{font-family:Arial, sans-serif;font-size:14px;padding:10px 5px;border-style:solid;border-width:1px;overflow:hidden;word-break:normal;}\n",
    ".tg th{font-family:Arial, sans-serif;font-size:14px;font-weight:normal;padding:10px 5px;border-style:solid;border-width:1px;overflow:hidden;word-break:normal;}\n",
    "</style>\n",
    "<table class=\"tg\">\n",
    "  <tr>\n",
    "    <th class=\"tg-031e\">session_length -&gt;<br>window_size <br></th>\n",
    "    <th class=\"tg-031e\">5</th>\n",
    "    <th class=\"tg-031e\">7</th>\n",
    "    <th class=\"tg-031e\">10</th>\n",
    "    <th class=\"tg-031e\">15</th>\n",
    "  </tr>\n",
    "  <tr>\n",
    "    <td class=\"tg-031e\">5</td>\n",
    "    <td class=\"tg-031e\">v</td>\n",
    "    <td class=\"tg-031e\">v</td>\n",
    "    <td class=\"tg-031e\">v</td>\n",
    "    <td class=\"tg-031e\">v</td>\n",
    "  </tr>\n",
    "  <tr>\n",
    "    <td class=\"tg-031e\">7</td>\n",
    "    <td class=\"tg-031e\"></td>\n",
    "    <td class=\"tg-031e\">v</td>\n",
    "    <td class=\"tg-031e\">v</td>\n",
    "    <td class=\"tg-031e\">v</td>\n",
    "  </tr>\n",
    "  <tr>\n",
    "    <td class=\"tg-031e\">10</td>\n",
    "    <td class=\"tg-031e\"></td>\n",
    "    <td class=\"tg-031e\"></td>\n",
    "    <td class=\"tg-031e\"><font color='green'>v</font></td>\n",
    "    <td class=\"tg-031e\">v</td>\n",
    "  </tr>\n",
    "</table>\n",
    "\n",
    "Итого должно получиться 18 разреженных матриц – указанные в таблице 9 сочетаний параметров формирования сессий для выборок из 10 и 150 пользователей. При этом 2 выборки мы уже сделали в прошлой части, они соответствуют сочетанию параметров: session_length=10, window_size=10, которые помечены в таблице выше галочкой зеленого цвета (done)."
   ]
  },
  {
   "cell_type": "markdown",
   "metadata": {},
   "source": [
    "Реализуйте функцию *prepare_sparse_train_set_window*.\n",
    "\n",
    "Аргументы:\n",
    "- *path_to_csv_files* – путь к каталогу с csv-файлами\n",
    "- *site_freq_path* – путь к pickle-файлу с частотным словарем, полученным в 1 части проекта\n",
    "- *session_length* – длина сессии (параметр)\n",
    "- *window_size* – ширина окна (параметр) \n",
    "\n",
    "Функция должна возвращать 2 объекта:\n",
    "- разреженную матрицу *X_sparse* (двухмерная Scipy.sparse.csr_matrix), в которой строки соответствуют сессиям из *session_length* сайтов, а *max(site_id)* столбцов – количеству посещений *site_id* в сессии. \n",
    "- вектор *y* (Numpy array) \"ответов\" в виде ID пользователей, которым принадлежат сессии из *X_sparse*\n",
    "\n",
    "Детали:\n",
    "- Модифицируйте созданную в 1 части функцию *prepare_train_set*\n",
    "- Некоторые сессии могут повторяться – оставьте как есть, не удаляйте дубликаты\n",
    "- Замеряйте время выполнения итераций цикла с помощью *time* из *time*, *tqdm* из *tqdm* или с помощью виджета [log_progress](https://github.com/alexanderkuk/log-progress) ([статья](https://habrahabr.ru/post/276725/) о нем на Хабрахабре)\n",
    "- 150 файлов из *capstone_websites_data/150users/* должны обрабатываться за несколько секунд (в зависимости от входных параметров). Если дольше – не страшно, но знайте, что функцию можно ускорить. "
   ]
  },
  {
   "cell_type": "code",
   "execution_count": 3,
   "metadata": {
    "collapsed": true
   },
   "outputs": [],
   "source": [
    "from __future__ import division, print_function\n",
    "# отключим всякие предупреждения Anaconda\n",
    "import warnings\n",
    "warnings.filterwarnings('ignore')\n",
    "from glob import glob\n",
    "import os\n",
    "import pickle\n",
    "from tqdm import tqdm_notebook\n",
    "import numpy as np\n",
    "import pandas as pd\n",
    "from scipy.sparse import csr_matrix\n",
    "from scipy import stats\n",
    "from statsmodels.stats.proportion import proportion_confint\n",
    "%matplotlib inline\n",
    "from matplotlib import pyplot as plt"
   ]
  },
  {
   "cell_type": "code",
   "execution_count": 4,
   "metadata": {
    "collapsed": true
   },
   "outputs": [],
   "source": [
    "# Поменяйте на свой путь к данным\n",
    "PATH_TO_DATA = 'capstone_user_identification'"
   ]
  },
  {
   "cell_type": "code",
   "execution_count": 18,
   "metadata": {
    "collapsed": true
   },
   "outputs": [],
   "source": [
    "from collections import Counter\n",
    "import glob\n",
    "from IPython.display import display\n",
    "\n",
    "def buildSparseMatrix(X):\n",
    "    rows = np.array([[e] * X.shape[1] for e in range(X.shape[0])]).flatten()\n",
    "    cols = X.flatten()\n",
    "    c = Counter()\n",
    "    c.update(zip(rows, cols))\n",
    "    row = [k[0] for k, v in sorted(c.items()) if k[1] != 0]\n",
    "    col = [(k[1] - 1) for k, v in sorted(c.items()) if k[1] != 0]\n",
    "    data = [v for k, v in sorted(c.items()) if k[1] != 0]\n",
    "    X_sparse = csr_matrix((data, (row, col)))\n",
    "    return X_sparse\n",
    "\n",
    "def prepare_sparse_train_set_window(path_to_csv_files, site_freq_path, \n",
    "                                    session_length=10, window_size=10):\n",
    "    ''' ВАШ КОД ЗДЕСЬ'''\n",
    "    with open(site_freq_path, 'rb') as fin:\n",
    "        site_dict = pickle.load(fin)\n",
    "    \n",
    "    site_chains = []\n",
    "    for e in tqdm_notebook(glob.glob(os.path.join(path_to_csv_files, '*.csv'))):\n",
    "        user_id = int(e.split('\\\\')[-1].split('user')[1][:-4])\n",
    "        df = pd.read_csv(e)\n",
    "        df['siteId'] = df['site'].apply(lambda x: site_dict[x][0])\n",
    "        sites = df['siteId'].tolist()\n",
    "        site_chain = []\n",
    "        n_chains = 0\n",
    "        #display(df)\n",
    "        for i, siteId in enumerate(sites + [-1] * (session_length - 1)):\n",
    "            if siteId != -1:\n",
    "                site_chain.append(siteId)\n",
    "            if (i + 1 - session_length) >= 0 and (i + 1 - session_length) % window_size == 0:\n",
    "                cur_site_chain = site_chain[(i + 1 - session_length):]\n",
    "                if len(cur_site_chain) != session_length:\n",
    "                    cur_site_chain += [0] * (session_length - len(cur_site_chain))\n",
    "                #print(i, cur_site_chain)\n",
    "                site_chains.append(cur_site_chain + [user_id])\n",
    "                n_chains += 1\n",
    "        print(e, user_id, n_chains)\n",
    "    data = pd.DataFrame(site_chains, columns = ['site_' + str(e + 1) for e in range(session_length)] + ['user_id'])\n",
    "    X, y = data.iloc[:, :-1].values, data.iloc[:, -1].values        \n",
    "    #print(X) \n",
    "    return buildSparseMatrix(X), y\n"
   ]
  },
  {
   "cell_type": "markdown",
   "metadata": {},
   "source": [
    "**Примените полученную функцию с параметрами *session_length=5* и *window_size=3* к игрушечному примеру. Убедитесь, что все работает как надо.**"
   ]
  },
  {
   "cell_type": "code",
   "execution_count": 22,
   "metadata": {},
   "outputs": [
    {
     "data": {
      "application/vnd.jupyter.widget-view+json": {
       "model_id": "2c0a0f46a37847fb83a2d84c832e5436"
      }
     },
     "metadata": {},
     "output_type": "display_data"
    },
    {
     "name": "stdout",
     "output_type": "stream",
     "text": [
      "capstone_user_identification\\3users\\user0001.csv 1 5\n",
      "capstone_user_identification\\3users\\user0002.csv 2 2\n",
      "capstone_user_identification\\3users\\user0003.csv 3 5\n",
      "\n"
     ]
    }
   ],
   "source": [
    "X_toy_s5_w3, y_s5_w3 = prepare_sparse_train_set_window(os.path.join(PATH_TO_DATA,'3users'), \n",
    "                                                       os.path.join(PATH_TO_DATA,'site_freq_3users.pkl'),\n",
    "                                       session_length=5, window_size=3)"
   ]
  },
  {
   "cell_type": "code",
   "execution_count": 23,
   "metadata": {},
   "outputs": [
    {
     "data": {
      "text/plain": [
       "(matrix([[1, 3, 1, 0, 0, 0, 0, 0, 0, 0, 0],\n",
       "         [0, 1, 1, 1, 1, 1, 0, 0, 0, 0, 0],\n",
       "         [1, 0, 0, 0, 1, 1, 1, 1, 0, 0, 0],\n",
       "         [1, 0, 0, 3, 0, 0, 0, 1, 0, 0, 0],\n",
       "         [0, 0, 0, 2, 0, 0, 0, 0, 0, 0, 0],\n",
       "         [1, 2, 0, 0, 0, 0, 0, 0, 2, 0, 0],\n",
       "         [0, 1, 0, 0, 0, 0, 0, 0, 1, 0, 0],\n",
       "         [0, 2, 0, 2, 0, 0, 0, 0, 0, 1, 0],\n",
       "         [0, 1, 0, 3, 0, 1, 0, 0, 0, 0, 0],\n",
       "         [0, 0, 0, 1, 0, 1, 0, 0, 0, 2, 1],\n",
       "         [0, 1, 0, 1, 0, 0, 0, 0, 0, 2, 0],\n",
       "         [0, 1, 0, 0, 0, 0, 0, 0, 0, 0, 0]], dtype=int32),\n",
       " array([1, 1, 1, 1, 1, 2, 2, 3, 3, 3, 3, 3], dtype=int64))"
      ]
     },
     "execution_count": 23,
     "metadata": {},
     "output_type": "execute_result"
    }
   ],
   "source": [
    "X_toy_s5_w3.todense(), y_s5_w3"
   ]
  },
  {
   "cell_type": "code",
   "execution_count": 24,
   "metadata": {},
   "outputs": [
    {
     "data": {
      "text/plain": [
       "matrix([[1, 3, 1, 0, 0, 0, 0, 0, 0, 0, 0],\n",
       "        [0, 1, 1, 1, 1, 1, 0, 0, 0, 0, 0],\n",
       "        [1, 0, 0, 0, 1, 1, 1, 1, 0, 0, 0],\n",
       "        [1, 0, 0, 3, 0, 0, 0, 1, 0, 0, 0],\n",
       "        [0, 0, 0, 2, 0, 0, 0, 0, 0, 0, 0],\n",
       "        [1, 2, 0, 0, 0, 0, 0, 0, 2, 0, 0],\n",
       "        [0, 1, 0, 0, 0, 0, 0, 0, 1, 0, 0],\n",
       "        [0, 2, 0, 2, 0, 0, 0, 0, 0, 1, 0],\n",
       "        [0, 1, 0, 3, 0, 1, 0, 0, 0, 0, 0],\n",
       "        [0, 0, 0, 1, 0, 1, 0, 0, 0, 2, 1],\n",
       "        [0, 1, 0, 1, 0, 0, 0, 0, 0, 2, 0],\n",
       "        [0, 1, 0, 0, 0, 0, 0, 0, 0, 0, 0]], dtype=int32)"
      ]
     },
     "execution_count": 24,
     "metadata": {},
     "output_type": "execute_result"
    }
   ],
   "source": [
    "X_toy_s5_w3.todense()"
   ]
  },
  {
   "cell_type": "code",
   "execution_count": 25,
   "metadata": {},
   "outputs": [
    {
     "data": {
      "text/plain": [
       "array([1, 1, 1, 1, 1, 2, 2, 3, 3, 3, 3, 3], dtype=int64)"
      ]
     },
     "execution_count": 25,
     "metadata": {},
     "output_type": "execute_result"
    }
   ],
   "source": [
    "y_s5_w3"
   ]
  },
  {
   "cell_type": "markdown",
   "metadata": {},
   "source": [
    "**Запустите созданную функцию 16 раз с помощью циклов по числу пользователей num_users (10 или 150), значениям параметра *session_length* (15, 10, 7 или 5) и значениям параметра *window_size* (10, 7 или 5). Сериализуйте все 16 разреженных матриц (обучающие выборки) и векторов (метки целевого класса – ID пользователя) в файлы `X_sparse_{num_users}users_s{session_length}_w{window_size}.pkl` и `y_{num_users}users_s{session_length}_w{window_size}.pkl`.**\n",
    "\n",
    "**Чтоб убедиться, что мы все далее будем работать с идентичными объектами, запишите в список *data_lengths* число строк во всех полученных рареженных матрицах (16 значений). Если какие-то будут совпадать, это нормально (можно сообразить, почему).**\n",
    "\n",
    "**На моем ноутбуке этот участок кода отработал за 26 секунд, хотя понятно, что все зависит от эффективности реализации функции *prepare_sparse_train_set_window* и мощности используемого железа. И честно говоря, моя первая реализация была намного менее эффективной (34 минуты), так что тут у Вас есть возможность оптимизировать свой код.**"
   ]
  },
  {
   "cell_type": "code",
   "execution_count": 27,
   "metadata": {
    "scrolled": true
   },
   "outputs": [
    {
     "data": {
      "application/vnd.jupyter.widget-view+json": {
       "model_id": "8dd3d47c0aed4c588fb57b2622218fe6"
      }
     },
     "metadata": {},
     "output_type": "display_data"
    },
    {
     "name": "stdout",
     "output_type": "stream",
     "text": [
      "capstone_user_identification\\10users\\user0031.csv 31 760\n",
      "capstone_user_identification\\10users\\user0033.csv 33 1022\n",
      "capstone_user_identification\\10users\\user0039.csv 39 2204\n",
      "capstone_user_identification\\10users\\user0050.csv 50 802\n",
      "capstone_user_identification\\10users\\user0100.csv 100 720\n",
      "capstone_user_identification\\10users\\user0127.csv 127 1712\n",
      "capstone_user_identification\\10users\\user0128.csv 128 2796\n",
      "capstone_user_identification\\10users\\user0207.csv 207 1868\n",
      "capstone_user_identification\\10users\\user0237.csv 237 1643\n",
      "capstone_user_identification\\10users\\user0241.csv 241 534\n",
      "\n"
     ]
    },
    {
     "data": {
      "application/vnd.jupyter.widget-view+json": {
       "model_id": "b4a81d9af8254f88b5254f56b017901f"
      }
     },
     "metadata": {},
     "output_type": "display_data"
    },
    {
     "name": "stdout",
     "output_type": "stream",
     "text": [
      "capstone_user_identification\\10users\\user0031.csv 31 1086\n",
      "capstone_user_identification\\10users\\user0033.csv 33 1460\n",
      "capstone_user_identification\\10users\\user0039.csv 39 3148\n",
      "capstone_user_identification\\10users\\user0050.csv 50 1146\n",
      "capstone_user_identification\\10users\\user0100.csv 100 1029\n",
      "capstone_user_identification\\10users\\user0127.csv 127 2446\n",
      "capstone_user_identification\\10users\\user0128.csv 128 3995\n",
      "capstone_user_identification\\10users\\user0207.csv 207 2668\n",
      "capstone_user_identification\\10users\\user0237.csv 237 2347\n",
      "capstone_user_identification\\10users\\user0241.csv 241 762\n",
      "\n"
     ]
    },
    {
     "data": {
      "application/vnd.jupyter.widget-view+json": {
       "model_id": "f12d16e7478c48138658eef799b96267"
      }
     },
     "metadata": {},
     "output_type": "display_data"
    },
    {
     "name": "stdout",
     "output_type": "stream",
     "text": [
      "capstone_user_identification\\10users\\user0031.csv 31 1086\n",
      "capstone_user_identification\\10users\\user0033.csv 33 1460\n",
      "capstone_user_identification\\10users\\user0039.csv 39 3148\n",
      "capstone_user_identification\\10users\\user0050.csv 50 1146\n",
      "capstone_user_identification\\10users\\user0100.csv 100 1029\n",
      "capstone_user_identification\\10users\\user0127.csv 127 2446\n",
      "capstone_user_identification\\10users\\user0128.csv 128 3995\n",
      "capstone_user_identification\\10users\\user0207.csv 207 2668\n",
      "capstone_user_identification\\10users\\user0237.csv 237 2347\n",
      "capstone_user_identification\\10users\\user0241.csv 241 762\n",
      "\n"
     ]
    },
    {
     "data": {
      "application/vnd.jupyter.widget-view+json": {
       "model_id": "74689808f4b3433a8fa9a6192f003eed"
      }
     },
     "metadata": {},
     "output_type": "display_data"
    },
    {
     "name": "stdout",
     "output_type": "stream",
     "text": [
      "capstone_user_identification\\10users\\user0031.csv 31 1086\n",
      "capstone_user_identification\\10users\\user0033.csv 33 1460\n",
      "capstone_user_identification\\10users\\user0039.csv 39 3148\n",
      "capstone_user_identification\\10users\\user0050.csv 50 1146\n",
      "capstone_user_identification\\10users\\user0100.csv 100 1029\n",
      "capstone_user_identification\\10users\\user0127.csv 127 2446\n",
      "capstone_user_identification\\10users\\user0128.csv 128 3995\n",
      "capstone_user_identification\\10users\\user0207.csv 207 2668\n",
      "capstone_user_identification\\10users\\user0237.csv 237 2347\n",
      "capstone_user_identification\\10users\\user0241.csv 241 762\n",
      "\n"
     ]
    },
    {
     "data": {
      "application/vnd.jupyter.widget-view+json": {
       "model_id": "2f10e3b9290543408d08fb0c80857ba6"
      }
     },
     "metadata": {},
     "output_type": "display_data"
    },
    {
     "name": "stdout",
     "output_type": "stream",
     "text": [
      "capstone_user_identification\\10users\\user0031.csv 31 1520\n",
      "capstone_user_identification\\10users\\user0033.csv 33 2043\n",
      "capstone_user_identification\\10users\\user0039.csv 39 4407\n",
      "capstone_user_identification\\10users\\user0050.csv 50 1604\n",
      "capstone_user_identification\\10users\\user0100.csv 100 1440\n",
      "capstone_user_identification\\10users\\user0127.csv 127 3424\n",
      "capstone_user_identification\\10users\\user0128.csv 128 5592\n",
      "capstone_user_identification\\10users\\user0207.csv 207 3735\n",
      "capstone_user_identification\\10users\\user0237.csv 237 3286\n",
      "capstone_user_identification\\10users\\user0241.csv 241 1067\n",
      "\n"
     ]
    },
    {
     "data": {
      "application/vnd.jupyter.widget-view+json": {
       "model_id": "ff256d8e4b2e455a90d714a1607c11b2"
      }
     },
     "metadata": {},
     "output_type": "display_data"
    },
    {
     "name": "stdout",
     "output_type": "stream",
     "text": [
      "capstone_user_identification\\10users\\user0031.csv 31 1520\n",
      "capstone_user_identification\\10users\\user0033.csv 33 2043\n",
      "capstone_user_identification\\10users\\user0039.csv 39 4407\n",
      "capstone_user_identification\\10users\\user0050.csv 50 1604\n",
      "capstone_user_identification\\10users\\user0100.csv 100 1440\n",
      "capstone_user_identification\\10users\\user0127.csv 127 3424\n",
      "capstone_user_identification\\10users\\user0128.csv 128 5592\n",
      "capstone_user_identification\\10users\\user0207.csv 207 3735\n",
      "capstone_user_identification\\10users\\user0237.csv 237 3286\n",
      "capstone_user_identification\\10users\\user0241.csv 241 1067\n",
      "\n"
     ]
    },
    {
     "data": {
      "application/vnd.jupyter.widget-view+json": {
       "model_id": "3dc56fedf26541aea472114fa57b4dd0"
      }
     },
     "metadata": {},
     "output_type": "display_data"
    },
    {
     "name": "stdout",
     "output_type": "stream",
     "text": [
      "capstone_user_identification\\10users\\user0031.csv 31 1520\n",
      "capstone_user_identification\\10users\\user0033.csv 33 2043\n",
      "capstone_user_identification\\10users\\user0039.csv 39 4407\n",
      "capstone_user_identification\\10users\\user0050.csv 50 1604\n",
      "capstone_user_identification\\10users\\user0100.csv 100 1440\n",
      "capstone_user_identification\\10users\\user0127.csv 127 3424\n",
      "capstone_user_identification\\10users\\user0128.csv 128 5592\n",
      "capstone_user_identification\\10users\\user0207.csv 207 3735\n",
      "capstone_user_identification\\10users\\user0237.csv 237 3286\n",
      "capstone_user_identification\\10users\\user0241.csv 241 1067\n",
      "\n"
     ]
    },
    {
     "data": {
      "application/vnd.jupyter.widget-view+json": {
       "model_id": "362b86ee9ba443e88d9fe9c380e566b2"
      }
     },
     "metadata": {},
     "output_type": "display_data"
    },
    {
     "name": "stdout",
     "output_type": "stream",
     "text": [
      "capstone_user_identification\\10users\\user0031.csv 31 1520\n",
      "capstone_user_identification\\10users\\user0033.csv 33 2043\n",
      "capstone_user_identification\\10users\\user0039.csv 39 4407\n",
      "capstone_user_identification\\10users\\user0050.csv 50 1604\n",
      "capstone_user_identification\\10users\\user0100.csv 100 1440\n",
      "capstone_user_identification\\10users\\user0127.csv 127 3424\n",
      "capstone_user_identification\\10users\\user0128.csv 128 5592\n",
      "capstone_user_identification\\10users\\user0207.csv 207 3735\n",
      "capstone_user_identification\\10users\\user0237.csv 237 3286\n",
      "capstone_user_identification\\10users\\user0241.csv 241 1067\n",
      "\n"
     ]
    },
    {
     "data": {
      "application/vnd.jupyter.widget-view+json": {
       "model_id": "75dc8472315c42fdb206f01893822abc"
      }
     },
     "metadata": {},
     "output_type": "display_data"
    },
    {
     "name": "stdout",
     "output_type": "stream",
     "text": [
      "capstone_user_identification\\150users\\user0006.csv 6 2137\n",
      "capstone_user_identification\\150users\\user0013.csv 13 589\n",
      "capstone_user_identification\\150users\\user0015.csv 15 767\n",
      "capstone_user_identification\\150users\\user0016.csv 16 2094\n",
      "capstone_user_identification\\150users\\user0028.csv 28 1651\n",
      "capstone_user_identification\\150users\\user0031.csv 31 760\n",
      "capstone_user_identification\\150users\\user0033.csv 33 1022\n",
      "capstone_user_identification\\150users\\user0039.csv 39 2204\n",
      "capstone_user_identification\\150users\\user0046.csv 46 394\n",
      "capstone_user_identification\\150users\\user0049.csv 49 845\n",
      "capstone_user_identification\\150users\\user0050.csv 50 802\n",
      "capstone_user_identification\\150users\\user0053.csv 53 1090\n",
      "capstone_user_identification\\150users\\user0065.csv 65 422\n",
      "capstone_user_identification\\150users\\user0066.csv 66 704\n",
      "capstone_user_identification\\150users\\user0082.csv 82 500\n",
      "capstone_user_identification\\150users\\user0085.csv 85 521\n",
      "capstone_user_identification\\150users\\user0089.csv 89 1360\n",
      "capstone_user_identification\\150users\\user0092.csv 92 801\n",
      "capstone_user_identification\\150users\\user0100.csv 100 720\n",
      "capstone_user_identification\\150users\\user0102.csv 102 1310\n",
      "capstone_user_identification\\150users\\user0103.csv 103 3152\n",
      "capstone_user_identification\\150users\\user0105.csv 105 546\n",
      "capstone_user_identification\\150users\\user0106.csv 106 1752\n",
      "capstone_user_identification\\150users\\user0118.csv 118 1370\n",
      "capstone_user_identification\\150users\\user0119.csv 119 556\n",
      "capstone_user_identification\\150users\\user0120.csv 120 869\n",
      "capstone_user_identification\\150users\\user0126.csv 126 814\n",
      "capstone_user_identification\\150users\\user0127.csv 127 1712\n",
      "capstone_user_identification\\150users\\user0128.csv 128 2796\n",
      "capstone_user_identification\\150users\\user0138.csv 138 395\n",
      "capstone_user_identification\\150users\\user0158.csv 158 442\n",
      "capstone_user_identification\\150users\\user0160.csv 160 474\n",
      "capstone_user_identification\\150users\\user0165.csv 165 400\n",
      "capstone_user_identification\\150users\\user0172.csv 172 513\n",
      "capstone_user_identification\\150users\\user0177.csv 177 480\n",
      "capstone_user_identification\\150users\\user0203.csv 203 523\n",
      "capstone_user_identification\\150users\\user0207.csv 207 1868\n",
      "capstone_user_identification\\150users\\user0223.csv 223 484\n",
      "capstone_user_identification\\150users\\user0233.csv 233 516\n",
      "capstone_user_identification\\150users\\user0235.csv 235 445\n",
      "capstone_user_identification\\150users\\user0236.csv 236 1537\n",
      "capstone_user_identification\\150users\\user0237.csv 237 1643\n",
      "capstone_user_identification\\150users\\user0238.csv 238 511\n",
      "capstone_user_identification\\150users\\user0240.csv 240 578\n",
      "capstone_user_identification\\150users\\user0241.csv 241 534\n",
      "capstone_user_identification\\150users\\user0242.csv 242 732\n",
      "capstone_user_identification\\150users\\user0245.csv 245 580\n",
      "capstone_user_identification\\150users\\user0246.csv 246 394\n",
      "capstone_user_identification\\150users\\user0249.csv 249 671\n",
      "capstone_user_identification\\150users\\user0252.csv 252 507\n",
      "capstone_user_identification\\150users\\user0254.csv 254 1382\n",
      "capstone_user_identification\\150users\\user0256.csv 256 609\n",
      "capstone_user_identification\\150users\\user0258.csv 258 582\n",
      "capstone_user_identification\\150users\\user0259.csv 259 660\n",
      "capstone_user_identification\\150users\\user0260.csv 260 400\n",
      "capstone_user_identification\\150users\\user0261.csv 261 1493\n",
      "capstone_user_identification\\150users\\user0263.csv 263 1152\n",
      "capstone_user_identification\\150users\\user0264.csv 264 520\n",
      "capstone_user_identification\\150users\\user0269.csv 269 1953\n",
      "capstone_user_identification\\150users\\user0270.csv 270 2039\n",
      "capstone_user_identification\\150users\\user0273.csv 273 859\n",
      "capstone_user_identification\\150users\\user0287.csv 287 1612\n",
      "capstone_user_identification\\150users\\user0294.csv 294 554\n",
      "capstone_user_identification\\150users\\user0298.csv 298 1401\n",
      "capstone_user_identification\\150users\\user0301.csv 301 620\n",
      "capstone_user_identification\\150users\\user0308.csv 308 688\n",
      "capstone_user_identification\\150users\\user0315.csv 315 396\n",
      "capstone_user_identification\\150users\\user0318.csv 318 638\n",
      "capstone_user_identification\\150users\\user0327.csv 327 461\n",
      "capstone_user_identification\\150users\\user0332.csv 332 435\n",
      "capstone_user_identification\\150users\\user0333.csv 333 689\n",
      "capstone_user_identification\\150users\\user0339.csv 339 558\n",
      "capstone_user_identification\\150users\\user0340.csv 340 478\n",
      "capstone_user_identification\\150users\\user0342.csv 342 1109\n",
      "capstone_user_identification\\150users\\user0344.csv 344 441\n",
      "capstone_user_identification\\150users\\user0351.csv 351 1228\n",
      "capstone_user_identification\\150users\\user0356.csv 356 382\n",
      "capstone_user_identification\\150users\\user0361.csv 361 462\n",
      "capstone_user_identification\\150users\\user0363.csv 363 644\n",
      "capstone_user_identification\\150users\\user0411.csv 411 1476\n",
      "capstone_user_identification\\150users\\user0417.csv 417 462\n",
      "capstone_user_identification\\150users\\user0425.csv 425 800\n",
      "capstone_user_identification\\150users\\user0430.csv 430 652\n",
      "capstone_user_identification\\150users\\user0435.csv 435 390\n",
      "capstone_user_identification\\150users\\user0436.csv 436 683\n",
      "capstone_user_identification\\150users\\user0440.csv 440 399\n",
      "capstone_user_identification\\150users\\user0444.csv 444 409\n",
      "capstone_user_identification\\150users\\user0475.csv 475 1645\n",
      "capstone_user_identification\\150users\\user0476.csv 476 530\n",
      "capstone_user_identification\\150users\\user0486.csv 486 652\n",
      "capstone_user_identification\\150users\\user0515.csv 515 824\n",
      "capstone_user_identification\\150users\\user0533.csv 533 1008\n",
      "capstone_user_identification\\150users\\user0561.csv 561 2607\n",
      "capstone_user_identification\\150users\\user0563.csv 563 505\n",
      "capstone_user_identification\\150users\\user0564.csv 564 667\n",
      "capstone_user_identification\\150users\\user0568.csv 568 1120\n",
      "capstone_user_identification\\150users\\user0569.csv 569 2049\n",
      "capstone_user_identification\\150users\\user0570.csv 570 589\n",
      "capstone_user_identification\\150users\\user0573.csv 573 1238\n",
      "capstone_user_identification\\150users\\user0575.csv 575 1562\n",
      "capstone_user_identification\\150users\\user0576.csv 576 769\n",
      "capstone_user_identification\\150users\\user0580.csv 580 2675\n",
      "capstone_user_identification\\150users\\user0583.csv 583 4653\n",
      "capstone_user_identification\\150users\\user0584.csv 584 2954\n",
      "capstone_user_identification\\150users\\user0600.csv 600 1289\n",
      "capstone_user_identification\\150users\\user0603.csv 603 677\n",
      "capstone_user_identification\\150users\\user0605.csv 605 676\n",
      "capstone_user_identification\\150users\\user0640.csv 640 405\n",
      "capstone_user_identification\\150users\\user0647.csv 647 545\n",
      "capstone_user_identification\\150users\\user0653.csv 653 377\n",
      "capstone_user_identification\\150users\\user0664.csv 664 743\n",
      "capstone_user_identification\\150users\\user0665.csv 665 456\n",
      "capstone_user_identification\\150users\\user0677.csv 677 562\n",
      "capstone_user_identification\\150users\\user0692.csv 692 429\n",
      "capstone_user_identification\\150users\\user0697.csv 697 652\n",
      "capstone_user_identification\\150users\\user0705.csv 705 523\n",
      "capstone_user_identification\\150users\\user0722.csv 722 874\n",
      "capstone_user_identification\\150users\\user0740.csv 740 567\n",
      "capstone_user_identification\\150users\\user0741.csv 741 441\n",
      "capstone_user_identification\\150users\\user0756.csv 756 643\n",
      "capstone_user_identification\\150users\\user0780.csv 780 580\n",
      "capstone_user_identification\\150users\\user0784.csv 784 691\n",
      "capstone_user_identification\\150users\\user0785.csv 785 406\n",
      "capstone_user_identification\\150users\\user0797.csv 797 655\n",
      "capstone_user_identification\\150users\\user0812.csv 812 1438\n",
      "capstone_user_identification\\150users\\user0844.csv 844 415\n",
      "capstone_user_identification\\150users\\user0859.csv 859 423\n",
      "capstone_user_identification\\150users\\user0868.csv 868 442\n",
      "capstone_user_identification\\150users\\user0875.csv 875 1352\n",
      "capstone_user_identification\\150users\\user0932.csv 932 1630\n",
      "capstone_user_identification\\150users\\user0996.csv 996 1304\n",
      "capstone_user_identification\\150users\\user1014.csv 1014 577\n",
      "capstone_user_identification\\150users\\user1040.csv 1040 662\n",
      "capstone_user_identification\\150users\\user1054.csv 1054 500\n",
      "capstone_user_identification\\150users\\user1248.csv 1248 365\n",
      "capstone_user_identification\\150users\\user1267.csv 1267 411\n",
      "capstone_user_identification\\150users\\user1299.csv 1299 434\n",
      "capstone_user_identification\\150users\\user1371.csv 1371 1544\n"
     ]
    },
    {
     "name": "stdout",
     "output_type": "stream",
     "text": [
      "capstone_user_identification\\150users\\user1797.csv 1797 1132\n",
      "capstone_user_identification\\150users\\user1798.csv 1798 626\n",
      "capstone_user_identification\\150users\\user1993.csv 1993 559\n",
      "capstone_user_identification\\150users\\user2118.csv 2118 502\n",
      "capstone_user_identification\\150users\\user2174.csv 2174 637\n",
      "capstone_user_identification\\150users\\user2191.csv 2191 709\n",
      "capstone_user_identification\\150users\\user2250.csv 2250 351\n",
      "capstone_user_identification\\150users\\user2355.csv 2355 1722\n",
      "capstone_user_identification\\150users\\user2408.csv 2408 1039\n",
      "capstone_user_identification\\150users\\user2493.csv 2493 505\n",
      "capstone_user_identification\\150users\\user2625.csv 2625 621\n",
      "capstone_user_identification\\150users\\user2902.csv 2902 678\n",
      "\n"
     ]
    },
    {
     "data": {
      "application/vnd.jupyter.widget-view+json": {
       "model_id": "9472ef1aa40045bfa9c4390c93883796"
      }
     },
     "metadata": {},
     "output_type": "display_data"
    },
    {
     "name": "stdout",
     "output_type": "stream",
     "text": [
      "capstone_user_identification\\150users\\user0006.csv 6 3053\n",
      "capstone_user_identification\\150users\\user0013.csv 13 841\n",
      "capstone_user_identification\\150users\\user0015.csv 15 1095\n",
      "capstone_user_identification\\150users\\user0016.csv 16 2992\n",
      "capstone_user_identification\\150users\\user0028.csv 28 2359\n",
      "capstone_user_identification\\150users\\user0031.csv 31 1086\n",
      "capstone_user_identification\\150users\\user0033.csv 33 1460\n",
      "capstone_user_identification\\150users\\user0039.csv 39 3148\n",
      "capstone_user_identification\\150users\\user0046.csv 46 563\n",
      "capstone_user_identification\\150users\\user0049.csv 49 1207\n",
      "capstone_user_identification\\150users\\user0050.csv 50 1146\n",
      "capstone_user_identification\\150users\\user0053.csv 53 1556\n",
      "capstone_user_identification\\150users\\user0065.csv 65 602\n",
      "capstone_user_identification\\150users\\user0066.csv 66 1005\n",
      "capstone_user_identification\\150users\\user0082.csv 82 715\n",
      "capstone_user_identification\\150users\\user0085.csv 85 745\n",
      "capstone_user_identification\\150users\\user0089.csv 89 1943\n",
      "capstone_user_identification\\150users\\user0092.csv 92 1144\n",
      "capstone_user_identification\\150users\\user0100.csv 100 1029\n",
      "capstone_user_identification\\150users\\user0102.csv 102 1872\n",
      "capstone_user_identification\\150users\\user0103.csv 103 4502\n",
      "capstone_user_identification\\150users\\user0105.csv 105 780\n",
      "capstone_user_identification\\150users\\user0106.csv 106 2503\n",
      "capstone_user_identification\\150users\\user0118.csv 118 1957\n",
      "capstone_user_identification\\150users\\user0119.csv 119 794\n",
      "capstone_user_identification\\150users\\user0120.csv 120 1241\n",
      "capstone_user_identification\\150users\\user0126.csv 126 1163\n",
      "capstone_user_identification\\150users\\user0127.csv 127 2446\n",
      "capstone_user_identification\\150users\\user0128.csv 128 3995\n",
      "capstone_user_identification\\150users\\user0138.csv 138 564\n",
      "capstone_user_identification\\150users\\user0158.csv 158 631\n",
      "capstone_user_identification\\150users\\user0160.csv 160 677\n",
      "capstone_user_identification\\150users\\user0165.csv 165 571\n",
      "capstone_user_identification\\150users\\user0172.csv 172 732\n",
      "capstone_user_identification\\150users\\user0177.csv 177 685\n",
      "capstone_user_identification\\150users\\user0203.csv 203 747\n",
      "capstone_user_identification\\150users\\user0207.csv 207 2668\n",
      "capstone_user_identification\\150users\\user0223.csv 223 691\n",
      "capstone_user_identification\\150users\\user0233.csv 233 737\n",
      "capstone_user_identification\\150users\\user0235.csv 235 635\n",
      "capstone_user_identification\\150users\\user0236.csv 236 2195\n",
      "capstone_user_identification\\150users\\user0237.csv 237 2347\n",
      "capstone_user_identification\\150users\\user0238.csv 238 729\n",
      "capstone_user_identification\\150users\\user0240.csv 240 825\n",
      "capstone_user_identification\\150users\\user0241.csv 241 762\n",
      "capstone_user_identification\\150users\\user0242.csv 242 1046\n",
      "capstone_user_identification\\150users\\user0245.csv 245 828\n",
      "capstone_user_identification\\150users\\user0246.csv 246 563\n",
      "capstone_user_identification\\150users\\user0249.csv 249 959\n",
      "capstone_user_identification\\150users\\user0252.csv 252 724\n",
      "capstone_user_identification\\150users\\user0254.csv 254 1975\n",
      "capstone_user_identification\\150users\\user0256.csv 256 870\n",
      "capstone_user_identification\\150users\\user0258.csv 258 832\n",
      "capstone_user_identification\\150users\\user0259.csv 259 943\n",
      "capstone_user_identification\\150users\\user0260.csv 260 571\n",
      "capstone_user_identification\\150users\\user0261.csv 261 2133\n",
      "capstone_user_identification\\150users\\user0263.csv 263 1645\n",
      "capstone_user_identification\\150users\\user0264.csv 264 743\n",
      "capstone_user_identification\\150users\\user0269.csv 269 2790\n",
      "capstone_user_identification\\150users\\user0270.csv 270 2912\n",
      "capstone_user_identification\\150users\\user0273.csv 273 1227\n",
      "capstone_user_identification\\150users\\user0287.csv 287 2303\n",
      "capstone_user_identification\\150users\\user0294.csv 294 791\n",
      "capstone_user_identification\\150users\\user0298.csv 298 2001\n",
      "capstone_user_identification\\150users\\user0301.csv 301 886\n",
      "capstone_user_identification\\150users\\user0308.csv 308 982\n",
      "capstone_user_identification\\150users\\user0315.csv 315 565\n",
      "capstone_user_identification\\150users\\user0318.csv 318 911\n",
      "capstone_user_identification\\150users\\user0327.csv 327 659\n",
      "capstone_user_identification\\150users\\user0332.csv 332 622\n",
      "capstone_user_identification\\150users\\user0333.csv 333 984\n",
      "capstone_user_identification\\150users\\user0339.csv 339 797\n",
      "capstone_user_identification\\150users\\user0340.csv 340 683\n",
      "capstone_user_identification\\150users\\user0342.csv 342 1584\n",
      "capstone_user_identification\\150users\\user0344.csv 344 630\n",
      "capstone_user_identification\\150users\\user0351.csv 351 1755\n",
      "capstone_user_identification\\150users\\user0356.csv 356 546\n",
      "capstone_user_identification\\150users\\user0361.csv 361 660\n",
      "capstone_user_identification\\150users\\user0363.csv 363 920\n",
      "capstone_user_identification\\150users\\user0411.csv 411 2109\n",
      "capstone_user_identification\\150users\\user0417.csv 417 660\n",
      "capstone_user_identification\\150users\\user0425.csv 425 1142\n",
      "capstone_user_identification\\150users\\user0430.csv 430 931\n",
      "capstone_user_identification\\150users\\user0435.csv 435 557\n",
      "capstone_user_identification\\150users\\user0436.csv 436 975\n",
      "capstone_user_identification\\150users\\user0440.csv 440 569\n",
      "capstone_user_identification\\150users\\user0444.csv 444 585\n",
      "capstone_user_identification\\150users\\user0475.csv 475 2350\n",
      "capstone_user_identification\\150users\\user0476.csv 476 757\n",
      "capstone_user_identification\\150users\\user0486.csv 486 932\n",
      "capstone_user_identification\\150users\\user0515.csv 515 1176\n",
      "capstone_user_identification\\150users\\user0533.csv 533 1440\n",
      "capstone_user_identification\\150users\\user0561.csv 561 3725\n",
      "capstone_user_identification\\150users\\user0563.csv 563 721\n",
      "capstone_user_identification\\150users\\user0564.csv 564 953\n",
      "capstone_user_identification\\150users\\user0568.csv 568 1600\n",
      "capstone_user_identification\\150users\\user0569.csv 569 2926\n",
      "capstone_user_identification\\150users\\user0570.csv 570 841\n",
      "capstone_user_identification\\150users\\user0573.csv 573 1768\n",
      "capstone_user_identification\\150users\\user0575.csv 575 2231\n",
      "capstone_user_identification\\150users\\user0576.csv 576 1098\n",
      "capstone_user_identification\\150users\\user0580.csv 580 3821\n",
      "capstone_user_identification\\150users\\user0583.csv 583 6646\n",
      "capstone_user_identification\\150users\\user0584.csv 584 4220\n",
      "capstone_user_identification\\150users\\user0600.csv 600 1841\n",
      "capstone_user_identification\\150users\\user0603.csv 603 967\n",
      "capstone_user_identification\\150users\\user0605.csv 605 966\n",
      "capstone_user_identification\\150users\\user0640.csv 640 578\n",
      "capstone_user_identification\\150users\\user0647.csv 647 778\n",
      "capstone_user_identification\\150users\\user0653.csv 653 538\n",
      "capstone_user_identification\\150users\\user0664.csv 664 1062\n",
      "capstone_user_identification\\150users\\user0665.csv 665 652\n",
      "capstone_user_identification\\150users\\user0677.csv 677 803\n",
      "capstone_user_identification\\150users\\user0692.csv 692 612\n",
      "capstone_user_identification\\150users\\user0697.csv 697 931\n",
      "capstone_user_identification\\150users\\user0705.csv 705 747\n",
      "capstone_user_identification\\150users\\user0722.csv 722 1248\n",
      "capstone_user_identification\\150users\\user0740.csv 740 809\n",
      "capstone_user_identification\\150users\\user0741.csv 741 629\n",
      "capstone_user_identification\\150users\\user0756.csv 756 919\n",
      "capstone_user_identification\\150users\\user0780.csv 780 828\n",
      "capstone_user_identification\\150users\\user0784.csv 784 987\n",
      "capstone_user_identification\\150users\\user0785.csv 785 580\n",
      "capstone_user_identification\\150users\\user0797.csv 797 935\n",
      "capstone_user_identification\\150users\\user0812.csv 812 2054\n",
      "capstone_user_identification\\150users\\user0844.csv 844 592\n",
      "capstone_user_identification\\150users\\user0859.csv 859 605\n",
      "capstone_user_identification\\150users\\user0868.csv 868 632\n",
      "capstone_user_identification\\150users\\user0875.csv 875 1931\n",
      "capstone_user_identification\\150users\\user0932.csv 932 2329\n",
      "capstone_user_identification\\150users\\user0996.csv 996 1863\n",
      "capstone_user_identification\\150users\\user1014.csv 1014 824\n",
      "capstone_user_identification\\150users\\user1040.csv 1040 946\n",
      "capstone_user_identification\\150users\\user1054.csv 1054 714\n",
      "capstone_user_identification\\150users\\user1248.csv 1248 521\n",
      "capstone_user_identification\\150users\\user1267.csv 1267 587\n",
      "capstone_user_identification\\150users\\user1299.csv 1299 620\n",
      "capstone_user_identification\\150users\\user1371.csv 1371 2205\n"
     ]
    },
    {
     "name": "stdout",
     "output_type": "stream",
     "text": [
      "capstone_user_identification\\150users\\user1797.csv 1797 1617\n",
      "capstone_user_identification\\150users\\user1798.csv 1798 894\n",
      "capstone_user_identification\\150users\\user1993.csv 1993 798\n",
      "capstone_user_identification\\150users\\user2118.csv 2118 716\n",
      "capstone_user_identification\\150users\\user2174.csv 2174 909\n",
      "capstone_user_identification\\150users\\user2191.csv 2191 1012\n",
      "capstone_user_identification\\150users\\user2250.csv 2250 501\n",
      "capstone_user_identification\\150users\\user2355.csv 2355 2460\n",
      "capstone_user_identification\\150users\\user2408.csv 2408 1484\n",
      "capstone_user_identification\\150users\\user2493.csv 2493 722\n",
      "capstone_user_identification\\150users\\user2625.csv 2625 887\n",
      "capstone_user_identification\\150users\\user2902.csv 2902 968\n",
      "\n"
     ]
    },
    {
     "data": {
      "application/vnd.jupyter.widget-view+json": {
       "model_id": "e5d27c2bf9814deaa361e76bd3ab0a46"
      }
     },
     "metadata": {},
     "output_type": "display_data"
    },
    {
     "name": "stdout",
     "output_type": "stream",
     "text": [
      "capstone_user_identification\\150users\\user0006.csv 6 3053\n",
      "capstone_user_identification\\150users\\user0013.csv 13 841\n",
      "capstone_user_identification\\150users\\user0015.csv 15 1095\n",
      "capstone_user_identification\\150users\\user0016.csv 16 2992\n",
      "capstone_user_identification\\150users\\user0028.csv 28 2359\n",
      "capstone_user_identification\\150users\\user0031.csv 31 1086\n",
      "capstone_user_identification\\150users\\user0033.csv 33 1460\n",
      "capstone_user_identification\\150users\\user0039.csv 39 3148\n",
      "capstone_user_identification\\150users\\user0046.csv 46 563\n",
      "capstone_user_identification\\150users\\user0049.csv 49 1207\n",
      "capstone_user_identification\\150users\\user0050.csv 50 1146\n",
      "capstone_user_identification\\150users\\user0053.csv 53 1556\n",
      "capstone_user_identification\\150users\\user0065.csv 65 602\n",
      "capstone_user_identification\\150users\\user0066.csv 66 1005\n",
      "capstone_user_identification\\150users\\user0082.csv 82 715\n",
      "capstone_user_identification\\150users\\user0085.csv 85 745\n",
      "capstone_user_identification\\150users\\user0089.csv 89 1943\n",
      "capstone_user_identification\\150users\\user0092.csv 92 1144\n",
      "capstone_user_identification\\150users\\user0100.csv 100 1029\n",
      "capstone_user_identification\\150users\\user0102.csv 102 1872\n",
      "capstone_user_identification\\150users\\user0103.csv 103 4502\n",
      "capstone_user_identification\\150users\\user0105.csv 105 780\n",
      "capstone_user_identification\\150users\\user0106.csv 106 2503\n",
      "capstone_user_identification\\150users\\user0118.csv 118 1957\n",
      "capstone_user_identification\\150users\\user0119.csv 119 794\n",
      "capstone_user_identification\\150users\\user0120.csv 120 1241\n",
      "capstone_user_identification\\150users\\user0126.csv 126 1163\n",
      "capstone_user_identification\\150users\\user0127.csv 127 2446\n",
      "capstone_user_identification\\150users\\user0128.csv 128 3995\n",
      "capstone_user_identification\\150users\\user0138.csv 138 564\n",
      "capstone_user_identification\\150users\\user0158.csv 158 631\n",
      "capstone_user_identification\\150users\\user0160.csv 160 677\n",
      "capstone_user_identification\\150users\\user0165.csv 165 571\n",
      "capstone_user_identification\\150users\\user0172.csv 172 732\n",
      "capstone_user_identification\\150users\\user0177.csv 177 685\n",
      "capstone_user_identification\\150users\\user0203.csv 203 747\n",
      "capstone_user_identification\\150users\\user0207.csv 207 2668\n",
      "capstone_user_identification\\150users\\user0223.csv 223 691\n",
      "capstone_user_identification\\150users\\user0233.csv 233 737\n",
      "capstone_user_identification\\150users\\user0235.csv 235 635\n",
      "capstone_user_identification\\150users\\user0236.csv 236 2195\n",
      "capstone_user_identification\\150users\\user0237.csv 237 2347\n",
      "capstone_user_identification\\150users\\user0238.csv 238 729\n",
      "capstone_user_identification\\150users\\user0240.csv 240 825\n",
      "capstone_user_identification\\150users\\user0241.csv 241 762\n",
      "capstone_user_identification\\150users\\user0242.csv 242 1046\n",
      "capstone_user_identification\\150users\\user0245.csv 245 828\n",
      "capstone_user_identification\\150users\\user0246.csv 246 563\n",
      "capstone_user_identification\\150users\\user0249.csv 249 959\n",
      "capstone_user_identification\\150users\\user0252.csv 252 724\n",
      "capstone_user_identification\\150users\\user0254.csv 254 1975\n",
      "capstone_user_identification\\150users\\user0256.csv 256 870\n",
      "capstone_user_identification\\150users\\user0258.csv 258 832\n",
      "capstone_user_identification\\150users\\user0259.csv 259 943\n",
      "capstone_user_identification\\150users\\user0260.csv 260 571\n",
      "capstone_user_identification\\150users\\user0261.csv 261 2133\n",
      "capstone_user_identification\\150users\\user0263.csv 263 1645\n",
      "capstone_user_identification\\150users\\user0264.csv 264 743\n",
      "capstone_user_identification\\150users\\user0269.csv 269 2790\n",
      "capstone_user_identification\\150users\\user0270.csv 270 2912\n",
      "capstone_user_identification\\150users\\user0273.csv 273 1227\n",
      "capstone_user_identification\\150users\\user0287.csv 287 2303\n",
      "capstone_user_identification\\150users\\user0294.csv 294 791\n",
      "capstone_user_identification\\150users\\user0298.csv 298 2001\n",
      "capstone_user_identification\\150users\\user0301.csv 301 886\n",
      "capstone_user_identification\\150users\\user0308.csv 308 982\n",
      "capstone_user_identification\\150users\\user0315.csv 315 565\n",
      "capstone_user_identification\\150users\\user0318.csv 318 911\n",
      "capstone_user_identification\\150users\\user0327.csv 327 659\n",
      "capstone_user_identification\\150users\\user0332.csv 332 622\n",
      "capstone_user_identification\\150users\\user0333.csv 333 984\n",
      "capstone_user_identification\\150users\\user0339.csv 339 797\n",
      "capstone_user_identification\\150users\\user0340.csv 340 683\n",
      "capstone_user_identification\\150users\\user0342.csv 342 1584\n",
      "capstone_user_identification\\150users\\user0344.csv 344 630\n",
      "capstone_user_identification\\150users\\user0351.csv 351 1755\n",
      "capstone_user_identification\\150users\\user0356.csv 356 546\n",
      "capstone_user_identification\\150users\\user0361.csv 361 660\n",
      "capstone_user_identification\\150users\\user0363.csv 363 920\n",
      "capstone_user_identification\\150users\\user0411.csv 411 2109\n",
      "capstone_user_identification\\150users\\user0417.csv 417 660\n",
      "capstone_user_identification\\150users\\user0425.csv 425 1142\n",
      "capstone_user_identification\\150users\\user0430.csv 430 931\n",
      "capstone_user_identification\\150users\\user0435.csv 435 557\n",
      "capstone_user_identification\\150users\\user0436.csv 436 975\n",
      "capstone_user_identification\\150users\\user0440.csv 440 569\n",
      "capstone_user_identification\\150users\\user0444.csv 444 585\n",
      "capstone_user_identification\\150users\\user0475.csv 475 2350\n",
      "capstone_user_identification\\150users\\user0476.csv 476 757\n",
      "capstone_user_identification\\150users\\user0486.csv 486 932\n",
      "capstone_user_identification\\150users\\user0515.csv 515 1176\n",
      "capstone_user_identification\\150users\\user0533.csv 533 1440\n",
      "capstone_user_identification\\150users\\user0561.csv 561 3725\n",
      "capstone_user_identification\\150users\\user0563.csv 563 721\n",
      "capstone_user_identification\\150users\\user0564.csv 564 953\n",
      "capstone_user_identification\\150users\\user0568.csv 568 1600\n",
      "capstone_user_identification\\150users\\user0569.csv 569 2926\n",
      "capstone_user_identification\\150users\\user0570.csv 570 841\n",
      "capstone_user_identification\\150users\\user0573.csv 573 1768\n",
      "capstone_user_identification\\150users\\user0575.csv 575 2231\n",
      "capstone_user_identification\\150users\\user0576.csv 576 1098\n",
      "capstone_user_identification\\150users\\user0580.csv 580 3821\n",
      "capstone_user_identification\\150users\\user0583.csv 583 6646\n",
      "capstone_user_identification\\150users\\user0584.csv 584 4220\n",
      "capstone_user_identification\\150users\\user0600.csv 600 1841\n",
      "capstone_user_identification\\150users\\user0603.csv 603 967\n",
      "capstone_user_identification\\150users\\user0605.csv 605 966\n",
      "capstone_user_identification\\150users\\user0640.csv 640 578\n",
      "capstone_user_identification\\150users\\user0647.csv 647 778\n",
      "capstone_user_identification\\150users\\user0653.csv 653 538\n",
      "capstone_user_identification\\150users\\user0664.csv 664 1062\n",
      "capstone_user_identification\\150users\\user0665.csv 665 652\n",
      "capstone_user_identification\\150users\\user0677.csv 677 803\n",
      "capstone_user_identification\\150users\\user0692.csv 692 612\n",
      "capstone_user_identification\\150users\\user0697.csv 697 931\n",
      "capstone_user_identification\\150users\\user0705.csv 705 747\n",
      "capstone_user_identification\\150users\\user0722.csv 722 1248\n",
      "capstone_user_identification\\150users\\user0740.csv 740 809\n",
      "capstone_user_identification\\150users\\user0741.csv 741 629\n",
      "capstone_user_identification\\150users\\user0756.csv 756 919\n",
      "capstone_user_identification\\150users\\user0780.csv 780 828\n",
      "capstone_user_identification\\150users\\user0784.csv 784 987\n",
      "capstone_user_identification\\150users\\user0785.csv 785 580\n",
      "capstone_user_identification\\150users\\user0797.csv 797 935\n",
      "capstone_user_identification\\150users\\user0812.csv 812 2054\n",
      "capstone_user_identification\\150users\\user0844.csv 844 592\n",
      "capstone_user_identification\\150users\\user0859.csv 859 605\n",
      "capstone_user_identification\\150users\\user0868.csv 868 632\n",
      "capstone_user_identification\\150users\\user0875.csv 875 1931\n",
      "capstone_user_identification\\150users\\user0932.csv 932 2329\n",
      "capstone_user_identification\\150users\\user0996.csv 996 1863\n",
      "capstone_user_identification\\150users\\user1014.csv 1014 824\n",
      "capstone_user_identification\\150users\\user1040.csv 1040 946\n",
      "capstone_user_identification\\150users\\user1054.csv 1054 714\n",
      "capstone_user_identification\\150users\\user1248.csv 1248 521\n",
      "capstone_user_identification\\150users\\user1267.csv 1267 587\n",
      "capstone_user_identification\\150users\\user1299.csv 1299 620\n",
      "capstone_user_identification\\150users\\user1371.csv 1371 2205\n"
     ]
    },
    {
     "name": "stdout",
     "output_type": "stream",
     "text": [
      "capstone_user_identification\\150users\\user1797.csv 1797 1617\n",
      "capstone_user_identification\\150users\\user1798.csv 1798 894\n",
      "capstone_user_identification\\150users\\user1993.csv 1993 798\n",
      "capstone_user_identification\\150users\\user2118.csv 2118 716\n",
      "capstone_user_identification\\150users\\user2174.csv 2174 909\n",
      "capstone_user_identification\\150users\\user2191.csv 2191 1012\n",
      "capstone_user_identification\\150users\\user2250.csv 2250 501\n",
      "capstone_user_identification\\150users\\user2355.csv 2355 2460\n",
      "capstone_user_identification\\150users\\user2408.csv 2408 1484\n",
      "capstone_user_identification\\150users\\user2493.csv 2493 722\n",
      "capstone_user_identification\\150users\\user2625.csv 2625 887\n",
      "capstone_user_identification\\150users\\user2902.csv 2902 968\n",
      "\n"
     ]
    },
    {
     "data": {
      "application/vnd.jupyter.widget-view+json": {
       "model_id": "0b64fbd88c0c4cdbbe5f3bffbe48ac19"
      }
     },
     "metadata": {},
     "output_type": "display_data"
    },
    {
     "name": "stdout",
     "output_type": "stream",
     "text": [
      "capstone_user_identification\\150users\\user0006.csv 6 3053\n",
      "capstone_user_identification\\150users\\user0013.csv 13 841\n",
      "capstone_user_identification\\150users\\user0015.csv 15 1095\n",
      "capstone_user_identification\\150users\\user0016.csv 16 2992\n",
      "capstone_user_identification\\150users\\user0028.csv 28 2359\n",
      "capstone_user_identification\\150users\\user0031.csv 31 1086\n",
      "capstone_user_identification\\150users\\user0033.csv 33 1460\n",
      "capstone_user_identification\\150users\\user0039.csv 39 3148\n",
      "capstone_user_identification\\150users\\user0046.csv 46 563\n",
      "capstone_user_identification\\150users\\user0049.csv 49 1207\n",
      "capstone_user_identification\\150users\\user0050.csv 50 1146\n",
      "capstone_user_identification\\150users\\user0053.csv 53 1556\n",
      "capstone_user_identification\\150users\\user0065.csv 65 602\n",
      "capstone_user_identification\\150users\\user0066.csv 66 1005\n",
      "capstone_user_identification\\150users\\user0082.csv 82 715\n",
      "capstone_user_identification\\150users\\user0085.csv 85 745\n",
      "capstone_user_identification\\150users\\user0089.csv 89 1943\n",
      "capstone_user_identification\\150users\\user0092.csv 92 1144\n",
      "capstone_user_identification\\150users\\user0100.csv 100 1029\n",
      "capstone_user_identification\\150users\\user0102.csv 102 1872\n",
      "capstone_user_identification\\150users\\user0103.csv 103 4502\n",
      "capstone_user_identification\\150users\\user0105.csv 105 780\n",
      "capstone_user_identification\\150users\\user0106.csv 106 2503\n",
      "capstone_user_identification\\150users\\user0118.csv 118 1957\n",
      "capstone_user_identification\\150users\\user0119.csv 119 794\n",
      "capstone_user_identification\\150users\\user0120.csv 120 1241\n",
      "capstone_user_identification\\150users\\user0126.csv 126 1163\n",
      "capstone_user_identification\\150users\\user0127.csv 127 2446\n",
      "capstone_user_identification\\150users\\user0128.csv 128 3995\n",
      "capstone_user_identification\\150users\\user0138.csv 138 564\n",
      "capstone_user_identification\\150users\\user0158.csv 158 631\n",
      "capstone_user_identification\\150users\\user0160.csv 160 677\n",
      "capstone_user_identification\\150users\\user0165.csv 165 571\n",
      "capstone_user_identification\\150users\\user0172.csv 172 732\n",
      "capstone_user_identification\\150users\\user0177.csv 177 685\n",
      "capstone_user_identification\\150users\\user0203.csv 203 747\n",
      "capstone_user_identification\\150users\\user0207.csv 207 2668\n",
      "capstone_user_identification\\150users\\user0223.csv 223 691\n",
      "capstone_user_identification\\150users\\user0233.csv 233 737\n",
      "capstone_user_identification\\150users\\user0235.csv 235 635\n",
      "capstone_user_identification\\150users\\user0236.csv 236 2195\n",
      "capstone_user_identification\\150users\\user0237.csv 237 2347\n",
      "capstone_user_identification\\150users\\user0238.csv 238 729\n",
      "capstone_user_identification\\150users\\user0240.csv 240 825\n",
      "capstone_user_identification\\150users\\user0241.csv 241 762\n",
      "capstone_user_identification\\150users\\user0242.csv 242 1046\n",
      "capstone_user_identification\\150users\\user0245.csv 245 828\n",
      "capstone_user_identification\\150users\\user0246.csv 246 563\n",
      "capstone_user_identification\\150users\\user0249.csv 249 959\n",
      "capstone_user_identification\\150users\\user0252.csv 252 724\n",
      "capstone_user_identification\\150users\\user0254.csv 254 1975\n",
      "capstone_user_identification\\150users\\user0256.csv 256 870\n",
      "capstone_user_identification\\150users\\user0258.csv 258 832\n",
      "capstone_user_identification\\150users\\user0259.csv 259 943\n",
      "capstone_user_identification\\150users\\user0260.csv 260 571\n",
      "capstone_user_identification\\150users\\user0261.csv 261 2133\n",
      "capstone_user_identification\\150users\\user0263.csv 263 1645\n",
      "capstone_user_identification\\150users\\user0264.csv 264 743\n",
      "capstone_user_identification\\150users\\user0269.csv 269 2790\n",
      "capstone_user_identification\\150users\\user0270.csv 270 2912\n",
      "capstone_user_identification\\150users\\user0273.csv 273 1227\n",
      "capstone_user_identification\\150users\\user0287.csv 287 2303\n",
      "capstone_user_identification\\150users\\user0294.csv 294 791\n",
      "capstone_user_identification\\150users\\user0298.csv 298 2001\n",
      "capstone_user_identification\\150users\\user0301.csv 301 886\n",
      "capstone_user_identification\\150users\\user0308.csv 308 982\n",
      "capstone_user_identification\\150users\\user0315.csv 315 565\n",
      "capstone_user_identification\\150users\\user0318.csv 318 911\n",
      "capstone_user_identification\\150users\\user0327.csv 327 659\n",
      "capstone_user_identification\\150users\\user0332.csv 332 622\n",
      "capstone_user_identification\\150users\\user0333.csv 333 984\n",
      "capstone_user_identification\\150users\\user0339.csv 339 797\n",
      "capstone_user_identification\\150users\\user0340.csv 340 683\n",
      "capstone_user_identification\\150users\\user0342.csv 342 1584\n",
      "capstone_user_identification\\150users\\user0344.csv 344 630\n",
      "capstone_user_identification\\150users\\user0351.csv 351 1755\n",
      "capstone_user_identification\\150users\\user0356.csv 356 546\n",
      "capstone_user_identification\\150users\\user0361.csv 361 660\n",
      "capstone_user_identification\\150users\\user0363.csv 363 920\n",
      "capstone_user_identification\\150users\\user0411.csv 411 2109\n",
      "capstone_user_identification\\150users\\user0417.csv 417 660\n",
      "capstone_user_identification\\150users\\user0425.csv 425 1142\n",
      "capstone_user_identification\\150users\\user0430.csv 430 931\n",
      "capstone_user_identification\\150users\\user0435.csv 435 557\n",
      "capstone_user_identification\\150users\\user0436.csv 436 975\n",
      "capstone_user_identification\\150users\\user0440.csv 440 569\n",
      "capstone_user_identification\\150users\\user0444.csv 444 585\n",
      "capstone_user_identification\\150users\\user0475.csv 475 2350\n",
      "capstone_user_identification\\150users\\user0476.csv 476 757\n",
      "capstone_user_identification\\150users\\user0486.csv 486 932\n",
      "capstone_user_identification\\150users\\user0515.csv 515 1176\n",
      "capstone_user_identification\\150users\\user0533.csv 533 1440\n",
      "capstone_user_identification\\150users\\user0561.csv 561 3725\n",
      "capstone_user_identification\\150users\\user0563.csv 563 721\n",
      "capstone_user_identification\\150users\\user0564.csv 564 953\n",
      "capstone_user_identification\\150users\\user0568.csv 568 1600\n",
      "capstone_user_identification\\150users\\user0569.csv 569 2926\n",
      "capstone_user_identification\\150users\\user0570.csv 570 841\n",
      "capstone_user_identification\\150users\\user0573.csv 573 1768\n",
      "capstone_user_identification\\150users\\user0575.csv 575 2231\n",
      "capstone_user_identification\\150users\\user0576.csv 576 1098\n",
      "capstone_user_identification\\150users\\user0580.csv 580 3821\n",
      "capstone_user_identification\\150users\\user0583.csv 583 6646\n",
      "capstone_user_identification\\150users\\user0584.csv 584 4220\n",
      "capstone_user_identification\\150users\\user0600.csv 600 1841\n",
      "capstone_user_identification\\150users\\user0603.csv 603 967\n",
      "capstone_user_identification\\150users\\user0605.csv 605 966\n",
      "capstone_user_identification\\150users\\user0640.csv 640 578\n",
      "capstone_user_identification\\150users\\user0647.csv 647 778\n",
      "capstone_user_identification\\150users\\user0653.csv 653 538\n",
      "capstone_user_identification\\150users\\user0664.csv 664 1062\n",
      "capstone_user_identification\\150users\\user0665.csv 665 652\n",
      "capstone_user_identification\\150users\\user0677.csv 677 803\n",
      "capstone_user_identification\\150users\\user0692.csv 692 612\n",
      "capstone_user_identification\\150users\\user0697.csv 697 931\n",
      "capstone_user_identification\\150users\\user0705.csv 705 747\n",
      "capstone_user_identification\\150users\\user0722.csv 722 1248\n",
      "capstone_user_identification\\150users\\user0740.csv 740 809\n",
      "capstone_user_identification\\150users\\user0741.csv 741 629\n",
      "capstone_user_identification\\150users\\user0756.csv 756 919\n",
      "capstone_user_identification\\150users\\user0780.csv 780 828\n",
      "capstone_user_identification\\150users\\user0784.csv 784 987\n",
      "capstone_user_identification\\150users\\user0785.csv 785 580\n",
      "capstone_user_identification\\150users\\user0797.csv 797 935\n",
      "capstone_user_identification\\150users\\user0812.csv 812 2054\n",
      "capstone_user_identification\\150users\\user0844.csv 844 592\n",
      "capstone_user_identification\\150users\\user0859.csv 859 605\n",
      "capstone_user_identification\\150users\\user0868.csv 868 632\n",
      "capstone_user_identification\\150users\\user0875.csv 875 1931\n",
      "capstone_user_identification\\150users\\user0932.csv 932 2329\n",
      "capstone_user_identification\\150users\\user0996.csv 996 1863\n",
      "capstone_user_identification\\150users\\user1014.csv 1014 824\n",
      "capstone_user_identification\\150users\\user1040.csv 1040 946\n",
      "capstone_user_identification\\150users\\user1054.csv 1054 714\n",
      "capstone_user_identification\\150users\\user1248.csv 1248 521\n",
      "capstone_user_identification\\150users\\user1267.csv 1267 587\n",
      "capstone_user_identification\\150users\\user1299.csv 1299 620\n",
      "capstone_user_identification\\150users\\user1371.csv 1371 2205\n"
     ]
    },
    {
     "name": "stdout",
     "output_type": "stream",
     "text": [
      "capstone_user_identification\\150users\\user1797.csv 1797 1617\n",
      "capstone_user_identification\\150users\\user1798.csv 1798 894\n",
      "capstone_user_identification\\150users\\user1993.csv 1993 798\n",
      "capstone_user_identification\\150users\\user2118.csv 2118 716\n",
      "capstone_user_identification\\150users\\user2174.csv 2174 909\n",
      "capstone_user_identification\\150users\\user2191.csv 2191 1012\n",
      "capstone_user_identification\\150users\\user2250.csv 2250 501\n",
      "capstone_user_identification\\150users\\user2355.csv 2355 2460\n",
      "capstone_user_identification\\150users\\user2408.csv 2408 1484\n",
      "capstone_user_identification\\150users\\user2493.csv 2493 722\n",
      "capstone_user_identification\\150users\\user2625.csv 2625 887\n",
      "capstone_user_identification\\150users\\user2902.csv 2902 968\n",
      "\n"
     ]
    },
    {
     "data": {
      "application/vnd.jupyter.widget-view+json": {
       "model_id": "d4cac591603e441ba38f5e33273bef0b"
      }
     },
     "metadata": {},
     "output_type": "display_data"
    },
    {
     "name": "stdout",
     "output_type": "stream",
     "text": [
      "capstone_user_identification\\150users\\user0006.csv 6 4273\n",
      "capstone_user_identification\\150users\\user0013.csv 13 1178\n",
      "capstone_user_identification\\150users\\user0015.csv 15 1533\n",
      "capstone_user_identification\\150users\\user0016.csv 16 4188\n",
      "capstone_user_identification\\150users\\user0028.csv 28 3302\n",
      "capstone_user_identification\\150users\\user0031.csv 31 1520\n",
      "capstone_user_identification\\150users\\user0033.csv 33 2043\n",
      "capstone_user_identification\\150users\\user0039.csv 39 4407\n",
      "capstone_user_identification\\150users\\user0046.csv 46 788\n",
      "capstone_user_identification\\150users\\user0049.csv 49 1689\n",
      "capstone_user_identification\\150users\\user0050.csv 50 1604\n",
      "capstone_user_identification\\150users\\user0053.csv 53 2179\n",
      "capstone_user_identification\\150users\\user0065.csv 65 843\n",
      "capstone_user_identification\\150users\\user0066.csv 66 1407\n",
      "capstone_user_identification\\150users\\user0082.csv 82 1000\n",
      "capstone_user_identification\\150users\\user0085.csv 85 1042\n",
      "capstone_user_identification\\150users\\user0089.csv 89 2720\n",
      "capstone_user_identification\\150users\\user0092.csv 92 1601\n",
      "capstone_user_identification\\150users\\user0100.csv 100 1440\n",
      "capstone_user_identification\\150users\\user0102.csv 102 2620\n",
      "capstone_user_identification\\150users\\user0103.csv 103 6303\n",
      "capstone_user_identification\\150users\\user0105.csv 105 1092\n",
      "capstone_user_identification\\150users\\user0106.csv 106 3504\n",
      "capstone_user_identification\\150users\\user0118.csv 118 2739\n",
      "capstone_user_identification\\150users\\user0119.csv 119 1111\n",
      "capstone_user_identification\\150users\\user0120.csv 120 1738\n",
      "capstone_user_identification\\150users\\user0126.csv 126 1628\n",
      "capstone_user_identification\\150users\\user0127.csv 127 3424\n",
      "capstone_user_identification\\150users\\user0128.csv 128 5592\n",
      "capstone_user_identification\\150users\\user0138.csv 138 789\n",
      "capstone_user_identification\\150users\\user0158.csv 158 884\n",
      "capstone_user_identification\\150users\\user0160.csv 160 947\n",
      "capstone_user_identification\\150users\\user0165.csv 165 799\n",
      "capstone_user_identification\\150users\\user0172.csv 172 1025\n",
      "capstone_user_identification\\150users\\user0177.csv 177 959\n",
      "capstone_user_identification\\150users\\user0203.csv 203 1046\n",
      "capstone_user_identification\\150users\\user0207.csv 207 3735\n",
      "capstone_user_identification\\150users\\user0223.csv 223 967\n",
      "capstone_user_identification\\150users\\user0233.csv 233 1032\n",
      "capstone_user_identification\\150users\\user0235.csv 235 889\n",
      "capstone_user_identification\\150users\\user0236.csv 236 3073\n",
      "capstone_user_identification\\150users\\user0237.csv 237 3286\n",
      "capstone_user_identification\\150users\\user0238.csv 238 1021\n",
      "capstone_user_identification\\150users\\user0240.csv 240 1155\n",
      "capstone_user_identification\\150users\\user0241.csv 241 1067\n",
      "capstone_user_identification\\150users\\user0242.csv 242 1464\n",
      "capstone_user_identification\\150users\\user0245.csv 245 1159\n",
      "capstone_user_identification\\150users\\user0246.csv 246 788\n",
      "capstone_user_identification\\150users\\user0249.csv 249 1342\n",
      "capstone_user_identification\\150users\\user0252.csv 252 1014\n",
      "capstone_user_identification\\150users\\user0254.csv 254 2764\n",
      "capstone_user_identification\\150users\\user0256.csv 256 1218\n",
      "capstone_user_identification\\150users\\user0258.csv 258 1164\n",
      "capstone_user_identification\\150users\\user0259.csv 259 1320\n",
      "capstone_user_identification\\150users\\user0260.csv 260 800\n",
      "capstone_user_identification\\150users\\user0261.csv 261 2986\n",
      "capstone_user_identification\\150users\\user0263.csv 263 2303\n",
      "capstone_user_identification\\150users\\user0264.csv 264 1040\n",
      "capstone_user_identification\\150users\\user0269.csv 269 3906\n",
      "capstone_user_identification\\150users\\user0270.csv 270 4077\n",
      "capstone_user_identification\\150users\\user0273.csv 273 1718\n",
      "capstone_user_identification\\150users\\user0287.csv 287 3223\n",
      "capstone_user_identification\\150users\\user0294.csv 294 1107\n",
      "capstone_user_identification\\150users\\user0298.csv 298 2801\n",
      "capstone_user_identification\\150users\\user0301.csv 301 1240\n",
      "capstone_user_identification\\150users\\user0308.csv 308 1375\n",
      "capstone_user_identification\\150users\\user0315.csv 315 791\n",
      "capstone_user_identification\\150users\\user0318.csv 318 1275\n",
      "capstone_user_identification\\150users\\user0327.csv 327 922\n",
      "capstone_user_identification\\150users\\user0332.csv 332 870\n",
      "capstone_user_identification\\150users\\user0333.csv 333 1377\n",
      "capstone_user_identification\\150users\\user0339.csv 339 1115\n",
      "capstone_user_identification\\150users\\user0340.csv 340 956\n",
      "capstone_user_identification\\150users\\user0342.csv 342 2217\n",
      "capstone_user_identification\\150users\\user0344.csv 344 882\n",
      "capstone_user_identification\\150users\\user0351.csv 351 2456\n",
      "capstone_user_identification\\150users\\user0356.csv 356 764\n",
      "capstone_user_identification\\150users\\user0361.csv 361 924\n",
      "capstone_user_identification\\150users\\user0363.csv 363 1287\n",
      "capstone_user_identification\\150users\\user0411.csv 411 2952\n",
      "capstone_user_identification\\150users\\user0417.csv 417 924\n",
      "capstone_user_identification\\150users\\user0425.csv 425 1599\n",
      "capstone_user_identification\\150users\\user0430.csv 430 1303\n",
      "capstone_user_identification\\150users\\user0435.csv 435 779\n",
      "capstone_user_identification\\150users\\user0436.csv 436 1365\n",
      "capstone_user_identification\\150users\\user0440.csv 440 797\n",
      "capstone_user_identification\\150users\\user0444.csv 444 818\n",
      "capstone_user_identification\\150users\\user0475.csv 475 3290\n",
      "capstone_user_identification\\150users\\user0476.csv 476 1059\n",
      "capstone_user_identification\\150users\\user0486.csv 486 1304\n",
      "capstone_user_identification\\150users\\user0515.csv 515 1647\n",
      "capstone_user_identification\\150users\\user0533.csv 533 2016\n",
      "capstone_user_identification\\150users\\user0561.csv 561 5214\n",
      "capstone_user_identification\\150users\\user0563.csv 563 1009\n",
      "capstone_user_identification\\150users\\user0564.csv 564 1334\n",
      "capstone_user_identification\\150users\\user0568.csv 568 2239\n",
      "capstone_user_identification\\150users\\user0569.csv 569 4097\n",
      "capstone_user_identification\\150users\\user0570.csv 570 1177\n",
      "capstone_user_identification\\150users\\user0573.csv 573 2475\n",
      "capstone_user_identification\\150users\\user0575.csv 575 3123\n",
      "capstone_user_identification\\150users\\user0576.csv 576 1537\n",
      "capstone_user_identification\\150users\\user0580.csv 580 5349\n",
      "capstone_user_identification\\150users\\user0583.csv 583 9305\n",
      "capstone_user_identification\\150users\\user0584.csv 584 5908\n",
      "capstone_user_identification\\150users\\user0600.csv 600 2577\n",
      "capstone_user_identification\\150users\\user0603.csv 603 1354\n",
      "capstone_user_identification\\150users\\user0605.csv 605 1352\n",
      "capstone_user_identification\\150users\\user0640.csv 640 809\n",
      "capstone_user_identification\\150users\\user0647.csv 647 1089\n",
      "capstone_user_identification\\150users\\user0653.csv 653 753\n",
      "capstone_user_identification\\150users\\user0664.csv 664 1486\n",
      "capstone_user_identification\\150users\\user0665.csv 665 912\n",
      "capstone_user_identification\\150users\\user0677.csv 677 1124\n",
      "capstone_user_identification\\150users\\user0692.csv 692 857\n",
      "capstone_user_identification\\150users\\user0697.csv 697 1303\n",
      "capstone_user_identification\\150users\\user0705.csv 705 1045\n",
      "capstone_user_identification\\150users\\user0722.csv 722 1747\n",
      "capstone_user_identification\\150users\\user0740.csv 740 1133\n",
      "capstone_user_identification\\150users\\user0741.csv 741 881\n",
      "capstone_user_identification\\150users\\user0756.csv 756 1286\n",
      "capstone_user_identification\\150users\\user0780.csv 780 1159\n",
      "capstone_user_identification\\150users\\user0784.csv 784 1382\n",
      "capstone_user_identification\\150users\\user0785.csv 785 812\n",
      "capstone_user_identification\\150users\\user0797.csv 797 1309\n",
      "capstone_user_identification\\150users\\user0812.csv 812 2875\n",
      "capstone_user_identification\\150users\\user0844.csv 844 829\n",
      "capstone_user_identification\\150users\\user0859.csv 859 846\n",
      "capstone_user_identification\\150users\\user0868.csv 868 884\n",
      "capstone_user_identification\\150users\\user0875.csv 875 2704\n",
      "capstone_user_identification\\150users\\user0932.csv 932 3260\n",
      "capstone_user_identification\\150users\\user0996.csv 996 2607\n",
      "capstone_user_identification\\150users\\user1014.csv 1014 1154\n",
      "capstone_user_identification\\150users\\user1040.csv 1040 1324\n",
      "capstone_user_identification\\150users\\user1054.csv 1054 999\n",
      "capstone_user_identification\\150users\\user1248.csv 1248 729\n",
      "capstone_user_identification\\150users\\user1267.csv 1267 821\n",
      "capstone_user_identification\\150users\\user1299.csv 1299 868\n"
     ]
    },
    {
     "name": "stdout",
     "output_type": "stream",
     "text": [
      "capstone_user_identification\\150users\\user1371.csv 1371 3087\n",
      "capstone_user_identification\\150users\\user1797.csv 1797 2264\n",
      "capstone_user_identification\\150users\\user1798.csv 1798 1251\n",
      "capstone_user_identification\\150users\\user1993.csv 1993 1117\n",
      "capstone_user_identification\\150users\\user2118.csv 2118 1003\n",
      "capstone_user_identification\\150users\\user2174.csv 2174 1273\n",
      "capstone_user_identification\\150users\\user2191.csv 2191 1417\n",
      "capstone_user_identification\\150users\\user2250.csv 2250 701\n",
      "capstone_user_identification\\150users\\user2355.csv 2355 3443\n",
      "capstone_user_identification\\150users\\user2408.csv 2408 2078\n",
      "capstone_user_identification\\150users\\user2493.csv 2493 1010\n",
      "capstone_user_identification\\150users\\user2625.csv 2625 1241\n",
      "capstone_user_identification\\150users\\user2902.csv 2902 1355\n",
      "\n"
     ]
    },
    {
     "data": {
      "application/vnd.jupyter.widget-view+json": {
       "model_id": "1c317287d52e4a77ae247dbbb6de6ab9"
      }
     },
     "metadata": {},
     "output_type": "display_data"
    },
    {
     "name": "stdout",
     "output_type": "stream",
     "text": [
      "capstone_user_identification\\150users\\user0006.csv 6 4273\n",
      "capstone_user_identification\\150users\\user0013.csv 13 1178\n",
      "capstone_user_identification\\150users\\user0015.csv 15 1533\n",
      "capstone_user_identification\\150users\\user0016.csv 16 4188\n",
      "capstone_user_identification\\150users\\user0028.csv 28 3302\n",
      "capstone_user_identification\\150users\\user0031.csv 31 1520\n",
      "capstone_user_identification\\150users\\user0033.csv 33 2043\n",
      "capstone_user_identification\\150users\\user0039.csv 39 4407\n",
      "capstone_user_identification\\150users\\user0046.csv 46 788\n",
      "capstone_user_identification\\150users\\user0049.csv 49 1689\n",
      "capstone_user_identification\\150users\\user0050.csv 50 1604\n",
      "capstone_user_identification\\150users\\user0053.csv 53 2179\n",
      "capstone_user_identification\\150users\\user0065.csv 65 843\n",
      "capstone_user_identification\\150users\\user0066.csv 66 1407\n",
      "capstone_user_identification\\150users\\user0082.csv 82 1000\n",
      "capstone_user_identification\\150users\\user0085.csv 85 1042\n",
      "capstone_user_identification\\150users\\user0089.csv 89 2720\n",
      "capstone_user_identification\\150users\\user0092.csv 92 1601\n",
      "capstone_user_identification\\150users\\user0100.csv 100 1440\n",
      "capstone_user_identification\\150users\\user0102.csv 102 2620\n",
      "capstone_user_identification\\150users\\user0103.csv 103 6303\n",
      "capstone_user_identification\\150users\\user0105.csv 105 1092\n",
      "capstone_user_identification\\150users\\user0106.csv 106 3504\n",
      "capstone_user_identification\\150users\\user0118.csv 118 2739\n",
      "capstone_user_identification\\150users\\user0119.csv 119 1111\n",
      "capstone_user_identification\\150users\\user0120.csv 120 1738\n",
      "capstone_user_identification\\150users\\user0126.csv 126 1628\n",
      "capstone_user_identification\\150users\\user0127.csv 127 3424\n",
      "capstone_user_identification\\150users\\user0128.csv 128 5592\n",
      "capstone_user_identification\\150users\\user0138.csv 138 789\n",
      "capstone_user_identification\\150users\\user0158.csv 158 884\n",
      "capstone_user_identification\\150users\\user0160.csv 160 947\n",
      "capstone_user_identification\\150users\\user0165.csv 165 799\n",
      "capstone_user_identification\\150users\\user0172.csv 172 1025\n",
      "capstone_user_identification\\150users\\user0177.csv 177 959\n",
      "capstone_user_identification\\150users\\user0203.csv 203 1046\n",
      "capstone_user_identification\\150users\\user0207.csv 207 3735\n",
      "capstone_user_identification\\150users\\user0223.csv 223 967\n",
      "capstone_user_identification\\150users\\user0233.csv 233 1032\n",
      "capstone_user_identification\\150users\\user0235.csv 235 889\n",
      "capstone_user_identification\\150users\\user0236.csv 236 3073\n",
      "capstone_user_identification\\150users\\user0237.csv 237 3286\n",
      "capstone_user_identification\\150users\\user0238.csv 238 1021\n",
      "capstone_user_identification\\150users\\user0240.csv 240 1155\n",
      "capstone_user_identification\\150users\\user0241.csv 241 1067\n",
      "capstone_user_identification\\150users\\user0242.csv 242 1464\n",
      "capstone_user_identification\\150users\\user0245.csv 245 1159\n",
      "capstone_user_identification\\150users\\user0246.csv 246 788\n",
      "capstone_user_identification\\150users\\user0249.csv 249 1342\n",
      "capstone_user_identification\\150users\\user0252.csv 252 1014\n",
      "capstone_user_identification\\150users\\user0254.csv 254 2764\n",
      "capstone_user_identification\\150users\\user0256.csv 256 1218\n",
      "capstone_user_identification\\150users\\user0258.csv 258 1164\n",
      "capstone_user_identification\\150users\\user0259.csv 259 1320\n",
      "capstone_user_identification\\150users\\user0260.csv 260 800\n",
      "capstone_user_identification\\150users\\user0261.csv 261 2986\n",
      "capstone_user_identification\\150users\\user0263.csv 263 2303\n",
      "capstone_user_identification\\150users\\user0264.csv 264 1040\n",
      "capstone_user_identification\\150users\\user0269.csv 269 3906\n",
      "capstone_user_identification\\150users\\user0270.csv 270 4077\n",
      "capstone_user_identification\\150users\\user0273.csv 273 1718\n",
      "capstone_user_identification\\150users\\user0287.csv 287 3223\n",
      "capstone_user_identification\\150users\\user0294.csv 294 1107\n",
      "capstone_user_identification\\150users\\user0298.csv 298 2801\n",
      "capstone_user_identification\\150users\\user0301.csv 301 1240\n",
      "capstone_user_identification\\150users\\user0308.csv 308 1375\n",
      "capstone_user_identification\\150users\\user0315.csv 315 791\n",
      "capstone_user_identification\\150users\\user0318.csv 318 1275\n",
      "capstone_user_identification\\150users\\user0327.csv 327 922\n",
      "capstone_user_identification\\150users\\user0332.csv 332 870\n",
      "capstone_user_identification\\150users\\user0333.csv 333 1377\n",
      "capstone_user_identification\\150users\\user0339.csv 339 1115\n",
      "capstone_user_identification\\150users\\user0340.csv 340 956\n",
      "capstone_user_identification\\150users\\user0342.csv 342 2217\n",
      "capstone_user_identification\\150users\\user0344.csv 344 882\n",
      "capstone_user_identification\\150users\\user0351.csv 351 2456\n",
      "capstone_user_identification\\150users\\user0356.csv 356 764\n",
      "capstone_user_identification\\150users\\user0361.csv 361 924\n",
      "capstone_user_identification\\150users\\user0363.csv 363 1287\n",
      "capstone_user_identification\\150users\\user0411.csv 411 2952\n",
      "capstone_user_identification\\150users\\user0417.csv 417 924\n",
      "capstone_user_identification\\150users\\user0425.csv 425 1599\n",
      "capstone_user_identification\\150users\\user0430.csv 430 1303\n",
      "capstone_user_identification\\150users\\user0435.csv 435 779\n",
      "capstone_user_identification\\150users\\user0436.csv 436 1365\n",
      "capstone_user_identification\\150users\\user0440.csv 440 797\n",
      "capstone_user_identification\\150users\\user0444.csv 444 818\n",
      "capstone_user_identification\\150users\\user0475.csv 475 3290\n",
      "capstone_user_identification\\150users\\user0476.csv 476 1059\n",
      "capstone_user_identification\\150users\\user0486.csv 486 1304\n",
      "capstone_user_identification\\150users\\user0515.csv 515 1647\n",
      "capstone_user_identification\\150users\\user0533.csv 533 2016\n",
      "capstone_user_identification\\150users\\user0561.csv 561 5214\n",
      "capstone_user_identification\\150users\\user0563.csv 563 1009\n",
      "capstone_user_identification\\150users\\user0564.csv 564 1334\n",
      "capstone_user_identification\\150users\\user0568.csv 568 2239\n",
      "capstone_user_identification\\150users\\user0569.csv 569 4097\n",
      "capstone_user_identification\\150users\\user0570.csv 570 1177\n",
      "capstone_user_identification\\150users\\user0573.csv 573 2475\n",
      "capstone_user_identification\\150users\\user0575.csv 575 3123\n",
      "capstone_user_identification\\150users\\user0576.csv 576 1537\n",
      "capstone_user_identification\\150users\\user0580.csv 580 5349\n",
      "capstone_user_identification\\150users\\user0583.csv 583 9305\n",
      "capstone_user_identification\\150users\\user0584.csv 584 5908\n",
      "capstone_user_identification\\150users\\user0600.csv 600 2577\n",
      "capstone_user_identification\\150users\\user0603.csv 603 1354\n",
      "capstone_user_identification\\150users\\user0605.csv 605 1352\n",
      "capstone_user_identification\\150users\\user0640.csv 640 809\n",
      "capstone_user_identification\\150users\\user0647.csv 647 1089\n",
      "capstone_user_identification\\150users\\user0653.csv 653 753\n",
      "capstone_user_identification\\150users\\user0664.csv 664 1486\n",
      "capstone_user_identification\\150users\\user0665.csv 665 912\n",
      "capstone_user_identification\\150users\\user0677.csv 677 1124\n",
      "capstone_user_identification\\150users\\user0692.csv 692 857\n",
      "capstone_user_identification\\150users\\user0697.csv 697 1303\n",
      "capstone_user_identification\\150users\\user0705.csv 705 1045\n",
      "capstone_user_identification\\150users\\user0722.csv 722 1747\n",
      "capstone_user_identification\\150users\\user0740.csv 740 1133\n",
      "capstone_user_identification\\150users\\user0741.csv 741 881\n",
      "capstone_user_identification\\150users\\user0756.csv 756 1286\n",
      "capstone_user_identification\\150users\\user0780.csv 780 1159\n",
      "capstone_user_identification\\150users\\user0784.csv 784 1382\n",
      "capstone_user_identification\\150users\\user0785.csv 785 812\n",
      "capstone_user_identification\\150users\\user0797.csv 797 1309\n",
      "capstone_user_identification\\150users\\user0812.csv 812 2875\n",
      "capstone_user_identification\\150users\\user0844.csv 844 829\n",
      "capstone_user_identification\\150users\\user0859.csv 859 846\n",
      "capstone_user_identification\\150users\\user0868.csv 868 884\n",
      "capstone_user_identification\\150users\\user0875.csv 875 2704\n",
      "capstone_user_identification\\150users\\user0932.csv 932 3260\n",
      "capstone_user_identification\\150users\\user0996.csv 996 2607\n",
      "capstone_user_identification\\150users\\user1014.csv 1014 1154\n",
      "capstone_user_identification\\150users\\user1040.csv 1040 1324\n",
      "capstone_user_identification\\150users\\user1054.csv 1054 999\n",
      "capstone_user_identification\\150users\\user1248.csv 1248 729\n",
      "capstone_user_identification\\150users\\user1267.csv 1267 821\n",
      "capstone_user_identification\\150users\\user1299.csv 1299 868\n"
     ]
    },
    {
     "name": "stdout",
     "output_type": "stream",
     "text": [
      "capstone_user_identification\\150users\\user1371.csv 1371 3087\n",
      "capstone_user_identification\\150users\\user1797.csv 1797 2264\n",
      "capstone_user_identification\\150users\\user1798.csv 1798 1251\n",
      "capstone_user_identification\\150users\\user1993.csv 1993 1117\n",
      "capstone_user_identification\\150users\\user2118.csv 2118 1003\n",
      "capstone_user_identification\\150users\\user2174.csv 2174 1273\n",
      "capstone_user_identification\\150users\\user2191.csv 2191 1417\n",
      "capstone_user_identification\\150users\\user2250.csv 2250 701\n",
      "capstone_user_identification\\150users\\user2355.csv 2355 3443\n",
      "capstone_user_identification\\150users\\user2408.csv 2408 2078\n",
      "capstone_user_identification\\150users\\user2493.csv 2493 1010\n",
      "capstone_user_identification\\150users\\user2625.csv 2625 1241\n",
      "capstone_user_identification\\150users\\user2902.csv 2902 1355\n",
      "\n"
     ]
    },
    {
     "data": {
      "application/vnd.jupyter.widget-view+json": {
       "model_id": "d2a19b8bd5184f528d1da8d16a7fe230"
      }
     },
     "metadata": {},
     "output_type": "display_data"
    },
    {
     "name": "stdout",
     "output_type": "stream",
     "text": [
      "capstone_user_identification\\150users\\user0006.csv 6 4273\n",
      "capstone_user_identification\\150users\\user0013.csv 13 1178\n",
      "capstone_user_identification\\150users\\user0015.csv 15 1533\n",
      "capstone_user_identification\\150users\\user0016.csv 16 4188\n",
      "capstone_user_identification\\150users\\user0028.csv 28 3302\n",
      "capstone_user_identification\\150users\\user0031.csv 31 1520\n",
      "capstone_user_identification\\150users\\user0033.csv 33 2043\n",
      "capstone_user_identification\\150users\\user0039.csv 39 4407\n",
      "capstone_user_identification\\150users\\user0046.csv 46 788\n",
      "capstone_user_identification\\150users\\user0049.csv 49 1689\n",
      "capstone_user_identification\\150users\\user0050.csv 50 1604\n",
      "capstone_user_identification\\150users\\user0053.csv 53 2179\n",
      "capstone_user_identification\\150users\\user0065.csv 65 843\n",
      "capstone_user_identification\\150users\\user0066.csv 66 1407\n",
      "capstone_user_identification\\150users\\user0082.csv 82 1000\n",
      "capstone_user_identification\\150users\\user0085.csv 85 1042\n",
      "capstone_user_identification\\150users\\user0089.csv 89 2720\n",
      "capstone_user_identification\\150users\\user0092.csv 92 1601\n",
      "capstone_user_identification\\150users\\user0100.csv 100 1440\n",
      "capstone_user_identification\\150users\\user0102.csv 102 2620\n",
      "capstone_user_identification\\150users\\user0103.csv 103 6303\n",
      "capstone_user_identification\\150users\\user0105.csv 105 1092\n",
      "capstone_user_identification\\150users\\user0106.csv 106 3504\n",
      "capstone_user_identification\\150users\\user0118.csv 118 2739\n",
      "capstone_user_identification\\150users\\user0119.csv 119 1111\n",
      "capstone_user_identification\\150users\\user0120.csv 120 1738\n",
      "capstone_user_identification\\150users\\user0126.csv 126 1628\n",
      "capstone_user_identification\\150users\\user0127.csv 127 3424\n",
      "capstone_user_identification\\150users\\user0128.csv 128 5592\n",
      "capstone_user_identification\\150users\\user0138.csv 138 789\n",
      "capstone_user_identification\\150users\\user0158.csv 158 884\n",
      "capstone_user_identification\\150users\\user0160.csv 160 947\n",
      "capstone_user_identification\\150users\\user0165.csv 165 799\n",
      "capstone_user_identification\\150users\\user0172.csv 172 1025\n",
      "capstone_user_identification\\150users\\user0177.csv 177 959\n",
      "capstone_user_identification\\150users\\user0203.csv 203 1046\n",
      "capstone_user_identification\\150users\\user0207.csv 207 3735\n",
      "capstone_user_identification\\150users\\user0223.csv 223 967\n",
      "capstone_user_identification\\150users\\user0233.csv 233 1032\n",
      "capstone_user_identification\\150users\\user0235.csv 235 889\n",
      "capstone_user_identification\\150users\\user0236.csv 236 3073\n",
      "capstone_user_identification\\150users\\user0237.csv 237 3286\n",
      "capstone_user_identification\\150users\\user0238.csv 238 1021\n",
      "capstone_user_identification\\150users\\user0240.csv 240 1155\n",
      "capstone_user_identification\\150users\\user0241.csv 241 1067\n",
      "capstone_user_identification\\150users\\user0242.csv 242 1464\n",
      "capstone_user_identification\\150users\\user0245.csv 245 1159\n",
      "capstone_user_identification\\150users\\user0246.csv 246 788\n",
      "capstone_user_identification\\150users\\user0249.csv 249 1342\n",
      "capstone_user_identification\\150users\\user0252.csv 252 1014\n",
      "capstone_user_identification\\150users\\user0254.csv 254 2764\n",
      "capstone_user_identification\\150users\\user0256.csv 256 1218\n",
      "capstone_user_identification\\150users\\user0258.csv 258 1164\n",
      "capstone_user_identification\\150users\\user0259.csv 259 1320\n",
      "capstone_user_identification\\150users\\user0260.csv 260 800\n",
      "capstone_user_identification\\150users\\user0261.csv 261 2986\n",
      "capstone_user_identification\\150users\\user0263.csv 263 2303\n",
      "capstone_user_identification\\150users\\user0264.csv 264 1040\n",
      "capstone_user_identification\\150users\\user0269.csv 269 3906\n",
      "capstone_user_identification\\150users\\user0270.csv 270 4077\n",
      "capstone_user_identification\\150users\\user0273.csv 273 1718\n",
      "capstone_user_identification\\150users\\user0287.csv 287 3223\n",
      "capstone_user_identification\\150users\\user0294.csv 294 1107\n",
      "capstone_user_identification\\150users\\user0298.csv 298 2801\n",
      "capstone_user_identification\\150users\\user0301.csv 301 1240\n",
      "capstone_user_identification\\150users\\user0308.csv 308 1375\n",
      "capstone_user_identification\\150users\\user0315.csv 315 791\n",
      "capstone_user_identification\\150users\\user0318.csv 318 1275\n",
      "capstone_user_identification\\150users\\user0327.csv 327 922\n",
      "capstone_user_identification\\150users\\user0332.csv 332 870\n",
      "capstone_user_identification\\150users\\user0333.csv 333 1377\n",
      "capstone_user_identification\\150users\\user0339.csv 339 1115\n",
      "capstone_user_identification\\150users\\user0340.csv 340 956\n",
      "capstone_user_identification\\150users\\user0342.csv 342 2217\n",
      "capstone_user_identification\\150users\\user0344.csv 344 882\n",
      "capstone_user_identification\\150users\\user0351.csv 351 2456\n",
      "capstone_user_identification\\150users\\user0356.csv 356 764\n",
      "capstone_user_identification\\150users\\user0361.csv 361 924\n",
      "capstone_user_identification\\150users\\user0363.csv 363 1287\n",
      "capstone_user_identification\\150users\\user0411.csv 411 2952\n",
      "capstone_user_identification\\150users\\user0417.csv 417 924\n",
      "capstone_user_identification\\150users\\user0425.csv 425 1599\n",
      "capstone_user_identification\\150users\\user0430.csv 430 1303\n",
      "capstone_user_identification\\150users\\user0435.csv 435 779\n",
      "capstone_user_identification\\150users\\user0436.csv 436 1365\n",
      "capstone_user_identification\\150users\\user0440.csv 440 797\n",
      "capstone_user_identification\\150users\\user0444.csv 444 818\n",
      "capstone_user_identification\\150users\\user0475.csv 475 3290\n",
      "capstone_user_identification\\150users\\user0476.csv 476 1059\n",
      "capstone_user_identification\\150users\\user0486.csv 486 1304\n",
      "capstone_user_identification\\150users\\user0515.csv 515 1647\n",
      "capstone_user_identification\\150users\\user0533.csv 533 2016\n",
      "capstone_user_identification\\150users\\user0561.csv 561 5214\n",
      "capstone_user_identification\\150users\\user0563.csv 563 1009\n",
      "capstone_user_identification\\150users\\user0564.csv 564 1334\n",
      "capstone_user_identification\\150users\\user0568.csv 568 2239\n",
      "capstone_user_identification\\150users\\user0569.csv 569 4097\n",
      "capstone_user_identification\\150users\\user0570.csv 570 1177\n",
      "capstone_user_identification\\150users\\user0573.csv 573 2475\n",
      "capstone_user_identification\\150users\\user0575.csv 575 3123\n",
      "capstone_user_identification\\150users\\user0576.csv 576 1537\n",
      "capstone_user_identification\\150users\\user0580.csv 580 5349\n",
      "capstone_user_identification\\150users\\user0583.csv 583 9305\n",
      "capstone_user_identification\\150users\\user0584.csv 584 5908\n",
      "capstone_user_identification\\150users\\user0600.csv 600 2577\n",
      "capstone_user_identification\\150users\\user0603.csv 603 1354\n",
      "capstone_user_identification\\150users\\user0605.csv 605 1352\n",
      "capstone_user_identification\\150users\\user0640.csv 640 809\n",
      "capstone_user_identification\\150users\\user0647.csv 647 1089\n",
      "capstone_user_identification\\150users\\user0653.csv 653 753\n",
      "capstone_user_identification\\150users\\user0664.csv 664 1486\n",
      "capstone_user_identification\\150users\\user0665.csv 665 912\n",
      "capstone_user_identification\\150users\\user0677.csv 677 1124\n",
      "capstone_user_identification\\150users\\user0692.csv 692 857\n",
      "capstone_user_identification\\150users\\user0697.csv 697 1303\n",
      "capstone_user_identification\\150users\\user0705.csv 705 1045\n",
      "capstone_user_identification\\150users\\user0722.csv 722 1747\n",
      "capstone_user_identification\\150users\\user0740.csv 740 1133\n",
      "capstone_user_identification\\150users\\user0741.csv 741 881\n",
      "capstone_user_identification\\150users\\user0756.csv 756 1286\n",
      "capstone_user_identification\\150users\\user0780.csv 780 1159\n",
      "capstone_user_identification\\150users\\user0784.csv 784 1382\n",
      "capstone_user_identification\\150users\\user0785.csv 785 812\n",
      "capstone_user_identification\\150users\\user0797.csv 797 1309\n",
      "capstone_user_identification\\150users\\user0812.csv 812 2875\n",
      "capstone_user_identification\\150users\\user0844.csv 844 829\n",
      "capstone_user_identification\\150users\\user0859.csv 859 846\n",
      "capstone_user_identification\\150users\\user0868.csv 868 884\n",
      "capstone_user_identification\\150users\\user0875.csv 875 2704\n",
      "capstone_user_identification\\150users\\user0932.csv 932 3260\n",
      "capstone_user_identification\\150users\\user0996.csv 996 2607\n",
      "capstone_user_identification\\150users\\user1014.csv 1014 1154\n",
      "capstone_user_identification\\150users\\user1040.csv 1040 1324\n",
      "capstone_user_identification\\150users\\user1054.csv 1054 999\n",
      "capstone_user_identification\\150users\\user1248.csv 1248 729\n",
      "capstone_user_identification\\150users\\user1267.csv 1267 821\n",
      "capstone_user_identification\\150users\\user1299.csv 1299 868\n"
     ]
    },
    {
     "name": "stdout",
     "output_type": "stream",
     "text": [
      "capstone_user_identification\\150users\\user1371.csv 1371 3087\n",
      "capstone_user_identification\\150users\\user1797.csv 1797 2264\n",
      "capstone_user_identification\\150users\\user1798.csv 1798 1251\n",
      "capstone_user_identification\\150users\\user1993.csv 1993 1117\n",
      "capstone_user_identification\\150users\\user2118.csv 2118 1003\n",
      "capstone_user_identification\\150users\\user2174.csv 2174 1273\n",
      "capstone_user_identification\\150users\\user2191.csv 2191 1417\n",
      "capstone_user_identification\\150users\\user2250.csv 2250 701\n",
      "capstone_user_identification\\150users\\user2355.csv 2355 3443\n",
      "capstone_user_identification\\150users\\user2408.csv 2408 2078\n",
      "capstone_user_identification\\150users\\user2493.csv 2493 1010\n",
      "capstone_user_identification\\150users\\user2625.csv 2625 1241\n",
      "capstone_user_identification\\150users\\user2902.csv 2902 1355\n",
      "\n"
     ]
    },
    {
     "data": {
      "application/vnd.jupyter.widget-view+json": {
       "model_id": "117019844a3c483eb01dd21f6591881b"
      }
     },
     "metadata": {},
     "output_type": "display_data"
    },
    {
     "name": "stdout",
     "output_type": "stream",
     "text": [
      "capstone_user_identification\\150users\\user0006.csv 6 4273\n",
      "capstone_user_identification\\150users\\user0013.csv 13 1178\n",
      "capstone_user_identification\\150users\\user0015.csv 15 1533\n",
      "capstone_user_identification\\150users\\user0016.csv 16 4188\n",
      "capstone_user_identification\\150users\\user0028.csv 28 3302\n",
      "capstone_user_identification\\150users\\user0031.csv 31 1520\n",
      "capstone_user_identification\\150users\\user0033.csv 33 2043\n",
      "capstone_user_identification\\150users\\user0039.csv 39 4407\n",
      "capstone_user_identification\\150users\\user0046.csv 46 788\n",
      "capstone_user_identification\\150users\\user0049.csv 49 1689\n",
      "capstone_user_identification\\150users\\user0050.csv 50 1604\n",
      "capstone_user_identification\\150users\\user0053.csv 53 2179\n",
      "capstone_user_identification\\150users\\user0065.csv 65 843\n",
      "capstone_user_identification\\150users\\user0066.csv 66 1407\n",
      "capstone_user_identification\\150users\\user0082.csv 82 1000\n",
      "capstone_user_identification\\150users\\user0085.csv 85 1042\n",
      "capstone_user_identification\\150users\\user0089.csv 89 2720\n",
      "capstone_user_identification\\150users\\user0092.csv 92 1601\n",
      "capstone_user_identification\\150users\\user0100.csv 100 1440\n",
      "capstone_user_identification\\150users\\user0102.csv 102 2620\n",
      "capstone_user_identification\\150users\\user0103.csv 103 6303\n",
      "capstone_user_identification\\150users\\user0105.csv 105 1092\n",
      "capstone_user_identification\\150users\\user0106.csv 106 3504\n",
      "capstone_user_identification\\150users\\user0118.csv 118 2739\n",
      "capstone_user_identification\\150users\\user0119.csv 119 1111\n",
      "capstone_user_identification\\150users\\user0120.csv 120 1738\n",
      "capstone_user_identification\\150users\\user0126.csv 126 1628\n",
      "capstone_user_identification\\150users\\user0127.csv 127 3424\n",
      "capstone_user_identification\\150users\\user0128.csv 128 5592\n",
      "capstone_user_identification\\150users\\user0138.csv 138 789\n",
      "capstone_user_identification\\150users\\user0158.csv 158 884\n",
      "capstone_user_identification\\150users\\user0160.csv 160 947\n",
      "capstone_user_identification\\150users\\user0165.csv 165 799\n",
      "capstone_user_identification\\150users\\user0172.csv 172 1025\n",
      "capstone_user_identification\\150users\\user0177.csv 177 959\n",
      "capstone_user_identification\\150users\\user0203.csv 203 1046\n",
      "capstone_user_identification\\150users\\user0207.csv 207 3735\n",
      "capstone_user_identification\\150users\\user0223.csv 223 967\n",
      "capstone_user_identification\\150users\\user0233.csv 233 1032\n",
      "capstone_user_identification\\150users\\user0235.csv 235 889\n",
      "capstone_user_identification\\150users\\user0236.csv 236 3073\n",
      "capstone_user_identification\\150users\\user0237.csv 237 3286\n",
      "capstone_user_identification\\150users\\user0238.csv 238 1021\n",
      "capstone_user_identification\\150users\\user0240.csv 240 1155\n",
      "capstone_user_identification\\150users\\user0241.csv 241 1067\n",
      "capstone_user_identification\\150users\\user0242.csv 242 1464\n",
      "capstone_user_identification\\150users\\user0245.csv 245 1159\n",
      "capstone_user_identification\\150users\\user0246.csv 246 788\n",
      "capstone_user_identification\\150users\\user0249.csv 249 1342\n",
      "capstone_user_identification\\150users\\user0252.csv 252 1014\n",
      "capstone_user_identification\\150users\\user0254.csv 254 2764\n",
      "capstone_user_identification\\150users\\user0256.csv 256 1218\n",
      "capstone_user_identification\\150users\\user0258.csv 258 1164\n",
      "capstone_user_identification\\150users\\user0259.csv 259 1320\n",
      "capstone_user_identification\\150users\\user0260.csv 260 800\n",
      "capstone_user_identification\\150users\\user0261.csv 261 2986\n",
      "capstone_user_identification\\150users\\user0263.csv 263 2303\n",
      "capstone_user_identification\\150users\\user0264.csv 264 1040\n",
      "capstone_user_identification\\150users\\user0269.csv 269 3906\n",
      "capstone_user_identification\\150users\\user0270.csv 270 4077\n",
      "capstone_user_identification\\150users\\user0273.csv 273 1718\n",
      "capstone_user_identification\\150users\\user0287.csv 287 3223\n",
      "capstone_user_identification\\150users\\user0294.csv 294 1107\n",
      "capstone_user_identification\\150users\\user0298.csv 298 2801\n",
      "capstone_user_identification\\150users\\user0301.csv 301 1240\n",
      "capstone_user_identification\\150users\\user0308.csv 308 1375\n",
      "capstone_user_identification\\150users\\user0315.csv 315 791\n",
      "capstone_user_identification\\150users\\user0318.csv 318 1275\n",
      "capstone_user_identification\\150users\\user0327.csv 327 922\n",
      "capstone_user_identification\\150users\\user0332.csv 332 870\n",
      "capstone_user_identification\\150users\\user0333.csv 333 1377\n",
      "capstone_user_identification\\150users\\user0339.csv 339 1115\n",
      "capstone_user_identification\\150users\\user0340.csv 340 956\n",
      "capstone_user_identification\\150users\\user0342.csv 342 2217\n",
      "capstone_user_identification\\150users\\user0344.csv 344 882\n",
      "capstone_user_identification\\150users\\user0351.csv 351 2456\n",
      "capstone_user_identification\\150users\\user0356.csv 356 764\n",
      "capstone_user_identification\\150users\\user0361.csv 361 924\n",
      "capstone_user_identification\\150users\\user0363.csv 363 1287\n",
      "capstone_user_identification\\150users\\user0411.csv 411 2952\n",
      "capstone_user_identification\\150users\\user0417.csv 417 924\n",
      "capstone_user_identification\\150users\\user0425.csv 425 1599\n",
      "capstone_user_identification\\150users\\user0430.csv 430 1303\n",
      "capstone_user_identification\\150users\\user0435.csv 435 779\n",
      "capstone_user_identification\\150users\\user0436.csv 436 1365\n",
      "capstone_user_identification\\150users\\user0440.csv 440 797\n",
      "capstone_user_identification\\150users\\user0444.csv 444 818\n",
      "capstone_user_identification\\150users\\user0475.csv 475 3290\n",
      "capstone_user_identification\\150users\\user0476.csv 476 1059\n",
      "capstone_user_identification\\150users\\user0486.csv 486 1304\n",
      "capstone_user_identification\\150users\\user0515.csv 515 1647\n",
      "capstone_user_identification\\150users\\user0533.csv 533 2016\n",
      "capstone_user_identification\\150users\\user0561.csv 561 5214\n",
      "capstone_user_identification\\150users\\user0563.csv 563 1009\n",
      "capstone_user_identification\\150users\\user0564.csv 564 1334\n",
      "capstone_user_identification\\150users\\user0568.csv 568 2239\n",
      "capstone_user_identification\\150users\\user0569.csv 569 4097\n",
      "capstone_user_identification\\150users\\user0570.csv 570 1177\n",
      "capstone_user_identification\\150users\\user0573.csv 573 2475\n",
      "capstone_user_identification\\150users\\user0575.csv 575 3123\n",
      "capstone_user_identification\\150users\\user0576.csv 576 1537\n",
      "capstone_user_identification\\150users\\user0580.csv 580 5349\n",
      "capstone_user_identification\\150users\\user0583.csv 583 9305\n",
      "capstone_user_identification\\150users\\user0584.csv 584 5908\n",
      "capstone_user_identification\\150users\\user0600.csv 600 2577\n",
      "capstone_user_identification\\150users\\user0603.csv 603 1354\n",
      "capstone_user_identification\\150users\\user0605.csv 605 1352\n",
      "capstone_user_identification\\150users\\user0640.csv 640 809\n",
      "capstone_user_identification\\150users\\user0647.csv 647 1089\n",
      "capstone_user_identification\\150users\\user0653.csv 653 753\n",
      "capstone_user_identification\\150users\\user0664.csv 664 1486\n",
      "capstone_user_identification\\150users\\user0665.csv 665 912\n",
      "capstone_user_identification\\150users\\user0677.csv 677 1124\n",
      "capstone_user_identification\\150users\\user0692.csv 692 857\n",
      "capstone_user_identification\\150users\\user0697.csv 697 1303\n",
      "capstone_user_identification\\150users\\user0705.csv 705 1045\n",
      "capstone_user_identification\\150users\\user0722.csv 722 1747\n",
      "capstone_user_identification\\150users\\user0740.csv 740 1133\n",
      "capstone_user_identification\\150users\\user0741.csv 741 881\n",
      "capstone_user_identification\\150users\\user0756.csv 756 1286\n",
      "capstone_user_identification\\150users\\user0780.csv 780 1159\n",
      "capstone_user_identification\\150users\\user0784.csv 784 1382\n",
      "capstone_user_identification\\150users\\user0785.csv 785 812\n",
      "capstone_user_identification\\150users\\user0797.csv 797 1309\n",
      "capstone_user_identification\\150users\\user0812.csv 812 2875\n",
      "capstone_user_identification\\150users\\user0844.csv 844 829\n",
      "capstone_user_identification\\150users\\user0859.csv 859 846\n",
      "capstone_user_identification\\150users\\user0868.csv 868 884\n",
      "capstone_user_identification\\150users\\user0875.csv 875 2704\n",
      "capstone_user_identification\\150users\\user0932.csv 932 3260\n",
      "capstone_user_identification\\150users\\user0996.csv 996 2607\n",
      "capstone_user_identification\\150users\\user1014.csv 1014 1154\n",
      "capstone_user_identification\\150users\\user1040.csv 1040 1324\n",
      "capstone_user_identification\\150users\\user1054.csv 1054 999\n",
      "capstone_user_identification\\150users\\user1248.csv 1248 729\n",
      "capstone_user_identification\\150users\\user1267.csv 1267 821\n",
      "capstone_user_identification\\150users\\user1299.csv 1299 868\n"
     ]
    },
    {
     "name": "stdout",
     "output_type": "stream",
     "text": [
      "capstone_user_identification\\150users\\user1371.csv 1371 3087\n",
      "capstone_user_identification\\150users\\user1797.csv 1797 2264\n",
      "capstone_user_identification\\150users\\user1798.csv 1798 1251\n",
      "capstone_user_identification\\150users\\user1993.csv 1993 1117\n",
      "capstone_user_identification\\150users\\user2118.csv 2118 1003\n",
      "capstone_user_identification\\150users\\user2174.csv 2174 1273\n",
      "capstone_user_identification\\150users\\user2191.csv 2191 1417\n",
      "capstone_user_identification\\150users\\user2250.csv 2250 701\n",
      "capstone_user_identification\\150users\\user2355.csv 2355 3443\n",
      "capstone_user_identification\\150users\\user2408.csv 2408 2078\n",
      "capstone_user_identification\\150users\\user2493.csv 2493 1010\n",
      "capstone_user_identification\\150users\\user2625.csv 2625 1241\n",
      "capstone_user_identification\\150users\\user2902.csv 2902 1355\n",
      "\n",
      "Wall time: 3min 15s\n"
     ]
    }
   ],
   "source": [
    "%%time\n",
    "import itertools\n",
    "\n",
    "data_lengths = []\n",
    "\n",
    "for num_users in [10, 150]:\n",
    "    for window_size, session_length in itertools.product([10, 7, 5], [15, 10, 7, 5]):\n",
    "        if window_size <= session_length and (window_size, session_length) != (10, 10):\n",
    "            ''' ВАШ КОД ЗДЕСЬ '''\n",
    "            X_sparse, y = prepare_sparse_train_set_window(os.path.join(PATH_TO_DATA,'{}users'.format(num_users)), \n",
    "                                                       os.path.join(PATH_TO_DATA,'site_freq_{}users.pkl'.format(num_users)),\n",
    "                                       session_length=session_length, window_size=window_size)\n",
    "            \n",
    "            with open(os.path.join(PATH_TO_DATA, \n",
    "                                   'X_sparse_{}users_s{}_w{}.pkl'.format(num_users, session_length, window_size)), 'wb') as X_pkl:\n",
    "                pickle.dump(X_sparse, X_pkl, protocol=2)\n",
    "            with open(os.path.join(PATH_TO_DATA, \n",
    "                                   'y_sparse_{}users_s{}_w{}.pkl'.format(num_users, session_length, window_size)), 'wb') as y_pkl:\n",
    "                pickle.dump(y, y_pkl, protocol=2)           \n",
    "            \n",
    "            data_lengths.append(X_sparse.shape[0])"
   ]
  },
  {
   "cell_type": "markdown",
   "metadata": {},
   "source": [
    "**<font color='red'> Вопрос 1. </font>Сколько всего уникальных значений в списке `data_lengths`?**"
   ]
  },
  {
   "cell_type": "code",
   "execution_count": 28,
   "metadata": {},
   "outputs": [
    {
     "name": "stdout",
     "output_type": "stream",
     "text": [
      "16 6 [14061, 20087, 20087, 20087, 28118, 28118, 28118, 28118, 137019, 195712, 195712, 195712, 273957, 273957, 273957, 273957]\n"
     ]
    }
   ],
   "source": [
    "''' ВАШ КОД ЗДЕСЬ '''\n",
    "print(len(data_lengths), len(set(data_lengths)), data_lengths)"
   ]
  },
  {
   "cell_type": "markdown",
   "metadata": {},
   "source": [
    "## Часть 2. Первичный анализ данных, проверка гипотез"
   ]
  },
  {
   "cell_type": "markdown",
   "metadata": {},
   "source": [
    "**Считаем в DataFrame подготовленный на 1 неделе файл `train_data_10users.csv`. Далее будем работать с ним.**"
   ]
  },
  {
   "cell_type": "code",
   "execution_count": 29,
   "metadata": {
    "collapsed": true
   },
   "outputs": [],
   "source": [
    "train_df = pd.read_csv(os.path.join(PATH_TO_DATA, 'train_data_10users.csv'), \n",
    "                       index_col='session_id')"
   ]
  },
  {
   "cell_type": "code",
   "execution_count": 30,
   "metadata": {},
   "outputs": [
    {
     "data": {
      "text/html": [
       "<div>\n",
       "<table border=\"1\" class=\"dataframe\">\n",
       "  <thead>\n",
       "    <tr style=\"text-align: right;\">\n",
       "      <th></th>\n",
       "      <th>site_1</th>\n",
       "      <th>site_2</th>\n",
       "      <th>site_3</th>\n",
       "      <th>site_4</th>\n",
       "      <th>site_5</th>\n",
       "      <th>site_6</th>\n",
       "      <th>site_7</th>\n",
       "      <th>site_8</th>\n",
       "      <th>site_9</th>\n",
       "      <th>site_10</th>\n",
       "      <th>user_id</th>\n",
       "    </tr>\n",
       "    <tr>\n",
       "      <th>session_id</th>\n",
       "      <th></th>\n",
       "      <th></th>\n",
       "      <th></th>\n",
       "      <th></th>\n",
       "      <th></th>\n",
       "      <th></th>\n",
       "      <th></th>\n",
       "      <th></th>\n",
       "      <th></th>\n",
       "      <th></th>\n",
       "      <th></th>\n",
       "    </tr>\n",
       "  </thead>\n",
       "  <tbody>\n",
       "    <tr>\n",
       "      <th>0</th>\n",
       "      <td>1</td>\n",
       "      <td>2</td>\n",
       "      <td>3</td>\n",
       "      <td>4</td>\n",
       "      <td>3</td>\n",
       "      <td>3</td>\n",
       "      <td>4</td>\n",
       "      <td>3</td>\n",
       "      <td>5</td>\n",
       "      <td>3</td>\n",
       "      <td>31</td>\n",
       "    </tr>\n",
       "    <tr>\n",
       "      <th>1</th>\n",
       "      <td>6</td>\n",
       "      <td>7</td>\n",
       "      <td>8</td>\n",
       "      <td>9</td>\n",
       "      <td>3</td>\n",
       "      <td>10</td>\n",
       "      <td>11</td>\n",
       "      <td>12</td>\n",
       "      <td>13</td>\n",
       "      <td>14</td>\n",
       "      <td>31</td>\n",
       "    </tr>\n",
       "    <tr>\n",
       "      <th>2</th>\n",
       "      <td>14</td>\n",
       "      <td>4</td>\n",
       "      <td>14</td>\n",
       "      <td>14</td>\n",
       "      <td>15</td>\n",
       "      <td>16</td>\n",
       "      <td>6</td>\n",
       "      <td>17</td>\n",
       "      <td>18</td>\n",
       "      <td>14</td>\n",
       "      <td>31</td>\n",
       "    </tr>\n",
       "    <tr>\n",
       "      <th>3</th>\n",
       "      <td>19</td>\n",
       "      <td>20</td>\n",
       "      <td>19</td>\n",
       "      <td>14</td>\n",
       "      <td>14</td>\n",
       "      <td>14</td>\n",
       "      <td>14</td>\n",
       "      <td>21</td>\n",
       "      <td>22</td>\n",
       "      <td>23</td>\n",
       "      <td>31</td>\n",
       "    </tr>\n",
       "    <tr>\n",
       "      <th>4</th>\n",
       "      <td>24</td>\n",
       "      <td>14</td>\n",
       "      <td>15</td>\n",
       "      <td>25</td>\n",
       "      <td>26</td>\n",
       "      <td>27</td>\n",
       "      <td>28</td>\n",
       "      <td>29</td>\n",
       "      <td>30</td>\n",
       "      <td>29</td>\n",
       "      <td>31</td>\n",
       "    </tr>\n",
       "  </tbody>\n",
       "</table>\n",
       "</div>"
      ],
      "text/plain": [
       "            site_1  site_2  site_3  site_4  site_5  site_6  site_7  site_8  \\\n",
       "session_id                                                                   \n",
       "0                1       2       3       4       3       3       4       3   \n",
       "1                6       7       8       9       3      10      11      12   \n",
       "2               14       4      14      14      15      16       6      17   \n",
       "3               19      20      19      14      14      14      14      21   \n",
       "4               24      14      15      25      26      27      28      29   \n",
       "\n",
       "            site_9  site_10  user_id  \n",
       "session_id                            \n",
       "0                5        3       31  \n",
       "1               13       14       31  \n",
       "2               18       14       31  \n",
       "3               22       23       31  \n",
       "4               30       29       31  "
      ]
     },
     "execution_count": 30,
     "metadata": {},
     "output_type": "execute_result"
    }
   ],
   "source": [
    "train_df.head()"
   ]
  },
  {
   "cell_type": "code",
   "execution_count": 113,
   "metadata": {},
   "outputs": [
    {
     "name": "stdout",
     "output_type": "stream",
     "text": [
      "<class 'pandas.core.frame.DataFrame'>\n",
      "Int64Index: 14061 entries, 0 to 14060\n",
      "Data columns (total 11 columns):\n",
      "site_1     14061 non-null int64\n",
      "site_2     14061 non-null int64\n",
      "site_3     14061 non-null int64\n",
      "site_4     14061 non-null int64\n",
      "site_5     14061 non-null int64\n",
      "site_6     14061 non-null int64\n",
      "site_7     14061 non-null int64\n",
      "site_8     14061 non-null int64\n",
      "site_9     14061 non-null int64\n",
      "site_10    14061 non-null int64\n",
      "user_id    14061 non-null int64\n",
      "dtypes: int64(11)\n",
      "memory usage: 1.3 MB\n"
     ]
    }
   ],
   "source": [
    "train_df.info()"
   ]
  },
  {
   "cell_type": "markdown",
   "metadata": {},
   "source": [
    "**Распределение целевого класса:**"
   ]
  },
  {
   "cell_type": "code",
   "execution_count": 114,
   "metadata": {},
   "outputs": [
    {
     "data": {
      "text/plain": [
       "128    2796\n",
       "39     2204\n",
       "207    1868\n",
       "127    1712\n",
       "237    1643\n",
       "33     1022\n",
       "50      802\n",
       "31      760\n",
       "100     720\n",
       "241     534\n",
       "Name: user_id, dtype: int64"
      ]
     },
     "execution_count": 114,
     "metadata": {},
     "output_type": "execute_result"
    }
   ],
   "source": [
    "train_df['user_id'].value_counts()"
   ]
  },
  {
   "cell_type": "markdown",
   "metadata": {},
   "source": [
    "**Посчитаем распределение числа уникальных сайтов в каждой сессии из 10 посещенных подряд сайтов.**"
   ]
  },
  {
   "cell_type": "code",
   "execution_count": 115,
   "metadata": {
    "collapsed": true
   },
   "outputs": [],
   "source": [
    "num_unique_sites = [np.unique(train_df.values[i, :-1]).shape[0] \n",
    "                    for i in range(train_df.shape[0])]"
   ]
  },
  {
   "cell_type": "code",
   "execution_count": 116,
   "metadata": {},
   "outputs": [
    {
     "data": {
      "text/plain": [
       "7     2308\n",
       "6     2197\n",
       "8     2046\n",
       "5     1735\n",
       "9     1394\n",
       "2     1246\n",
       "4     1163\n",
       "3      894\n",
       "10     651\n",
       "1      427\n",
       "dtype: int64"
      ]
     },
     "execution_count": 116,
     "metadata": {},
     "output_type": "execute_result"
    }
   ],
   "source": [
    "pd.Series(num_unique_sites).value_counts()"
   ]
  },
  {
   "cell_type": "code",
   "execution_count": 117,
   "metadata": {},
   "outputs": [
    {
     "data": {
      "image/png": "[encoded data removed]",
      "text/plain": [
       "<matplotlib.figure.Figure at 0x75b3e10>"
      ]
     },
     "metadata": {},
     "output_type": "display_data"
    }
   ],
   "source": [
    "pd.Series(num_unique_sites).hist();"
   ]
  },
  {
   "cell_type": "markdown",
   "metadata": {},
   "source": [
    "**Проверьте с помощью QQ-плота и критерия Шапиро-Уилка, что эта величина распределена нормально**"
   ]
  },
  {
   "cell_type": "markdown",
   "metadata": {},
   "source": [
    "**<font color='red'> Вопрос 2. </font>Распределено ли нормально число уникальных сайтов в каждой сессии из 10 посещенных подряд сайтов (согласно критерию Шапиро-Уилка)?**"
   ]
  },
  {
   "cell_type": "code",
   "execution_count": 153,
   "metadata": {},
   "outputs": [
    {
     "name": "stdout",
     "output_type": "stream",
     "text": [
      "(0.9546933174133301, 0.0)\n",
      "(0.9984054565429688, 0.49441540241241455)\n"
     ]
    }
   ],
   "source": [
    "''' ВАШ КОД ЗДЕСЬ '''\n",
    "from scipy.stats import shapiro\n",
    "foo = np.random.normal(size=1000)\n",
    "print(len(num_unique_sites))\n",
    "print(shapiro(num_unique_sites))\n",
    "print(shapiro(foo))"
   ]
  },
  {
   "cell_type": "code",
   "execution_count": 152,
   "metadata": {
    "scrolled": true
   },
   "outputs": [
    {
     "data": {
      "image/png": "[encoded data removed]",
      "text/plain": [
       "<matplotlib.figure.Figure at 0xc182eb8>"
      ]
     },
     "metadata": {},
     "output_type": "display_data"
    },
    {
     "data": {
      "image/png": "[encoded data removed]",
      "text/plain": [
       "<matplotlib.figure.Figure at 0xd06bf60>"
      ]
     },
     "metadata": {},
     "output_type": "display_data"
    }
   ],
   "source": [
    "import scipy as sp\n",
    "import pylab\n",
    "import seaborn as sns\n",
    "fig = plt.figure()\n",
    "sp.stats.probplot(num_unique_sites, dist='norm', fit=True, rvalue=False, plot=pylab)\n",
    "plt.show()\n",
    "\n",
    "fig = plt.figure()\n",
    "sp.stats.probplot(foo, dist='norm', fit=True, rvalue=False, plot=pylab)\n",
    "plt.show()"
   ]
  },
  {
   "cell_type": "markdown",
   "metadata": {},
   "source": [
    "**Проверьте гипотезу о том, что пользователь хотя бы раз зайдет на сайт, который он уже ранее посетил в сессии из 10 сайтов. Давайте проверим с помощью биномиального критерия для доли, что доля случаев, когда пользователь повторно посетил какой-то сайт (то есть число уникальных сайтов в сессии < 10) велика: больше 95% (обратите внимание, что альтернатива тому, что доля равна 95% –  одностороняя). Ответом на 3 вопрос в тесте будет полученное p-value.**"
   ]
  },
  {
   "cell_type": "markdown",
   "metadata": {},
   "source": [
    "**<font color='red'> Вопрос 3. </font>Каково p-value при проверке описанной гипотезы?**"
   ]
  },
  {
   "cell_type": "code",
   "execution_count": 154,
   "metadata": {
    "collapsed": true
   },
   "outputs": [],
   "source": [
    "has_two_similar = (np.array(num_unique_sites) < 10).astype('int')"
   ]
  },
  {
   "cell_type": "code",
   "execution_count": 157,
   "metadata": {},
   "outputs": [
    {
     "data": {
      "text/plain": [
       "(14061, 13410)"
      ]
     },
     "execution_count": 157,
     "metadata": {},
     "output_type": "execute_result"
    }
   ],
   "source": [
    "len(has_two_similar), sum(has_two_similar)"
   ]
  },
  {
   "cell_type": "code",
   "execution_count": 171,
   "metadata": {},
   "outputs": [
    {
     "name": "stdout",
     "output_type": "stream",
     "text": [
      "0.0220765376907\n"
     ]
    }
   ],
   "source": [
    "''' ВАШ КОД ЗДЕСЬ '''\n",
    "pi_val = stats.binom_test(sum(has_two_similar), len(has_two_similar), 0.95, 'greater')\n",
    "print(pi_val)"
   ]
  },
  {
   "cell_type": "markdown",
   "metadata": {},
   "source": [
    "**<font color='red'> Вопрос 4. </font>Каков 95% доверительный интервал Уилсона для доли случаев, когда пользователь повторно посетил какой-то сайт (из п. 3)?**"
   ]
  },
  {
   "cell_type": "code",
   "execution_count": 172,
   "metadata": {
    "collapsed": true
   },
   "outputs": [],
   "source": [
    "''' ВАШ КОД ЗДЕСЬ '''\n",
    "\n",
    "from statsmodels.stats.proportion import proportion_confint\n",
    "wilson_interval = proportion_confint(sum(has_two_similar), len(has_two_similar), method='wilson')"
   ]
  },
  {
   "cell_type": "code",
   "execution_count": 174,
   "metadata": {},
   "outputs": [
    {
     "name": "stdout",
     "output_type": "stream",
     "text": [
      "0.9501 0.9571\n"
     ]
    }
   ],
   "source": [
    "print('{} {}'.format(round(wilson_interval[0], 4),\n",
    "                                   round(wilson_interval[1], 4)))"
   ]
  },
  {
   "cell_type": "markdown",
   "metadata": {},
   "source": [
    "**Постройте распределение частоты посещения сайтов (сколько раз тот или иной сайт попадается в выборке) для сайтов, которые были посещены как минимум 1000 раз.**"
   ]
  },
  {
   "cell_type": "code",
   "execution_count": 246,
   "metadata": {},
   "outputs": [
    {
     "data": {
      "text/plain": [
       "7813"
      ]
     },
     "execution_count": 246,
     "metadata": {},
     "output_type": "execute_result"
    }
   ],
   "source": [
    "np.sum(np.sum(train_df == 51))"
   ]
  },
  {
   "cell_type": "code",
   "execution_count": 221,
   "metadata": {},
   "outputs": [
    {
     "name": "stdout",
     "output_type": "stream",
     "text": [
      "4913 25\n",
      "[('s.youtube.com', (210, 8300)), ('www.google.fr', (51, 7813)), ('www.google.com', (4, 5441)), ('mail.google.com', (183, 4158)), ('www.facebook.com', (15, 4141)), ('apis.google.com', (52, 3758)), ('r3---sn-gxo5uxg-jqbe.googlevideo.com', (700, 3244)), ('r1---sn-gxo5uxg-jqbe.googlevideo.com', (214, 3094)), ('plus.google.com', (187, 2630)), ('accounts.google.com', (184, 2089))]\n"
     ]
    },
    {
     "data": {
      "image/png": "[encoded data removed]",
      "text/plain": [
       "<matplotlib.figure.Figure at 0xbe40f28>"
      ]
     },
     "metadata": {},
     "output_type": "display_data"
    }
   ],
   "source": [
    "''' ВАШ КОД ЗДЕСЬ '''\n",
    "\n",
    "with open(os.path.join(PATH_TO_DATA,'site_freq_10users.pkl'), 'rb') as fin:\n",
    "    site_dict = pickle.load(fin)\n",
    "site_freqs = np.array([v[1] for k, v in site_dict.items() if v[1] >= 0])\n",
    "site_freqs_1000 = np.array([v[1] for k, v in site_dict.items() if v[1] >= 1000])\n",
    "print(len(site_freqs), len(site_freqs_1000))\n",
    "print(sorted(site_dict.items(), key=lambda x: -x[1][1])[:10])\n",
    "plt.hist(site_freqs_1000, 10);\n",
    "#plt.hist(site_freqs, 100);"
   ]
  },
  {
   "cell_type": "code",
   "execution_count": 199,
   "metadata": {
    "collapsed": true
   },
   "outputs": [],
   "source": [
    "''' ВАШ КОД ЗДЕСЬ '''"
   ]
  },
  {
   "cell_type": "markdown",
   "metadata": {},
   "source": [
    "**Постройте 95% доверительный интервал для средней частоты появления сайта в выборке (во всей, уже не только для тех сайтов, что были посещены как минимум 1000 раз) на основе bootstrap. Используйте столько же bootstrap-подвыборок, сколько сайтов оказалось в исходной выборке по 10 пользователям. Берите подвыборки из посчитанного списка частот посещений сайтов – не надо заново считать эти частоты. Учтите, что частоту появления нуля (сайт с индексом 0 появлялся там, где сессии были короче 10 сайтов) включать не надо. Округлите границы интервала до 3 знаков после запятой и запишите через пробел в файл *answer2_5.txt*. Это будет ответом на 5 вопрос теста.**"
   ]
  },
  {
   "cell_type": "markdown",
   "metadata": {},
   "source": [
    "**<font color='red'> Вопрос 5. </font>Каков 95% доверительный интервал для средней частоты появления сайта в выборке?**"
   ]
  },
  {
   "cell_type": "code",
   "execution_count": 256,
   "metadata": {
    "collapsed": true
   },
   "outputs": [],
   "source": [
    "def get_bootstrap_samples(data, n_samples, random_seed=17):\n",
    "    np.random.seed(random_seed)\n",
    "    indices = np.random.randint(0, len(data), (n_samples, len(data)))\n",
    "    samples = data[indices]\n",
    "    return samples"
   ]
  },
  {
   "cell_type": "code",
   "execution_count": 248,
   "metadata": {
    "collapsed": true
   },
   "outputs": [],
   "source": [
    "def stat_intervals(stat, alpha):\n",
    "    boundaries = np.percentile(stat, \n",
    "                 [100 * alpha / 2., 100 * (1 - alpha / 2.)])\n",
    "    return boundaries"
   ]
  },
  {
   "cell_type": "code",
   "execution_count": 266,
   "metadata": {},
   "outputs": [
    {
     "name": "stdout",
     "output_type": "stream",
     "text": [
      "[ 22.61160187  35.69761856]\n",
      "[ 22.35900672  35.60565846]\n",
      "[ 22.51105231  35.89769998]\n",
      "[ 22.57618563  35.6606554 ]\n",
      "[ 22.5486668   35.97785467]\n",
      "[ 22.32753918  35.72074089]\n",
      "[ 22.39096275  35.76022797]\n",
      "[ 22.52061877  35.6625687 ]\n",
      "[ 22.65153674  35.78550784]\n",
      "[ 22.45695095  35.69611235]\n"
     ]
    }
   ],
   "source": [
    "''' ВАШ КОД ЗДЕСЬ '''\n",
    "n_bootstrap = len(site_freqs)\n",
    "res = np.zeros((1, 2))\n",
    "for e in range(10):\n",
    "    samples = get_bootstrap_samples(site_freqs, n_bootstrap, random_seed=e)\n",
    "    print(stat_intervals([e.mean() for e in samples], 0.05))\n",
    "    res += stat_intervals([e.mean() for e in samples], 0.05)\n",
    "res /= 10"
   ]
  },
  {
   "cell_type": "code",
   "execution_count": 267,
   "metadata": {},
   "outputs": [
    {
     "data": {
      "text/plain": [
       "array([[ 22.49541217,  35.74646448]])"
      ]
     },
     "execution_count": 267,
     "metadata": {},
     "output_type": "execute_result"
    }
   ],
   "source": [
    "res"
   ]
  },
  {
   "cell_type": "code",
   "execution_count": 230,
   "metadata": {},
   "outputs": [
    {
     "data": {
      "image/png": "[encoded data removed]",
      "text/plain": [
       "<matplotlib.figure.Figure at 0x30af1b00>"
      ]
     },
     "metadata": {},
     "output_type": "display_data"
    }
   ],
   "source": [
    "plt.hist([e.mean() for e in samples], 100);"
   ]
  },
  {
   "cell_type": "markdown",
   "metadata": {},
   "source": [
    "На 3 неделе мы займемся визуальным анализом данных и построением признаков."
   ]
  }
 ],
 "metadata": {
  "anaconda-cloud": {},
  "kernelspec": {
   "display_name": "Python 3",
   "language": "python",
   "name": "python3"
  },
  "language_info": {
   "codemirror_mode": {
    "name": "ipython",
    "version": 3
   },
   "file_extension": ".py",
   "mimetype": "text/x-python",
   "name": "python",
   "nbconvert_exporter": "python",
   "pygments_lexer": "ipython3",
   "version": "3.4.0"
  }
 },
 "nbformat": 4,
 "nbformat_minor": 1
}
