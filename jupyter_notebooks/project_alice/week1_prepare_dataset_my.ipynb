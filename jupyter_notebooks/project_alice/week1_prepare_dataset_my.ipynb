{
 "cells": [
  {
   "cell_type": "markdown",
   "metadata": {},
   "source": [
    "<center>\n",
    "<img src=\"https://habrastorage.org/web/677/8e1/337/6778e1337c3d4b159d7e99df94227cb2.jpg\"/>\n",
    "## Специализация \"Машинное обучение и анализ данных\"\n",
    "</center>\n",
    "<center>Автор материала: программист-исследователь Mail.ru Group, старший преподаватель Факультета Компьютерных Наук ВШЭ Юрий Кашницкий"
   ]
  },
  {
   "cell_type": "markdown",
   "metadata": {},
   "source": [
    "# <center> Capstone проект №1. Идентификация пользователей по посещенным веб-страницам\n",
    "\n",
    "В этом проекте мы будем решать задачу идентификации пользователя по его поведению в сети Интернет. Это сложная и интересная задача на стыке анализа данных и поведенческой психологии. В качестве примера, компания Яндекс решает задачу идентификации взломщика почтового ящика по его поведению. В двух словах, взломщик будет себя вести не так, как владелец ящика: он может не удалять сообщения сразу по прочтении, как это делал хозяин, он будет по-другому ставить флажки сообщениям и даже по-своему двигать мышкой. Тогда такого злоумышленника можно идентифицировать и \"выкинуть\" из почтового ящика, предложив хозяину войти по SMS-коду. Этот пилотный проект описан в [статье](https://habrahabr.ru/company/yandex/blog/230583/) на Хабрахабре. Похожие вещи делаются, например, в Google Analytics и описываются в научных статьях, найти можно многое по фразам \"Traversal Pattern Mining\" и \"Sequential Pattern Mining\".\n",
    "\n",
    "<img src='http://i.istockimg.com/file_thumbview_approve/21546327/5/stock-illustration-21546327-identification-de-l-utilisateur.jpg'>\n",
    "\n",
    "Мы будем решать похожую задачу: по последовательности из нескольких веб-сайтов, посещенных подряд один и тем же человеком, мы будем идентифицировать этого человека. Идея такая: пользователи Интернета по-разному переходят по ссылкам, и это может помогать их идентифицировать (кто-то сначала в почту, потом про футбол почитать, затем новости, контакт, потом наконец – работать, кто-то – сразу работать).\n",
    "\n",
    "Будем использовать данные из [статьи](http://ceur-ws.org/Vol-1703/paper12.pdf) \"A Tool for Classification of Sequential Data\". И хотя мы не можем рекомендовать эту статью (описанные методы делеки от state-of-the-art, лучше обращаться к [книге](http://www.charuaggarwal.net/freqbook.pdf) \"Frequent Pattern Mining\" и последним статьям с ICDM), но данные там собраны аккуратно и представляют интерес.\n",
    "\n",
    "Имеются данные с прокси-серверов Университета Блеза Паскаля, они имеют очень простой вид. Для каждого пользователя заведен csv-файл с названием user\\*\\*\\*\\*.csv (где вместо звездочек – 4 цифры, соответствующие ID пользователя), а в нем посещения сайтов записаны в следующем формате: <br>\n",
    "\n",
    "<center>*timestamp, посещенный веб-сайт*</center>\n",
    "\n",
    "Скачать исходные данные можно по ссылке в статье, там же описание.\n",
    "Для этого задания хватит данных не по всем 3000 пользователям, а по 10 и 150. [Ссылка](https://yadi.sk/d/3gscKIdN3BCASG) на архив *capstone_user_identification* (~7 Mb, в развернутом виде ~ 60 Mb). \n",
    "\n",
    "В финальном проекте уже придется столкнуться с тем, что не все операции можно выполнить за разумное время (скажем, перебрать с кросс-валидацией 100 комбинаций параметров случайного леса на этих данных Вы вряд ли сможете), поэтому мы будем использовать параллельно 2 выборки: по 10 пользователям и по 150. Для 10 пользователей будем писать и отлаживать код, для 150 – будет рабочая версия. \n",
    "\n",
    "Данные устроены следующем образом:\n",
    "\n",
    " - В каталоге 10users лежат 10 csv-файлов с названием вида \"user[USER_ID].csv\", где [USER_ID] – ID пользователя;\n",
    " - Аналогично для каталога 150users – там 150 файлов;\n",
    " - В каталоге 3users – игрушечный пример из 3 файлов, это для отладки кода предобработки, который Вы далее напишете.\n",
    "\n",
    "На 5 неделе будет задание по [соревнованию](https://inclass.kaggle.com/c/identify-me-if-you-can4) Kaggle Inclass, которое организовано специально под Capstone проект нашей специализации. Соревнование уже открыто и, конечно, желающие могут начать уже сейчас.\n",
    "\n",
    "# <center>Неделя 1. Подготовка данных к анализу и построению моделей\n",
    "\n",
    "Первая часть проекта посвящена подготовке данных для дальнейшего описательного анализа и построения прогнозных моделей. Надо будет написать код для предобработки данных (исходно посещенные веб-сайты указаны для каждого пользователя в отдельном файле) и формирования единой обучающей выборки. Также в этой части мы познакомимся с разреженным форматом данных (матрицы `Scipy.sparse`), который хорошо подходит для данной задачи. \n",
    "\n",
    "**План 1 недели:**\n",
    " - Часть 1. Подготовка обучающей выборки\n",
    " - Часть 2. Работа с разреженным форматом данных"
   ]
  },
  {
   "cell_type": "markdown",
   "metadata": {},
   "source": [
    "<font color='red'>**Задание:**</font> заполните код в этой тетрадке и выберите ответы в [веб-форме](https://docs.google.com/forms/d/e/1FAIpQLSedmwHb4cOI32zKJmEP7RvgEjNoz5GbeYRc83qFXVH82KFgGA/viewform). \n"
   ]
  },
  {
   "cell_type": "markdown",
   "metadata": {},
   "source": [
    "**В этой части проекта Вам могут быть полезны видеозаписи следующих лекций 1 и 2 недели курса \"Математика и Python для анализа данных\":**\n",
    "   - [Циклы, функции, генераторы, list comprehension](https://www.coursera.org/learn/mathematics-and-python/lecture/Kd7dL/tsikly-funktsii-ghienieratory-list-comprehension)\n",
    "   - [Чтение данных из файлов](https://www.coursera.org/learn/mathematics-and-python/lecture/8Xvwp/chtieniie-dannykh-iz-failov)\n",
    "   - [Запись файлов, изменение файлов](https://www.coursera.org/learn/mathematics-and-python/lecture/vde7k/zapis-failov-izmienieniie-failov)\n",
    "   - [Pandas.DataFrame](https://www.coursera.org/learn/mathematics-and-python/lecture/rcjAW/pandas-data-frame)\n",
    "   - [Pandas. Индексация и селекция](https://www.coursera.org/learn/mathematics-and-python/lecture/lsXAR/pandas-indieksatsiia-i-sieliektsiia)\n",
    "   \n",
    "**Кроме того, в задании будут использоваться библиотеки Python [`glob`](https://docs.python.org/3/library/glob.html), [`pickle`](https://docs.python.org/2/library/pickle.html) и класс [`csr_matrix`](https://docs.scipy.org/doc/scipy-0.18.1/reference/generated/scipy.sparse.csr_matrix.html) из `Scipy.sparse`.**"
   ]
  },
  {
   "cell_type": "markdown",
   "metadata": {},
   "source": [
    "Наконец, для лучшей воспроизводимости результатов приведем список версий основных используемых в проекте библиотек: NumPy, SciPy, Pandas, Matplotlib, Statsmodels и Scikit-learn. Для этого воспользуемся расширением [watermark](https://github.com/rasbt/watermark)."
   ]
  },
  {
   "cell_type": "code",
   "execution_count": 1,
   "metadata": {
    "collapsed": true
   },
   "outputs": [],
   "source": [
    "# pip install watermark\n",
    "%load_ext watermark"
   ]
  },
  {
   "cell_type": "code",
   "execution_count": 2,
   "metadata": {},
   "outputs": [
    {
     "name": "stdout",
     "output_type": "stream",
     "text": [
      "CPython 3.4.0\n",
      "IPython 5.3.0\n",
      "\n",
      "numpy 1.12.1\n",
      "scipy 0.19.0\n",
      "pandas 0.19.2\n",
      "matplotlib 2.0.0\n",
      "statsmodels 0.8.0\n",
      "sklearn 0.18.1\n",
      "\n",
      "compiler   : MSC v.1600 64 bit (AMD64)\n",
      "system     : Windows\n",
      "release    : 8\n",
      "machine    : AMD64\n",
      "processor  : Intel64 Family 6 Model 158 Stepping 9, GenuineIntel\n",
      "CPU cores  : 8\n",
      "interpreter: 64bit\n",
      "Git hash   : 95b7837cf055199d7a1ec9130961172039d6a8cb\n"
     ]
    }
   ],
   "source": [
    "%watermark -v -m -p numpy,scipy,pandas,matplotlib,statsmodels,sklearn -g"
   ]
  },
  {
   "cell_type": "code",
   "execution_count": 3,
   "metadata": {
    "collapsed": true
   },
   "outputs": [],
   "source": [
    "from __future__ import division, print_function\n",
    "# отключим всякие предупреждения Anaconda\n",
    "import warnings\n",
    "warnings.filterwarnings('ignore')\n",
    "from glob import glob\n",
    "import os\n",
    "import pickle\n",
    "#pip install tqdm\n",
    "from tqdm import tqdm_notebook\n",
    "import numpy as np\n",
    "import pandas as pd\n",
    "from scipy.sparse import csr_matrix"
   ]
  },
  {
   "cell_type": "markdown",
   "metadata": {},
   "source": [
    "**Посмотрим на один из файлов с данными о посещенных пользователем (номер 31) веб-страницах.**"
   ]
  },
  {
   "cell_type": "code",
   "execution_count": 4,
   "metadata": {
    "collapsed": true
   },
   "outputs": [],
   "source": [
    "# Поменяйте на свой путь к данным\n",
    "PATH_TO_DATA = 'capstone_user_identification'"
   ]
  },
  {
   "cell_type": "code",
   "execution_count": 5,
   "metadata": {
    "collapsed": true
   },
   "outputs": [],
   "source": [
    "user31_data = pd.read_csv(os.path.join(PATH_TO_DATA, \n",
    "                                       '10users/user0031.csv'))"
   ]
  },
  {
   "cell_type": "code",
   "execution_count": 6,
   "metadata": {},
   "outputs": [
    {
     "data": {
      "text/html": [
       "<div>\n",
       "<table border=\"1\" class=\"dataframe\">\n",
       "  <thead>\n",
       "    <tr style=\"text-align: right;\">\n",
       "      <th></th>\n",
       "      <th>timestamp</th>\n",
       "      <th>site</th>\n",
       "    </tr>\n",
       "  </thead>\n",
       "  <tbody>\n",
       "    <tr>\n",
       "      <th>0</th>\n",
       "      <td>2013-11-15 08:12:07</td>\n",
       "      <td>fpdownload2.macromedia.com</td>\n",
       "    </tr>\n",
       "    <tr>\n",
       "      <th>1</th>\n",
       "      <td>2013-11-15 08:12:17</td>\n",
       "      <td>laposte.net</td>\n",
       "    </tr>\n",
       "    <tr>\n",
       "      <th>2</th>\n",
       "      <td>2013-11-15 08:12:17</td>\n",
       "      <td>www.laposte.net</td>\n",
       "    </tr>\n",
       "    <tr>\n",
       "      <th>3</th>\n",
       "      <td>2013-11-15 08:12:17</td>\n",
       "      <td>www.google.com</td>\n",
       "    </tr>\n",
       "    <tr>\n",
       "      <th>4</th>\n",
       "      <td>2013-11-15 08:12:18</td>\n",
       "      <td>www.laposte.net</td>\n",
       "    </tr>\n",
       "  </tbody>\n",
       "</table>\n",
       "</div>"
      ],
      "text/plain": [
       "             timestamp                        site\n",
       "0  2013-11-15 08:12:07  fpdownload2.macromedia.com\n",
       "1  2013-11-15 08:12:17                 laposte.net\n",
       "2  2013-11-15 08:12:17             www.laposte.net\n",
       "3  2013-11-15 08:12:17              www.google.com\n",
       "4  2013-11-15 08:12:18             www.laposte.net"
      ]
     },
     "execution_count": 6,
     "metadata": {},
     "output_type": "execute_result"
    }
   ],
   "source": [
    "user31_data.head()"
   ]
  },
  {
   "cell_type": "markdown",
   "metadata": {},
   "source": [
    "**Поставим задачу классификации: идентифицировать пользователя по сессии из 10 подряд посещенных сайтов. Объектом в этой задаче будет сессия из 10 сайтов, последовательно посещенных одним и тем же пользователем, признаками – индексы этих 10 сайтов (чуть позже здесь появится \"мешок\" сайтов, подход Bag of Words). Целевым классом будет id пользователя.**"
   ]
  },
  {
   "cell_type": "markdown",
   "metadata": {},
   "source": [
    "### <center>Пример для иллюстрации</center>\n",
    "**Пусть пользователя всего 2, длина сессии – 2 сайта.**\n",
    "\n",
    "<center>user0001.csv</center>\n",
    "<style type=\"text/css\">\n",
    ".tg  {border-collapse:collapse;border-spacing:0;}\n",
    ".tg td{font-family:Arial, sans-serif;font-size:14px;padding:10px 5px;border-style:solid;border-width:1px;overflow:hidden;word-break:normal;}\n",
    ".tg th{font-family:Arial, sans-serif;font-size:14px;font-weight:normal;padding:10px 5px;border-style:solid;border-width:1px;overflow:hidden;word-break:normal;}\n",
    ".tg .tg-yw4l{vertical-align:top}\n",
    "</style>\n",
    "<table class=\"tg\">\n",
    "  <tr>\n",
    "    <th class=\"tg-031e\">timestamp</th>\n",
    "    <th class=\"tg-031e\">site</th>\n",
    "  </tr>\n",
    "  <tr>\n",
    "    <td class=\"tg-031e\">00:00:01</td>\n",
    "    <td class=\"tg-031e\">vk.com</td>\n",
    "  </tr>\n",
    "  <tr>\n",
    "    <td class=\"tg-yw4l\">00:00:11</td>\n",
    "    <td class=\"tg-yw4l\">google.com</td>\n",
    "  </tr>\n",
    "  <tr>\n",
    "    <td class=\"tg-031e\">00:00:16</td>\n",
    "    <td class=\"tg-031e\">vk.com</td>\n",
    "  </tr>\n",
    "  <tr>\n",
    "    <td class=\"tg-031e\">00:00:20</td>\n",
    "    <td class=\"tg-031e\">yandex.ru</td>\n",
    "  </tr>\n",
    "</table>\n",
    "\n",
    "<center>user0002.csv</center>\n",
    "<style type=\"text/css\">\n",
    ".tg  {border-collapse:collapse;border-spacing:0;}\n",
    ".tg td{font-family:Arial, sans-serif;font-size:14px;padding:10px 5px;border-style:solid;border-width:1px;overflow:hidden;word-break:normal;}\n",
    ".tg th{font-family:Arial, sans-serif;font-size:14px;font-weight:normal;padding:10px 5px;border-style:solid;border-width:1px;overflow:hidden;word-break:normal;}\n",
    ".tg .tg-yw4l{vertical-align:top}\n",
    "</style>\n",
    "<table class=\"tg\">\n",
    "  <tr>\n",
    "    <th class=\"tg-031e\">timestamp</th>\n",
    "    <th class=\"tg-031e\">site</th>\n",
    "  </tr>\n",
    "  <tr>\n",
    "    <td class=\"tg-031e\">00:00:02</td>\n",
    "    <td class=\"tg-031e\">yandex.ru</td>\n",
    "  </tr>\n",
    "  <tr>\n",
    "    <td class=\"tg-yw4l\">00:00:14</td>\n",
    "    <td class=\"tg-yw4l\">google.com</td>\n",
    "  </tr>\n",
    "  <tr>\n",
    "    <td class=\"tg-031e\">00:00:17</td>\n",
    "    <td class=\"tg-031e\">facebook.com</td>\n",
    "  </tr>\n",
    "  <tr>\n",
    "    <td class=\"tg-031e\">00:00:25</td>\n",
    "    <td class=\"tg-031e\">yandex.ru</td>\n",
    "  </tr>\n",
    "</table>\n",
    "\n",
    "Идем по 1 файлу, нумеруем сайты подряд: vk.com – 1, google.com – 2 и т.д. Далее по второму файлу. \n",
    "\n",
    "Отображение сайтов в их индесы должно получиться таким:\n",
    "\n",
    "<style type=\"text/css\">\n",
    ".tg  {border-collapse:collapse;border-spacing:0;}\n",
    ".tg td{font-family:Arial, sans-serif;font-size:14px;padding:10px 5px;border-style:solid;border-width:1px;overflow:hidden;word-break:normal;}\n",
    ".tg th{font-family:Arial, sans-serif;font-size:14px;font-weight:normal;padding:10px 5px;border-style:solid;border-width:1px;overflow:hidden;word-break:normal;}\n",
    ".tg .tg-yw4l{vertical-align:top}\n",
    "</style>\n",
    "<table class=\"tg\">\n",
    "  <tr>\n",
    "    <th class=\"tg-031e\">site</th>\n",
    "    <th class=\"tg-yw4l\">site_id</th>\n",
    "  </tr>\n",
    "  <tr>\n",
    "    <td class=\"tg-yw4l\">vk.com</td>\n",
    "    <td class=\"tg-yw4l\">1</td>\n",
    "  </tr>\n",
    "  <tr>\n",
    "    <td class=\"tg-yw4l\">google.com</td>\n",
    "    <td class=\"tg-yw4l\">2</td>\n",
    "  </tr>\n",
    "  <tr>\n",
    "    <td class=\"tg-yw4l\">yandex.ru</td>\n",
    "    <td class=\"tg-yw4l\">3</td>\n",
    "  </tr>\n",
    "  <tr>\n",
    "    <td class=\"tg-yw4l\">facebook.com</td>\n",
    "    <td class=\"tg-yw4l\">4</td>\n",
    "  </tr>\n",
    "</table>\n",
    "\n",
    "Тогда обучающая выборка будет такой (целевой признак – user_id):\n",
    "<style type=\"text/css\">\n",
    ".tg  {border-collapse:collapse;border-spacing:0;}\n",
    ".tg td{font-family:Arial, sans-serif;font-size:14px;padding:10px 5px;border-style:solid;border-width:1px;overflow:hidden;word-break:normal;}\n",
    ".tg th{font-family:Arial, sans-serif;font-size:14px;font-weight:normal;padding:10px 5px;border-style:solid;border-width:1px;overflow:hidden;word-break:normal;}\n",
    ".tg .tg-s6z2{text-align:center}\n",
    ".tg .tg-baqh{text-align:center;vertical-align:top}\n",
    ".tg .tg-hgcj{font-weight:bold;text-align:center}\n",
    ".tg .tg-amwm{font-weight:bold;text-align:center;vertical-align:top}\n",
    "</style>\n",
    "<table class=\"tg\">\n",
    "  <tr>\n",
    "    <th class=\"tg-hgcj\">session_id</th>\n",
    "    <th class=\"tg-hgcj\">site1</th>\n",
    "    <th class=\"tg-hgcj\">site2</th>\n",
    "    <th class=\"tg-amwm\">user_id</th>\n",
    "  </tr>\n",
    "  <tr>\n",
    "    <td class=\"tg-s6z2\">1</td>\n",
    "    <td class=\"tg-s6z2\">1</td>\n",
    "    <td class=\"tg-s6z2\">2</td>\n",
    "    <td class=\"tg-baqh\">1</td>\n",
    "  </tr>\n",
    "  <tr>\n",
    "    <td class=\"tg-s6z2\">2</td>\n",
    "    <td class=\"tg-s6z2\">1</td>\n",
    "    <td class=\"tg-s6z2\">3</td>\n",
    "    <td class=\"tg-baqh\">1</td>\n",
    "  </tr>\n",
    "  <tr>\n",
    "    <td class=\"tg-s6z2\">3</td>\n",
    "    <td class=\"tg-s6z2\">3</td>\n",
    "    <td class=\"tg-s6z2\">2</td>\n",
    "    <td class=\"tg-baqh\">2</td>\n",
    "  </tr>\n",
    "  <tr>\n",
    "    <td class=\"tg-s6z2\">4</td>\n",
    "    <td class=\"tg-s6z2\">4</td>\n",
    "    <td class=\"tg-s6z2\">3</td>\n",
    "    <td class=\"tg-baqh\">2</td>\n",
    "  </tr>\n",
    "</table>\n",
    "\n",
    "Здесь 1 объект – это сессия из 2 посещенных сайтов 1-ым пользователем (target=1). Это сайты vk.com и google.com (номер 1 и 2). И так далее, всего 4 сессии. Пока сессии у нас не пересекаются по сайтам, то есть посещение каждого отдельного сайта относится только к одной сессии."
   ]
  },
  {
   "cell_type": "markdown",
   "metadata": {},
   "source": [
    "## Часть 1. Подготовка обучающей выборки\n",
    "Реализуйте функцию *prepare_train_set*, которая принимает на вход путь к каталогу с csv-файлами *path_to_csv_files* и параметр *session_length* – длину сессии, а возвращает 2 объекта:\n",
    "- DataFrame, в котором строки соответствуют уникальным сессиям из *session_length* сайтов, *session_length* столбцов – индексам этих *session_length* сайтов и последний столбец – ID пользователя\n",
    "- частотный словарь сайтов вида {'site_string': [site_id, site_freq]}, например для недавнего игрушечного примера это будет {'vk.com': (1, 2), 'google.com': (2, 2), 'yandex.ru': (3, 3), 'facebook.com': (4, 1)}\n",
    "\n",
    "Детали:\n",
    "- Смотрите чуть ниже пример вывода, что должна возвращать функция\n",
    "- Используйте `glob` (или аналоги) для обхода файлов в каталоге. Для определенности, отсортируйте список файлов лексикографически. Удобно использовать `tqdm_notebook` (или просто `tqdm` в случае python-скрипта) для отслеживания числа выполненных итераций цикла\n",
    "- Создайте частотный словарь уникальных сайтов (вида {'site_string': (site_id, site_freq)}) и заполняйте его по ходу чтения файлов. Начните с 1\n",
    "- Рекомендуется меньшие индексы давать более часто попадающимся сайтам (приницип наименьшего описания)\n",
    "- Не делайте entity recognition, считайте *google.com*, *http://www.google.com* и *www.google.com* разными сайтами (подключить entity recognition можно уже в рамках индивидуальной работы над проектом)\n",
    "- Скорее всего в файле число записей не кратно числу *session_length*. Тогда последняя сессия будет короче. Остаток заполняйте нулями. То есть если в файле 24 записи и сессии длины 10, то 3 сессия будет состоять из 4 сайтов, и ей мы сопоставим вектор [*site1_id*, *site2_id*, *site3_id*, *site4_id*, 0, 0, 0, 0, 0, 0, *user_id*] \n",
    "- В итоге некоторые сессии могут повторяться – оставьте как есть, не удаляйте дубликаты. Если в двух сессиях все сайты одинаковы, но сессии принадлежат разным пользователям, то тоже оставляйте как есть, это естественная неопределенность в данных\n",
    "- Не оставляйте в частотном словаре сайт 0 (уже в конце, когда функция возвращает этот словарь)\n",
    "- 150 файлов из *capstone_websites_data/150users/* у меня обработались за 1.7 секунды, но многое, конечно, зависит от реализации функции и от используемого железа. И вообще, первая реализация скорее всего будет не самой эффективной, дальше можно заняться профилированием (особенно если планируете запускать этот код для 3000 пользователей). Также эффективная реализация этой функции поможет нам на следующей неделе."
   ]
  },
  {
   "cell_type": "code",
   "execution_count": 81,
   "metadata": {
    "collapsed": true
   },
   "outputs": [],
   "source": [
    "import glob\n",
    "from IPython.display import display\n",
    "\n",
    "def prepare_train_set_0(path_to_csv_files, session_length=10):\n",
    "    ''' ВАШ КОД ЗДЕСЬ '''\n",
    "    site_freq = dict()\n",
    "    site_dict = dict()\n",
    "    site_chains = []\n",
    "    for e in tqdm_notebook(glob.glob(os.path.join(path_to_csv_files, '*.csv'))):\n",
    "        user_id = int(e.split('\\\\')[-1].split('user')[1][:-4])\n",
    "        print(e, user_id)\n",
    "        df = pd.read_csv(e)\n",
    "        site_chain = []\n",
    "#         display(df)\n",
    "        for i, site in enumerate(df['site']):\n",
    "            if site not in site_freq:\n",
    "                site_freq[site] = 0\n",
    "            site_freq[site] += 1\n",
    "            site_chain.append(site)\n",
    "            if (i + 1) % session_length == 0 or (i + 1) == len(df):\n",
    "                if len(site_chain) != session_length:\n",
    "                    site_chain += [''] * (session_length - len(site_chain))\n",
    "                site_chains.append(site_chain + [user_id])\n",
    "                site_chain = []\n",
    "    for i, e in enumerate(sorted(site_freq.items(), key=lambda x: -x[1])):\n",
    "        site_dict[e[0]] = (i + 1, e[1])\n",
    "    for i, chain in enumerate(site_chains):\n",
    "        site_chains[i] = [site_dict.get(e, [0, 0])[0] for e in chain[:-1]] + [chain[-1]]\n",
    "    return pd.DataFrame(site_chains, columns = ['site_' + str(e + 1) for e in range(session_length)] + ['user_id']), site_dict\n",
    "\n",
    "def prepare_train_set(path_to_csv_files, session_length=10):\n",
    "    ''' ВАШ КОД ЗДЕСЬ '''\n",
    "    site_dict = dict()\n",
    "    site_chains = []\n",
    "    for e in tqdm_notebook(glob.glob(os.path.join(path_to_csv_files, '*.csv'))):\n",
    "        user_id = int(e.split('\\\\')[-1].split('user')[1][:-4])\n",
    "        print(e, user_id)\n",
    "        df = pd.read_csv(e)\n",
    "        site_chain = []\n",
    "#         display(df)\n",
    "        for i, site in enumerate(df['site']):\n",
    "            if site not in site_dict:\n",
    "                site_dict[site] = [len(site_dict) + 1, 0]\n",
    "            site_dict[site][1] += 1\n",
    "            site_chain.append(site_dict[site][0])\n",
    "            if (i + 1) % session_length == 0 or (i + 1) == len(df):\n",
    "                if len(site_chain) != session_length:\n",
    "                    site_chain += [0] * (session_length - len(site_chain))\n",
    "                site_chains.append(site_chain + [user_id])\n",
    "                site_chain = []\n",
    "    for site in site_dict:\n",
    "        site_dict[site] = tuple(site_dict[site])\n",
    "    return pd.DataFrame(site_chains, columns = ['site_' + str(e + 1) for e in range(session_length)] + ['user_id']), site_dict"
   ]
  },
  {
   "cell_type": "code",
   "execution_count": 82,
   "metadata": {},
   "outputs": [
    {
     "data": {
      "application/vnd.jupyter.widget-view+json": {
       "model_id": "231d25fde7e04e25894447829718e5db"
      }
     },
     "metadata": {},
     "output_type": "display_data"
    },
    {
     "name": "stdout",
     "output_type": "stream",
     "text": [
      "capstone_user_identification\\3users\\user0001.csv 1\n",
      "capstone_user_identification\\3users\\user0002.csv 2\n",
      "capstone_user_identification\\3users\\user0003.csv 3\n",
      "\n"
     ]
    }
   ],
   "source": [
    "prepare_train_set(os.path.join(PATH_TO_DATA, '3users'), session_length=10);"
   ]
  },
  {
   "cell_type": "markdown",
   "metadata": {},
   "source": [
    "**Примените полученную функцию к игрушечному примеру, убедитесь, что все работает как надо.**"
   ]
  },
  {
   "cell_type": "code",
   "execution_count": 12,
   "metadata": {},
   "outputs": [
    {
     "data": {
      "text/plain": [
       "['timestamp,site\\n',\n",
       " '2013-11-15 09:28:17,vk.com\\n',\n",
       " '2013-11-15 09:33:04,oracle.com\\n',\n",
       " '2013-11-15 09:52:48,oracle.com\\n',\n",
       " '2013-11-15 11:37:26,geo.mozilla.org\\n',\n",
       " '2013-11-15 11:40:32,oracle.com\\n',\n",
       " '2013-11-15 11:40:34,google.com\\n',\n",
       " '2013-11-15 11:40:35,accounts.google.com\\n',\n",
       " '2013-11-15 11:40:37,mail.google.com\\n',\n",
       " '2013-11-15 11:40:40,apis.google.com\\n',\n",
       " '2013-11-15 11:41:35,plus.google.com\\n',\n",
       " '2013-11-15 12:40:35,vk.com\\n',\n",
       " '2013-11-15 12:40:37,google.com\\n',\n",
       " '2013-11-15 12:40:40,google.com\\n',\n",
       " '2013-11-15 12:41:35,google.com\\n']"
      ]
     },
     "execution_count": 12,
     "metadata": {},
     "output_type": "execute_result"
    }
   ],
   "source": [
    "open(PATH_TO_DATA + '/3users/user0001.csv').readlines()"
   ]
  },
  {
   "cell_type": "code",
   "execution_count": 13,
   "metadata": {},
   "outputs": [
    {
     "data": {
      "text/plain": [
       "['timestamp,site\\n',\n",
       " '2013-11-15 09:28:17,vk.com\\n',\n",
       " '2013-11-15 09:33:04,oracle.com\\n',\n",
       " '2013-11-15 09:52:48,football.kulichki.ru\\n',\n",
       " '2013-11-15 11:37:26,football.kulichki.ru\\n',\n",
       " '2013-11-15 11:40:32,oracle.com\\n']"
      ]
     },
     "execution_count": 13,
     "metadata": {},
     "output_type": "execute_result"
    }
   ],
   "source": [
    "open(PATH_TO_DATA + '/3users/user0002.csv').readlines()"
   ]
  },
  {
   "cell_type": "code",
   "execution_count": 14,
   "metadata": {},
   "outputs": [
    {
     "data": {
      "text/plain": [
       "['timestamp,site\\n',\n",
       " '2013-11-15 09:28:17,meduza.io\\n',\n",
       " '2013-11-15 09:33:04,google.com\\n',\n",
       " '2013-11-15 09:52:48,oracle.com\\n',\n",
       " '2013-11-15 11:37:26,google.com\\n',\n",
       " '2013-11-15 11:40:32,oracle.com\\n',\n",
       " '2013-11-15 11:40:34,google.com\\n',\n",
       " '2013-11-15 11:40:35,google.com\\n',\n",
       " '2013-11-15 11:40:37,mail.google.com\\n',\n",
       " '2013-11-15 11:40:40,yandex.ru\\n',\n",
       " '2013-11-15 11:41:35,meduza.io\\n',\n",
       " '2013-11-15 12:28:17,meduza.io\\n',\n",
       " '2013-11-15 12:33:04,google.com\\n',\n",
       " '2013-11-15 12:52:48,oracle.com\\n']"
      ]
     },
     "execution_count": 14,
     "metadata": {},
     "output_type": "execute_result"
    }
   ],
   "source": [
    "open(PATH_TO_DATA + '/3users/user0003.csv').readlines()"
   ]
  },
  {
   "cell_type": "code",
   "execution_count": 83,
   "metadata": {},
   "outputs": [
    {
     "data": {
      "application/vnd.jupyter.widget-view+json": {
       "model_id": "a6d8b2d7b4114476a04fd0d28ca2393b"
      }
     },
     "metadata": {},
     "output_type": "display_data"
    },
    {
     "name": "stdout",
     "output_type": "stream",
     "text": [
      "capstone_user_identification\\3users\\user0001.csv 1\n",
      "capstone_user_identification\\3users\\user0002.csv 2\n",
      "capstone_user_identification\\3users\\user0003.csv 3\n",
      "\n"
     ]
    }
   ],
   "source": [
    "train_data_toy, site_freq_3users = prepare_train_set(os.path.join(PATH_TO_DATA, '3users'), \n",
    "                                                     session_length=10)"
   ]
  },
  {
   "cell_type": "code",
   "execution_count": 84,
   "metadata": {},
   "outputs": [
    {
     "data": {
      "text/html": [
       "<div>\n",
       "<table border=\"1\" class=\"dataframe\">\n",
       "  <thead>\n",
       "    <tr style=\"text-align: right;\">\n",
       "      <th></th>\n",
       "      <th>site_1</th>\n",
       "      <th>site_2</th>\n",
       "      <th>site_3</th>\n",
       "      <th>site_4</th>\n",
       "      <th>site_5</th>\n",
       "      <th>site_6</th>\n",
       "      <th>site_7</th>\n",
       "      <th>site_8</th>\n",
       "      <th>site_9</th>\n",
       "      <th>site_10</th>\n",
       "      <th>user_id</th>\n",
       "    </tr>\n",
       "  </thead>\n",
       "  <tbody>\n",
       "    <tr>\n",
       "      <th>0</th>\n",
       "      <td>1</td>\n",
       "      <td>2</td>\n",
       "      <td>2</td>\n",
       "      <td>3</td>\n",
       "      <td>2</td>\n",
       "      <td>4</td>\n",
       "      <td>5</td>\n",
       "      <td>6</td>\n",
       "      <td>7</td>\n",
       "      <td>8</td>\n",
       "      <td>1</td>\n",
       "    </tr>\n",
       "    <tr>\n",
       "      <th>1</th>\n",
       "      <td>1</td>\n",
       "      <td>4</td>\n",
       "      <td>4</td>\n",
       "      <td>4</td>\n",
       "      <td>0</td>\n",
       "      <td>0</td>\n",
       "      <td>0</td>\n",
       "      <td>0</td>\n",
       "      <td>0</td>\n",
       "      <td>0</td>\n",
       "      <td>1</td>\n",
       "    </tr>\n",
       "    <tr>\n",
       "      <th>2</th>\n",
       "      <td>1</td>\n",
       "      <td>2</td>\n",
       "      <td>9</td>\n",
       "      <td>9</td>\n",
       "      <td>2</td>\n",
       "      <td>0</td>\n",
       "      <td>0</td>\n",
       "      <td>0</td>\n",
       "      <td>0</td>\n",
       "      <td>0</td>\n",
       "      <td>2</td>\n",
       "    </tr>\n",
       "    <tr>\n",
       "      <th>3</th>\n",
       "      <td>10</td>\n",
       "      <td>4</td>\n",
       "      <td>2</td>\n",
       "      <td>4</td>\n",
       "      <td>2</td>\n",
       "      <td>4</td>\n",
       "      <td>4</td>\n",
       "      <td>6</td>\n",
       "      <td>11</td>\n",
       "      <td>10</td>\n",
       "      <td>3</td>\n",
       "    </tr>\n",
       "    <tr>\n",
       "      <th>4</th>\n",
       "      <td>10</td>\n",
       "      <td>4</td>\n",
       "      <td>2</td>\n",
       "      <td>0</td>\n",
       "      <td>0</td>\n",
       "      <td>0</td>\n",
       "      <td>0</td>\n",
       "      <td>0</td>\n",
       "      <td>0</td>\n",
       "      <td>0</td>\n",
       "      <td>3</td>\n",
       "    </tr>\n",
       "  </tbody>\n",
       "</table>\n",
       "</div>"
      ],
      "text/plain": [
       "   site_1  site_2  site_3  site_4  site_5  site_6  site_7  site_8  site_9  \\\n",
       "0       1       2       2       3       2       4       5       6       7   \n",
       "1       1       4       4       4       0       0       0       0       0   \n",
       "2       1       2       9       9       2       0       0       0       0   \n",
       "3      10       4       2       4       2       4       4       6      11   \n",
       "4      10       4       2       0       0       0       0       0       0   \n",
       "\n",
       "   site_10  user_id  \n",
       "0        8        1  \n",
       "1        0        1  \n",
       "2        0        2  \n",
       "3       10        3  \n",
       "4        0        3  "
      ]
     },
     "execution_count": 84,
     "metadata": {},
     "output_type": "execute_result"
    }
   ],
   "source": [
    "train_data_toy"
   ]
  },
  {
   "cell_type": "markdown",
   "metadata": {},
   "source": [
    "Частоты сайтов (второй элемент кортежа) точно должны быть такими, нумерация может быть любой (первые элементы кортежей могут отличаться)."
   ]
  },
  {
   "cell_type": "code",
   "execution_count": 85,
   "metadata": {},
   "outputs": [
    {
     "data": {
      "text/plain": [
       "{'accounts.google.com': (5, 1),\n",
       " 'apis.google.com': (7, 1),\n",
       " 'football.kulichki.ru': (9, 2),\n",
       " 'geo.mozilla.org': (3, 1),\n",
       " 'google.com': (4, 9),\n",
       " 'mail.google.com': (6, 2),\n",
       " 'meduza.io': (10, 3),\n",
       " 'oracle.com': (2, 8),\n",
       " 'plus.google.com': (8, 1),\n",
       " 'vk.com': (1, 3),\n",
       " 'yandex.ru': (11, 1)}"
      ]
     },
     "execution_count": 85,
     "metadata": {},
     "output_type": "execute_result"
    }
   ],
   "source": [
    "site_freq_3users"
   ]
  },
  {
   "cell_type": "markdown",
   "metadata": {},
   "source": [
    "Примените полученную функцию к данным по 10 пользователям.\n",
    "\n",
    "**<font color='red'> Вопрос 1. </font> Сколько уникальных сессий из 10 сайтов в выборке с 10 пользователями?**"
   ]
  },
  {
   "cell_type": "code",
   "execution_count": 99,
   "metadata": {},
   "outputs": [
    {
     "data": {
      "application/vnd.jupyter.widget-view+json": {
       "model_id": "1b86f1a531344a18bb1e9d3b48919ae2"
      }
     },
     "metadata": {},
     "output_type": "display_data"
    },
    {
     "name": "stdout",
     "output_type": "stream",
     "text": [
      "capstone_user_identification\\10users\\user0031.csv 31\n",
      "capstone_user_identification\\10users\\user0033.csv 33\n",
      "capstone_user_identification\\10users\\user0039.csv 39\n",
      "capstone_user_identification\\10users\\user0050.csv 50\n",
      "capstone_user_identification\\10users\\user0100.csv 100\n",
      "capstone_user_identification\\10users\\user0127.csv 127\n",
      "capstone_user_identification\\10users\\user0128.csv 128\n",
      "capstone_user_identification\\10users\\user0207.csv 207\n",
      "capstone_user_identification\\10users\\user0237.csv 237\n",
      "capstone_user_identification\\10users\\user0241.csv 241\n",
      "\n",
      "time: 431 ms\n"
     ]
    }
   ],
   "source": [
    "''' ВАШ КОД ЗДЕСЬ '''\n",
    "train_data_10users, site_freq_10users = prepare_train_set(os.path.join(PATH_TO_DATA, '10users'), \n",
    "                                                     session_length=10)"
   ]
  },
  {
   "cell_type": "code",
   "execution_count": 100,
   "metadata": {
    "scrolled": true
   },
   "outputs": [
    {
     "name": "stdout",
     "output_type": "stream",
     "text": [
      "14061 13183\n",
      "14061 13265\n",
      "time: 25.8 ms\n"
     ]
    }
   ],
   "source": [
    "print(len(train_data_10users), len(train_data_10users[train_data_10users.columns[:-1]].drop_duplicates()))\n",
    "print(len(train_data_10users), len(train_data_10users.drop_duplicates()))"
   ]
  },
  {
   "cell_type": "markdown",
   "metadata": {},
   "source": [
    "**<font color='red'> Вопрос 2. </font> Сколько всего уникальных сайтов в выборке из 10 пользователей? **"
   ]
  },
  {
   "cell_type": "code",
   "execution_count": 93,
   "metadata": {},
   "outputs": [
    {
     "data": {
      "text/plain": [
       "4913"
      ]
     },
     "execution_count": 93,
     "metadata": {},
     "output_type": "execute_result"
    },
    {
     "name": "stdout",
     "output_type": "stream",
     "text": [
      "time: 2.51 ms\n"
     ]
    }
   ],
   "source": [
    "''' ВАШ КОД ЗДЕСЬ '''\n",
    "len(site_freq_10users)"
   ]
  },
  {
   "cell_type": "markdown",
   "metadata": {},
   "source": [
    "Примените полученную функцию к данным по 150 пользователям.\n",
    "\n",
    "**<font color='red'> Вопрос 3. </font> Сколько уникальных сессий из 10 сайтов в выборке с 150 пользователями?**"
   ]
  },
  {
   "cell_type": "code",
   "execution_count": 92,
   "metadata": {},
   "outputs": [
    {
     "name": "stdout",
     "output_type": "stream",
     "text": [
      "Wall time: 0 ns\n"
     ]
    },
    {
     "data": {
      "application/vnd.jupyter.widget-view+json": {
       "model_id": "29c7b1ae5c6945bca156588c7072faf7"
      }
     },
     "metadata": {},
     "output_type": "display_data"
    },
    {
     "name": "stdout",
     "output_type": "stream",
     "text": [
      "capstone_user_identification\\150users\\user0006.csv 6\n",
      "capstone_user_identification\\150users\\user0013.csv 13\n",
      "capstone_user_identification\\150users\\user0015.csv 15\n",
      "capstone_user_identification\\150users\\user0016.csv 16\n",
      "capstone_user_identification\\150users\\user0028.csv 28\n",
      "capstone_user_identification\\150users\\user0031.csv 31\n",
      "capstone_user_identification\\150users\\user0033.csv 33\n",
      "capstone_user_identification\\150users\\user0039.csv 39\n",
      "capstone_user_identification\\150users\\user0046.csv 46\n",
      "capstone_user_identification\\150users\\user0049.csv 49\n",
      "capstone_user_identification\\150users\\user0050.csv 50\n",
      "capstone_user_identification\\150users\\user0053.csv 53\n",
      "capstone_user_identification\\150users\\user0065.csv 65\n",
      "capstone_user_identification\\150users\\user0066.csv 66\n",
      "capstone_user_identification\\150users\\user0082.csv 82\n",
      "capstone_user_identification\\150users\\user0085.csv 85\n",
      "capstone_user_identification\\150users\\user0089.csv 89\n",
      "capstone_user_identification\\150users\\user0092.csv 92\n",
      "capstone_user_identification\\150users\\user0100.csv 100\n",
      "capstone_user_identification\\150users\\user0102.csv 102\n",
      "capstone_user_identification\\150users\\user0103.csv 103\n",
      "capstone_user_identification\\150users\\user0105.csv 105\n",
      "capstone_user_identification\\150users\\user0106.csv 106\n",
      "capstone_user_identification\\150users\\user0118.csv 118\n",
      "capstone_user_identification\\150users\\user0119.csv 119\n",
      "capstone_user_identification\\150users\\user0120.csv 120\n",
      "capstone_user_identification\\150users\\user0126.csv 126\n",
      "capstone_user_identification\\150users\\user0127.csv 127\n",
      "capstone_user_identification\\150users\\user0128.csv 128\n",
      "capstone_user_identification\\150users\\user0138.csv 138\n",
      "capstone_user_identification\\150users\\user0158.csv 158\n",
      "capstone_user_identification\\150users\\user0160.csv 160\n",
      "capstone_user_identification\\150users\\user0165.csv 165\n",
      "capstone_user_identification\\150users\\user0172.csv 172\n",
      "capstone_user_identification\\150users\\user0177.csv 177\n",
      "capstone_user_identification\\150users\\user0203.csv 203\n",
      "capstone_user_identification\\150users\\user0207.csv 207\n",
      "capstone_user_identification\\150users\\user0223.csv 223\n",
      "capstone_user_identification\\150users\\user0233.csv 233\n",
      "capstone_user_identification\\150users\\user0235.csv 235\n",
      "capstone_user_identification\\150users\\user0236.csv 236\n",
      "capstone_user_identification\\150users\\user0237.csv 237\n",
      "capstone_user_identification\\150users\\user0238.csv 238\n",
      "capstone_user_identification\\150users\\user0240.csv 240\n",
      "capstone_user_identification\\150users\\user0241.csv 241\n",
      "capstone_user_identification\\150users\\user0242.csv 242\n",
      "capstone_user_identification\\150users\\user0245.csv 245\n",
      "capstone_user_identification\\150users\\user0246.csv 246\n",
      "capstone_user_identification\\150users\\user0249.csv 249\n",
      "capstone_user_identification\\150users\\user0252.csv 252\n",
      "capstone_user_identification\\150users\\user0254.csv 254\n",
      "capstone_user_identification\\150users\\user0256.csv 256\n",
      "capstone_user_identification\\150users\\user0258.csv 258\n",
      "capstone_user_identification\\150users\\user0259.csv 259\n",
      "capstone_user_identification\\150users\\user0260.csv 260\n",
      "capstone_user_identification\\150users\\user0261.csv 261\n",
      "capstone_user_identification\\150users\\user0263.csv 263\n",
      "capstone_user_identification\\150users\\user0264.csv 264\n",
      "capstone_user_identification\\150users\\user0269.csv 269\n",
      "capstone_user_identification\\150users\\user0270.csv 270\n",
      "capstone_user_identification\\150users\\user0273.csv 273\n",
      "capstone_user_identification\\150users\\user0287.csv 287\n",
      "capstone_user_identification\\150users\\user0294.csv 294\n",
      "capstone_user_identification\\150users\\user0298.csv 298\n",
      "capstone_user_identification\\150users\\user0301.csv 301\n",
      "capstone_user_identification\\150users\\user0308.csv 308\n",
      "capstone_user_identification\\150users\\user0315.csv 315\n",
      "capstone_user_identification\\150users\\user0318.csv 318\n",
      "capstone_user_identification\\150users\\user0327.csv 327\n",
      "capstone_user_identification\\150users\\user0332.csv 332\n",
      "capstone_user_identification\\150users\\user0333.csv 333\n",
      "capstone_user_identification\\150users\\user0339.csv 339\n",
      "capstone_user_identification\\150users\\user0340.csv 340\n",
      "capstone_user_identification\\150users\\user0342.csv 342\n",
      "capstone_user_identification\\150users\\user0344.csv 344\n",
      "capstone_user_identification\\150users\\user0351.csv 351\n",
      "capstone_user_identification\\150users\\user0356.csv 356\n",
      "capstone_user_identification\\150users\\user0361.csv 361\n",
      "capstone_user_identification\\150users\\user0363.csv 363\n",
      "capstone_user_identification\\150users\\user0411.csv 411\n",
      "capstone_user_identification\\150users\\user0417.csv 417\n",
      "capstone_user_identification\\150users\\user0425.csv 425\n",
      "capstone_user_identification\\150users\\user0430.csv 430\n",
      "capstone_user_identification\\150users\\user0435.csv 435\n",
      "capstone_user_identification\\150users\\user0436.csv 436\n",
      "capstone_user_identification\\150users\\user0440.csv 440\n",
      "capstone_user_identification\\150users\\user0444.csv 444\n",
      "capstone_user_identification\\150users\\user0475.csv 475\n",
      "capstone_user_identification\\150users\\user0476.csv 476\n",
      "capstone_user_identification\\150users\\user0486.csv 486\n",
      "capstone_user_identification\\150users\\user0515.csv 515\n",
      "capstone_user_identification\\150users\\user0533.csv 533\n",
      "capstone_user_identification\\150users\\user0561.csv 561\n",
      "capstone_user_identification\\150users\\user0563.csv 563\n",
      "capstone_user_identification\\150users\\user0564.csv 564\n",
      "capstone_user_identification\\150users\\user0568.csv 568\n",
      "capstone_user_identification\\150users\\user0569.csv 569\n",
      "capstone_user_identification\\150users\\user0570.csv 570\n",
      "capstone_user_identification\\150users\\user0573.csv 573\n",
      "capstone_user_identification\\150users\\user0575.csv 575\n",
      "capstone_user_identification\\150users\\user0576.csv 576\n",
      "capstone_user_identification\\150users\\user0580.csv 580\n",
      "capstone_user_identification\\150users\\user0583.csv 583\n",
      "capstone_user_identification\\150users\\user0584.csv 584\n",
      "capstone_user_identification\\150users\\user0600.csv 600\n",
      "capstone_user_identification\\150users\\user0603.csv 603\n",
      "capstone_user_identification\\150users\\user0605.csv 605\n",
      "capstone_user_identification\\150users\\user0640.csv 640\n",
      "capstone_user_identification\\150users\\user0647.csv 647\n",
      "capstone_user_identification\\150users\\user0653.csv 653\n",
      "capstone_user_identification\\150users\\user0664.csv 664\n",
      "capstone_user_identification\\150users\\user0665.csv 665\n",
      "capstone_user_identification\\150users\\user0677.csv 677\n",
      "capstone_user_identification\\150users\\user0692.csv 692\n",
      "capstone_user_identification\\150users\\user0697.csv 697\n",
      "capstone_user_identification\\150users\\user0705.csv 705\n",
      "capstone_user_identification\\150users\\user0722.csv 722\n",
      "capstone_user_identification\\150users\\user0740.csv 740\n",
      "capstone_user_identification\\150users\\user0741.csv 741\n",
      "capstone_user_identification\\150users\\user0756.csv 756\n",
      "capstone_user_identification\\150users\\user0780.csv 780\n",
      "capstone_user_identification\\150users\\user0784.csv 784\n",
      "capstone_user_identification\\150users\\user0785.csv 785\n",
      "capstone_user_identification\\150users\\user0797.csv 797\n",
      "capstone_user_identification\\150users\\user0812.csv 812\n",
      "capstone_user_identification\\150users\\user0844.csv 844\n",
      "capstone_user_identification\\150users\\user0859.csv 859\n",
      "capstone_user_identification\\150users\\user0868.csv 868\n",
      "capstone_user_identification\\150users\\user0875.csv 875\n",
      "capstone_user_identification\\150users\\user0932.csv 932\n",
      "capstone_user_identification\\150users\\user0996.csv 996\n",
      "capstone_user_identification\\150users\\user1014.csv 1014\n",
      "capstone_user_identification\\150users\\user1040.csv 1040\n",
      "capstone_user_identification\\150users\\user1054.csv 1054\n",
      "capstone_user_identification\\150users\\user1248.csv 1248\n",
      "capstone_user_identification\\150users\\user1267.csv 1267\n",
      "capstone_user_identification\\150users\\user1299.csv 1299\n",
      "capstone_user_identification\\150users\\user1371.csv 1371\n",
      "capstone_user_identification\\150users\\user1797.csv 1797\n",
      "capstone_user_identification\\150users\\user1798.csv 1798\n",
      "capstone_user_identification\\150users\\user1993.csv 1993\n",
      "capstone_user_identification\\150users\\user2118.csv 2118\n",
      "capstone_user_identification\\150users\\user2174.csv 2174\n",
      "capstone_user_identification\\150users\\user2191.csv 2191\n",
      "capstone_user_identification\\150users\\user2250.csv 2250\n",
      "capstone_user_identification\\150users\\user2355.csv 2355\n",
      "capstone_user_identification\\150users\\user2408.csv 2408\n",
      "capstone_user_identification\\150users\\user2493.csv 2493\n",
      "capstone_user_identification\\150users\\user2625.csv 2625\n",
      "capstone_user_identification\\150users\\user2902.csv 2902\n",
      "\n"
     ]
    }
   ],
   "source": [
    "''' ВАШ КОД ЗДЕСЬ '''\n",
    "train_data_150users, site_freq_150users = prepare_train_set(os.path.join(PATH_TO_DATA, '150users'), \n",
    "                                                     session_length=10)"
   ]
  },
  {
   "cell_type": "code",
   "execution_count": 103,
   "metadata": {},
   "outputs": [
    {
     "name": "stdout",
     "output_type": "stream",
     "text": [
      "137019 131009\n",
      "137019 132212\n",
      "time: 130 ms\n"
     ]
    }
   ],
   "source": [
    "print(len(train_data_150users), len(train_data_150users[train_data_150users.columns[:-1]].drop_duplicates()))\n",
    "print(len(train_data_150users), len(train_data_150users.drop_duplicates()))"
   ]
  },
  {
   "cell_type": "markdown",
   "metadata": {},
   "source": [
    "**<font color='red'> Вопрос 4. </font> Сколько всего уникальных сайтов в выборке из 150 пользователей? **"
   ]
  },
  {
   "cell_type": "code",
   "execution_count": 105,
   "metadata": {},
   "outputs": [
    {
     "data": {
      "text/plain": [
       "27797"
      ]
     },
     "execution_count": 105,
     "metadata": {},
     "output_type": "execute_result"
    },
    {
     "name": "stdout",
     "output_type": "stream",
     "text": [
      "time: 3.01 ms\n"
     ]
    }
   ],
   "source": [
    "''' ВАШ КОД ЗДЕСЬ '''\n",
    "len(site_freq_150users)"
   ]
  },
  {
   "cell_type": "markdown",
   "metadata": {},
   "source": [
    "**<font color='red'> Вопрос 5. </font> Какой из этих сайтов НЕ входит в топ-10 самых популярных сайтов среди посещенных 150 пользователями?**"
   ]
  },
  {
   "cell_type": "code",
   "execution_count": 120,
   "metadata": {},
   "outputs": [
    {
     "data": {
      "text/plain": [
       "[('www.google.fr', (1, 64785)),\n",
       " ('www.google.com', (3, 51320)),\n",
       " ('www.facebook.com', (41, 39002)),\n",
       " ('apis.google.com', (2, 29983)),\n",
       " ('s.youtube.com', (181, 29102)),\n",
       " ('clients1.google.com', (214, 25087)),\n",
       " ('mail.google.com', (28, 19072)),\n",
       " ('plus.google.com', (27, 18467)),\n",
       " ('safebrowsing-cache.google.com', (293, 17960)),\n",
       " ('www.youtube.com', (105, 16319)),\n",
       " ('twitter.com', (44, 16219))]"
      ]
     },
     "execution_count": 120,
     "metadata": {},
     "output_type": "execute_result"
    },
    {
     "name": "stdout",
     "output_type": "stream",
     "text": [
      "time: 21.1 ms\n"
     ]
    }
   ],
   "source": [
    "''' ВАШ КОД ЗДЕСЬ '''\n",
    "sorted(site_freq_150users.items(), key=lambda x: -x[1][1])[:11]"
   ]
  },
  {
   "cell_type": "markdown",
   "metadata": {},
   "source": [
    "**Для дальнейшего анализа запишем полученные объекты DataFrame в csv-файлы.**"
   ]
  },
  {
   "cell_type": "code",
   "execution_count": 121,
   "metadata": {},
   "outputs": [
    {
     "name": "stdout",
     "output_type": "stream",
     "text": [
      "time: 930 ms\n"
     ]
    }
   ],
   "source": [
    "train_data_10users.to_csv(os.path.join(PATH_TO_DATA, \n",
    "                                       'train_data_10users.csv'), \n",
    "                        index_label='session_id', float_format='%d')\n",
    "train_data_150users.to_csv(os.path.join(PATH_TO_DATA, \n",
    "                                        'train_data_150users.csv'), \n",
    "                         index_label='session_id', float_format='%d')"
   ]
  },
  {
   "cell_type": "markdown",
   "metadata": {},
   "source": [
    "## Часть 2. Работа с разреженным форматом данных"
   ]
  },
  {
   "cell_type": "markdown",
   "metadata": {},
   "source": [
    "Если так подумать, то полученные признаки *site1*, ..., *site10* смысла не имеют как признаки в задаче классификации. А вот если воспользоваться идеей мешка слов из анализа текстов – это другое дело. Создадим новые матрицы, в которых строкам будут соответствовать сессии из 10 сайтов, а столбцам – индексы сайтов. На пересечении строки $i$ и столбца $j$ будет стоять число $n_{ij}$ – cколько раз сайт $j$ встретился в сессии номер $i$. Делать это будем с помощью разреженных матриц Scipy – [csr_matrix](https://docs.scipy.org/doc/scipy-0.18.1/reference/generated/scipy.sparse.csr_matrix.html). Прочитайте документацию, разберитесь, как использовать разреженные матрицы и создайте такие матрицы для наших данных. Сначала проверьте на игрушечном примере, затем примените для 10 и 150 пользователей. \n",
    "\n",
    "Обратите внимание, что в коротких сессиях, меньше 10 сайтов, у нас остались нули, так что первый признак (сколько раз попался 0) по смыслу отличен от остальных (сколько раз попался сайт с индексом $i$). Поэтому первый столбец разреженной матрицы надо будет удалить. "
   ]
  },
  {
   "cell_type": "code",
   "execution_count": 147,
   "metadata": {},
   "outputs": [
    {
     "name": "stdout",
     "output_type": "stream",
     "text": [
      "time: 2 ms\n"
     ]
    }
   ],
   "source": [
    "X_toy, y_toy = train_data_toy.iloc[:, :-1].values, train_data_toy.iloc[:, -1].values"
   ]
  },
  {
   "cell_type": "code",
   "execution_count": 148,
   "metadata": {},
   "outputs": [
    {
     "data": {
      "text/plain": [
       "array([[ 1,  2,  2,  3,  2,  4,  5,  6,  7,  8],\n",
       "       [ 1,  4,  4,  4,  0,  0,  0,  0,  0,  0],\n",
       "       [ 1,  2,  9,  9,  2,  0,  0,  0,  0,  0],\n",
       "       [10,  4,  2,  4,  2,  4,  4,  6, 11, 10],\n",
       "       [10,  4,  2,  0,  0,  0,  0,  0,  0,  0]], dtype=int64)"
      ]
     },
     "execution_count": 148,
     "metadata": {},
     "output_type": "execute_result"
    },
    {
     "name": "stdout",
     "output_type": "stream",
     "text": [
      "time: 3.01 ms\n"
     ]
    }
   ],
   "source": [
    "X_toy"
   ]
  },
  {
   "cell_type": "code",
   "execution_count": 171,
   "metadata": {},
   "outputs": [
    {
     "name": "stdout",
     "output_type": "stream",
     "text": [
      "time: 7.02 ms\n"
     ]
    }
   ],
   "source": [
    "''' ВАШ КОД ЗДЕСЬ '''\n",
    "from collections import Counter\n",
    "\n",
    "def buildSparseMatrix(X):\n",
    "    rows = np.array([[e] * X.shape[1] for e in range(X.shape[0])]).flatten()\n",
    "    cols = X.flatten()\n",
    "    c = Counter()\n",
    "    c.update(zip(rows, cols))\n",
    "    row = [k[0] for k, v in sorted(c.items()) if k[1] != 0]\n",
    "    col = [(k[1] - 1) for k, v in sorted(c.items()) if k[1] != 0]\n",
    "    data = [v for k, v in sorted(c.items()) if k[1] != 0]\n",
    "    X_sparse = csr_matrix((data, (row, col)))\n",
    "    return X_sparse"
   ]
  },
  {
   "cell_type": "markdown",
   "metadata": {},
   "source": [
    "**Размерность разреженной матрицы должна получиться равной 11, поскольку в игрушечном примере 3 пользователя посетили 11 уникальных сайтов.**"
   ]
  },
  {
   "cell_type": "code",
   "execution_count": 172,
   "metadata": {},
   "outputs": [
    {
     "data": {
      "text/plain": [
       "matrix([[1, 3, 1, 1, 1, 1, 1, 1, 0, 0, 0],\n",
       "        [1, 0, 0, 3, 0, 0, 0, 0, 0, 0, 0],\n",
       "        [1, 2, 0, 0, 0, 0, 0, 0, 2, 0, 0],\n",
       "        [0, 2, 0, 4, 0, 1, 0, 0, 0, 2, 1],\n",
       "        [0, 1, 0, 1, 0, 0, 0, 0, 0, 1, 0]], dtype=int32)"
      ]
     },
     "execution_count": 172,
     "metadata": {},
     "output_type": "execute_result"
    },
    {
     "name": "stdout",
     "output_type": "stream",
     "text": [
      "time: 4.01 ms\n"
     ]
    }
   ],
   "source": [
    "X_sparse_toy = buildSparseMatrix(X_toy)\n",
    "X_sparse_toy.todense()"
   ]
  },
  {
   "cell_type": "code",
   "execution_count": 173,
   "metadata": {},
   "outputs": [
    {
     "name": "stdout",
     "output_type": "stream",
     "text": [
      "time: 7.02 ms\n"
     ]
    }
   ],
   "source": [
    "X_10users, y_10users = train_data_10users.iloc[:, :-1].values, \\\n",
    "                       train_data_10users.iloc[:, -1].values\n",
    "X_150users, y_150users = train_data_150users.iloc[:, :-1].values, \\\n",
    "                         train_data_150users.iloc[:, -1].values"
   ]
  },
  {
   "cell_type": "code",
   "execution_count": 174,
   "metadata": {},
   "outputs": [
    {
     "name": "stdout",
     "output_type": "stream",
     "text": [
      "time: 10.9 s\n"
     ]
    }
   ],
   "source": [
    "''' ВАШ КОД ЗДЕСЬ '''\n",
    "X_sparse_10users = buildSparseMatrix(X_10users)\n",
    "X_sparse_150users = buildSparseMatrix(X_150users)"
   ]
  },
  {
   "cell_type": "markdown",
   "metadata": {},
   "source": [
    "**Сохраним эти разреженные матрицы с помощью [pickle](https://docs.python.org/2/library/pickle.html) (сериализация в Python), также сохраним вектора *y_10users, y_150users* – целевые значения (id пользователя)  в выборках из 10 и 150 пользователей. То что названия этих матриц начинаются с X и y, намекает на то, что на этих данных мы будем проверять первые модели классификации.\n",
    "Наконец, сохраним также и частотные словари сайтов для 3, 10 и 150 пользователей.**"
   ]
  },
  {
   "cell_type": "code",
   "execution_count": 175,
   "metadata": {},
   "outputs": [
    {
     "name": "stdout",
     "output_type": "stream",
     "text": [
      "time: 62.2 ms\n"
     ]
    }
   ],
   "source": [
    "with open(os.path.join(PATH_TO_DATA, 'X_sparse_10users.pkl'), 'wb') as X10_pkl:\n",
    "    pickle.dump(X_sparse_10users, X10_pkl, protocol=2)\n",
    "with open(os.path.join(PATH_TO_DATA, 'y_10users.pkl'), 'wb') as y10_pkl:\n",
    "    pickle.dump(y_10users, y10_pkl, protocol=2)\n",
    "with open(os.path.join(PATH_TO_DATA, 'X_sparse_150users.pkl'), 'wb') as X150_pkl:\n",
    "    pickle.dump(X_sparse_150users, X150_pkl, protocol=2)\n",
    "with open(os.path.join(PATH_TO_DATA, 'y_150users.pkl'), 'wb') as y150_pkl:\n",
    "    pickle.dump(y_150users, y150_pkl, protocol=2)\n",
    "with open(os.path.join(PATH_TO_DATA, 'site_freq_3users.pkl'), 'wb') as site_freq_3users_pkl:\n",
    "    pickle.dump(site_freq_3users, site_freq_3users_pkl, protocol=2)\n",
    "with open(os.path.join(PATH_TO_DATA, 'site_freq_10users.pkl'), 'wb') as site_freq_10users_pkl:\n",
    "    pickle.dump(site_freq_10users, site_freq_10users_pkl, protocol=2)\n",
    "with open(os.path.join(PATH_TO_DATA, 'site_freq_150users.pkl'), 'wb') as site_freq_150users_pkl:\n",
    "    pickle.dump(site_freq_150users, site_freq_150users_pkl, protocol=2)"
   ]
  },
  {
   "cell_type": "markdown",
   "metadata": {},
   "source": [
    "**Чисто для подстраховки проверим, что число столбцов в разреженных матрицах `X_sparse_10users` и `X_sparse_150users` равно ранее посчитанным числам уникальных сайтов для 10 и 150 пользователей соответственно.**"
   ]
  },
  {
   "cell_type": "code",
   "execution_count": 176,
   "metadata": {},
   "outputs": [
    {
     "name": "stdout",
     "output_type": "stream",
     "text": [
      "4913 4913\n",
      "time: 5.01 ms\n"
     ]
    }
   ],
   "source": [
    "print(X_sparse_10users.shape[1], len(site_freq_10users))\n",
    "assert(X_sparse_10users.shape[1] == len(site_freq_10users))"
   ]
  },
  {
   "cell_type": "code",
   "execution_count": 177,
   "metadata": {},
   "outputs": [
    {
     "name": "stdout",
     "output_type": "stream",
     "text": [
      "27797 27797\n",
      "time: 4.01 ms\n"
     ]
    }
   ],
   "source": [
    "print(X_sparse_150users.shape[1], len(site_freq_150users))\n",
    "assert(X_sparse_150users.shape[1] == len(site_freq_150users))"
   ]
  },
  {
   "cell_type": "markdown",
   "metadata": {},
   "source": [
    "На следующей неделе мы еще немного поготовим данные и потестируем первые гипотезы, связанные с нашими наблюдениями. "
   ]
  }
 ],
 "metadata": {
  "anaconda-cloud": {},
  "kernelspec": {
   "display_name": "Python 3",
   "language": "python",
   "name": "python3"
  },
  "language_info": {
   "codemirror_mode": {
    "name": "ipython",
    "version": 3
   },
   "file_extension": ".py",
   "mimetype": "text/x-python",
   "name": "python",
   "nbconvert_exporter": "python",
   "pygments_lexer": "ipython3",
   "version": "3.5.4"
  }
 },
 "nbformat": 4,
 "nbformat_minor": 1
}
