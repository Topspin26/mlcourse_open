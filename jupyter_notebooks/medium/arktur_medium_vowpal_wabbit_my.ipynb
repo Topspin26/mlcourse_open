{
 "cells": [
  {
   "cell_type": "markdown",
   "metadata": {},
   "source": [
    "<center>\n",
    "<img src=\"../../img/ods_stickers.jpg\">\n",
    "## Открытый курс по машинному обучению\n",
    "Автор материала: программист-исследователь Mail.ru Group, старший преподаватель Факультета Компьютерных Наук ВШЭ Юрий Кашницкий. Материал распространяется на условиях лицензии [Creative Commons CC BY-NC-SA 4.0](https://creativecommons.org/licenses/by-nc-sa/4.0/). Можно использовать в любых целях (редактировать, поправлять и брать за основу), кроме коммерческих, но с обязательным упоминанием автора материала."
   ]
  },
  {
   "cell_type": "markdown",
   "metadata": {},
   "source": [
    "# <center> Соревнование по прогнозированию популярности статьи на портале Medium\n",
    "## <center>"
   ]
  },
  {
   "cell_type": "markdown",
   "metadata": {},
   "source": [
    "[Ссылка](https://mlcourse.arktur.io/) на соревнование.\n",
    "\n",
    "**Задача** \n",
    "\n",
    "Есть выборка статей с популярного англоязычного портала Medium. Задача – спрогнозировать число рекомендаций (\"лайков\") статьи.\n",
    "Предлагается Вам самим составить обучающую и тестовую выборки на основе имеющихся данных, обучить модель-регрессор и сформировать файл посылки с прогнозами – числом рекомендаций статей (с `log1p`-преобразованием) из тестовой выборки.\n",
    "\n",
    "**Данные**\n",
    "\n",
    "Обучающая выборка – 52699 статей, опубликованных до 2016 года включительно (**train.zip** ~ 480 Mb, unzip ~1.6 Gb). Тестовая выборка – 39492 статьи, опубликованные с 1 января по 27 июня 2017 года (**test.zip** ~425 Mb, unzip ~1.4 Gb).\n",
    "\n",
    "Данные о статьях представлены в JSON формате с полями:\n",
    "- _id и url – URL статьи\n",
    "- published – время публикации\n",
    "- title – название статьи\n",
    "- author – имя автора, его акканут на Твиттере и Medium\n",
    "- content – HTML-контент статьи\n",
    "meta_tags – остальная информация о статье\n",
    "\n",
    "В файле **train_log1p_recommends.csv** представлены номера (id) статей из обучающей выборки вместе с целевым показателем: числом рекомендаций статей, к которому применено преобразование `log1p(x) = log(1 + x)` В файле **sample_submission.csv** представлен пример файла посылки."
   ]
  },
  {
   "cell_type": "code",
   "execution_count": 1,
   "metadata": {
    "collapsed": true
   },
   "outputs": [],
   "source": [
    "import os\n",
    "import json\n",
    "import pickle\n",
    "from tqdm import tqdm_notebook\n",
    "import numpy as np\n",
    "import pandas as pd\n",
    "from glob import glob\n",
    "from matplotlib import pyplot as plt\n",
    "%matplotlib inline\n",
    "from sklearn.feature_extraction.text import CountVectorizer\n",
    "from sklearn.metrics import mean_absolute_error\n",
    "from sklearn.linear_model import SGDRegressor\n",
    "\n",
    "import zlib\n",
    "import re\n",
    "import glob"
   ]
  },
  {
   "cell_type": "code",
   "execution_count": 2,
   "metadata": {
    "collapsed": true
   },
   "outputs": [],
   "source": [
    "PATH_TO_DATA = 'medium'"
   ]
  },
  {
   "cell_type": "markdown",
   "metadata": {},
   "source": [
    "Посмотрим на одну из строчек в JSON-файле: считаем ее с помощью библиотеки json. Эта строчка соответствует [7-ой статье](https://habrahabr.ru/post/7/) на Хабре."
   ]
  },
  {
   "cell_type": "code",
   "execution_count": 3,
   "metadata": {
    "collapsed": false
   },
   "outputs": [],
   "source": [
    "!head -1 medium/train.json > medium/train1.json\n",
    "!head -2 medium/train.json | tail -1 > medium/train2.json"
   ]
  },
  {
   "cell_type": "code",
   "execution_count": 14,
   "metadata": {
    "collapsed": true
   },
   "outputs": [],
   "source": [
    "!head -2 medium/test.json | tail -1 > medium/test2.json"
   ]
  },
  {
   "cell_type": "code",
   "execution_count": 4,
   "metadata": {
    "collapsed": true
   },
   "outputs": [],
   "source": [
    "with open('medium/train2.json') as inp_json:\n",
    "    first_json = json.load(inp_json)"
   ]
  },
  {
   "cell_type": "code",
   "execution_count": 5,
   "metadata": {
    "collapsed": false
   },
   "outputs": [
    {
     "data": {
      "text/plain": [
       "dict_keys(['url', 'domain', 'title', 'quality', 'meta_tags', 'tags', '_timestamp', 'content', 'image_url', 'published', '_spider', '_id', 'author', 'link_tags'])"
      ]
     },
     "execution_count": 5,
     "metadata": {},
     "output_type": "execute_result"
    }
   ],
   "source": [
    "first_json.keys()"
   ]
  },
  {
   "cell_type": "code",
   "execution_count": 15,
   "metadata": {
    "collapsed": true
   },
   "outputs": [],
   "source": [
    "with open('medium/test2.json') as inp_json:\n",
    "    first_json_t = json.load(inp_json)"
   ]
  },
  {
   "cell_type": "code",
   "execution_count": 16,
   "metadata": {
    "collapsed": false
   },
   "outputs": [
    {
     "data": {
      "text/plain": [
       "dict_keys(['url', 'domain', 'title', 'meta_tags', 'tags', '_timestamp', 'content', 'image_url', 'published', '_spider', '_id', 'author', 'link_tags'])"
      ]
     },
     "execution_count": 16,
     "metadata": {},
     "output_type": "execute_result"
    }
   ],
   "source": [
    "first_json_t.keys()"
   ]
  },
  {
   "cell_type": "code",
   "execution_count": 6,
   "metadata": {
    "collapsed": false
   },
   "outputs": [
    {
     "data": {
      "text/plain": [
       "'https://medium.com/policy/medium-privacy-policy-f03bf92035c9'"
      ]
     },
     "execution_count": 6,
     "metadata": {},
     "output_type": "execute_result"
    }
   ],
   "source": [
    "first_json['_id']"
   ]
  },
  {
   "cell_type": "code",
   "execution_count": 7,
   "metadata": {
    "collapsed": false
   },
   "outputs": [
    {
     "data": {
      "text/plain": [
       "1498505468.315491"
      ]
     },
     "execution_count": 7,
     "metadata": {},
     "output_type": "execute_result"
    }
   ],
   "source": [
    "first_json['_timestamp']"
   ]
  },
  {
   "cell_type": "code",
   "execution_count": 8,
   "metadata": {
    "collapsed": false
   },
   "outputs": [
    {
     "data": {
      "text/plain": [
       "'https://medium.com/policy/medium-privacy-policy-f03bf92035c9'"
      ]
     },
     "execution_count": 8,
     "metadata": {},
     "output_type": "execute_result"
    }
   ],
   "source": [
    "first_json['url']"
   ]
  },
  {
   "cell_type": "code",
   "execution_count": 9,
   "metadata": {
    "collapsed": false,
    "scrolled": true
   },
   "outputs": [
    {
     "data": {
      "text/plain": [
       "'medium.com'"
      ]
     },
     "execution_count": 9,
     "metadata": {},
     "output_type": "execute_result"
    }
   ],
   "source": [
    "first_json['domain']"
   ]
  },
  {
   "cell_type": "code",
   "execution_count": 10,
   "metadata": {
    "collapsed": false
   },
   "outputs": [
    {
     "data": {
      "text/plain": [
       "{'$date': '2012-08-13T22:57:17.248Z'}"
      ]
     },
     "execution_count": 10,
     "metadata": {},
     "output_type": "execute_result"
    }
   ],
   "source": [
    "first_json['published']"
   ]
  },
  {
   "cell_type": "code",
   "execution_count": 11,
   "metadata": {
    "collapsed": false
   },
   "outputs": [
    {
     "data": {
      "text/plain": [
       "'Medium Privacy Policy – Medium Policy – Medium'"
      ]
     },
     "execution_count": 11,
     "metadata": {},
     "output_type": "execute_result"
    }
   ],
   "source": [
    "first_json['title']"
   ]
  },
  {
   "cell_type": "code",
   "execution_count": 12,
   "metadata": {
    "collapsed": false,
    "scrolled": true
   },
   "outputs": [
    {
     "data": {
      "text/plain": [
       "'396'"
      ]
     },
     "execution_count": 12,
     "metadata": {},
     "output_type": "execute_result"
    }
   ],
   "source": [
    "first_json['content'].split('recommends')[1].split('<')[0].split('>')[1]"
   ]
  },
  {
   "cell_type": "code",
   "execution_count": 13,
   "metadata": {
    "collapsed": false
   },
   "outputs": [
    {
     "data": {
      "text/plain": [
       "'<header class=\"container u-maxWidth740\"><div class=\"postMetaHeader u-paddingBottom10 row\"><div class=\"col u-size12of12 js-postMetaLockup\"><div class=\"postMetaLockup postMetaLockup--authorWithBio u-flex js-postMetaLockup\"><div class=\"u-flex0\"><a class=\"link avatar u-baseColor--link\" href=\"https://medium.com/@Medium?source=post_header_lockup\" data-action=\"show-user-card\" data-action-source=\"post_header_lockup\" data-action-value=\"504c7870fdb6\" data-action-type=\"hover\" data-user-id=\"504c7870fdb6\" dir=\"auto\"><img src=\"https://cdn-images-1.medium.com/fit/c/120/120/1*P_xM00gtMxf1Iw0tPewjnA.png\" class=\"avatar-image avatar-image--small\" alt=\"Go to the profile of Medium\"></a></div><div class=\"u-flex1 u-paddingLeft15 u-overflowHidden\"><a class=\"link link link--darken link--darker u-baseColor--link\" href=\"https://medium.com/@Medium?source=post_header_lockup\" data-action=\"show-user-card\" data-action-source=\"post_header_lockup\" data-action-value=\"504c7870fdb6\" data-action-type=\"hover\" data-user-id=\"504c7870fdb6\" dir=\"auto\">Medium</a><span class=\"followState js-followState buttonSet-inner\" data-user-id=\"504c7870fdb6\"><button class=\"button u-paddingLeft10 u-paddingRight10 u-height19 u-lineHeight13 u-verticalAlignMiddle u-fontSize12 u-uiTextMedium u-noUserSelect button--withChrome u-baseColor--buttonNormal button--withHover button--unblock js-unblockButton u-marginLeft10 u-marginTopNegative2 u-xs-hide\" data-action=\"sign-in-prompt\" data-sign-in-action=\"toggle-block-user\" data-requires-token=\"true\" data-action-source=\"post_header_lockup\"><span class=\"button-label  button-defaultState\">Blocked</span><span class=\"button-label button-hoverState\">Unblock</span></button><button class=\"button button--primary u-paddingLeft10 u-paddingRight10 u-height19 u-lineHeight13 u-verticalAlignMiddle u-fontSize12 u-uiTextMedium u-noUserSelect button--withChrome u-accentColor--buttonNormal button--follow js-followButton u-marginLeft10 u-marginTopNegative2 u-xs-hide\" data-action=\"sign-in-prompt\" data-sign-in-action=\"toggle-subscribe-user\" data-requires-token=\"true\" data-redirect=\"https://medium.com/_/subscribe/user/504c7870fdb6\" data-action-source=\"post_header_lockup_follow\"><span class=\"button-label  button-defaultState js-buttonLabel\">Follow</span><span class=\"button-label button-activeState\">Following</span></button></span><div class=\"postMetaInline u-noWrapWithEllipsis u-xs-normalWrap u-xs-lineClamp2 u-xs-maxHeight2LineHeightBase\">Everyone’s stories and ideas</div><div class=\"postMetaInline js-testPostMetaInlineSupplemental\"><time datetime=\"2012-08-13T22:57:17.248Z\">Aug 13, 2012</time><span class=\"middotDivider u-fontSize12\"></span><span class=\"readingTime\" title=\"3 min read\"></span></div></div></div></div></div></header><div class=\"postArticle-content js-postField js-notesSource js-trackedPost\" data-post-id=\"f03bf92035c9\" data-source=\"post_page\" data-collection-id=\"675ebe56ac25\" data-tracking-context=\"postPage\"><section name=\"503d\" class=\"section section--body section--first section--last\"><div class=\"section-divider\"><hr class=\"section-divider\"></div><div class=\"section-content\"><div class=\"section-inner sectionLayout--insetColumn\"><h1 name=\"title\" id=\"title\" class=\"graf graf--h2 graf--leading graf--title\">Medium Privacy\\xa0Policy</h1><p name=\"a90a\" id=\"a90a\" class=\"graf graf--p graf-after--h2\"><strong class=\"markup--strong markup--p-strong\">Effective Date: March 7, 2016</strong></p><p name=\"7567\" id=\"7567\" class=\"graf graf--p graf-after--p\">Privacy is important. We respect yours. Our goal is to do more than we have to by law\\u200a—\\u200awe want to earn your trust that we are careful with your data.</p><h4 name=\"e760\" id=\"e760\" class=\"graf graf--h4 graf-after--p\">General information</h4><p name=\"a09c\" id=\"a09c\" class=\"graf graf--p graf-after--h4\">This policy sets out our privacy practices and explains how we handle the information we collect when you visit and use our sites, services, mobile applications, products, and content (“Services”).</p><h4 name=\"0779\" id=\"0779\" class=\"graf graf--h4 graf-after--p\">What we may\\xa0collect</h4><p name=\"435b\" id=\"435b\" class=\"graf graf--p graf-after--h4\">We collect information about what Medium pages you access, information about your mobile device (such as device or browser type), information you send us (such as an email address used to register or communicate with us), and referral information.</p><p name=\"66c3\" id=\"66c3\" class=\"graf graf--p graf-after--p\">When you use Medium Services, we may collect and store your Internet Protocol address. We may use this information to fight spam and other abuse; to personalize Medium Services; or to generate aggregate, non-identifying information about how people use Medium Services.</p><p name=\"6f88\" id=\"6f88\" class=\"graf graf--p graf-after--p\">When you create your Medium account, and authenticate via a third-party service like Twitter or Facebook, we may collect, store, and periodically update the contact lists associated with that third-party account, so you can connect with existing contacts from that service who are on Medium.</p><h4 name=\"1bed\" id=\"1bed\" class=\"graf graf--h4 graf-after--p\">Email from\\xa0Medium</h4><p name=\"d7b2\" id=\"d7b2\" class=\"graf graf--p graf-after--h4\">Sometimes we’ll send administrative emails about account or service changes, or new policies. You can’t opt out of them. You can always opt out of non-administrative emails such as daily digests.</p><p name=\"36fd\" id=\"36fd\" class=\"graf graf--p graf-after--p\">We won’t email you to ask for your password or other account information. If you receive such an email, send it to us so we can investigate.</p><h4 name=\"3e09\" id=\"3e09\" class=\"graf graf--h4 graf-after--p\">Disclosure of your information</h4><p name=\"7295\" id=\"7295\" class=\"graf graf--p graf-after--h4\">As a rule, we don’t share your personal information outside the company.</p><p name=\"0580\" id=\"0580\" class=\"graf graf--p graf-after--p\">We won’t sell your personal information.</p><p name=\"73b8\" id=\"73b8\" class=\"graf graf--p graf-after--p\">We may share your personal information with third parties in limited circumstances, including: (1) with your consent; (2) to a vendor or partner who meets our data protection standards; or (3) when we have a good faith belief it is required by law, such as pursuant to a subpoena or other legal process.</p><p name=\"04fd\" id=\"04fd\" class=\"graf graf--p graf-after--p\">If we’re going to share your information in response to legal process, we’ll give you advance notice so you can challenge it (for example by seeking court intervention), unless we’re prohibited from doing so by law or court order. We will object to requests for information about users of our site that we believe to be improper.</p><p name=\"3db9\" id=\"3db9\" class=\"graf graf--p graf-after--p\">If we merge with another company such that your information will become subject to a different privacy policy, we’ll notify you before the transfer. You can opt out of the new policy by deleting your account during the notice period.</p><h4 name=\"a8e1\" id=\"a8e1\" class=\"graf graf--h4 graf-after--p\">Cookies</h4><p name=\"9c7b\" id=\"9c7b\" class=\"graf graf--p graf-after--h4\">We use cookies and similar technologies such as pixels and local storage to recognize you when you return to our Services. We use them in various ways, for example to log you in, remember your preferences (such as default language), evaluate email effectiveness, show relevant ads, and personalize information.</p><p name=\"361e\" id=\"361e\" class=\"graf graf--p graf-after--p\">We respect <a href=\"https://medium.com/policy/how-we-handle-do-not-track-requests-on-medium-f2b4b4fb7c5e\" data-href=\"https://medium.com/policy/how-we-handle-do-not-track-requests-on-medium-f2b4b4fb7c5e\" class=\"markup--anchor markup--p-anchor\" target=\"_blank\">Do Not Track</a> (“DNT”) settings in browsers. If you’re logged out of our Services and have DNT enabled, we will not set cookies. By logging in you are opting to allow Medium to ignore the DNT setting and to use cookies in order to provide you a personalized experience.</p><p name=\"dcb9\" id=\"dcb9\" class=\"graf graf--p graf-after--p\">Some third-party services that we use, such as <a href=\"http://embed.ly/\" data-href=\"http://embed.ly/\" class=\"markup--anchor markup--p-anchor\" rel=\"nofollow noopener\" target=\"_blank\">embedly</a> or <a href=\"http://www.google.com/policies/privacy/partners/\" data-href=\"http://www.google.com/policies/privacy/partners/\" class=\"markup--anchor markup--p-anchor\" rel=\"nofollow noopener\" target=\"_blank\">Google Analytics</a>, may place their own cookies in your browser. This Privacy Policy covers use of cookies by Medium only and not the use of cookies by third parties.</p><h4 name=\"5a01\" id=\"5a01\" class=\"graf graf--h4 graf-after--p\">Data Storage</h4><p name=\"c659\" id=\"c659\" class=\"graf graf--p graf-after--h4\">Medium uses third-party vendors and hosting partners, such as Amazon, for hardware, software, networking, storage, and related technology we need to run Medium. We <a href=\"https://medium.com/policy/mediums-data-logs-4d2f799a7d52\" data-href=\"https://medium.com/policy/mediums-data-logs-4d2f799a7d52\" class=\"markup--anchor markup--p-anchor\" target=\"_blank\">maintain two types of logs</a>: server logs and event logs.</p><h4 name=\"5506\" id=\"5506\" class=\"graf graf--h4 graf-after--p\"><strong class=\"markup--strong markup--h4-strong\">Modifying your personal information or deleting your\\xa0account</strong></h4><p name=\"c585\" id=\"c585\" class=\"graf graf--p graf-after--h4\">If you have a Medium account, you can access and modify your personal information, or delete your account <a href=\"https://medium.com/me/settings\" data-href=\"https://medium.com/me/settings\" class=\"markup--anchor markup--p-anchor\" target=\"_blank\">here</a>.</p><p name=\"e625\" id=\"e625\" class=\"graf graf--p graf-after--p\">To protect information from accidental or malicious destruction, we may not immediately delete residual copies from our active servers and may not remove information from our backup systems.</p><p name=\"ef6f\" id=\"ef6f\" class=\"graf graf--p graf-after--p\">If you delete your account, your account and content may be unrecoverable.</p><h4 name=\"2967\" id=\"2967\" class=\"graf graf--h4 graf-after--p\">Data security</h4><p name=\"6486\" id=\"6486\" class=\"graf graf--p graf-after--h4\">We use encryption (HTTPS/TLS) to protect data transmitted to and from our site. However, no data transmission over the Internet is 100% secure, so we can’t guarantee security. You use the Service at your own risk, and you’re responsible for taking reasonable measures to secure your account (like using a strong password).</p><h4 name=\"8f5c\" id=\"8f5c\" class=\"graf graf--h4 graf-after--p\">Changes to this\\xa0Policy</h4><p name=\"eeca\" id=\"eeca\" class=\"graf graf--p graf-after--h4\">Medium may periodically update this Policy. We’ll notify you about significant changes to it. The most current version of the policy will always be <a href=\"https://medium.com/policy/f03bf92035c9\" data-href=\"https://medium.com/policy/f03bf92035c9\" class=\"markup--anchor markup--p-anchor\" target=\"_blank\">here</a> and we will archive former versions of the policy <a href=\"http://github.com/Medium/policy\" data-href=\"http://github.com/Medium/policy\" class=\"markup--anchor markup--p-anchor\" rel=\"nofollow noopener\" target=\"_blank\">here</a>.</p><h4 name=\"f30e\" id=\"f30e\" class=\"graf graf--h4 graf-after--p\">Questions</h4><p name=\"88ed\" id=\"88ed\" class=\"graf graf--p graf-after--h4 graf--trailing\">We welcome questions, concerns, and feedback about this policy at <a href=\"mailto:%20legal@medium.com\" data-href=\"mailto:%20legal@medium.com\" class=\"markup--anchor markup--p-anchor\" target=\"_blank\">legal@medium.com</a>.</p></div></div></section></div><footer class=\"u-paddingTop10\"><div class=\"container u-maxWidth740\"><div class=\"row\"><div class=\"col u-size12of12\"><div class=\"postMetaInline postMetaInline--acknowledgments u-paddingTop5 u-paddingBottom20 js-postMetaAcknowledgments\"><a class=\"link u-baseColor--link\" href=\"http://creativecommons.org/licenses/by/4.0/\" rel=\"license cc:license\" target=\"_blank\" data-tooltip=\"Except where otherwise noted, this work is licensed under a Creative Commons Attribution 4.0 International license by the author.\">Some rights reserved</a><span class=\"postMetaInline-licenseIcons u-marginLeft5\"><span title=\"You can distribute, remix, and build upon this work as long as you credit the author.\"><span class=\"svgIcon svgIcon--creativeCommonsBy svgIcon--21px\"><svg class=\"svgIcon-use\" width=\"21\" height=\"21\" viewbox=\"0 0 21 21\"><path d=\"M10.485 2c2.387 0 4.4.82 6.04 2.46C18.175 6.107 19 8.12 19 10.5c0 2.388-.81 4.376-2.43 5.965C14.85 18.155 12.823 19 10.486 19c-2.298 0-4.29-.835-5.98-2.505C2.836 14.825 2 12.827 2 10.5s.835-4.34 2.505-6.04C6.145 2.82 8.137 2 10.485 2zm.03 1.533c-1.933 0-3.567.678-4.903 2.034-1.386 1.417-2.08 3.06-2.08 4.933 0 1.882.69 3.512 2.065 4.887 1.376 1.377 3.015 2.064 4.918 2.064 1.892 0 3.54-.69 4.948-2.07 1.336-1.28 2.004-2.91 2.004-4.87 0-1.93-.68-3.57-2.034-4.93-1.356-1.35-2.995-2.03-4.918-2.03zm2.277 4.857v3.476h-.97v4.128H9.18v-4.128h-.972V8.39a.53.53 0 0 1 .16-.387.528.528 0 0 1 .387-.16h3.49c.143 0 .27.054.38.16a.52.52 0 0 1 .167.387zM9.316 6.205c0-.8.394-1.2 1.184-1.2.79 0 1.184.4 1.184 1.2 0 .79-.395 1.183-1.184 1.183-.79 0-1.184-.394-1.184-1.183z\" fill-rule=\"evenodd\"></path></svg></span></span></span> </div></div></div><div class=\"row\"><div class=\"col u-size12of12 js-postTags\"><div class=\"u-paddingBottom10\"><ul class=\"tags tags--postTags tags--borderless\"><li><a class=\"link u-baseColor--link\" href=\"https://medium.com/tag/privacy?source=post\" data-action-source=\"post\">Privacy</a></li><li><a class=\"link u-baseColor--link\" href=\"https://medium.com/tag/medium?source=post\" data-action-source=\"post\">Medium</a></li></ul></div></div></div><div class=\"row js-postActionsFooter\"><div class=\"postActions col u-size12of12\"><div class=\"u-floatLeft buttonSet buttonSet--withLabels\"><div class=\"buttonSet-inner\"><div class=\"js-actionRecommend\" data-post-id=\"f03bf92035c9\" data-is-icon-29px=\"true\" data-has-recommend-list=\"true\" data-source=\"post_actions_footer\"><button class=\"button button--primary button--large button--chromeless is-touchIconFadeInPulse u-accentColor--buttonNormal button--withIcon button--withSvgIcon u-accentColor--iconLight js-actionRecommendButton\" title=\"Recommend to share this article with your followers and let the author know you liked it\" aria-label=\"Recommend to share this article with your followers and let the author know you liked it\" data-action=\"sign-in-prompt\" data-sign-in-action=\"upvote\" data-requires-token=\"true\" data-redirect=\"https://medium.com/_/vote/p/f03bf92035c9\" data-action-source=\"post_actions_footer\"><span class=\"button-defaultState\"><span class=\"svgIcon svgIcon--heart svgIcon--29px\"><svg class=\"svgIcon-use\" width=\"29\" height=\"29\" viewbox=\"0 0 29 29\"><path d=\"M16.215 23.716c-.348.288-.984.826-1.376 1.158a.526.526 0 0 1-.68 0c-.36-.307-.92-.78-1.22-1.03C9.22 20.734 3 15.527 3 10.734 3 7.02 5.916 4 9.5 4c1.948 0 3.77.898 5 2.434C15.73 4.898 17.552 4 19.5 4c3.584 0 6.5 3.02 6.5 6.734 0 4.9-6.125 9.96-9.785 12.982zM19.5 5.2c-1.774 0-3.423.923-4.41 2.468a.699.699 0 0 1-.59.323.706.706 0 0 1-.59-.32c-.988-1.54-2.637-2.47-4.41-2.47-2.922 0-5.3 2.49-5.3 5.54 0 4.23 6.19 9.41 9.517 12.19.217.18.566.48.783.66l.952-.79c3.496-2.88 9.348-7.72 9.348-12.05 0-3.05-2.378-5.53-5.3-5.53z\"></path></svg></span></span><span class=\"button-activeState\"><span class=\"svgIcon svgIcon--heartFilled svgIcon--29px\"><svg class=\"svgIcon-use\" width=\"29\" height=\"29\" viewbox=\"0 0 29 29\"><path d=\"M19.5 4c-1.948 0-3.77.898-5 2.434C13.27 4.898 11.448 4 9.5 4 5.916 4 3 7.02 3 10.734c0 4.793 6.227 10 9.95 13.11.296.25.853.723 1.212 1.03.196.166.48.166.677 0 .39-.332 1.02-.87 1.37-1.158 3.66-3.022 9.79-8.08 9.79-12.982C26 7.02 23.08 4 19.5 4z\" fill-rule=\"evenodd\"></path></svg></span></span></button><button class=\"button button--chromeless u-baseColor--buttonNormal\" data-action=\"show-recommends\" data-action-value=\"f03bf92035c9\">396</button></div></div><div class=\"buttonSet-inner\"><button class=\"button button--large button--dark button--chromeless is-touchIconBlackPulse u-baseColor--buttonDark button--withIcon button--withSvgIcon\" data-action=\"scroll-to-responses\" data-action-source=\"post_actions_footer\"><span class=\"svgIcon svgIcon--response svgIcon--29px\"><svg class=\"svgIcon-use\" width=\"29\" height=\"29\" viewbox=\"0 0 29 29\"><path d=\"M21.27 20.058c1.89-1.826 2.754-4.17 2.754-6.674C24.024 8.21 19.67 4 14.1 4 8.53 4 4 8.21 4 13.384c0 5.175 4.53 9.385 10.1 9.385 1.007 0 2-.14 2.95-.41.285.25.592.49.918.7 1.306.87 2.716 1.31 4.19 1.31.276-.01.494-.14.6-.36a.625.625 0 0 0-.052-.65c-.61-.84-1.042-1.71-1.282-2.58a5.417 5.417 0 0 1-.154-.75zm-3.85 1.324l-.083-.28-.388.12a9.72 9.72 0 0 1-2.85.424c-4.96 0-8.99-3.706-8.99-8.262 0-4.556 4.03-8.263 8.99-8.263 4.95 0 8.77 3.71 8.77 8.27 0 2.25-.75 4.35-2.5 5.92l-.24.21v.32c0 .07 0 .19.02.37.03.29.1.6.19.92.19.7.49 1.4.89 2.08-.93-.14-1.83-.49-2.67-1.06-.34-.22-.88-.48-1.16-.74z\"></path></svg></span></button><button class=\"button button--chromeless u-baseColor--buttonNormal\" data-action=\"scroll-to-responses\">34</button></div></div><div class=\"u-floatRight buttonSet buttonSet--narrow\"><button class=\"button button--large button--dark button--chromeless is-touchIconBlackPulse u-baseColor--buttonDark button--withIcon button--withSvgIcon\" title=\"Share on Twitter\" aria-label=\"Share on Twitter\" data-action=\"share-on-twitter\" data-action-source=\"post_actions_footer\"><span class=\"svgIcon svgIcon--twitter svgIcon--29px\"><svg class=\"svgIcon-use\" width=\"29\" height=\"29\" viewbox=\"0 0 29 29\"><path d=\"M21.967 11.8c.018 5.93-4.607 11.18-11.177 11.18-2.172 0-4.25-.62-6.047-1.76l-.268.422-.038.5.186.013.168.012c.3.02.44.032.6.046 2.06-.026 3.95-.686 5.49-1.86l1.12-.85-1.4-.048c-1.57-.055-2.92-1.08-3.36-2.51l-.48.146-.05.5c.22.03.48.05.75.08.48-.02.87-.07 1.25-.15l2.33-.49-2.32-.49c-1.68-.35-2.91-1.83-2.91-3.55 0-.05 0-.01-.01.03l-.49-.1-.25.44c.63.36 1.35.57 2.07.58l1.7.04L7.4 13c-.978-.662-1.59-1.79-1.618-3.047a4.08 4.08 0 0 1 .524-1.8l-.825.07a12.188 12.188 0 0 0 8.81 4.515l.59.033-.06-.59v-.02c-.05-.43-.06-.63-.06-.87a3.617 3.617 0 0 1 6.27-2.45l.2.21.28-.06c1.01-.22 1.94-.59 2.73-1.09l-.75-.56c-.1.36-.04.89.12 1.36.23.68.58 1.13 1.17.85l-.21-.45-.42-.27c-.52.8-1.17 1.48-1.92 2L22 11l.016.28c.013.2.014.35 0 .52v.04zm.998.038c.018-.22.017-.417 0-.66l-.498.034.284.41a8.183 8.183 0 0 0 2.2-2.267l.97-1.48-1.6.755c.17-.08.3-.02.34.03a.914.914 0 0 1-.13-.292c-.1-.297-.13-.64-.1-.766l.36-1.254-1.1.695c-.69.438-1.51.764-2.41.963l.48.15a4.574 4.574 0 0 0-3.38-1.484 4.616 4.616 0 0 0-4.61 4.613c0 .29.02.51.08.984l.01.02.5-.06.03-.5c-3.17-.18-6.1-1.7-8.08-4.15l-.48-.56-.36.64c-.39.69-.62 1.48-.65 2.28.04 1.61.81 3.04 2.06 3.88l.3-.92c-.55-.02-1.11-.17-1.6-.45l-.59-.34-.14.67c-.02.08-.02.16 0 .24-.01 2.12 1.55 4.01 3.69 4.46l.1-.49-.1-.49c-.33.07-.67.12-1.03.14-.18-.02-.43-.05-.64-.07l-.76-.09.23.73c.57 1.84 2.29 3.14 4.28 3.21l-.28-.89a8.252 8.252 0 0 1-4.85 1.66c-.12-.01-.26-.02-.56-.05l-.17-.01-.18-.01L2.53 21l1.694 1.07a12.233 12.233 0 0 0 6.58 1.917c7.156 0 12.2-5.73 12.18-12.18l-.002.04z\"></path></svg></span></button><button class=\"button button--large button--dark button--chromeless is-touchIconBlackPulse u-baseColor--buttonDark button--withIcon button--withSvgIcon\" title=\"Share on Facebook\" aria-label=\"Share on Facebook\" data-action=\"share-on-facebook\" data-action-source=\"post_actions_footer\"><span class=\"svgIcon svgIcon--facebook svgIcon--29px\"><svg class=\"svgIcon-use\" width=\"29\" height=\"29\" viewbox=\"0 0 29 29\"><path d=\"M16.39 23.61v-5.808h1.846a.55.55 0 0 0 .546-.48l.36-2.797a.551.551 0 0 0-.547-.62H16.39V12.67c0-.67.12-.813.828-.813h1.474a.55.55 0 0 0 .55-.55V8.803a.55.55 0 0 0-.477-.545c-.436-.06-1.36-.116-2.22-.116-2.5 0-4.13 1.62-4.13 4.248v1.513H10.56a.551.551 0 0 0-.55.55v2.797c0 .304.248.55.55.55h1.855v5.76c-4.172-.96-7.215-4.7-7.215-9.1 0-5.17 4.17-9.36 9.31-9.36 5.14 0 9.31 4.19 9.31 9.36 0 4.48-3.155 8.27-7.43 9.15M14.51 4C8.76 4 4.1 8.684 4.1 14.46c0 5.162 3.75 9.523 8.778 10.32a.55.55 0 0 0 .637-.543v-6.985a.551.551 0 0 0-.55-.55H11.11v-1.697h1.855a.55.55 0 0 0 .55-.55v-2.063c0-2.02 1.136-3.148 3.03-3.148.567 0 1.156.027 1.597.06v1.453h-.924c-1.363 0-1.93.675-1.93 1.912v1.78c0 .3.247.55.55.55h2.132l-.218 1.69H15.84c-.305 0-.55.24-.55.55v7.02c0 .33.293.59.623.54 5.135-.7 9.007-5.11 9.007-10.36C24.92 8.68 20.26 4 14.51 4\"></path></svg></span></button></div></div></div></div><div class=\"js-postPromotionWrapper postPromotionWrapper\" data-location-id=\"footer_above_post_attribution\"></div><div class=\"u-maxWidth740 u-paddingTop20 u-marginTop10 u-borderTopLightest container u-paddingBottom20 js-postAttributionFooterContainer u-xs-paddingTop10 u-xs-paddingBottom10\"><div class=\"row js-postFooterInfo\"><div class=\"col u-size6of12 u-xs-size12of12\"><li class=\"u-block u-paddingBottom18 js-cardUser\"><div class=\"u-marginLeft20 u-floatRight\"><span class=\"followState js-followState buttonSet-inner\" data-user-id=\"504c7870fdb6\"><button class=\"button button--small u-noUserSelect button--withChrome u-baseColor--buttonNormal button--withHover button--unblock js-unblockButton\" data-action=\"sign-in-prompt\" data-sign-in-action=\"toggle-block-user\" data-requires-token=\"true\" data-action-source=\"footer_card\"><span class=\"button-label  button-defaultState\">Blocked</span><span class=\"button-label button-hoverState\">Unblock</span></button><button class=\"button button--primary button--small u-noUserSelect button--withChrome u-accentColor--buttonNormal button--follow js-followButton\" data-action=\"sign-in-prompt\" data-sign-in-action=\"toggle-subscribe-user\" data-requires-token=\"true\" data-redirect=\"https://medium.com/_/subscribe/user/504c7870fdb6\" data-action-source=\"footer_card_follow\"><span class=\"button-label  button-defaultState js-buttonLabel\">Follow</span><span class=\"button-label button-activeState\">Following</span></button></span></div><div class=\"u-tableCell \"><a class=\"link avatar u-baseColor--link\" href=\"https://medium.com/@Medium?source=footer_card\" title=\"Go to the profile of Medium\" aria-label=\"Go to the profile of Medium\" data-action-source=\"footer_card\" data-user-id=\"504c7870fdb6\" dir=\"auto\"><img src=\"https://cdn-images-1.medium.com/fit/c/120/120/1*P_xM00gtMxf1Iw0tPewjnA.png\" class=\"avatar-image avatar-image--small\" alt=\"Go to the profile of Medium\"></a></div><div class=\"u-tableCell u-verticalAlignMiddle u-breakWord u-paddingLeft15\"><h3 class=\"u-fontSize18 u-lineHeightTighter u-marginBottom4\"><a class=\"link link--primary u-accentColor--hoverTextNormal\" href=\"https://medium.com/@Medium\" property=\"cc:attributionName\" title=\"Go to the profile of Medium\" aria-label=\"Go to the profile of Medium\" rel=\"author cc:attributionUrl\" data-user-id=\"504c7870fdb6\" dir=\"auto\">Medium</a></h3><p class=\"u-fontSize14 u-lineHeightBaseSans u-textColorDark u-marginBottom4\">Everyone’s stories and ideas</p></div></li></div><div class=\"col u-size6of12 u-xs-size12of12 u-xs-marginTop30\"><li class=\"u-block u-paddingBottom18 js-cardCollection\"><div class=\"u-marginLeft20 u-floatRight\"><button class=\"button button--primary button--small u-noUserSelect button--withChrome u-accentColor--buttonNormal js-relationshipButton\" data-action=\"sign-in-prompt\" data-sign-in-action=\"toggle-follow-collection\" data-requires-token=\"true\" data-redirect=\"https://medium.com/_/subscribe/collection/policy\" data-collection-id=\"675ebe56ac25\"><span class=\"button-label  js-buttonLabel\">Follow</span></button></div><div class=\"u-tableCell \"><a class=\"link avatar avatar--roundedRectangle u-baseColor--link\" href=\"https://medium.com/policy?source=footer_card\" title=\"Go to Medium Policy\" aria-label=\"Go to Medium Policy\" data-action-source=\"footer_card\"><img src=\"https://cdn-images-1.medium.com/fit/c/120/120/1*etUthOXG-BrZm25K7wEcgA.png\" class=\"avatar-image u-size60x60\" alt=\"Medium Policy\"></a></div><div class=\"u-tableCell u-verticalAlignMiddle u-breakWord u-paddingLeft15\"><h3 class=\"u-fontSize18 u-lineHeightTighter u-marginBottom4\"><a class=\"link link--primary u-accentColor--hoverTextNormal\" href=\"https://medium.com/policy?source=footer_card\" rel=\"collection\" data-action-source=\"footer_card\">Medium Policy</a></h3><p class=\"u-fontSize14 u-lineHeightBaseSans u-textColorDark u-marginBottom4\">The Fine Print</p><div class=\"buttonSet\"></div></div></li></div></div></div><div class=\"js-postFooterPlacements\"></div><div class=\"u-padding0 u-clearfix u-backgroundGrayLightest u-print-hide supplementalPostContent js-responsesWrapper\"></div><div class=\"supplementalPostContent js-readNext\"></div><div class=\"supplementalPostContent js-heroPromo\"></div></footer>'"
      ]
     },
     "execution_count": 13,
     "metadata": {},
     "output_type": "execute_result"
    }
   ],
   "source": [
    "first_json['content']"
   ]
  },
  {
   "cell_type": "code",
   "execution_count": 17,
   "metadata": {
    "collapsed": false
   },
   "outputs": [
    {
     "data": {
      "text/plain": [
       "[]"
      ]
     },
     "execution_count": 17,
     "metadata": {},
     "output_type": "execute_result"
    }
   ],
   "source": [
    "first_json['tags']"
   ]
  },
  {
   "cell_type": "code",
   "execution_count": 14,
   "metadata": {
    "collapsed": false
   },
   "outputs": [
    {
     "data": {
      "text/plain": [
       "{'name': None, 'twitter': '@Medium', 'url': 'https://medium.com/@Medium'}"
      ]
     },
     "execution_count": 14,
     "metadata": {},
     "output_type": "execute_result"
    }
   ],
   "source": [
    "first_json['author']"
   ]
  },
  {
   "cell_type": "code",
   "execution_count": 15,
   "metadata": {
    "collapsed": false
   },
   "outputs": [
    {
     "data": {
      "text/plain": [
       "{'alternate': 'android-app://com.medium.reader/https/medium.com/p/f03bf92035c9',\n",
       " 'apple-touch-icon': 'https://cdn-images-1.medium.com/fit/c/120/120/1*etUthOXG-BrZm25K7wEcgA.png',\n",
       " 'author': 'https://medium.com/@Medium',\n",
       " 'canonical': 'https://medium.com/policy/medium-privacy-policy-f03bf92035c9',\n",
       " 'icon': 'https://cdn-static-1.medium.com/_/fp/icons/favicon-medium.TAS6uQ-Y7kcKgi0xjcYHXw.ico',\n",
       " 'mask-icon': 'https://cdn-static-1.medium.com/_/fp/icons/favicon.KjTfUJo7yJH_fCoUzzH3cg.svg',\n",
       " 'publisher': 'https://plus.google.com/103654360130207659246',\n",
       " 'search': '/osd.xml',\n",
       " 'stylesheet': 'https://cdn-static-1.medium.com/_/fp/css/main-base.XLD2lHzXGLucmHpFdiqzSg.css'}"
      ]
     },
     "execution_count": 15,
     "metadata": {},
     "output_type": "execute_result"
    }
   ],
   "source": [
    "first_json['link_tags']"
   ]
  },
  {
   "cell_type": "code",
   "execution_count": 19,
   "metadata": {
    "collapsed": false,
    "scrolled": true
   },
   "outputs": [
    {
     "data": {
      "text/plain": [
       "{'al:android:app_name': 'Medium',\n",
       " 'al:android:package': 'com.medium.reader',\n",
       " 'al:android:url': 'medium://p/f44918df914b',\n",
       " 'al:ios:app_name': 'Medium',\n",
       " 'al:ios:app_store_id': '828256236',\n",
       " 'al:ios:url': 'medium://p/f44918df914b',\n",
       " 'al:web:url': 'https://hackernoon.com/how-does-rsa-work-f44918df914b',\n",
       " 'article:author': '10154344354411361',\n",
       " 'article:published_time': '2017-06-23T14:27:27.083Z',\n",
       " 'article:publisher': 'https://www.facebook.com/hackernoon',\n",
       " 'author': 'Short Tech Stories',\n",
       " 'description': 'RSA is an asymmetric system , which means that a key pair will be generated (we will see how soon) , a public key and a private key , obviously you keep your private key secure and pass around the…',\n",
       " 'fb:app_id': '542599432471018',\n",
       " 'og:description': 'Hey guys , I wanted to write a little bit about RSA cryptosystem .',\n",
       " 'og:image': 'https://cdn-images-1.medium.com/max/1200/1*pZvP5n6jrz-KYb1MJdR6-A.png',\n",
       " 'og:site_name': 'Hacker Noon',\n",
       " 'og:title': 'How does RSA work? – Hacker Noon',\n",
       " 'og:type': 'article',\n",
       " 'og:url': 'https://hackernoon.com/how-does-rsa-work-f44918df914b',\n",
       " 'referrer': 'unsafe-url',\n",
       " 'robots': 'index, follow',\n",
       " 'theme-color': '#000000',\n",
       " 'title': 'How does RSA work? – Hacker Noon',\n",
       " 'twitter:app:id:iphone': '828256236',\n",
       " 'twitter:app:name:iphone': 'Medium',\n",
       " 'twitter:app:url:iphone': 'medium://p/f44918df914b',\n",
       " 'twitter:card': 'summary_large_image',\n",
       " 'twitter:creator': '@Whiletruedotrue',\n",
       " 'twitter:data1': '4 min read',\n",
       " 'twitter:description': 'Hey guys , I wanted to write a little bit about RSA cryptosystem .',\n",
       " 'twitter:image:src': 'https://cdn-images-1.medium.com/max/1200/1*pZvP5n6jrz-KYb1MJdR6-A.png',\n",
       " 'twitter:label1': 'Reading time',\n",
       " 'twitter:site': '@hackernoon',\n",
       " 'viewport': 'width=device-width, initial-scale=1'}"
      ]
     },
     "execution_count": 19,
     "metadata": {},
     "output_type": "execute_result"
    }
   ],
   "source": [
    "first_json_t['meta_tags']"
   ]
  },
  {
   "cell_type": "code",
   "execution_count": 16,
   "metadata": {
    "collapsed": false,
    "scrolled": true
   },
   "outputs": [
    {
     "data": {
      "text/plain": [
       "{'al:android:app_name': 'Medium',\n",
       " 'al:android:package': 'com.medium.reader',\n",
       " 'al:android:url': 'medium://p/f03bf92035c9',\n",
       " 'al:ios:app_name': 'Medium',\n",
       " 'al:ios:app_store_id': '828256236',\n",
       " 'al:ios:url': 'medium://p/f03bf92035c9',\n",
       " 'al:web:url': 'https://medium.com/policy/medium-privacy-policy-f03bf92035c9',\n",
       " 'article:author': 'https://medium.com/@Medium',\n",
       " 'article:published_time': '2012-08-13T22:57:17.248Z',\n",
       " 'article:publisher': 'https://www.facebook.com/medium',\n",
       " 'author': 'Medium',\n",
       " 'description': 'Privacy is important. We respect yours. Our goal is to do more than we have to by law — we want to earn your trust that we are careful with your data. This policy sets out our privacy practices and…',\n",
       " 'fb:app_id': '542599432471018',\n",
       " 'og:description': 'Effective Date: April 10, 2014',\n",
       " 'og:site_name': 'Medium',\n",
       " 'og:title': 'Medium Privacy Policy – Medium Policy – Medium',\n",
       " 'og:type': 'article',\n",
       " 'og:url': 'https://medium.com/policy/medium-privacy-policy-f03bf92035c9',\n",
       " 'referrer': 'unsafe-url',\n",
       " 'robots': 'index, follow',\n",
       " 'theme-color': '#000000',\n",
       " 'title': 'Medium Privacy Policy – Medium Policy – Medium',\n",
       " 'twitter:app:id:iphone': '828256236',\n",
       " 'twitter:app:name:iphone': 'Medium',\n",
       " 'twitter:app:url:iphone': 'medium://p/f03bf92035c9',\n",
       " 'twitter:card': 'summary',\n",
       " 'twitter:creator': '@Medium',\n",
       " 'twitter:data1': '3 min read',\n",
       " 'twitter:description': 'Effective Date: April 10, 2014',\n",
       " 'twitter:label1': 'Reading time',\n",
       " 'twitter:site': '@Medium',\n",
       " 'viewport': 'width=device-width, initial-scale=1'}"
      ]
     },
     "execution_count": 16,
     "metadata": {},
     "output_type": "execute_result"
    }
   ],
   "source": [
    "first_json['meta_tags']"
   ]
  },
  {
   "cell_type": "markdown",
   "metadata": {},
   "source": [
    "Загрузим ответы на обучающей выборке."
   ]
  },
  {
   "cell_type": "code",
   "execution_count": 20,
   "metadata": {
    "collapsed": false,
    "scrolled": true
   },
   "outputs": [],
   "source": [
    "train_target = pd.read_csv(os.path.join(PATH_TO_DATA, \n",
    "                                        'train_log1p_recommends.csv'), index_col='id')\n",
    "y_train = train_target['log_recommends'].values"
   ]
  },
  {
   "cell_type": "code",
   "execution_count": 21,
   "metadata": {
    "collapsed": false
   },
   "outputs": [
    {
     "data": {
      "text/html": [
       "<div>\n",
       "<table border=\"1\" class=\"dataframe\">\n",
       "  <thead>\n",
       "    <tr style=\"text-align: right;\">\n",
       "      <th></th>\n",
       "      <th>log_recommends</th>\n",
       "    </tr>\n",
       "    <tr>\n",
       "      <th>id</th>\n",
       "      <th></th>\n",
       "    </tr>\n",
       "  </thead>\n",
       "  <tbody>\n",
       "    <tr>\n",
       "      <th>0</th>\n",
       "      <td>6.90875</td>\n",
       "    </tr>\n",
       "    <tr>\n",
       "      <th>1</th>\n",
       "      <td>5.98394</td>\n",
       "    </tr>\n",
       "    <tr>\n",
       "      <th>6</th>\n",
       "      <td>6.21661</td>\n",
       "    </tr>\n",
       "    <tr>\n",
       "      <th>12</th>\n",
       "      <td>2.30259</td>\n",
       "    </tr>\n",
       "    <tr>\n",
       "      <th>15</th>\n",
       "      <td>4.70048</td>\n",
       "    </tr>\n",
       "  </tbody>\n",
       "</table>\n",
       "</div>"
      ],
      "text/plain": [
       "    log_recommends\n",
       "id                \n",
       "0          6.90875\n",
       "1          5.98394\n",
       "6          6.21661\n",
       "12         2.30259\n",
       "15         4.70048"
      ]
     },
     "execution_count": 21,
     "metadata": {},
     "output_type": "execute_result"
    }
   ],
   "source": [
    "train_target.head()"
   ]
  },
  {
   "cell_type": "markdown",
   "metadata": {},
   "source": [
    "Сформируйте обучающую выборку для Vowpal Wabbit, выберите признаки title, tags, domain, flow, author, и hubs из JSON-файла.\n",
    "От самого текста для начала просто возьмем его длину: постройте признак content_len – длина текста в миллионах символов.\n",
    "Также постройте признаки: час и месяц публикации статьи. Еще, конечно же, возьмите ответы на обучающей выборке из `train_target`. Ниже пример того, как могут выглядеть первые две строки нового файла."
   ]
  },
  {
   "cell_type": "code",
   "execution_count": 22,
   "metadata": {
    "collapsed": true
   },
   "outputs": [],
   "source": [
    "from html.parser import HTMLParser\n",
    "\n",
    "class MLStripper(HTMLParser):\n",
    "    def __init__(self):\n",
    "        self.reset()\n",
    "        self.strict = False\n",
    "        self.convert_charrefs= True\n",
    "        self.fed = []\n",
    "    def handle_data(self, d):\n",
    "        self.fed.append(d)\n",
    "    def get_data(self):\n",
    "        return ' '.join(self.fed)\n",
    "\n",
    "def strip_tags(html):\n",
    "    s = MLStripper()\n",
    "    s.feed(html)\n",
    "    return s.get_data()"
   ]
  },
  {
   "cell_type": "code",
   "execution_count": 23,
   "metadata": {
    "collapsed": true
   },
   "outputs": [],
   "source": [
    "def nonuniq_words(text):\n",
    "    return [e.lower() for e in re.findall(\"\\w+\", text, re.UNICODE)]\n",
    "\n",
    "def prepare(text):\n",
    "    return ' '.join(nonuniq_words(text))\n",
    "\n",
    "def prepare_ngr(v):\n",
    "    s = v.lower().replace('\\n', ' ').replace('|', '_').replace(':', '_')\n",
    "    res = []\n",
    "    for i in range(len(s)):\n",
    "        if s[i] == ' ':\n",
    "            continue\n",
    "        if not s[i].isalpha():\n",
    "            res.append(s[i])\n",
    "        #if i < len(s) - 1:\n",
    "        #    res.append(s[i:i+2].replace(' ', '_'))\n",
    "        if i < len(s) - 2:\n",
    "            res.append(s[i:i+3].replace(' ', '_'))\n",
    "    return ' '.join(res)"
   ]
  },
  {
   "cell_type": "code",
   "execution_count": 24,
   "metadata": {
    "collapsed": true
   },
   "outputs": [],
   "source": [
    "def process_json(json_data):\n",
    "    res = dict()\n",
    "    for k, v in json_data.items():\n",
    "        if k == 'quality':\n",
    "            continue\n",
    "        if isinstance(v, dict):\n",
    "            for k1, v1 in v.items():\n",
    "                #print(k, k1, v1)\n",
    "                res[k + '_' + k1] = v1\n",
    "        else:\n",
    "            #print(k, v)\n",
    "            res[k] = v\n",
    "    return res\n",
    "\n",
    "def getFeatures(json_data):\n",
    "    sc = json_data['content']\n",
    "    tc = nonuniq_words(sc)\n",
    "\n",
    "    st = json_data['title']\n",
    "    tt = nonuniq_words(st)\n",
    "\n",
    "    return [np.log(1 + len(sc)),\n",
    "                 np.log(1 + len(tc)),\n",
    "                 len(set(tc)) / len(tc),\n",
    "                 len(zlib.compress(sc.encode('utf-8'))) / len(sc.encode('utf-8')),\n",
    "                 np.log(1 + len(st)),\n",
    "                 np.log(1 + len(tt)),\n",
    "                 len(set(tt)) / len(tt),\n",
    "                 len(zlib.compress(st.encode('utf-8'))) / len(st.encode('utf-8')),\n",
    "                 int(sc.find('.gif') != -1)\n",
    "                ]"
   ]
  },
  {
   "cell_type": "code",
   "execution_count": 25,
   "metadata": {
    "collapsed": false,
    "scrolled": true
   },
   "outputs": [],
   "source": [
    "def prepareData(input_filename, output_filename, y_train=None, is_content=False, is_ngr=False):\n",
    "    my_targets = []\n",
    "\n",
    "    with open(output_filename, 'w', encoding='utf-8') as fout, \\\n",
    "         open(input_filename) as inp_json:\n",
    "        k = 0\n",
    "        for line in tqdm_notebook(inp_json):\n",
    "            json_data = json.loads(line)\n",
    "            res = process_json(json_data)\n",
    "            if y_train is not None:\n",
    "                s = str(y_train[k]) + ' '\n",
    "            else:\n",
    "                s = '1 '\n",
    "            for ek, ev in res.items():\n",
    "                if ek == 'meta_tags':\n",
    "                    continue\n",
    "                if ek == 'content':\n",
    "                    if is_content is False:\n",
    "                        continue\n",
    "                    ev = strip_tags(ev.split('recommends\"')[0])\n",
    "                if is_ngr is False:\n",
    "                    s += '|' + ek.replace(':', '_') + ' ' + prepare(str(ev)) + ' '\n",
    "                else:\n",
    "                    s += '|' + ek.replace(':', '_') + ' ' + prepare_ngr(str(ev)) + ' '\n",
    "                    \n",
    "\n",
    "            features = getFeatures(json_data)\n",
    "            feature_names = ['f1', 'f2', 'f3', 'f4', 'f5', 'f6', 'f7', 'f8', 'f9']\n",
    "            for fn, fv in zip(feature_names, features):\n",
    "                s += fn + ':{:.5f}'.format(fv) + ' '\n",
    "\n",
    "            s += 'year:{}'.format(int(json_data['published']['$date'].split('-')[0])) + ' '\n",
    "            s += 'month:{}'.format(int(json_data['published']['$date'].split('-')[1])) + ' '\n",
    "            s += 'hour:{}'.format(int(json_data['published']['$date'][11:13])) + ' '\n",
    "\n",
    "            fout.write(s + '\\n')\n",
    "\n",
    "            try:\n",
    "                my_targets.append(json_data['content'].split('recommends\"')[1].split('<')[0].split('>')[1])\n",
    "            except:\n",
    "                print(json_data['content'])\n",
    "                raise\n",
    "\n",
    "            k += 1\n",
    "            #if k == 2000:\n",
    "            #    break\n",
    "    return my_targets"
   ]
  },
  {
   "cell_type": "code",
   "execution_count": 26,
   "metadata": {
    "collapsed": false
   },
   "outputs": [
    {
     "name": "stdout",
     "output_type": "stream",
     "text": [
      "\n"
     ]
    }
   ],
   "source": [
    "my_targets = prepareData('medium/train.json', 'medium/train_content.vw', y_train=y_train, is_content=True);"
   ]
  },
  {
   "cell_type": "code",
   "execution_count": 27,
   "metadata": {
    "collapsed": false
   },
   "outputs": [],
   "source": [
    "#my_targets = prepareData('medium/train.json', 'medium/train.vw', y_train=y_train, is_content=False)"
   ]
  },
  {
   "cell_type": "code",
   "execution_count": 28,
   "metadata": {
    "collapsed": false
   },
   "outputs": [],
   "source": [
    "#my_targets = prepareData('medium/train.json', 'medium/train_ngr.vw', y_train=y_train, is_content=True, is_ngr=True)"
   ]
  },
  {
   "cell_type": "code",
   "execution_count": 29,
   "metadata": {
    "collapsed": true
   },
   "outputs": [],
   "source": [
    "my_targets_int = []\n",
    "for e in my_targets:\n",
    "    if e.find('K') != -1:\n",
    "        my_targets_int.append(int(float(e[:-1])) * 1000)\n",
    "    else:\n",
    "        my_targets_int.append(int(e))"
   ]
  },
  {
   "cell_type": "markdown",
   "metadata": {},
   "source": [
    "Проделайте все то же с тестовой выборкой, вместо ответов подсовывая что угодно, например, единицы."
   ]
  },
  {
   "cell_type": "code",
   "execution_count": 30,
   "metadata": {
    "collapsed": false
   },
   "outputs": [
    {
     "name": "stdout",
     "output_type": "stream",
     "text": [
      "\n"
     ]
    }
   ],
   "source": [
    "my_targets_test = prepareData('medium/test.json', 'medium/test_content.vw', y_train=None, is_content=True);"
   ]
  },
  {
   "cell_type": "code",
   "execution_count": 31,
   "metadata": {
    "collapsed": false
   },
   "outputs": [],
   "source": [
    "#my_targets_test = prepareData('medium/test.json', 'medium/test.vw', y_train=None, is_content=False)"
   ]
  },
  {
   "cell_type": "code",
   "execution_count": 32,
   "metadata": {
    "collapsed": false
   },
   "outputs": [],
   "source": [
    "#my_targets_test = prepareData('medium/test.json', 'medium/test_ngr.vw', y_train=None, is_content=True, is_ngr=True)"
   ]
  },
  {
   "cell_type": "code",
   "execution_count": 33,
   "metadata": {
    "collapsed": true
   },
   "outputs": [],
   "source": [
    "my_targets_test_int = []\n",
    "for e in my_targets_test:\n",
    "    if e.find('K') != -1:\n",
    "        my_targets_test_int.append(int(float(e[:-1])) * 1000)\n",
    "    else:\n",
    "        my_targets_test_int.append(int(e))"
   ]
  },
  {
   "cell_type": "code",
   "execution_count": 34,
   "metadata": {
    "collapsed": true
   },
   "outputs": [],
   "source": [
    "y_test = [np.log(1 + e) for e in my_targets_test_int]"
   ]
  },
  {
   "cell_type": "code",
   "execution_count": null,
   "metadata": {
    "collapsed": true
   },
   "outputs": [],
   "source": []
  },
  {
   "cell_type": "code",
   "execution_count": 169,
   "metadata": {
    "collapsed": false,
    "scrolled": true
   },
   "outputs": [],
   "source": [
    "#!head -2 medium/train_content.vw"
   ]
  },
  {
   "cell_type": "code",
   "execution_count": 40,
   "metadata": {
    "collapsed": false,
    "scrolled": true
   },
   "outputs": [],
   "source": [
    "#!head -2 medium/test_content.vw"
   ]
  },
  {
   "cell_type": "code",
   "execution_count": null,
   "metadata": {
    "collapsed": true
   },
   "outputs": [],
   "source": []
  },
  {
   "cell_type": "markdown",
   "metadata": {},
   "source": [
    "Выбор того, как валидировать модель, остается за Вами. Проще всего, конечно, сделать отложенную выборку. Бенчмарк, который Вы видите в соревновании (**vw_baseline.csv**) и который надо побить, получен с Vowpal Wabbit, 3 проходами по выборке (не забываем удалять кэш), биграммами и настроенными гиперпараметрами `bits`, `learning_rate` и `power_t`. "
   ]
  },
  {
   "cell_type": "code",
   "execution_count": 145,
   "metadata": {
    "collapsed": false
   },
   "outputs": [],
   "source": [
    "#!vw --help"
   ]
  },
  {
   "cell_type": "code",
   "execution_count": 161,
   "metadata": {
    "collapsed": true
   },
   "outputs": [],
   "source": [
    "!head -n 32699 medium/train.vw > medium/train_head_32699.vw\n",
    "!tail -n 20000 medium/train.vw > medium/train_tail_20000.vw"
   ]
  },
  {
   "cell_type": "code",
   "execution_count": 162,
   "metadata": {
    "collapsed": true
   },
   "outputs": [],
   "source": [
    "!head -n 32699 medium/train_content.vw > medium/train_content_head_32699.vw\n",
    "!tail -n 20000 medium/train_content.vw > medium/train_content_tail_20000.vw"
   ]
  },
  {
   "cell_type": "code",
   "execution_count": 41,
   "metadata": {
    "collapsed": false
   },
   "outputs": [],
   "source": [
    "!head -n 32699 medium/train_ngr.vw > medium/train_ngr_head_32699.vw\n",
    "!tail -n 20000 medium/train_ngr.vw > medium/train_ngr_tail_20000.vw"
   ]
  },
  {
   "cell_type": "code",
   "execution_count": 35,
   "metadata": {
    "collapsed": true
   },
   "outputs": [],
   "source": [
    "def cleanCache():\n",
    "    for e in glob.glob(\"medium/*.cache\"):\n",
    "        os.remove(e)"
   ]
  },
  {
   "cell_type": "code",
   "execution_count": 36,
   "metadata": {
    "collapsed": true
   },
   "outputs": [],
   "source": [
    "def learn(tr, bb, lr, pt, model, ngram=2, passes=10, l2=0, dlr=1.0, random_seed=17):\n",
    "    cleanCache()\n",
    "    \n",
    "    !vw -d $tr --loss_function quantile -f $model \\\n",
    "    -b $bb --random_seed $random_seed -c \\\n",
    "    --passes $passes --ngram $ngram --learning_rate $lr --power_t $pt --l2 $l2 --decay_learning_rate $dlr\n",
    "\n",
    "def predict(tt, model, out):\n",
    "    cleanCache()\n",
    "    !vw -i $model --quiet -t -d $tt -p $out\n",
    "    \n",
    "def getPredictions(filename):\n",
    "    with open(filename) as pred_file:\n",
    "        test_prediction = [float(label) for label in pred_file.readlines()]    \n",
    "    return np.array(test_prediction)    "
   ]
  },
  {
   "cell_type": "code",
   "execution_count": 37,
   "metadata": {
    "collapsed": true
   },
   "outputs": [],
   "source": [
    "def run(tr, te, ngram=2):\n",
    "    model_tr = tr[:-3] + '_model.vw'\n",
    "\n",
    "    #tr = 'medium/train.vw'\n",
    "    #te = 'medium/train_tail10000.vw'\n",
    "\n",
    "    errors = dict()\n",
    "    for lr in np.linspace(0.1, 0.5, 3):\n",
    "        for pt in np.linspace(0.1, 0.5, 3):\n",
    "            for bits in np.linspace(25, 25, 1):\n",
    "                for ps in [5, 10]:\n",
    "                    print('==========================================')\n",
    "                    print(str(lr) + ' ' + str(pt) + ' ' + str(bits) + ' ' + str(ps))\n",
    "                    print('==========================================')\n",
    "                    bb = int(bits)\n",
    "\n",
    "                    learn(tr, bb, lr, pt, model_tr, ngram=ngram, passes=ps)\n",
    "                    predict(te, model_tr, 'predictions_te.txt')\n",
    "\n",
    "        #             !vw -d $tr --loss_function quantile -f $model_tr \\\n",
    "        #             -b $bb --random_seed 17 -c \\\n",
    "        #             --passes 10 --ngram 2 --learning_rate $lr --power_t $pt\n",
    "\n",
    "        #             !vw -i $model_tr -c -t -d $te -p predictions_te.txt\n",
    "\n",
    "                    te_prediction = getPredictions('predictions_te.txt')\n",
    "\n",
    "                    err = mean_absolute_error(y_train[-len(te_prediction):], te_prediction)\n",
    "                    print('Loss: ', err)\n",
    "                    errors[str(lr) + ' ' + str(pt) + ' ' + str(int(bits)) + ' ' + str(ps)] = err\n",
    "    return errors"
   ]
  },
  {
   "cell_type": "code",
   "execution_count": 85,
   "metadata": {
    "collapsed": false,
    "scrolled": true
   },
   "outputs": [],
   "source": [
    "#tr = 'medium/train_head_32699.vw'\n",
    "#te = 'medium/train_tail_20000.vw'\n",
    "#errors = run(tr, te)"
   ]
  },
  {
   "cell_type": "code",
   "execution_count": 83,
   "metadata": {
    "collapsed": false,
    "scrolled": true
   },
   "outputs": [],
   "source": [
    "#tr = 'medium/train_ngr_head_32699.vw'\n",
    "#te = 'medium/train_ngr_tail_20000.vw'\n",
    "#errors_ngr = run(tr, te)"
   ]
  },
  {
   "cell_type": "code",
   "execution_count": 84,
   "metadata": {
    "collapsed": false,
    "scrolled": true
   },
   "outputs": [],
   "source": [
    "#tr = 'medium/train_content_head_32699.vw'\n",
    "#te = 'medium/train_content_tail_20000.vw'\n",
    "#run(tr, te)"
   ]
  },
  {
   "cell_type": "code",
   "execution_count": 173,
   "metadata": {
    "collapsed": false,
    "scrolled": true
   },
   "outputs": [
    {
     "data": {
      "text/plain": [
       "[('0.3 0.5 25', 1.0020124924999998)]"
      ]
     },
     "execution_count": 173,
     "metadata": {},
     "output_type": "execute_result"
    }
   ],
   "source": [
    "sorted(errors.items(), key=lambda x: x[1])"
   ]
  },
  {
   "cell_type": "code",
   "execution_count": 155,
   "metadata": {
    "collapsed": false,
    "scrolled": true
   },
   "outputs": [
    {
     "name": "stdout",
     "output_type": "stream",
     "text": [
      "Generating 3-grams for all namespaces.\n",
      "final_regressor = medium/train_content_model_4.vw\n",
      "Num weight bits = 23\n",
      "learning rate = 0.3\n",
      "initial_t = 0\n",
      "power_t = 0.5\n",
      "decay_learning_rate = 1\n",
      "creating cache_file = medium/train_content.vw.cache\n",
      "Reading datafile = medium/train_content.vw\n",
      "num sources = 1\n",
      "average  since         example        example  current  current  current\n",
      "loss     last          counter         weight    label  predict features\n",
      "3.454375 3.454375            1            1.0   6.9088   0.0000     4469\n",
      "1.985187 0.515999            2            2.0   5.9839   4.9519     3284\n",
      "1.421689 0.858192            4            4.0   2.3026   2.5519     2074\n",
      "1.197840 0.973990            8            8.0   5.4510   6.9088    13864\n",
      "0.888143 0.578446           16           16.0   1.3863   1.2910     3487\n",
      "0.738415 0.588687           32           32.0   3.8286   4.4516     5317\n",
      "0.644099 0.549784           64           64.0   1.0986   1.4745     1366\n",
      "0.657179 0.670259          128          128.0   4.4998   3.1345     6319\n",
      "0.547157 0.437136          256          256.0   2.7081   2.3866     5791\n",
      "0.486821 0.426485          512          512.0   1.0986   1.7493     2773\n",
      "0.506828 0.526836         1024         1024.0   5.6664   4.3416     6901\n",
      "0.532425 0.558021         2048         2048.0   3.4657   4.2085     4403\n",
      "0.512492 0.492559         4096         4096.0   2.0794   2.4869     4960\n",
      "0.489356 0.466220         8192         8192.0   2.3026   1.7174     3160\n",
      "0.483769 0.478182        16384        16384.0   4.1431   4.0521     8699\n",
      "0.466266 0.448763        32768        32768.0   3.8918   1.3093     1349\n",
      "0.434882 0.434882        65536        65536.0   2.4849   3.3608     6520 h\n",
      "0.425026 0.415172       131072       131072.0   4.0604   4.0003     1967 h\n",
      "0.417771 0.410515       262144       262144.0   1.3863   1.3711     2468 h\n",
      "\n",
      "finished run\n",
      "number of examples per pass = 47430\n",
      "passes used = 7\n",
      "weighted example sum = 332010.000000\n",
      "weighted label sum = 789147.516423\n",
      "average loss = 0.410214 h\n",
      "total feature number = 1338109339\n",
      "CPU times: user 2.02 s, sys: 288 ms, total: 2.31 s\n",
      "Wall time: 2min 9s\n"
     ]
    }
   ],
   "source": [
    "%%time\n",
    "passes = [12, 12, 12, 12, 10]\n",
    "bbb = [25, 24, 23, 22, 23]\n",
    "ngrams = [2, 2, 2, 2, 3]\n",
    "for j in range(5):\n",
    "    if j < 4:\n",
    "        continue\n",
    "    learn('medium/train_content.vw', bbb[j], 0.3, 0.5, 'medium/train_content_model_{}.vw'.format(j), \n",
    "          l2=0, dlr=1.0, random_seed=17*(j+1), passes=passes[j], ngram=ngrams[j])"
   ]
  },
  {
   "cell_type": "code",
   "execution_count": 95,
   "metadata": {
    "collapsed": false,
    "scrolled": true
   },
   "outputs": [],
   "source": [
    "#%%time\n",
    "#learn('medium/train.vw', 25, 0.3, 0.5, 'medium/train_model.vw')"
   ]
  },
  {
   "cell_type": "code",
   "execution_count": 82,
   "metadata": {
    "collapsed": false,
    "scrolled": true
   },
   "outputs": [],
   "source": [
    "#%%time\n",
    "#learn('medium/train_ngr.vw', 20, 0.3, 0.5, 'medium/train_ngr_model.vw', ngram=1, passes=5)"
   ]
  },
  {
   "cell_type": "code",
   "execution_count": 78,
   "metadata": {
    "collapsed": false,
    "scrolled": true
   },
   "outputs": [],
   "source": [
    "#predict('medium/test_content.vw', 'medium/train_content_model.vw', 'predictions_content_test.txt')"
   ]
  },
  {
   "cell_type": "code",
   "execution_count": 38,
   "metadata": {
    "collapsed": false,
    "scrolled": true
   },
   "outputs": [
    {
     "name": "stdout",
     "output_type": "stream",
     "text": [
      "Generating 3-grams for all namespaces.\n",
      "final_regressor = medium/train_content_model.vw\n",
      "Num weight bits = 23\n",
      "learning rate = 0.3\n",
      "initial_t = 0\n",
      "power_t = 0.5\n",
      "decay_learning_rate = 1\n",
      "creating cache_file = medium/train_content.vw.cache\n",
      "Reading datafile = medium/train_content.vw\n",
      "num sources = 1\n",
      "average  since         example        example  current  current  current\n",
      "loss     last          counter         weight    label  predict features\n",
      "3.454375 3.454375            1            1.0   6.9088   0.0000     4415\n",
      "2.013198 0.572021            2            2.0   5.9839   4.8399     3230\n",
      "1.458790 0.904383            4            4.0   2.3026   2.6260     2011\n",
      "1.225534 0.992277            8            8.0   5.4510   6.9088    13816\n",
      "0.903333 0.581133           16           16.0   1.3863   1.3528     3400\n",
      "0.749378 0.595424           32           32.0   3.8286   4.5506     5221\n",
      "0.653865 0.558352           64           64.0   1.0986   1.4771     1273\n",
      "0.668741 0.683616          128          128.0   4.4998   3.1623     6235\n",
      "0.556712 0.444683          256          256.0   2.7081   2.2856     5698\n",
      "0.494445 0.432178          512          512.0   1.0986   1.7400     2731\n",
      "0.515015 0.535586         1024         1024.0   5.6664   3.8933     6745\n",
      "0.545634 0.576252         2048         2048.0   3.4657   4.0861     4331\n",
      "0.529152 0.512670         4096         4096.0   2.0794   2.6296     4870\n",
      "0.509431 0.489710         8192         8192.0   2.3026   1.7207     3121\n",
      "0.508900 0.508368        16384        16384.0   4.1431   4.2757     8672\n",
      "0.497591 0.486283        32768        32768.0   3.8918   1.4722     1307\n",
      "0.470686 0.470686        65536        65536.0   2.4849   3.3447     6442 h\n",
      "0.462817 0.454949       131072       131072.0   4.0604   4.0357     1862 h\n",
      "0.457329 0.451842       262144       262144.0   1.3863   1.3729     2444 h\n",
      "\n",
      "finished run\n",
      "number of examples per pass = 47430\n",
      "passes used = 7\n",
      "weighted example sum = 332010.000000\n",
      "weighted label sum = 789147.516423\n",
      "average loss = 0.451149 h\n",
      "total feature number = 1311737308\n"
     ]
    }
   ],
   "source": [
    "learn('medium/train_content.vw', 23, 0.3, 0.5, 'medium/train_content_model.vw', \n",
    "      l2=0, dlr=1.0, random_seed=17, passes=10, ngram=3)"
   ]
  },
  {
   "cell_type": "code",
   "execution_count": null,
   "metadata": {
    "collapsed": true
   },
   "outputs": [],
   "source": []
  },
  {
   "cell_type": "code",
   "execution_count": 156,
   "metadata": {
    "collapsed": false
   },
   "outputs": [
    {
     "name": "stdout",
     "output_type": "stream",
     "text": [
      "4\n"
     ]
    }
   ],
   "source": [
    "for j in range(5):\n",
    "    if j < 4:\n",
    "        continue\n",
    "    print(j)\n",
    "    predict('medium/test_content.vw', 'medium/train_content_model_{}.vw'.format(j), 'predictions_content_{}_test.txt'.format(j))"
   ]
  },
  {
   "cell_type": "code",
   "execution_count": 67,
   "metadata": {
    "collapsed": true
   },
   "outputs": [],
   "source": [
    "#predict('medium/test.vw', 'medium/train_model.vw', 'predictions_test.txt')"
   ]
  },
  {
   "cell_type": "code",
   "execution_count": 57,
   "metadata": {
    "collapsed": true
   },
   "outputs": [],
   "source": [
    "#predict('medium/test_ngr.vw', 'medium/train_ngr_model.vw', 'predictions_ngr_test.txt')"
   ]
  },
  {
   "cell_type": "code",
   "execution_count": null,
   "metadata": {
    "collapsed": true
   },
   "outputs": [],
   "source": []
  },
  {
   "cell_type": "code",
   "execution_count": 39,
   "metadata": {
    "collapsed": true
   },
   "outputs": [],
   "source": [
    "predict('medium/test_content.vw', 'medium/train_content_model.vw', 'predictions_content_test.txt')"
   ]
  },
  {
   "cell_type": "code",
   "execution_count": null,
   "metadata": {
    "collapsed": true
   },
   "outputs": [],
   "source": []
  },
  {
   "cell_type": "code",
   "execution_count": 157,
   "metadata": {
    "collapsed": false
   },
   "outputs": [
    {
     "name": "stdout",
     "output_type": "stream",
     "text": [
      "0.700650455245\n",
      "0.698815583589\n",
      "0.696167292049\n",
      "0.697614773656\n",
      "0.67863150442\n"
     ]
    }
   ],
   "source": [
    "test_content_prediction_list = []\n",
    "for j in range(5):\n",
    "    test_content_prediction_list.append(getPredictions('predictions_content_{}_test.txt'.format(j)))\n",
    "    print(mean_absolute_error(y_test, test_content_prediction_list[-1]))"
   ]
  },
  {
   "cell_type": "code",
   "execution_count": 161,
   "metadata": {
    "collapsed": true
   },
   "outputs": [],
   "source": [
    "pred_final = test_content_prediction_list[1]\n",
    "for j in range(2, 5):\n",
    "    pred_final += test_content_prediction_list[j]\n",
    "pred_final /= 4"
   ]
  },
  {
   "cell_type": "code",
   "execution_count": 163,
   "metadata": {
    "collapsed": true
   },
   "outputs": [],
   "source": [
    "pred_final = test_content_prediction_list[4]"
   ]
  },
  {
   "cell_type": "code",
   "execution_count": 164,
   "metadata": {
    "collapsed": false
   },
   "outputs": [
    {
     "name": "stdout",
     "output_type": "stream",
     "text": [
      "0.67863150442\n"
     ]
    }
   ],
   "source": [
    "print(mean_absolute_error(y_test, pred_final))"
   ]
  },
  {
   "cell_type": "code",
   "execution_count": 40,
   "metadata": {
    "collapsed": true
   },
   "outputs": [],
   "source": [
    "pred_final = getPredictions('predictions_content_test.txt')"
   ]
  },
  {
   "cell_type": "code",
   "execution_count": 41,
   "metadata": {
    "collapsed": false
   },
   "outputs": [
    {
     "name": "stdout",
     "output_type": "stream",
     "text": [
      "0.758736542492\n"
     ]
    }
   ],
   "source": [
    "print(mean_absolute_error(y_test, pred_final))"
   ]
  },
  {
   "cell_type": "code",
   "execution_count": null,
   "metadata": {
    "collapsed": true
   },
   "outputs": [],
   "source": []
  },
  {
   "cell_type": "code",
   "execution_count": null,
   "metadata": {
    "collapsed": true
   },
   "outputs": [],
   "source": []
  },
  {
   "cell_type": "code",
   "execution_count": 165,
   "metadata": {
    "collapsed": false
   },
   "outputs": [
    {
     "name": "stdout",
     "output_type": "stream",
     "text": [
      "0.67863150442\n"
     ]
    }
   ],
   "source": [
    "print(mean_absolute_error(y_test, pred_final))"
   ]
  },
  {
   "cell_type": "code",
   "execution_count": null,
   "metadata": {
    "collapsed": true
   },
   "outputs": [],
   "source": []
  },
  {
   "cell_type": "code",
   "execution_count": 166,
   "metadata": {
    "collapsed": true
   },
   "outputs": [],
   "source": [
    "def write_submission_file(prediction, filename,\n",
    "                          path_to_sample=os.path.join(PATH_TO_DATA,\n",
    "                                        'sample_submission.csv')):\n",
    "    submission = pd.read_csv(path_to_sample, index_col='id')\n",
    "    \n",
    "    submission['log_recommends'] = prediction\n",
    "    submission.to_csv(filename)"
   ]
  },
  {
   "cell_type": "code",
   "execution_count": 167,
   "metadata": {
    "collapsed": true
   },
   "outputs": [],
   "source": [
    "write_submission_file(pred_final, os.path.join(PATH_TO_DATA, 'vw_2.csv'))"
   ]
  },
  {
   "cell_type": "code",
   "execution_count": null,
   "metadata": {
    "collapsed": true
   },
   "outputs": [],
   "source": []
  }
 ],
 "metadata": {
  "kernelspec": {
   "display_name": "Python 3",
   "language": "python",
   "name": "python3"
  },
  "language_info": {
   "codemirror_mode": {
    "name": "ipython",
    "version": 3
   },
   "file_extension": ".py",
   "mimetype": "text/x-python",
   "name": "python",
   "nbconvert_exporter": "python",
   "pygments_lexer": "ipython3",
   "version": "3.4.3"
  },
  "widgets": {
   "state": {
    "2b48efe77b7f41fe88e5f35b38876fd3": {
     "views": [
      {
       "cell_index": 33
      }
     ]
    },
    "d95b239167244f58827055fa5172a64a": {
     "views": [
      {
       "cell_index": 38
      }
     ]
    }
   },
   "version": "1.2.0"
  }
 },
 "nbformat": 4,
 "nbformat_minor": 2
}
