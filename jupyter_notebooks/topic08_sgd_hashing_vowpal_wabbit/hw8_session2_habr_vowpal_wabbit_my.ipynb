{
 "cells": [
  {
   "cell_type": "markdown",
   "metadata": {},
   "source": [
    "<center>\n",
    "<img src=\"../../img/ods_stickers.jpg\">\n",
    "## Открытый курс по машинному обучению. Сессия № 2\n",
    "</center>\n",
    "Автор материала: программист-исследователь Mail.ru Group, старший преподаватель Факультета Компьютерных Наук ВШЭ Юрий Кашницкий. Материал распространяется на условиях лицензии [Creative Commons CC BY-NC-SA 4.0](https://creativecommons.org/licenses/by-nc-sa/4.0/). Можно использовать в любых целях (редактировать, поправлять и брать за основу), кроме коммерческих, но с обязательным упоминанием автора материала."
   ]
  },
  {
   "cell_type": "markdown",
   "metadata": {},
   "source": [
    "# <center>Домашнее задание № 8\n",
    "## <center> Vowpal Wabbit в задаче прогнозирования популярности статьи на хабре"
   ]
  },
  {
   "cell_type": "markdown",
   "metadata": {},
   "source": [
    "В этом задании надо побить бенчмарк в [соревновании](https://www.kaggle.com/c/habr-num-bookmarks) на Kaggle Inclass. Как это делать – ограничений нет (кроме, конечно, ручной разметки), прочитать правила можно [тут](https://www.kaggle.com/c/habr-num-bookmarks/rules). Ниже описаны инструкции, как это сделать с Vowpal Wabbit.\n",
    "\n",
    "Дедлайн: 31 октября 23:59 UTC +3. Решение надо будет загрузить по [ссылке](https://www.dropbox.com/request/g5WOPrxwvcYwADZCuoY7). В этом соревновании нет задачи победить. Цель – побить бенчмарк и продвинуться в [соревновании](https://mlcourse.arktur.io) по прогнозу популярности статьи на Medium. "
   ]
  },
  {
   "cell_type": "code",
   "execution_count": 26,
   "metadata": {
    "collapsed": true
   },
   "outputs": [],
   "source": [
    "import numpy as np\n",
    "import pandas as pd\n",
    "import json\n",
    "import re\n",
    "from tqdm import tqdm_notebook\n",
    "from sklearn.metrics import mean_absolute_error\n",
    "\n",
    "import matplotlib.pyplot as plt\n",
    "%matplotlib inline"
   ]
  },
  {
   "cell_type": "markdown",
   "metadata": {},
   "source": [
    "Посмотрим на одну из строчек в JSON-файле: считаем ее с помощью библиотеки json. Эта строчка соответствует [7-ой статье](https://habrahabr.ru/post/7/) на Хабре."
   ]
  },
  {
   "cell_type": "code",
   "execution_count": 2,
   "metadata": {
    "collapsed": true
   },
   "outputs": [],
   "source": [
    "!head -1 train.json > train1.json"
   ]
  },
  {
   "cell_type": "code",
   "execution_count": 141,
   "metadata": {
    "collapsed": false,
    "scrolled": true
   },
   "outputs": [],
   "source": [
    "#!head -2 train.json"
   ]
  },
  {
   "cell_type": "code",
   "execution_count": 4,
   "metadata": {
    "collapsed": true
   },
   "outputs": [],
   "source": [
    "with open('train1.json') as inp_json:\n",
    "    first_json = json.load(inp_json)"
   ]
  },
  {
   "cell_type": "code",
   "execution_count": 5,
   "metadata": {
    "collapsed": false
   },
   "outputs": [
    {
     "data": {
      "text/plain": [
       "dict_keys(['domain', 'flow', 'post_id', 'content', 'published', 'polling', 'flags', 'author', 'hubs', 'title', 'link_tags', 'url', '_timestamp', 'meta_tags', 'tags', '_id'])"
      ]
     },
     "execution_count": 5,
     "metadata": {},
     "output_type": "execute_result"
    }
   ],
   "source": [
    "first_json.keys()"
   ]
  },
  {
   "cell_type": "markdown",
   "metadata": {},
   "source": [
    "Видим 16 полей, перечислим некоторые из них:\n",
    "- _id, url - URL статьи\n",
    "- published – время публикации статьи\n",
    "- domain – сайт (например, habrahahbr.ru или geektimes.ru)\n",
    "- title – название статьи\n",
    "- content – текст статьи\n",
    "- hubs - перечисление хабов, к которым относится статья\n",
    "- tags – теги статьи\n",
    "- author – автор статьи, его ник и ссылка на профиль"
   ]
  },
  {
   "cell_type": "code",
   "execution_count": 6,
   "metadata": {
    "collapsed": false
   },
   "outputs": [
    {
     "data": {
      "text/plain": [
       "'https://habrahabr.ru/post/7/'"
      ]
     },
     "execution_count": 6,
     "metadata": {},
     "output_type": "execute_result"
    }
   ],
   "source": [
    "first_json['_id']"
   ]
  },
  {
   "cell_type": "code",
   "execution_count": 7,
   "metadata": {
    "collapsed": false
   },
   "outputs": [
    {
     "data": {
      "text/plain": [
       "1493192186.0903192"
      ]
     },
     "execution_count": 7,
     "metadata": {},
     "output_type": "execute_result"
    }
   ],
   "source": [
    "first_json['_timestamp']"
   ]
  },
  {
   "cell_type": "code",
   "execution_count": 8,
   "metadata": {
    "collapsed": false
   },
   "outputs": [
    {
     "data": {
      "text/plain": [
       "'https://habrahabr.ru/post/7/'"
      ]
     },
     "execution_count": 8,
     "metadata": {},
     "output_type": "execute_result"
    }
   ],
   "source": [
    "first_json['url']"
   ]
  },
  {
   "cell_type": "code",
   "execution_count": 9,
   "metadata": {
    "collapsed": false,
    "scrolled": true
   },
   "outputs": [
    {
     "data": {
      "text/plain": [
       "'habrahabr.ru'"
      ]
     },
     "execution_count": 9,
     "metadata": {},
     "output_type": "execute_result"
    }
   ],
   "source": [
    "first_json['domain']"
   ]
  },
  {
   "cell_type": "code",
   "execution_count": 10,
   "metadata": {
    "collapsed": false
   },
   "outputs": [
    {
     "data": {
      "text/plain": [
       "{'$date': '2006-07-15T01:48:00.000Z'}"
      ]
     },
     "execution_count": 10,
     "metadata": {},
     "output_type": "execute_result"
    }
   ],
   "source": [
    "first_json['published']"
   ]
  },
  {
   "cell_type": "code",
   "execution_count": 11,
   "metadata": {
    "collapsed": false
   },
   "outputs": [
    {
     "data": {
      "text/plain": [
       "'Самопроизвольное разлогинивание'"
      ]
     },
     "execution_count": 11,
     "metadata": {},
     "output_type": "execute_result"
    }
   ],
   "source": [
    "first_json['title']"
   ]
  },
  {
   "cell_type": "code",
   "execution_count": 12,
   "metadata": {
    "collapsed": false
   },
   "outputs": [
    {
     "data": {
      "text/plain": [
       "'У меня такое ощущение, что logout время от времени происходит самопроизвольно, несмотря на то, что чекбокс про логине включен.<br>\\r\\n<br>\\r\\nВозможно, это происходит при смене IP-адреса, но я не уверен.'"
      ]
     },
     "execution_count": 12,
     "metadata": {},
     "output_type": "execute_result"
    }
   ],
   "source": [
    "first_json['content']"
   ]
  },
  {
   "cell_type": "code",
   "execution_count": 13,
   "metadata": {
    "collapsed": true
   },
   "outputs": [],
   "source": [
    "first_json['polling']"
   ]
  },
  {
   "cell_type": "code",
   "execution_count": 14,
   "metadata": {
    "collapsed": false
   },
   "outputs": [
    {
     "data": {
      "text/plain": [
       "7"
      ]
     },
     "execution_count": 14,
     "metadata": {},
     "output_type": "execute_result"
    }
   ],
   "source": [
    "first_json['post_id']"
   ]
  },
  {
   "cell_type": "code",
   "execution_count": 15,
   "metadata": {
    "collapsed": false
   },
   "outputs": [
    {
     "data": {
      "text/plain": [
       "[]"
      ]
     },
     "execution_count": 15,
     "metadata": {},
     "output_type": "execute_result"
    }
   ],
   "source": [
    "first_json['flags']"
   ]
  },
  {
   "cell_type": "code",
   "execution_count": 16,
   "metadata": {
    "collapsed": false
   },
   "outputs": [
    {
     "data": {
      "text/plain": [
       "[{'id': 'hub/habr',\n",
       "  'title': 'Хабрахабр',\n",
       "  'url': 'https://habrahabr.ru/hub/habr/'}]"
      ]
     },
     "execution_count": 16,
     "metadata": {},
     "output_type": "execute_result"
    }
   ],
   "source": [
    "first_json['hubs']"
   ]
  },
  {
   "cell_type": "code",
   "execution_count": 17,
   "metadata": {
    "collapsed": true
   },
   "outputs": [],
   "source": [
    "first_json['flow']"
   ]
  },
  {
   "cell_type": "code",
   "execution_count": 18,
   "metadata": {
    "collapsed": false
   },
   "outputs": [
    {
     "data": {
      "text/plain": [
       "['логин', 'login']"
      ]
     },
     "execution_count": 18,
     "metadata": {},
     "output_type": "execute_result"
    }
   ],
   "source": [
    "first_json['tags']"
   ]
  },
  {
   "cell_type": "code",
   "execution_count": 19,
   "metadata": {
    "collapsed": false
   },
   "outputs": [
    {
     "data": {
      "text/plain": [
       "{'name': 'Павел Титов',\n",
       " 'nickname': '@ptitov',\n",
       " 'url': 'https://habrahabr.ru/users/ptitov'}"
      ]
     },
     "execution_count": 19,
     "metadata": {},
     "output_type": "execute_result"
    }
   ],
   "source": [
    "first_json['author']"
   ]
  },
  {
   "cell_type": "code",
   "execution_count": 20,
   "metadata": {
    "collapsed": false
   },
   "outputs": [
    {
     "data": {
      "text/plain": [
       "{'alternate': 'https://habrahabr.ru/rss/post/7/',\n",
       " 'apple-touch-icon-precomposed': '/images/favicons/apple-touch-icon-152x152.png',\n",
       " 'canonical': 'https://habrahabr.ru/post/7/',\n",
       " 'icon': '/images/favicons/favicon-16x16.png',\n",
       " 'image_src': 'https://habrahabr.ru/i/habralogo.jpg',\n",
       " 'stylesheet': 'https://habracdn.net/habr/styles/1493134745/_build/global_main.css'}"
      ]
     },
     "execution_count": 20,
     "metadata": {},
     "output_type": "execute_result"
    }
   ],
   "source": [
    "first_json['link_tags']"
   ]
  },
  {
   "cell_type": "code",
   "execution_count": 21,
   "metadata": {
    "collapsed": false
   },
   "outputs": [
    {
     "data": {
      "text/plain": [
       "{'al:android:app_name': 'Habrahabr',\n",
       " 'al:android:package': 'ru.habrahabr',\n",
       " 'al:android:url': 'habrahabr://post/7',\n",
       " 'al:windows_phone:app_id': '460a6bd6-8955-470f-935e-9ea1726a6060',\n",
       " 'al:windows_phone:app_name': 'Habrahabr',\n",
       " 'al:windows_phone:url': 'habrahabr://post/7',\n",
       " 'apple-mobile-web-app-title': 'Хабрахабр',\n",
       " 'application-name': 'Хабрахабр',\n",
       " 'description': 'У меня такое ощущение, что logout время от времени происходит самопроизвольно, несмотря на то, что чекбокс про логине включен.\\r\\n\\r\\nВозможно, это происходит при смене IP-адреса, но я не уверен.',\n",
       " 'fb:app_id': '444736788986613',\n",
       " 'keywords': 'логин, login',\n",
       " 'msapplication-TileColor': '#FFFFFF',\n",
       " 'msapplication-TileImage': 'mstile-144x144.png',\n",
       " 'og:description': 'У меня такое ощущение, что logout время от времени происходит самопроизвольно, несмотря на то, что чекбокс про логине включен.  Возможно, это происходит при...',\n",
       " 'og:image': 'https://habrahabr.ru/i/habralogo.jpg',\n",
       " 'og:title': 'Самопроизвольное разлогинивание',\n",
       " 'og:type': 'article',\n",
       " 'og:url': 'https://habrahabr.ru/post/7/',\n",
       " 'pocket-site-verification': 'ed24b2b9721edf0a282c5b4a3232c4',\n",
       " 'referrer': 'unsafe-url',\n",
       " 'robots': 'noindex',\n",
       " 'twitter:card': 'summary',\n",
       " 'twitter:site': '@habrahabr',\n",
       " 'viewport': 'width=1024',\n",
       " 'yandex-verification': '67d46b975fa41645'}"
      ]
     },
     "execution_count": 21,
     "metadata": {},
     "output_type": "execute_result"
    }
   ],
   "source": [
    "first_json['meta_tags']"
   ]
  },
  {
   "cell_type": "markdown",
   "metadata": {},
   "source": [
    "Загрузим ответы на обучающей выборке."
   ]
  },
  {
   "cell_type": "code",
   "execution_count": 2,
   "metadata": {
    "collapsed": true
   },
   "outputs": [],
   "source": [
    "train_target = pd.read_csv('train_target.csv',\n",
    "                          index_col='url')"
   ]
  },
  {
   "cell_type": "code",
   "execution_count": 3,
   "metadata": {
    "collapsed": false
   },
   "outputs": [
    {
     "data": {
      "text/html": [
       "<div>\n",
       "<table border=\"1\" class=\"dataframe\">\n",
       "  <thead>\n",
       "    <tr style=\"text-align: right;\">\n",
       "      <th></th>\n",
       "      <th>target</th>\n",
       "    </tr>\n",
       "    <tr>\n",
       "      <th>url</th>\n",
       "      <th></th>\n",
       "    </tr>\n",
       "  </thead>\n",
       "  <tbody>\n",
       "    <tr>\n",
       "      <th>https://habrahabr.ru/post/7/</th>\n",
       "      <td>0.693147</td>\n",
       "    </tr>\n",
       "    <tr>\n",
       "      <th>https://geektimes.ru/post/11/</th>\n",
       "      <td>1.098612</td>\n",
       "    </tr>\n",
       "    <tr>\n",
       "      <th>https://geektimes.ru/post/112/</th>\n",
       "      <td>0.000000</td>\n",
       "    </tr>\n",
       "    <tr>\n",
       "      <th>https://geektimes.ru/post/1127/</th>\n",
       "      <td>0.000000</td>\n",
       "    </tr>\n",
       "    <tr>\n",
       "      <th>https://geektimes.ru/post/12664/</th>\n",
       "      <td>0.000000</td>\n",
       "    </tr>\n",
       "  </tbody>\n",
       "</table>\n",
       "</div>"
      ],
      "text/plain": [
       "                                    target\n",
       "url                                       \n",
       "https://habrahabr.ru/post/7/      0.693147\n",
       "https://geektimes.ru/post/11/     1.098612\n",
       "https://geektimes.ru/post/112/    0.000000\n",
       "https://geektimes.ru/post/1127/   0.000000\n",
       "https://geektimes.ru/post/12664/  0.000000"
      ]
     },
     "execution_count": 3,
     "metadata": {},
     "output_type": "execute_result"
    }
   ],
   "source": [
    "train_target.head()"
   ]
  },
  {
   "cell_type": "code",
   "execution_count": 4,
   "metadata": {
    "collapsed": false
   },
   "outputs": [
    {
     "data": {
      "text/html": [
       "<div>\n",
       "<table border=\"1\" class=\"dataframe\">\n",
       "  <thead>\n",
       "    <tr style=\"text-align: right;\">\n",
       "      <th></th>\n",
       "      <th>target</th>\n",
       "    </tr>\n",
       "    <tr>\n",
       "      <th>url</th>\n",
       "      <th></th>\n",
       "    </tr>\n",
       "  </thead>\n",
       "  <tbody>\n",
       "    <tr>\n",
       "      <th>https://habrahabr.ru/post/250621/</th>\n",
       "      <td>9.080687</td>\n",
       "    </tr>\n",
       "    <tr>\n",
       "      <th>https://habrahabr.ru/post/271279/</th>\n",
       "      <td>8.291045</td>\n",
       "    </tr>\n",
       "    <tr>\n",
       "      <th>https://habrahabr.ru/post/247367/</th>\n",
       "      <td>8.157657</td>\n",
       "    </tr>\n",
       "    <tr>\n",
       "      <th>https://habrahabr.ru/post/278827/</th>\n",
       "      <td>8.154500</td>\n",
       "    </tr>\n",
       "    <tr>\n",
       "      <th>https://geektimes.ru/post/82641/</th>\n",
       "      <td>8.153925</td>\n",
       "    </tr>\n",
       "  </tbody>\n",
       "</table>\n",
       "</div>"
      ],
      "text/plain": [
       "                                     target\n",
       "url                                        \n",
       "https://habrahabr.ru/post/250621/  9.080687\n",
       "https://habrahabr.ru/post/271279/  8.291045\n",
       "https://habrahabr.ru/post/247367/  8.157657\n",
       "https://habrahabr.ru/post/278827/  8.154500\n",
       "https://geektimes.ru/post/82641/   8.153925"
      ]
     },
     "execution_count": 4,
     "metadata": {},
     "output_type": "execute_result"
    }
   ],
   "source": [
    "train_target.sort_values('target', ascending=False).head()"
   ]
  },
  {
   "cell_type": "markdown",
   "metadata": {},
   "source": [
    "Сформируйте обучающую выборку для Vowpal Wabbit, выберите признаки title, tags, domain, flow, author, и hubs из JSON-файла.\n",
    "От самого текста для начала просто возьмем его длину: постройте признак content_len – длина текста в миллионах символов.\n",
    "Также постройте признаки: час и месяц публикации статьи. Еще, конечно же, возьмите ответы на обучающей выборке из `train_target`. Ниже пример того, как могут выглядеть первые две строки нового файла."
   ]
  },
  {
   "cell_type": "code",
   "execution_count": 5,
   "metadata": {
    "collapsed": false
   },
   "outputs": [],
   "source": [
    "d = train_target.to_dict()['target']"
   ]
  },
  {
   "cell_type": "code",
   "execution_count": 6,
   "metadata": {
    "collapsed": true
   },
   "outputs": [],
   "source": [
    "def prepare(text):\n",
    "    return ' '.join([e.lower() for e in re.findall(\"\\w+\", text, re.UNICODE)])"
   ]
  },
  {
   "cell_type": "code",
   "execution_count": 77,
   "metadata": {
    "collapsed": false
   },
   "outputs": [
    {
     "name": "stdout",
     "output_type": "stream",
     "text": [
      "44249it [00:40, 1103.94it/s]\n",
      "\n"
     ]
    }
   ],
   "source": [
    "with open('habr_train.vw', 'w', encoding='utf-8') as fout, \\\n",
    "     open('train.json') as inp_json:\n",
    "    k = 0\n",
    "    for line in tqdm_notebook(inp_json):\n",
    "        first_json = json.loads(line)\n",
    "        s = str(d[first_json['_id']]) + ' '\n",
    "        s += '|title ' + prepare(first_json['title']) + ' '\n",
    "        s += '|tags ' + prepare(' '.join(first_json['tags'])) + ' '\n",
    "        s += '|domain ' + first_json['domain'] + ' '\n",
    "        s += '|flow ' + prepare(str(first_json['flow'])) + ' '\n",
    "        try:\n",
    "            s += '|author ' + prepare(str(first_json['author']['nickname'])) + ' '\n",
    "        except:\n",
    "            print(first_json['author'])\n",
    "            raise\n",
    "        s += '|hubs ' + prepare(' '.join([e['title'] for e in first_json['hubs']])) + ' '\n",
    "        s += '|num '\n",
    "        s += 'content_len:{}'.format(len(first_json['content']) / 1e6) + ' '\n",
    "        s += 'month:{}'.format(int(first_json['published']['$date'].split('-')[1])) + ' '\n",
    "        s += 'hour:{}'.format(int(first_json['published']['$date'][11:13])) + ' '\n",
    "        \n",
    "        fout.write(s + '\\n')\n",
    "        k += 1\n",
    "        #if k == 2:\n",
    "        #    break"
   ]
  },
  {
   "cell_type": "code",
   "execution_count": 75,
   "metadata": {
    "collapsed": false
   },
   "outputs": [
    {
     "name": "stdout",
     "output_type": "stream",
     "text": [
      "0.693147 |title самопроизвольное разлогинивание |tags логин login |domain habrahabr ru |flow none |author ptitov |hubs хабрахабр |num content_len:0.000199 month:7 hour:1 \r\n",
      "1.098612 |title stand along cообщества против сообществ в рамках социальных сетей |tags сообщества интернет сообщество социальные сети нишевой бренд |domain geektimes ru |flow none |author alexbruce |hubs чёрная дыра |num content_len:0.000988 month:7 hour:14 \r\n"
     ]
    }
   ],
   "source": [
    "!head -2 habr_train.vw"
   ]
  },
  {
   "cell_type": "code",
   "execution_count": 23,
   "metadata": {
    "collapsed": false
   },
   "outputs": [
    {
     "name": "stdout",
     "output_type": "stream",
     "text": [
      "0.6931470000000001 |title Самопроизвольное разлогинивание |tags логин login |domain habrahabr.ru |flow None |author @ptitov |hubs Хабрахабр |num content_len:0.0 month:7 hour:1\r\n",
      "1.0986120000000001 |title Stand-along cообщества против сообществ в рамках социальных сетей |tags сообщества интернет-сообщество социальные сети нишевой бренд |domain geektimes.ru |flow None |author @AlexBruce |hubs Чёрная дыра |num content_len:0.0 month:7 hour:14\r\n"
     ]
    }
   ],
   "source": [
    "#!head -2 ../../data/habr_train.vw"
   ]
  },
  {
   "cell_type": "markdown",
   "metadata": {},
   "source": [
    "Проделайте все то же с тестовой выборкой, вместо ответов подсовывая что угодно, например, единицы."
   ]
  },
  {
   "cell_type": "code",
   "execution_count": 78,
   "metadata": {
    "collapsed": false
   },
   "outputs": [
    {
     "name": "stdout",
     "output_type": "stream",
     "text": [
      "\n"
     ]
    }
   ],
   "source": [
    "with open('habr_test.vw', 'w', encoding='utf-8') as fout, \\\n",
    "     open('test.json') as inp_json:\n",
    "    k = 0\n",
    "    for line in tqdm_notebook(inp_json):\n",
    "        first_json = json.loads(line)\n",
    "        s = str(1) + ' '\n",
    "        s += '|title ' + prepare(first_json['title']) + ' '\n",
    "        s += '|tags ' + prepare(' '.join(first_json['tags'])) + ' '\n",
    "        s += '|domain ' + first_json['domain'] + ' '\n",
    "        s += '|flow ' + prepare(str(first_json['flow'])) + ' '\n",
    "        s += '|author ' + prepare(str(first_json['author']['nickname'])) + ' '\n",
    "        s += '|hubs ' + prepare(' '.join([e['title'] for e in first_json['hubs']])) + ' '\n",
    "        s += '|num '\n",
    "        s += 'content_len:{}'.format(len(first_json['content']) / 1e6) + ' '\n",
    "        s += 'month:{}'.format(int(first_json['published']['$date'].split('-')[1])) + ' '\n",
    "        s += 'hour:{}'.format(int(first_json['published']['$date'][11:13])) + ' '\n",
    "        \n",
    "        fout.write(s + '\\n')\n",
    "        k += 1"
   ]
  },
  {
   "cell_type": "code",
   "execution_count": 81,
   "metadata": {
    "collapsed": false
   },
   "outputs": [
    {
     "name": "stdout",
     "output_type": "stream",
     "text": [
      "1 |title день пи |tags пи pi |domain geektimes.ru |flow none |author timursan |hubs чёрная дыра |num content_len:0.000228 month:3 hour:3 \r\n",
      "1 |title скрипт для разбиения образов музыкальных cd на треки и конвертации в формат flac |tags bash lossless |domain geektimes.ru |flow none |author da3mon |hubs чёрная дыра |num content_len:0.009377 month:3 hour:0 \r\n"
     ]
    }
   ],
   "source": [
    "!head -2 habr_test.vw"
   ]
  },
  {
   "cell_type": "code",
   "execution_count": 24,
   "metadata": {
    "collapsed": false
   },
   "outputs": [
    {
     "name": "stdout",
     "output_type": "stream",
     "text": [
      "1 |title День Пи! |tags Пи Pi |domain geektimes.ru |flow None |author @Timursan |hubs Чёрная дыра |num content_len:0.0 month:3 hour:3\r\n",
      "1 |title Скрипт для разбиения образов музыкальных CD на треки и конвертации в формат FLAC |tags bash lossless |domain geektimes.ru |flow None |author @da3mon |hubs Чёрная дыра |num content_len:0.01 month:3 hour:0\r\n"
     ]
    }
   ],
   "source": [
    "!head -2 ../../data/habr_test.vw"
   ]
  },
  {
   "cell_type": "markdown",
   "metadata": {},
   "source": [
    "Выбор того, как валидировать модель, остается за Вами. Проще всего, конечно, сделать отложенную выборку. Бенчмарк, который Вы видите в соревновании (**vw_baseline.csv**) и который надо побить, получен с Vowpal Wabbit, 3 проходами по выборке (не забываем удалять кэш), биграммами и настроенными гиперпараметрами `bits`, `learning_rate` и `power_t`. "
   ]
  },
  {
   "cell_type": "code",
   "execution_count": 145,
   "metadata": {
    "collapsed": false
   },
   "outputs": [],
   "source": [
    "#!vw --help"
   ]
  },
  {
   "cell_type": "code",
   "execution_count": 85,
   "metadata": {
    "collapsed": true
   },
   "outputs": [],
   "source": [
    "!head -n 10000 habr_train.vw > habr_train_head10000.vw\n",
    "!head -n 100000 habr_train.vw > habr_train_head100000.vw\n",
    "!tail -n 20000 habr_train.vw > habr_train_tail20000.vw"
   ]
  },
  {
   "cell_type": "code",
   "execution_count": 44,
   "metadata": {
    "collapsed": false
   },
   "outputs": [],
   "source": [
    "lines = []\n",
    "with open('habr_train.vw') as fin:\n",
    "    for line in fin:\n",
    "        lines.append(line)\n",
    "\n",
    "np.random.seed(7)\n",
    "\n",
    "ind = np.linspace(0, len(lines) - 1, len(lines), dtype=int)\n",
    "np.random.shuffle(ind)\n",
    "with open('habr_train_shuffle.vw', 'w', encoding='utf-8') as fout:\n",
    "    for i in ind:\n",
    "        fout.write(lines[i])"
   ]
  },
  {
   "cell_type": "code",
   "execution_count": 47,
   "metadata": {
    "collapsed": false
   },
   "outputs": [
    {
     "data": {
      "text/plain": [
       "array([ 7266, 45374, 23445, ..., 49689, 58564, 61615])"
      ]
     },
     "execution_count": 47,
     "metadata": {},
     "output_type": "execute_result"
    }
   ],
   "source": [
    "ind"
   ]
  },
  {
   "cell_type": "code",
   "execution_count": 69,
   "metadata": {
    "collapsed": true
   },
   "outputs": [],
   "source": [
    "ind1 = np.zeros(len(ind))\n",
    "for i,v in enumerate(ind):\n",
    "    ind1[v] = i"
   ]
  },
  {
   "cell_type": "code",
   "execution_count": 70,
   "metadata": {
    "collapsed": true
   },
   "outputs": [],
   "source": [
    "train_target['ind'] = ind1"
   ]
  },
  {
   "cell_type": "code",
   "execution_count": 71,
   "metadata": {
    "collapsed": false,
    "scrolled": true
   },
   "outputs": [],
   "source": [
    "ttt = train_target.sort_values('ind')"
   ]
  },
  {
   "cell_type": "code",
   "execution_count": 144,
   "metadata": {
    "collapsed": false,
    "scrolled": true
   },
   "outputs": [
    {
     "data": {
      "text/html": [
       "<div>\n",
       "<table border=\"1\" class=\"dataframe\">\n",
       "  <thead>\n",
       "    <tr style=\"text-align: right;\">\n",
       "      <th></th>\n",
       "      <th>target</th>\n",
       "      <th>ind</th>\n",
       "    </tr>\n",
       "    <tr>\n",
       "      <th>url</th>\n",
       "      <th></th>\n",
       "      <th></th>\n",
       "    </tr>\n",
       "  </thead>\n",
       "  <tbody>\n",
       "    <tr>\n",
       "      <th>https://habrahabr.ru/post/186574/</th>\n",
       "      <td>3.850148</td>\n",
       "      <td>0.0</td>\n",
       "    </tr>\n",
       "    <tr>\n",
       "      <th>https://habrahabr.ru/company/sap/blog/261045/</th>\n",
       "      <td>3.044522</td>\n",
       "      <td>1.0</td>\n",
       "    </tr>\n",
       "    <tr>\n",
       "      <th>https://geektimes.ru/post/226691/</th>\n",
       "      <td>3.806662</td>\n",
       "      <td>2.0</td>\n",
       "    </tr>\n",
       "    <tr>\n",
       "      <th>https://habrahabr.ru/post/307148/</th>\n",
       "      <td>4.510860</td>\n",
       "      <td>3.0</td>\n",
       "    </tr>\n",
       "    <tr>\n",
       "      <th>https://geektimes.ru/post/14412/</th>\n",
       "      <td>1.098612</td>\n",
       "      <td>4.0</td>\n",
       "    </tr>\n",
       "  </tbody>\n",
       "</table>\n",
       "</div>"
      ],
      "text/plain": [
       "                                                 target  ind\n",
       "url                                                         \n",
       "https://habrahabr.ru/post/186574/              3.850148  0.0\n",
       "https://habrahabr.ru/company/sap/blog/261045/  3.044522  1.0\n",
       "https://geektimes.ru/post/226691/              3.806662  2.0\n",
       "https://habrahabr.ru/post/307148/              4.510860  3.0\n",
       "https://geektimes.ru/post/14412/               1.098612  4.0"
      ]
     },
     "execution_count": 144,
     "metadata": {},
     "output_type": "execute_result"
    }
   ],
   "source": [
    "ttt.head()"
   ]
  },
  {
   "cell_type": "code",
   "execution_count": 76,
   "metadata": {
    "collapsed": true
   },
   "outputs": [],
   "source": [
    "!head -n 100000 habr_train_shuffle.vw > habr_train_head100000.vw\n",
    "!tail -n 20000 habr_train_shuffle.vw > habr_train_tail20000.vw"
   ]
  },
  {
   "cell_type": "code",
   "execution_count": 128,
   "metadata": {
    "collapsed": false,
    "scrolled": true
   },
   "outputs": [
    {
     "name": "stdout",
     "output_type": "stream",
     "text": [
      "==========================================\n",
      "0.5 0.3 22.0\n",
      "==========================================\n",
      "Generating 2-grams for all namespaces.\n",
      "only testing\n",
      "predictions = predictions_tail20000.txt\n",
      "Num weight bits = 22\n",
      "learning rate = 0.5\n",
      "initial_t = 0\n",
      "power_t = 0.5\n",
      "using cache_file = habr_train_tail20000.vw.cache\n",
      "ignoring text input in favor of cache input\n",
      "num sources = 1\n",
      "average  since         example        example  current  current  current\n",
      "loss     last          counter         weight    label  predict features\n",
      "0.092438 0.092438            1            1.0   3.6636   3.3595       35\n",
      "0.048897 0.005357            2            2.0   0.6931   0.7663       43\n",
      "0.284429 0.519960            4            4.0   4.2341   3.3004       35\n",
      "0.456337 0.628246            8            8.0   0.0000   0.0000       35\n",
      "0.643528 0.830719           16           16.0   2.7726   1.3466       53\n",
      "0.778344 0.913160           32           32.0   1.3863   2.1793       27\n",
      "0.824993 0.871642           64           64.0   3.1355   0.9168       21\n",
      "1.132283 1.439573          128          128.0   0.0000   2.9766       59\n",
      "1.119123 1.105963          256          256.0   2.3979   1.7992       45\n",
      "1.102236 1.085350          512          512.0   3.6109   2.0305       63\n",
      "1.099470 1.096703         1024         1024.0   1.3863   1.0169       25\n",
      "1.069379 1.039289         2048         2048.0   2.9957   1.9800       33\n",
      "1.068140 1.066901         4096         4096.0   3.7612   4.1961       43\n",
      "1.072300 1.076460         8192         8192.0   1.0986   0.0000       25\n",
      "1.085917 1.099535        16384        16384.0   0.0000   0.0000       49\n",
      "\n",
      "finished run\n",
      "number of examples per pass = 20000\n",
      "passes used = 1\n",
      "weighted example sum = 20000.000000\n",
      "weighted label sum = 56712.882582\n",
      "average loss = 1.087931\n",
      "best constant = 2.835644\n",
      "total feature number = 810204\n"
     ]
    }
   ],
   "source": [
    "# Ваш код здесь\n",
    "errors = dict()\n",
    "for lr in np.linspace(0.5, 0.5, 1):\n",
    "    for pt in np.linspace(0.3, 0.3, 1):\n",
    "        for bits in np.linspace(22, 22, 1):\n",
    "            print('==========================================')\n",
    "            print(str(lr) + ' ' + str(pt) + ' ' + str(bits))\n",
    "            print('==========================================')\n",
    "            bb = int(bits)\n",
    "            !vw -d habr_train_head100000.vw --loss_function quantile -f habr_train_head100000_model.vw \\\n",
    "            -b $bb --random_seed 17 -c \\\n",
    "            --passes 5 --ngram 2 --quiet --learning_rate $lr --power_t $pt\n",
    "\n",
    "            !vw -i habr_train_head100000_model.vw -c -t -d habr_train_tail20000.vw -p predictions_tail20000.txt\n",
    "\n",
    "            with open('predictions_tail20000.txt') as pred_file:\n",
    "                test_prediction = [float(label) \n",
    "                                     for label in pred_file.readlines()]\n",
    "\n",
    "            err = mean_absolute_error(ttt[-20000:]['target'], test_prediction)\n",
    "            errors[str(lr) + ' ' + str(pt) + ' ' + str(bits)] = err"
   ]
  },
  {
   "cell_type": "code",
   "execution_count": 130,
   "metadata": {
    "collapsed": false,
    "scrolled": true
   },
   "outputs": [
    {
     "data": {
      "text/plain": [
       "[('0.5 0.3 22.0', 0.85441247519999997)]"
      ]
     },
     "execution_count": 130,
     "metadata": {},
     "output_type": "execute_result"
    }
   ],
   "source": [
    "sorted(errors.items(), key=lambda x: x[1])"
   ]
  },
  {
   "cell_type": "code",
   "execution_count": 131,
   "metadata": {
    "collapsed": true
   },
   "outputs": [],
   "source": [
    "bb = 22\n",
    "lr = 0.5\n",
    "pt = 0.3"
   ]
  },
  {
   "cell_type": "code",
   "execution_count": 132,
   "metadata": {
    "collapsed": true
   },
   "outputs": [],
   "source": [
    "!vw -d habr_train_shuffle.vw --loss_function quantile -f habr_train_model.vw \\\n",
    "-b $bb --random_seed 17 -c --passes 5 --ngram 2 --quiet --learning_rate $lr --power_t $pt"
   ]
  },
  {
   "cell_type": "code",
   "execution_count": 133,
   "metadata": {
    "collapsed": false,
    "scrolled": true
   },
   "outputs": [
    {
     "name": "stdout",
     "output_type": "stream",
     "text": [
      "Generating 2-grams for all namespaces.\n",
      "only testing\n",
      "predictions = predictions_test.txt\n",
      "Num weight bits = 22\n",
      "learning rate = 0.5\n",
      "initial_t = 0\n",
      "power_t = 0.5\n",
      "using no cache\n",
      "Reading datafile = habr_test.vw\n",
      "num sources = 1\n",
      "average  since         example        example  current  current  current\n",
      "loss     last          counter         weight    label  predict features\n",
      "0.001376 0.001376            1            1.0   1.0000   1.0371       19\n",
      "0.256941 0.512506            2            2.0   1.0000   1.7159       39\n",
      "1.029394 1.801846            4            4.0   1.0000   2.8967       29\n",
      "1.518309 2.007224            8            8.0   1.0000   2.9053       27\n",
      "2.270797 3.023286           16           16.0   1.0000   0.0000       25\n",
      "2.335580 2.400363           32           32.0   1.0000   3.3845       27\n",
      "2.263608 2.191637           64           64.0   1.0000   1.4580       31\n",
      "2.359084 2.454561          128          128.0   1.0000   2.8869       33\n",
      "2.209123 2.059161          256          256.0   1.0000   4.2994       41\n",
      "2.479472 2.749822          512          512.0   1.0000   0.9922       27\n",
      "2.521041 2.562609         1024         1024.0   1.0000   2.7157       19\n",
      "2.540943 2.560846         2048         2048.0   1.0000   4.4581       35\n",
      "2.522283 2.503622         4096         4096.0   1.0000   0.6275       25\n",
      "2.562540 2.602797         8192         8192.0   1.0000   2.8221       35\n",
      "3.025668 3.488796        16384        16384.0   1.0000   1.5924       39\n",
      "3.647057 4.268447        32768        32768.0   1.0000   3.3861       63\n",
      "\n",
      "finished run\n",
      "number of examples per pass = 52913\n",
      "passes used = 1\n",
      "weighted example sum = 52913.000000\n",
      "weighted label sum = 52913.000000\n",
      "average loss = 4.490090\n",
      "best constant = 1.000000\n",
      "best constant's loss = 0.000000\n",
      "total feature number = 1931383\n"
     ]
    }
   ],
   "source": [
    "!vw -i habr_train_model.vw -t -d habr_test.vw -p predictions_test.txt"
   ]
  },
  {
   "cell_type": "code",
   "execution_count": null,
   "metadata": {
    "collapsed": true
   },
   "outputs": [],
   "source": []
  },
  {
   "cell_type": "code",
   "execution_count": 109,
   "metadata": {
    "collapsed": false
   },
   "outputs": [
    {
     "data": {
      "text/plain": [
       "0.98371253030000005"
      ]
     },
     "execution_count": 109,
     "metadata": {},
     "output_type": "execute_result"
    }
   ],
   "source": [
    "# with open('predictions_tail20000.txt') as pred_file:\n",
    "#     test_prediction = [float(label) \n",
    "#                              for label in pred_file.readlines()]\n",
    "\n",
    "# err = mean_absolute_error(train_target[-20000:]['target'], test_prediction)\n",
    "# err"
   ]
  },
  {
   "cell_type": "code",
   "execution_count": 134,
   "metadata": {
    "collapsed": true
   },
   "outputs": [],
   "source": [
    "with open('predictions_test.txt') as pred_file:\n",
    "    test_prediction = [float(label) \n",
    "                          for label in pred_file.readlines()]"
   ]
  },
  {
   "cell_type": "code",
   "execution_count": 135,
   "metadata": {
    "collapsed": false,
    "scrolled": true
   },
   "outputs": [],
   "source": [
    "sample_sub = pd.read_csv('sample_submission.csv', \n",
    "                         index_col='url')"
   ]
  },
  {
   "cell_type": "code",
   "execution_count": 136,
   "metadata": {
    "collapsed": false,
    "scrolled": true
   },
   "outputs": [
    {
     "data": {
      "text/html": [
       "<div>\n",
       "<table border=\"1\" class=\"dataframe\">\n",
       "  <thead>\n",
       "    <tr style=\"text-align: right;\">\n",
       "      <th></th>\n",
       "      <th>target</th>\n",
       "    </tr>\n",
       "    <tr>\n",
       "      <th>url</th>\n",
       "      <th></th>\n",
       "    </tr>\n",
       "  </thead>\n",
       "  <tbody>\n",
       "    <tr>\n",
       "      <th>https://geektimes.ru/post/87455/</th>\n",
       "      <td>11.620054</td>\n",
       "    </tr>\n",
       "    <tr>\n",
       "      <th>https://geektimes.ru/post/87452/</th>\n",
       "      <td>4.822528</td>\n",
       "    </tr>\n",
       "    <tr>\n",
       "      <th>https://geektimes.ru/post/87459/</th>\n",
       "      <td>0.921104</td>\n",
       "    </tr>\n",
       "    <tr>\n",
       "      <th>https://habrahabr.ru/post/87461/</th>\n",
       "      <td>1.632126</td>\n",
       "    </tr>\n",
       "    <tr>\n",
       "      <th>https://habrahabr.ru/post/5754/</th>\n",
       "      <td>1.952122</td>\n",
       "    </tr>\n",
       "  </tbody>\n",
       "</table>\n",
       "</div>"
      ],
      "text/plain": [
       "                                     target\n",
       "url                                        \n",
       "https://geektimes.ru/post/87455/  11.620054\n",
       "https://geektimes.ru/post/87452/   4.822528\n",
       "https://geektimes.ru/post/87459/   0.921104\n",
       "https://habrahabr.ru/post/87461/   1.632126\n",
       "https://habrahabr.ru/post/5754/    1.952122"
      ]
     },
     "execution_count": 136,
     "metadata": {},
     "output_type": "execute_result"
    }
   ],
   "source": [
    "sample_sub.head()"
   ]
  },
  {
   "cell_type": "code",
   "execution_count": 137,
   "metadata": {
    "collapsed": true
   },
   "outputs": [],
   "source": [
    "your_submission = sample_sub.copy()\n",
    "your_submission['target'] = test_prediction\n",
    "your_submission.to_csv('submission_4.csv')"
   ]
  },
  {
   "cell_type": "code",
   "execution_count": 138,
   "metadata": {
    "collapsed": false,
    "scrolled": true
   },
   "outputs": [
    {
     "data": {
      "image/png": "[encoded data removed]",
      "text/plain": [
       "<matplotlib.figure.Figure at 0x7f987e459278>"
      ]
     },
     "metadata": {},
     "output_type": "display_data"
    }
   ],
   "source": [
    "plt.hist(your_submission.target);"
   ]
  },
  {
   "cell_type": "code",
   "execution_count": 143,
   "metadata": {
    "collapsed": false,
    "scrolled": true
   },
   "outputs": [
    {
     "data": {
      "text/html": [
       "<div>\n",
       "<table border=\"1\" class=\"dataframe\">\n",
       "  <thead>\n",
       "    <tr style=\"text-align: right;\">\n",
       "      <th></th>\n",
       "      <th>target</th>\n",
       "    </tr>\n",
       "    <tr>\n",
       "      <th>url</th>\n",
       "      <th></th>\n",
       "    </tr>\n",
       "  </thead>\n",
       "  <tbody>\n",
       "    <tr>\n",
       "      <th>https://geektimes.ru/post/87455/</th>\n",
       "      <td>1.037097</td>\n",
       "    </tr>\n",
       "    <tr>\n",
       "      <th>https://geektimes.ru/post/87452/</th>\n",
       "      <td>1.715895</td>\n",
       "    </tr>\n",
       "    <tr>\n",
       "      <th>https://geektimes.ru/post/87459/</th>\n",
       "      <td>0.922058</td>\n",
       "    </tr>\n",
       "    <tr>\n",
       "      <th>https://habrahabr.ru/post/87461/</th>\n",
       "      <td>2.896739</td>\n",
       "    </tr>\n",
       "    <tr>\n",
       "      <th>https://habrahabr.ru/post/5754/</th>\n",
       "      <td>0.000000</td>\n",
       "    </tr>\n",
       "  </tbody>\n",
       "</table>\n",
       "</div>"
      ],
      "text/plain": [
       "                                    target\n",
       "url                                       \n",
       "https://geektimes.ru/post/87455/  1.037097\n",
       "https://geektimes.ru/post/87452/  1.715895\n",
       "https://geektimes.ru/post/87459/  0.922058\n",
       "https://habrahabr.ru/post/87461/  2.896739\n",
       "https://habrahabr.ru/post/5754/   0.000000"
      ]
     },
     "execution_count": 143,
     "metadata": {},
     "output_type": "execute_result"
    }
   ],
   "source": [
    "your_submission.head()"
   ]
  },
  {
   "cell_type": "markdown",
   "metadata": {
    "collapsed": true
   },
   "source": [
    "Для получения баллов в #mlcourse_open команда (из 1 человека) должна называться в точном соответствии с тем, как оно записано в рейтинге."
   ]
  }
 ],
 "metadata": {
  "kernelspec": {
   "display_name": "Python 3",
   "language": "python",
   "name": "python3"
  },
  "language_info": {
   "codemirror_mode": {
    "name": "ipython",
    "version": 3
   },
   "file_extension": ".py",
   "mimetype": "text/x-python",
   "name": "python",
   "nbconvert_exporter": "python",
   "pygments_lexer": "ipython3",
   "version": "3.4.3"
  },
  "widgets": {
   "state": {
    "782d8935a4c84a71b65a0a3169f8e76e": {
     "views": [
      {
       "cell_index": 37
      }
     ]
    },
    "7b7d0442891c4d9cb986f50af568636a": {
     "views": [
      {
       "cell_index": 33
      }
     ]
    },
    "c7296ea6b0da4f9089dd09a2885478db": {
     "views": [
      {
       "cell_index": 44
      }
     ]
    },
    "df5f0ac1c6fa4e4a89bc31e767d8a911": {
     "views": [
      {
       "cell_index": 44
      }
     ]
    },
    "f7acba5167f14fb283a353e32dd77593": {
     "views": [
      {
       "cell_index": 44
      }
     ]
    }
   },
   "version": "1.2.0"
  }
 },
 "nbformat": 4,
 "nbformat_minor": 2
}
