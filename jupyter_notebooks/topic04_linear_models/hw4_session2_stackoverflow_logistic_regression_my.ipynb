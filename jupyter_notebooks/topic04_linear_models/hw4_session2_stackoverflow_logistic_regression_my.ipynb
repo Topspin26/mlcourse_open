{
 "cells": [
  {
   "cell_type": "markdown",
   "metadata": {},
   "source": [
    "<center>\n",
    "<img src=\"../../img/ods_stickers.jpg\">\n",
    "## Открытый курс по машинному обучению. Сессия № 2\n",
    "</center>\n",
    "Авторы материала: Павел Нестеров. Материал распространяется на условиях лицензии [Creative Commons CC BY-NC-SA 4.0](https://creativecommons.org/licenses/by-nc-sa/4.0/). Можно использовать в любых целях (редактировать, поправлять и брать за основу), кроме коммерческих, но с обязательным упоминанием автора материала."
   ]
  },
  {
   "cell_type": "markdown",
   "metadata": {},
   "source": [
    "# <center> Домашняя работа №4\n",
    "## <center> Логистическая регрессия в задаче тегирования вопросов StackOverflow\n",
    "\n",
    "**Надо вывести формулы, где это просится (да, ручка и бумажка), заполнить код в клетках и выбрать ответы в [веб-форме](https://docs.google.com/forms/d/1I_ticU8rpeoGJjsBUcaInpvgdxdq60hV7IcSvo4rlGo/).**\n",
    "\n",
    "## 0. Описание задачи\n",
    "\n",
    "В этой домашней работе мы с вами изучим и запрограммируем модель для прогнозирования тегов по тексту вопроса на базе многоклассовой логистической регрессии. В отличие от обычной постановки задачи классификации (multiclass), в данном случае один пример может принадлежать одновременно к нескольким классам (multilabel). Мы будем реализовывать онлайн версию алгоритма мультиклассовой классификации.\n",
    "\n",
    "Мы будем использовать небольшую выборку из протеггированных вопросов с сайта StackOverflow размером в 125 тысяч примеров (около 150 Мб, скачайте по [этой](https://drive.google.com/open?id=0B4bl7YMqDnViYVo0V2FubFVhMFE) ссылке).\n",
    "\n",
    "PS: Можно показать, что такая реализация совсем не эффективная и проще было бы использовать векторизированные вычисления. Для данного датасета так и есть. Но на самом деле подобные реализации используются в жизни, но естественно, написаны они не на Python. Например, в онлайн моделях прогнозирования [CTR](https://en.wikipedia.org/wiki/Click-through_rate) юзеру показывается баннер, затем в зависимости от наличия клика происходит обновление параметров модели. В реальной жизни параметров модели может быть несколько сотен миллионов, а у юзера из этих ста миллионов от силы сто или тысяча параметров отличны от нуля, векторизировать такие вычисления не очень эффективно. Обычно все это хранится в огромных кластерах в in-memory базах данных, а обработка пользователей происходит распределенно."
   ]
  },
  {
   "cell_type": "code",
   "execution_count": 1,
   "metadata": {
    "collapsed": true
   },
   "outputs": [],
   "source": [
    "%matplotlib inline\n",
    "import numpy as np\n",
    "import matplotlib.pyplot as plt\n",
    "import seaborn as sns\n",
    "sns.set_style(\"dark\")\n",
    "plt.rcParams['figure.figsize'] = 16, 12\n",
    "from tqdm import tqdm_notebook\n",
    "import pandas as pd\n",
    "from collections import defaultdict\n",
    "\n",
    "# поменяйте на свой путь\n",
    "DS_FILE_NAME = '../../data/data.hw4/stackoverflow_sample_125k.tsv'\n",
    "TAGS_FILE_NAME = '../../data/data.hw4/top10_tags.tsv'"
   ]
  },
  {
   "cell_type": "code",
   "execution_count": 2,
   "metadata": {},
   "outputs": [
    {
     "name": "stdout",
     "output_type": "stream",
     "text": [
      "{'javascript', 'ios', 'c#', 'android', 'python', 'html', 'jquery', 'java', 'c++', 'php'}\n"
     ]
    }
   ],
   "source": [
    "top_tags = []\n",
    "with open(TAGS_FILE_NAME, 'r') as f:\n",
    "    for line in f:\n",
    "        top_tags.append(line.strip())\n",
    "top_tags = set(top_tags)\n",
    "print(top_tags)"
   ]
  },
  {
   "cell_type": "markdown",
   "metadata": {},
   "source": [
    "## 1. Многоклассовая логистическая регрессия\n",
    "\n",
    "Вспомним, как получается логистическая регрессия для двух классов $\\left\\{0, 1\\right\\}$, вероятность принадлежности объекта к классу $1$ выписывается по теореме Байеса:\n",
    "\n",
    "$$\\large \\begin{array}{rcl}\n",
    "p\\left(c = 1 \\mid \\vec{x}\\right) &=& \\dfrac{p\\left(\\vec{x} \\mid c = 1\\right)p\\left(c = 1\\right)}{p\\left(\\vec{x} \\mid c = 1\\right)p\\left(c = 1\\right) + p\\left(\\vec{x} \\mid c = 0\\right)p\\left(c = 0\\right)} \\\\\n",
    "&=& \\dfrac{1}{1 + e^{-a}} \\\\\n",
    "&=& \\sigma\\left(a\\right)\n",
    "\\end{array}$$\n",
    "где:\n",
    "- $\\vec{x}$ – вектор признаков объекта\n",
    "- $\\sigma$ – обозначение функции логистического сигмоида при скалярном аргументе\n",
    "- $a = \\log \\frac{p\\left(\\vec{x} \\mid c = 1\\right)p\\left(c = 1\\right)}{p\\left(\\vec{x} \\mid c = 0\\right)p\\left(c = 0\\right)} = \\sum_{i=0}^M w_i x^i$ – это отношение мы моделируем линейной функцией от признаков объекта и параметров модели\n",
    "\n",
    "Данное выражение легко обобщить до множества из $K$ классов, изменится только знаменатель в формуле Байеса. Запишем вероятность принадлежности объекта к классу $k$:\n",
    "$$\\large \\begin{array}{rcl}\n",
    "p\\left(c = k \\mid \\vec{x}\\right) &=& \\dfrac{p\\left(\\vec{x} \\mid c = k\\right)p\\left(c = k\\right)}{\\sum_{i=1}^K p\\left(\\vec{x} \\mid c = i\\right)p\\left(c = i\\right)} \\\\\n",
    "&=& \\dfrac{e^{z_k}}{\\sum_{i=1}^{K}e^{z_i}} \\\\\n",
    "&=& \\sigma_k\\left(\\vec{z}\\right)\n",
    "\\end{array}$$\n",
    "где:\n",
    "- $\\sigma_k$ – обозначение функции softmax при векторном аргументе\n",
    "- $z_k = \\log p\\left(\\vec{x} \\mid c = k\\right)p\\left(c = k\\right) = \\sum_{i=0}^M w_{ki} x^i$ – это выражение моделируется линейной функций от признаков объекта и параметров класса $k$\n",
    "\n",
    "Для моделирования полного правдоподобия примера мы используем [категориальное распределение](https://en.wikipedia.org/wiki/Categorical_distribution), а лучше его логарифм (для удобства):\n",
    "\n",
    "$$\\large \\begin{array}{rcl}\n",
    "\\mathcal{L} = \\log p\\left({\\vec{x}}\\right) &=& \\log \\prod_{i=1}^K \\sigma_i\\left(\\vec{z}\\right)^{y_i} \\\\\n",
    "&=& \\sum_{i=1}^K y_i \\log \\sigma_i\\left(\\vec{z}\\right)\n",
    "\\end{array}$$\n",
    "\n",
    "Получается хорошо знакомая нам функция [cross entropy](https://en.wikipedia.org/wiki/Cross_entropy) (если домножить на $-1$). Правдоподобие нужно максимизировать, а, соответственно, перекрестную энтропию нужно минимизировать. Продифференцировав по параметрам модели, мы _легко_ получим правила обновления весов для градиентного спуска, **проделайте этот вывод, если вы его не делали** (если вы вдруг сдались, то на [этом](https://www.youtube.com/watch?v=-WiR16raQf4) видео есть разбор вывода, понимание этого вам понадобится для дальнейшего выполнения задания):\n",
    "\n",
    "$$\\large \\begin{array}{rcl}\n",
    "\\frac{\\partial \\mathcal{L}}{\\partial w_{km}} &=& x_m \\left(y_k - \\sigma_k\\left(\\vec{z}\\right)\\right)\n",
    "\\end{array}$$\n",
    "\n",
    "В стандартной формулировке получается, что вектор $\\left(\\sigma_1, \\sigma_2, \\ldots, \\sigma_K\\right)$ образует дискретное вероятностное распределение, т.е. $\\sum_{i=1}^K \\sigma_i = 1$. Но в нашей постановке задачи каждый пример может иметь несколько тегов или одновременно принадлежать к нескольким классам. Для этого мы немного изменим модель:\n",
    "- будем считать, что все теги независимы друг от друга, т.е. каждый исход – это логистическая регрессия на два класса (либо есть тег, либо его нет), тогда вероятность наличия тега у примера запишется следующим образом (каждый тег/класс как и в многоклассовой логрегрессии имеет свой набор параметров):\n",
    "$$\\large p\\left(\\text{tag}_k \\mid \\vec{x}\\right) = \\sigma\\left(z_k\\right) = \\sigma\\left(\\sum_{i=1}^M w_{ki} x^i \\right)$$\n",
    "- наличие каждого тега мы будем моделировать с помощью <a href=\"https://en.wikipedia.org/wiki/Bernoulli_distribution\">распределения Бернулли</a>\n",
    "\n",
    "Ваше первое задание –  записать упрощенное выражение логарифма правдоподобия примера с признаками $\\vec{x}$. Как правило, многие алгоритмы оптимизации имеют интерфейс для минимизации функции, мы последуем этой же традиции, и домножим полученное выражение на $-1$, а во второй части выведем формулы для минимизации полученного выражения."
   ]
  },
  {
   "cell_type": "markdown",
   "metadata": {},
   "source": [
    "<font color=\"red\">Варианты ответа:</font>\n",
    "1. $\\large -\\mathcal{L} = -\\sum_{i=1}^M y_i \\log \\sigma\\left(z_i\\right) + \\left(1 - y_i\\right) \\log \\left(1 - \\sigma\\left(z_i\\right)\\right)$\n",
    "2. $\\large -\\mathcal{L} = -\\sum_{i=1}^K y_i \\log \\sigma\\left(z_i\\right) + \\left(1 - y_i\\right) \\log \\left(1 - \\sigma\\left(z_i\\right)\\right)$\n",
    "3. $\\large -\\mathcal{L} = -\\sum_{i=1}^K z_i \\log \\sigma\\left(y_i\\right) + \\left(1 - z_i\\right) \\log \\left(1 - \\sigma\\left(y_i\\right)\\right)$\n",
    "4. $\\large -\\mathcal{L} = -\\sum_{i=1}^M z_i \\log \\sigma\\left(y_i\\right) + \\left(1 - z_i\\right) \\log \\left(1 - \\sigma\\left(y_i\\right)\\right)$"
   ]
  },
  {
   "cell_type": "markdown",
   "metadata": {},
   "source": [
    "## 2. Вывод формулы обновления весов\n",
    "\n",
    "В качестве второго задания вам предоставляется возможность вывести формулу градиента для $-\\mathcal{L}$."
   ]
  },
  {
   "cell_type": "markdown",
   "metadata": {
    "collapsed": true
   },
   "source": [
    "<font color=\"red\">Варианты ответа:</font>:\n",
    "1. $\\large -\\frac{\\partial \\mathcal{L}}{\\partial w_{km}} = -x_m \\left(\\sigma\\left(z_k\\right) - y_k\\right)$\n",
    "2. $\\large -\\frac{\\partial \\mathcal{L}}{\\partial w_{km}} = -x_m \\left(y_k - \\sigma\\left(z_k\\right)\\right)$\n",
    "3. $\\large -\\frac{\\partial \\mathcal{L}}{\\partial w_{km}} = \\left(\\sigma\\left(z_k\\right)x_m - y_k\\right)$\n",
    "4. $\\large -\\frac{\\partial \\mathcal{L}}{\\partial w_{km}} = \\left(y_k - \\sigma\\left(z_k\\right)x_m\\right)$"
   ]
  },
  {
   "cell_type": "markdown",
   "metadata": {},
   "source": [
    "## 3. Имплементация базовой модели\n",
    "\n",
    "Вам предлагается каркас класса модели, разберите его внимательно, обращайте внимание на комментарии. Затем заполните пропуски, запустите полученную модель и ответьте на проверочный вопрос.\n",
    "\n",
    "Как вы могли уже заметить, при обновлении веса $w_{km}$ используется значение признака $x_m$, который равен $0$ если слова с индексом $m$ нет в предложении, и больше нуля, если такое слово есть. Соответственно, при вычислении линейной комбинации $z$ весов модели и признаков примера необходимо учитывать только ненулевые признаки объекта.\n",
    "\n",
    "Подсказка:\n",
    "- если реализовывать вычисление сигмоида так же, как в формуле, то при большом отрицательном значении $z$ вычисление $e^{-z}$ превратится в очень большое число, которое вылетит за допустимые пределы\n",
    "- в то же время $e^{-1}$ от большого положительного $z$ будет нулем\n",
    "- воспользуйтесь свойствами функции $\\sigma$ для того, чтобы пофиксить эту ошибку"
   ]
  },
  {
   "cell_type": "code",
   "execution_count": 18,
   "metadata": {},
   "outputs": [],
   "source": [
    "class LogRegressor():\n",
    "    \n",
    "    \"\"\"Конструктор\n",
    "    \n",
    "    Параметры\n",
    "    ----------\n",
    "    tags : list of string, default=top_tags\n",
    "        список тегов\n",
    "    \"\"\"\n",
    "    def __init__(self, tags=top_tags):      \n",
    "        # словарь который содержит мапинг слов предложений и тегов в индексы (для экономии памяти)\n",
    "        # пример: self._vocab['exception'] = 17 означает что у слова exception индекс равен 17\n",
    "        self._vocab = {}\n",
    "        \n",
    "        # параметры модели: веса\n",
    "        # для каждого класса/тега нам необходимо хранить собственный вектор весов\n",
    "        # по умолчанию у нас все веса будут равны нулю\n",
    "        # мы заранее не знаем сколько весов нам понадобится\n",
    "        # поэтому для каждого класса мы сосздаем словарь изменяемого размера со значением по умолчанию 0\n",
    "        # пример: self._w['java'][self._vocab['exception']]  содержит вес для слова exception тега java\n",
    "        self._w = dict([(t, defaultdict(int)) for t in tags])\n",
    "        \n",
    "        # параметры модели: смещения или вес w_0\n",
    "        self._b = dict([(t, 0) for t in tags])\n",
    "        \n",
    "        self._tags = set(tags)\n",
    "    \n",
    "    \"\"\"Один прогон по датасету\n",
    "    \n",
    "    Параметры\n",
    "    ----------\n",
    "    fname : string, default=DS_FILE_NAME\n",
    "        имя файла с данными\n",
    "        \n",
    "    top_n_train : int\n",
    "        первые top_n_train строк будут использоваться для обучения, остальные для тестирования\n",
    "        \n",
    "    total : int, default=10000000\n",
    "        информация о количестве строк в файле для вывода прогресс бара\n",
    "    \n",
    "    learning_rate : float, default=0.1\n",
    "        скорость обучения для градиентного спуска\n",
    "        \n",
    "    tolerance : float, default=1e-16\n",
    "        используем для ограничения значений аргумента логарифмов\n",
    "    \"\"\"\n",
    "    def iterate_file(self, \n",
    "                     fname=DS_FILE_NAME, \n",
    "                     top_n_train=100000, \n",
    "                     total=125000,\n",
    "                     learning_rate=0.1,\n",
    "                     tolerance=1e-16,\n",
    "                     lmbda=0):\n",
    "        \n",
    "        self._loss = []\n",
    "        n = 0\n",
    "        jaccard_loss = 0\n",
    "        # откроем файл\n",
    "        with open(fname, 'r') as f:            \n",
    "            \n",
    "            # прогуляемся по строкам файла\n",
    "            for line in tqdm_notebook(f, total=total, mininterval=1):\n",
    "                pair = line.strip().split('\\t')\n",
    "                if len(pair) != 2:\n",
    "                    continue                \n",
    "                sentence, tags = pair\n",
    "                # слова вопроса, это как раз признаки x\n",
    "                sentence = sentence.split(' ')\n",
    "                # теги вопроса, это y\n",
    "                tags = set(tags.split(' '))\n",
    "                \n",
    "                # значение функции потерь для текущего примера\n",
    "                sample_loss = 0\n",
    "                predicted_tags = set()\n",
    "                # прокидываем градиенты для каждого тега\n",
    "                for tag in self._tags:\n",
    "                    # целевая переменная равна 1 если текущий тег есть у текущего примера\n",
    "                    y = int(tag in tags)\n",
    "                    \n",
    "                    # расчитываем значение линейной комбинации весов и признаков объекта\n",
    "                    # ЗАПОЛНИТЕ ПРОПУСКИ В КОДЕ\n",
    "                    z = self._b[tag]\n",
    "   \n",
    "                    for word in sentence:\n",
    "                        # если в режиме тестирования появляется слово которого нет в словаре, то мы его игнорируем\n",
    "                        if n >= top_n_train and word not in self._vocab:\n",
    "                            continue\n",
    "                        if word not in self._vocab:\n",
    "                            self._vocab[word] = len(self._vocab)\n",
    "                        z += self._w[tag][self._vocab[word]]\n",
    "    \n",
    "                    # вычисляем вероятность наличия тега\n",
    "                    # ЗАПОЛНИТЕ ПРОПУСКИ В КОДЕ\n",
    "                    sigma = 1.0 / (1.0 + np.exp(-z)) if z > 0 else \\\n",
    "                            1.0 - 1.0 / (1.0 + np.exp(z))\n",
    "    \n",
    "                    # обновляем значение функции потерь для текущего примера\n",
    "                    # ЗАПОЛНИТЕ ПРОПУСКИ В КОДЕ\n",
    "                    sample_loss += -np.log(np.max([tolerance, sigma])) if y == 1 else \\\n",
    "                                   -np.log(np.max([tolerance, 1 - sigma]))\n",
    "                    if sigma > 0.9:\n",
    "                        predicted_tags.add(tag)\n",
    "                 \n",
    "                    \n",
    "                    # если мы все еще в тренировочной части, то обновим параметры\n",
    "                    if n < top_n_train:\n",
    "                        # вычисляем производную логарифмического правдоподобия по весу\n",
    "                        # ЗАПОЛНИТЕ ПРОПУСКИ В КОДЕ\n",
    "                        dLdw = y - sigma\n",
    "\n",
    "                        # делаем градиентный шаг\n",
    "                        # мы минимизируем отрицательное логарифмическое правдоподобие (второй знак минус)\n",
    "                        # поэтому мы идем в обратную сторону градиента для минимизации (первый знак минус)\n",
    "                        for word in sentence:\n",
    "                            l2 = 0\n",
    "                            if lmbda > 0:\n",
    "                                l2 = self._w[tag][self._vocab[word]]\n",
    "                            self._w[tag][self._vocab[word]] -= (learning_rate*(-dLdw + lmbda * l2))\n",
    "                        self._b[tag] -= -learning_rate*dLdw\n",
    "                    \n",
    "                n += 1\n",
    "                #if n == 20000:\n",
    "                #    break\n",
    "                if n % 1000 == 0:\n",
    "                    print(tags, predicted_tags)\n",
    "                if n > top_n_train:\n",
    "                    jaccard_loss += len(tags & predicted_tags) * 1.0 / len(tags | predicted_tags)\n",
    "                self._loss.append(sample_loss)\n",
    "        return jaccard_loss / (n - top_n_train)"
   ]
  },
  {
   "cell_type": "code",
   "execution_count": 19,
   "metadata": {
    "scrolled": true
   },
   "outputs": [
    {
     "data": {
      "application/vnd.jupyter.widget-view+json": {
       "model_id": "3af7b93530a6442c8095d802e7d3fa04"
      }
     },
     "metadata": {},
     "output_type": "display_data"
    },
    {
     "name": "stdout",
     "output_type": "stream",
     "text": [
      "{'jquery'} {'jquery', 'c#', 'javascript'}\n",
      "{'java'} {'c#'}\n",
      "{'android'} {'android'}\n",
      "{'ios'} {'ios', 'c#'}\n",
      "{'android'} {'android'}\n",
      "{'javascript'} {'javascript'}\n",
      "{'jquery', 'javascript'} {'jquery'}\n",
      "{'jquery'} {'jquery'}\n",
      "{'c#'} {'c#'}\n",
      "{'android'} {'android'}\n",
      "{'c#'} {'c#'}\n",
      "{'c#'} {'c#'}\n",
      "{'java'} {'java'}\n",
      "{'python'} {'html', 'android', 'javascript'}\n",
      "{'python'} set()\n",
      "{'java'} {'java'}\n",
      "{'ios'} {'ios', 'c#'}\n",
      "{'html'} {'jquery', 'html'}\n",
      "{'javascript'} set()\n",
      "{'java'} set()\n",
      "{'php'} {'php'}\n",
      "{'java'} set()\n",
      "{'c#', 'javascript'} set()\n",
      "{'ios'} {'ios', 'android', 'javascript'}\n",
      "{'ios'} {'ios'}\n",
      "{'c#'} {'c#'}\n",
      "{'php'} {'php'}\n",
      "{'php'} {'php'}\n",
      "{'c#'} {'c#'}\n",
      "{'java'} {'php'}\n",
      "{'jquery', 'javascript'} {'jquery', 'javascript'}\n",
      "{'c#'} {'c#', 'php'}\n",
      "{'android'} {'android'}\n",
      "{'java'} set()\n",
      "{'java'} {'java'}\n",
      "{'c#'} {'java', 'c#'}\n",
      "{'javascript'} {'jquery', 'html', 'javascript'}\n",
      "{'c#'} set()\n",
      "{'jquery', 'javascript'} {'c#', 'php', 'javascript'}\n",
      "{'android'} {'android'}\n",
      "{'php'} {'php'}\n",
      "{'php'} {'php'}\n",
      "{'java'} {'c#'}\n",
      "{'jquery'} set()\n",
      "{'php', 'python'} {'php'}\n",
      "{'ios'} set()\n",
      "{'python'} {'python'}\n",
      "{'php'} {'php'}\n",
      "{'php'} {'android', 'php'}\n",
      "{'php'} {'android', 'php'}\n",
      "{'c++'} {'c++'}\n",
      "{'ios'} set()\n",
      "{'python'} {'html', 'php', 'python'}\n",
      "{'c#'} set()\n",
      "{'ios'} {'ios', 'c#'}\n",
      "{'ios'} set()\n",
      "{'c++'} {'c++'}\n",
      "{'c#'} {'html', 'javascript'}\n",
      "{'c++'} {'c++'}\n",
      "{'jquery', 'javascript'} {'jquery', 'android', 'javascript'}\n",
      "{'c#'} {'php'}\n",
      "{'java'} {'java'}\n",
      "{'c++'} {'python'}\n",
      "{'c#'} {'c#'}\n",
      "{'html'} {'ios', 'html'}\n",
      "{'php'} set()\n",
      "{'c#'} set()\n",
      "{'python'} {'python'}\n",
      "{'c++'} {'python'}\n",
      "{'c++'} set()\n",
      "{'php'} {'php', 'javascript'}\n",
      "{'android'} {'android'}\n",
      "{'python'} {'javascript'}\n",
      "{'jquery', 'javascript'} {'jquery', 'html'}\n",
      "{'ios'} {'ios'}\n",
      "{'java'} {'ios', 'javascript'}\n",
      "{'html'} {'html', 'javascript'}\n",
      "{'c++'} set()\n",
      "{'c++'} {'c++'}\n",
      "{'c#'} {'c#'}\n",
      "{'javascript'} {'javascript'}\n",
      "{'c++'} {'c++'}\n",
      "{'jquery', 'php'} {'jquery', 'php', 'javascript'}\n",
      "{'c#'} {'java', 'c#'}\n",
      "{'c#'} {'c#'}\n",
      "{'c#'} {'c#'}\n",
      "{'html'} {'java'}\n",
      "{'jquery', 'javascript', 'html'} {'html', 'php'}\n",
      "{'c++'} {'java', 'c++'}\n",
      "{'jquery'} {'jquery', 'html'}\n",
      "{'java'} {'java', 'c#'}\n",
      "{'javascript'} {'javascript'}\n",
      "{'c#'} set()\n",
      "{'jquery', 'php'} {'php'}\n",
      "{'javascript'} {'javascript'}\n",
      "{'java'} {'java'}\n",
      "{'c#'} {'c#'}\n",
      "{'c#'} {'c#'}\n",
      "{'php'} {'php'}\n",
      "{'javascript'} set()\n",
      "{'php'} {'php'}\n",
      "{'java'} {'java'}\n",
      "{'c#'} {'c#'}\n",
      "{'java'} set()\n",
      "{'html', 'javascript'} {'javascript'}\n",
      "{'html', 'php'} {'html', 'php'}\n",
      "{'c#'} set()\n",
      "{'html', 'javascript'} {'jquery', 'html'}\n",
      "{'python'} {'python'}\n",
      "{'android'} {'java', 'android'}\n",
      "{'html'} {'html', 'php'}\n",
      "{'java'} {'java'}\n",
      "{'c#'} {'c#'}\n",
      "{'android'} {'android'}\n",
      "{'javascript'} {'javascript'}\n",
      "{'java'} set()\n",
      "{'android'} {'android'}\n",
      "{'javascript'} {'html'}\n",
      "{'c++'} {'c++'}\n",
      "{'c#'} {'c#', 'python'}\n",
      "{'c#'} {'c#'}\n",
      "{'android'} {'android'}\n",
      "{'html'} {'java', 'html', 'javascript', 'python'}\n",
      "{'jquery'} {'jquery', 'html'}\n",
      "{'jquery', 'javascript'} {'jquery', 'html', 'php'}\n",
      "\n"
     ]
    }
   ],
   "source": [
    "# создадим эксемпляр модели и пройдемся по датасету\n",
    "model = LogRegressor()\n",
    "acc = model.iterate_file()"
   ]
  },
  {
   "cell_type": "markdown",
   "metadata": {},
   "source": [
    "Проверим, действительно ли значение отрицательного логарифмического правдоподобия уменьшалось. Так как мы используем стохастический градентный спуск, не стоит ожидать плавного падения функции ошибки. Мы воспользуемся скользящим средним с окном в 10 000 примеров, чтобы хоть как то сгладить график."
   ]
  },
  {
   "cell_type": "code",
   "execution_count": 20,
   "metadata": {
    "scrolled": false
   },
   "outputs": [
    {
     "data": {
      "text/plain": [
       "[]"
      ]
     },
     "execution_count": 20,
     "metadata": {},
     "output_type": "execute_result"
    },
    {
     "data": {
      "image/png": "[encoded data removed]",
      "text/plain": [
       "<matplotlib.figure.Figure at 0x147c9eb8>"
      ]
     },
     "metadata": {},
     "output_type": "display_data"
    }
   ],
   "source": [
    "plt.figure(figsize=(8, 6))\n",
    "plt.plot(pd.Series(model._loss[:-25000]).rolling(10000).mean())\n",
    "plt.grid()\n",
    "plt.plot()"
   ]
  },
  {
   "cell_type": "code",
   "execution_count": 23,
   "metadata": {},
   "outputs": [
    {
     "name": "stdout",
     "output_type": "stream",
     "text": [
      "Mean of the loss function on the last 10k train samples: 19.47\n"
     ]
    }
   ],
   "source": [
    "print('Mean of the loss function on the last 10k train samples: %0.2f' % np.mean(model._loss[-35000:-25000]))"
   ]
  },
  {
   "cell_type": "markdown",
   "metadata": {},
   "source": [
    "Вычислите среднее значение функции стоимости на последних 10 000 примеров тренировочного набора, к какому из значений ваш ответ ближе всего?\n",
    "\n",
    "<font color=\"red\">Варианты ответа:</font>:\n",
    "1. 17.54\n",
    "2. 18.64\n",
    "3. 19.74\n",
    "4. 20.84"
   ]
  },
  {
   "cell_type": "markdown",
   "metadata": {
    "collapsed": true
   },
   "source": [
    "## 4. Тестирование модели\n",
    "\n",
    "В базовой модели первые 100 000 строк используются для обучения, а оставшиеся – для тестирования. Как вы можете заметить, значение отрицательного логарифмического правдоподобия не очень информативно, хоть и позволяет сравнивать разные модели. В качестве четвертого задания вам необходимо модифицировать базовую модель таким образом, чтобы метод `iterate_file` возвращал значение _точности_ на тестовой части набора данных. \n",
    "\n",
    "Точность определим следующим образом:\n",
    "- считаем, что тег у вопроса присутствует, если спрогнозированная вероятность тега больше 0.9\n",
    "- точность одного примера расчитывается как [коэффициент Жаккара](https://ru.wikipedia.org/wiki/Коэффициент_Жаккара) между множеством настоящих тегов и предсказанных моделью\n",
    "  - например, если у примера настоящие теги ['html', 'jquery'], а по версии модели ['ios', 'html', 'java'], то коэффициент Жаккара будет равен |['html', 'jquery'] $\\cap$ ['ios', 'html', 'java']| / |['html', 'jquery'] $\\cup$ ['ios', 'html', 'java']| = |['html']| / |['jquery', 'ios', 'html', 'java']| = 1/4\n",
    "- метод `iterate_file` возвращает **среднюю** точность на тестовом наборе данных"
   ]
  },
  {
   "cell_type": "code",
   "execution_count": null,
   "metadata": {
    "collapsed": true
   },
   "outputs": [],
   "source": [
    "# Обновите определение класса LogRegressor\n",
    "# Ваш код здесь"
   ]
  },
  {
   "cell_type": "code",
   "execution_count": 24,
   "metadata": {
    "scrolled": true
   },
   "outputs": [
    {
     "name": "stdout",
     "output_type": "stream",
     "text": [
      "0.59\n"
     ]
    }
   ],
   "source": [
    "#model = LogRegressor()\n",
    "#acc = model.iterate_file()\n",
    "# выведем полученное значение с точностью до двух знаков\n",
    "print('%0.2f' % acc)"
   ]
  },
  {
   "cell_type": "markdown",
   "metadata": {
    "collapsed": true
   },
   "source": [
    "Ответьте на вопрос,  к какому значению ближе всего полученное значение точности?\n",
    "<font color=\"red\">Варианты ответа:</font>:\n",
    "1. 0.39\n",
    "2. 0.49\n",
    "3. 0.59\n",
    "4. 0.69"
   ]
  },
  {
   "cell_type": "markdown",
   "metadata": {
    "collapsed": true
   },
   "source": [
    "## 5. $L_2$-регуляризация\n",
    "\n",
    "В качестве пятого задания вам необходимо добавить в класс `LogRegressor` поддержку $L_2$-регуляризации. В методе `iterate_file` должен появиться параметр `lmbda=0.01` со значением по умолчанию. С учетом регуляризации новая функция стоимости примет вид:\n",
    "\n",
    "$$\\large \\begin{array}{rcl}\n",
    "L &=& -\\mathcal{L} + \\frac{\\lambda}{2} R\\left(W\\right) \\\\\n",
    "&=& -\\mathcal{L} + \\frac{\\lambda}{2} \\sum_{k=1}^K\\sum_{i=1}^M w_{ki}^2\n",
    "\\end{array}$$\n",
    "\n",
    "Градиент первого члена суммы мы уже вывели, а для второго он имеет вид:\n",
    "\n",
    "$$\\large \\begin{array}{rcl}\n",
    "\\frac{\\partial}{\\partial w_{ki}} \\frac{\\lambda}{2} R\\left(W\\right) &=& \\lambda w_{ki}\n",
    "\\end{array}$$\n",
    "\n",
    "Если мы на каждом примере будем делать честное обновление всех весов, то все очень замедлится, ведь нам придется на каждой итерации пробегать по всем словам словаря. В ущерб теоретической точности вы используем грязный трюк: мы будем регуляризаровать только те слова, которые присутствуют в текущем предложении. Не забывайте, что смещение не регуляризируется. `sample_loss` тоже должен остаться без изменений."
   ]
  },
  {
   "cell_type": "code",
   "execution_count": null,
   "metadata": {
    "collapsed": true
   },
   "outputs": [],
   "source": [
    "# Обновите определение класса LogRegressor\n",
    "# Ваш код здесь"
   ]
  },
  {
   "cell_type": "code",
   "execution_count": 25,
   "metadata": {
    "scrolled": true
   },
   "outputs": [
    {
     "data": {
      "application/vnd.jupyter.widget-view+json": {
       "model_id": "dd45729613774487ac8f6892326b7299"
      }
     },
     "metadata": {},
     "output_type": "display_data"
    },
    {
     "name": "stdout",
     "output_type": "stream",
     "text": [
      "{'jquery'} {'jquery', 'c#', 'javascript'}\n",
      "{'java'} {'javascript'}\n",
      "{'android'} {'android'}\n",
      "{'ios'} {'ios'}\n",
      "{'android'} {'android'}\n",
      "{'javascript'} {'javascript'}\n",
      "{'jquery', 'javascript'} {'jquery', 'javascript'}\n",
      "{'jquery'} {'jquery', 'c#', 'php'}\n",
      "{'c#'} {'c#'}\n",
      "{'android'} {'android'}\n",
      "{'c#'} {'java'}\n",
      "{'c#'} {'c#'}\n",
      "{'java'} set()\n",
      "{'python'} {'android', 'javascript'}\n",
      "{'python'} {'python'}\n",
      "{'java'} set()\n",
      "{'ios'} {'ios', 'javascript'}\n",
      "{'html'} {'html'}\n",
      "{'javascript'} set()\n",
      "{'java'} {'android'}\n",
      "{'php'} {'html', 'php'}\n",
      "{'java'} set()\n",
      "{'c#', 'javascript'} set()\n",
      "{'ios'} {'ios', 'android', 'php'}\n",
      "{'ios'} {'ios'}\n",
      "{'c#'} set()\n",
      "{'php'} {'php'}\n",
      "{'php'} {'php'}\n",
      "{'c#'} {'c#'}\n",
      "{'java'} set()\n",
      "{'jquery', 'javascript'} {'javascript'}\n",
      "{'c#'} {'c#'}\n",
      "{'android'} {'android'}\n",
      "{'java'} {'java', 'android', 'javascript'}\n",
      "{'java'} {'java'}\n",
      "{'c#'} {'java', 'c#'}\n",
      "{'javascript'} {'jquery', 'javascript'}\n",
      "{'c#'} set()\n",
      "{'jquery', 'javascript'} {'php', 'javascript'}\n",
      "{'android'} {'android'}\n",
      "{'php'} set()\n",
      "{'php'} {'php'}\n",
      "{'java'} set()\n",
      "{'jquery'} set()\n",
      "{'php', 'python'} {'php'}\n",
      "{'ios'} {'java', 'ios'}\n",
      "{'python'} {'php', 'python'}\n",
      "{'php'} {'php'}\n",
      "{'php'} set()\n",
      "{'php'} {'java', 'android'}\n",
      "{'c++'} {'c++'}\n",
      "{'ios'} {'ios', 'python'}\n",
      "{'python'} {'html', 'php', 'python'}\n",
      "{'c#'} set()\n",
      "{'ios'} {'ios'}\n",
      "{'ios'} set()\n",
      "{'c++'} {'c++'}\n",
      "{'c#'} {'html', 'php', 'javascript'}\n",
      "{'c++'} {'c++', 'jquery'}\n",
      "{'jquery', 'javascript'} {'jquery', 'javascript'}\n",
      "{'c#'} {'android'}\n",
      "{'java'} {'java', 'python'}\n",
      "{'c++'} {'c#', 'python'}\n",
      "{'c#'} {'c#'}\n",
      "{'html'} set()\n",
      "{'php'} {'php'}\n",
      "{'c#'} {'c#'}\n",
      "{'python'} {'python'}\n",
      "{'c++'} {'python'}\n",
      "{'c++'} set()\n",
      "{'php'} {'jquery', 'c#', 'php', 'javascript'}\n",
      "{'android'} {'c++', 'android'}\n",
      "{'python'} {'java'}\n",
      "{'jquery', 'javascript'} set()\n",
      "{'ios'} {'ios'}\n",
      "{'java'} set()\n",
      "{'html'} {'html'}\n",
      "{'c++'} set()\n",
      "{'c++'} set()\n",
      "{'c#'} {'c++', 'c#'}\n",
      "{'javascript'} {'jquery', 'javascript'}\n",
      "{'c++'} {'c++'}\n",
      "{'jquery', 'php'} set()\n",
      "{'c#'} {'c#'}\n",
      "{'c#'} {'c#'}\n",
      "{'c#'} {'java', 'c#', 'android'}\n",
      "{'html'} set()\n",
      "{'jquery', 'javascript', 'html'} {'html', 'php'}\n",
      "{'c++'} set()\n",
      "{'jquery'} {'jquery', 'javascript'}\n",
      "{'java'} {'java'}\n",
      "{'javascript'} {'javascript'}\n",
      "{'c#'} set()\n",
      "{'jquery', 'php'} {'javascript'}\n",
      "{'javascript'} {'javascript'}\n",
      "{'java'} {'java'}\n",
      "{'c#'} {'c#'}\n",
      "{'c#'} {'c#'}\n",
      "{'php'} {'php'}\n",
      "{'javascript'} set()\n",
      "{'php'} {'html', 'php'}\n",
      "{'java'} {'java'}\n",
      "{'c#'} {'c#'}\n",
      "{'java'} {'c#'}\n",
      "{'html', 'javascript'} {'c#', 'javascript', 'python'}\n",
      "{'html', 'php'} {'html', 'php'}\n",
      "{'c#'} {'javascript', 'python'}\n",
      "{'html', 'javascript'} {'html'}\n",
      "{'python'} {'php', 'python', 'javascript'}\n",
      "{'android'} {'c#'}\n",
      "{'html'} {'html', 'php', 'python'}\n",
      "{'java'} {'java'}\n",
      "{'c#'} {'c#'}\n",
      "{'android'} {'android'}\n",
      "{'javascript'} {'android', 'javascript'}\n",
      "{'java'} {'c#', 'python'}\n",
      "{'android'} {'android'}\n",
      "{'javascript'} {'jquery', 'html'}\n",
      "{'c++'} {'c++'}\n",
      "{'c#'} {'c#', 'python'}\n",
      "{'c#'} {'c#', 'javascript'}\n",
      "{'android'} {'android'}\n",
      "{'html'} {'c#', 'javascript', 'python'}\n",
      "{'jquery'} {'jquery', 'html', 'javascript'}\n",
      "{'jquery', 'javascript'} {'jquery', 'html', 'javascript'}\n",
      "\n",
      "0.53\n"
     ]
    },
    {
     "data": {
      "text/plain": [
       "[]"
      ]
     },
     "execution_count": 25,
     "metadata": {},
     "output_type": "execute_result"
    },
    {
     "data": {
      "image/png": "[encoded data removed]",
      "text/plain": [
       "<matplotlib.figure.Figure at 0x11df2da0>"
      ]
     },
     "metadata": {},
     "output_type": "display_data"
    }
   ],
   "source": [
    "model = LogRegressor()\n",
    "acc = model.iterate_file(lmbda=0.01)\n",
    "print('%0.2f' % acc)\n",
    "plt.figure(figsize=(8, 6))\n",
    "plt.plot(pd.Series(model._loss[:-25000]).rolling(10000).mean())\n",
    "plt.grid()\n",
    "plt.plot()"
   ]
  },
  {
   "cell_type": "markdown",
   "metadata": {},
   "source": [
    "Ответьте на вопрос, к какому значению ближе всего полученное значение точности?\n",
    "<font color=\"red\">Варианты ответа:</font>:\n",
    "1. 0.3\n",
    "2. 0.35\n",
    "3. 0.4\n",
    "4. 0.52"
   ]
  },
  {
   "cell_type": "markdown",
   "metadata": {},
   "source": [
    "## 6. ElasticNet регуляризация, вывод\n",
    "Помимо $L_2$ регуляризации, часто используется $L_1$ регуляризация.\n",
    "\n",
    "$$\\large \\begin{array}{rcl}\n",
    "L &=& -\\mathcal{L} + \\frac{\\lambda}{2} R\\left(W\\right) \\\\\n",
    "&=& -\\mathcal{L} + \\lambda \\sum_{k=1}^K\\sum_{i=1}^M \\left|w_{ki}\\right|\n",
    "\\end{array}$$\n",
    "\n",
    "Если линейно объединить $L_1$ и $L_2$ регуляризацию, то полученный тип регуляризации называется ElasticNet:\n",
    "\n",
    "$$\\large \\begin{array}{rcl}\n",
    "L &=& -\\mathcal{L} + \\lambda R\\left(W\\right) \\\\\n",
    "&=& -\\mathcal{L} + \\lambda \\left(\\gamma \\sum_{k=1}^K\\sum_{i=1}^M w_{ki}^2 + \\left(1 - \\gamma\\right) \\sum_{k=1}^K\\sum_{i=1}^M \\left|w_{ki}\\right| \\right)\n",
    "\\end{array}$$\n",
    "- где $\\gamma \\in \\left[0, 1\\right]$\n",
    "\n",
    "В качестве шестого вопроса вам предлагается вывести формулу градиента ElasticNet регуляризации (не учитывая $-\\mathcal{L}$). \n",
    "\n",
    "<font color=\"red\">Варианты ответа:</font>:\n",
    "1. $\\large \\frac{\\partial}{\\partial w_{ki}} \\lambda R\\left(W\\right) = \\lambda \\left(2 \\gamma w_{ki} + \\left(1 - \\gamma\\right) w_{ki}\\right)$ \n",
    "2. $\\large \\frac{\\partial}{\\partial w_{ki}} \\lambda R\\left(W\\right) = \\lambda \\left(2 \\gamma \\left|w_{ki}\\right| + \\left(1 - \\gamma\\right) \\text{sign}\\left(w_{ki}\\right)\\right)$\n",
    "3. $\\large \\frac{\\partial}{\\partial w_{ki}} \\lambda R\\left(W\\right) = \\lambda \\left(2 \\gamma w_{ki} + \\left(1 - \\gamma\\right) \\text{sign}\\left(w_{ki}\\right)\\right)$\n",
    "4. $\\large \\frac{\\partial}{\\partial w_{ki}} \\lambda R\\left(W\\right) = \\lambda \\left(\\gamma w_{ki} + \\left(1 - \\gamma\\right) \\text{sign}\\left(w_{ki}\\right)\\right)$"
   ]
  },
  {
   "cell_type": "markdown",
   "metadata": {},
   "source": [
    "## 7. ElasticNet регуляризация, имплементация\n",
    "\n",
    "В качестве седьмой задачи, вам предлается изменить класс `LogRegressor` таким образом, чтобы метод `iterate_file` принимал два параметра со значениями по умолчанию `lmbda=0.0002` и `gamma=0.1`. Сделайте один проход по датасету с включенной ElasticNet регуляризацией и заданными значениями по умолчанию и ответьте на вопрос."
   ]
  },
  {
   "cell_type": "code",
   "execution_count": 15,
   "metadata": {},
   "outputs": [],
   "source": [
    "from collections import Counter\n",
    "\n",
    "# Обновите определение класса LogRegressor\n",
    "# Ваш код здесь\n",
    "class LogRegressorElasticNet():\n",
    "    \n",
    "    \"\"\"Конструктор\n",
    "    \n",
    "    Параметры\n",
    "    ----------\n",
    "    tags : list of string, default=top_tags\n",
    "        список тегов\n",
    "    \"\"\"\n",
    "    def __init__(self, tags=top_tags):      \n",
    "        # словарь который содержит мапинг слов предложений и тегов в индексы (для экономии памяти)\n",
    "        # пример: self._vocab['exception'] = 17 означает что у слова exception индекс равен 17\n",
    "        self._vocab = {}\n",
    "        \n",
    "        # параметры модели: веса\n",
    "        # для каждого класса/тега нам необходимо хранить собственный вектор весов\n",
    "        # по умолчанию у нас все веса будут равны нулю\n",
    "        # мы заранее не знаем сколько весов нам понадобится\n",
    "        # поэтому для каждого класса мы сосздаем словарь изменяемого размера со значением по умолчанию 0\n",
    "        # пример: self._w['java'][self._vocab['exception']]  содержит вес для слова exception тега java\n",
    "        self._w = dict([(t, defaultdict(int)) for t in tags])\n",
    "        \n",
    "        # параметры модели: смещения или вес w_0\n",
    "        self._b = dict([(t, 0) for t in tags])\n",
    "        \n",
    "        self._tags = set(tags)\n",
    "\n",
    "    def filter_vocab(self, fname=DS_FILE_NAME, total=125000, top_n_train=100000, n=10000):\n",
    "        c = Counter()\n",
    "        k = 0\n",
    "        with open(fname, 'r') as f:            \n",
    "            for line in tqdm_notebook(f, total=total, mininterval=1):\n",
    "                pair = line.strip().split('\\t')\n",
    "                if len(pair) != 2:\n",
    "                    continue                \n",
    "                sentence, tags = pair\n",
    "                sentence = sentence.split(' ')\n",
    "                if k < top_n_train:\n",
    "                    c.update(sentence)\n",
    "                k += 1\n",
    "        top_words = {}\n",
    "        for word, _ in sorted(c.items(), key=lambda x: -x[1])[:n]:\n",
    "            if word in self._vocab:\n",
    "                top_words[word] = self._vocab[word]\n",
    "        self._vocab = top_words\n",
    "\n",
    "            \n",
    "    \"\"\"Один прогон по датасету\n",
    "    \n",
    "    Параметры\n",
    "    ----------\n",
    "    fname : string, default=DS_FILE_NAME\n",
    "        имя файла с данными\n",
    "        \n",
    "    top_n_train : int\n",
    "        первые top_n_train строк будут использоваться для обучения, остальные для тестирования\n",
    "        \n",
    "    total : int, default=10000000\n",
    "        информация о количестве строк в файле для вывода прогресс бара\n",
    "    \n",
    "    learning_rate : float, default=0.1\n",
    "        скорость обучения для градиентного спуска\n",
    "        \n",
    "    tolerance : float, default=1e-16\n",
    "        используем для ограничения значений аргумента логарифмов\n",
    "    \"\"\"\n",
    "    def iterate_file(self, \n",
    "                     fname=DS_FILE_NAME, \n",
    "                     top_n_train=100000, \n",
    "                     total=125000,\n",
    "                     learning_rate=0.1,\n",
    "                     tolerance=1e-16,\n",
    "                     lmbda=0.0002,\n",
    "                     gamma=0.1,\n",
    "                     update_vocab=True):\n",
    "        \n",
    "        self._loss = []\n",
    "        n = 0\n",
    "        jaccard_loss = 0\n",
    "        # откроем файл\n",
    "        with open(fname, 'r') as f:            \n",
    "            \n",
    "            # прогуляемся по строкам файла\n",
    "            for line in tqdm_notebook(f, total=total, mininterval=1):\n",
    "                pair = line.strip().split('\\t')\n",
    "                if len(pair) != 2:\n",
    "                    continue                \n",
    "                sentence, tags = pair\n",
    "                # слова вопроса, это как раз признаки x\n",
    "                sentence = sentence.split(' ')\n",
    "                # теги вопроса, это y\n",
    "                tags = set(tags.split(' '))\n",
    "                \n",
    "                # значение функции потерь для текущего примера\n",
    "                sample_loss = 0\n",
    "                predicted_tags = set()\n",
    "                # прокидываем градиенты для каждого тега\n",
    "                for tag in self._tags:\n",
    "                    # целевая переменная равна 1 если текущий тег есть у текущего примера\n",
    "                    y = int(tag in tags)\n",
    "                    \n",
    "                    # расчитываем значение линейной комбинации весов и признаков объекта\n",
    "                    # ЗАПОЛНИТЕ ПРОПУСКИ В КОДЕ\n",
    "                    z = self._b[tag]\n",
    "   \n",
    "                    for word in sentence:\n",
    "                        if update_vocab is False and word not in self._vocab:\n",
    "                            continue\n",
    "                        # если в режиме тестирования появляется слово которого нет в словаре, то мы его игнорируем\n",
    "                        if n >= top_n_train and word not in self._vocab:\n",
    "                            continue\n",
    "                        if word not in self._vocab:\n",
    "                            self._vocab[word] = len(self._vocab)\n",
    "                        z += self._w[tag][self._vocab[word]]\n",
    "    \n",
    "                    # вычисляем вероятность наличия тега\n",
    "                    # ЗАПОЛНИТЕ ПРОПУСКИ В КОДЕ\n",
    "                    sigma = 1.0 / (1.0 + np.exp(-z)) if z > 0 else \\\n",
    "                            1.0 - 1.0 / (1.0 + np.exp(z))\n",
    "    \n",
    "                    # обновляем значение функции потерь для текущего примера\n",
    "                    # ЗАПОЛНИТЕ ПРОПУСКИ В КОДЕ\n",
    "                    sample_loss += -np.log(np.max([tolerance, sigma])) if y == 1 else \\\n",
    "                                   -np.log(np.max([tolerance, 1 - sigma]))\n",
    "                    if sigma > 0.9:\n",
    "                        predicted_tags.add(tag)\n",
    "                 \n",
    "                    \n",
    "                    # если мы все еще в тренировочной части, то обновим параметры\n",
    "                    if n < top_n_train:\n",
    "                        # вычисляем производную логарифмического правдоподобия по весу\n",
    "                        # ЗАПОЛНИТЕ ПРОПУСКИ В КОДЕ\n",
    "                        dLdw = y - sigma\n",
    "\n",
    "                        # делаем градиентный шаг\n",
    "                        # мы минимизируем отрицательное логарифмическое правдоподобие (второй знак минус)\n",
    "                        # поэтому мы идем в обратную сторону градиента для минимизации (первый знак минус)\n",
    "                        for word in sentence:\n",
    "                            if word not in self._vocab:\n",
    "                                continue\n",
    "                            w = self._w[tag][self._vocab[word]]\n",
    "                            l2 = 2 * gamma * w\n",
    "                            l1 = (1 - gamma) * np.sign(w)\n",
    "                            self._w[tag][self._vocab[word]] -= (learning_rate * (-dLdw + lmbda * (l1 + l2)))\n",
    "                        self._b[tag] -= -learning_rate*dLdw\n",
    "                    \n",
    "                n += 1\n",
    "                #if n == 2000:\n",
    "                #    break\n",
    "                if n % 1000 == 0:\n",
    "                    print(n, tags, predicted_tags)\n",
    "                if n > top_n_train:\n",
    "                    jaccard_loss += len(tags & predicted_tags) * 1.0 / len(tags | predicted_tags)\n",
    "                self._loss.append(sample_loss)\n",
    "        return jaccard_loss / (n - top_n_train)\n",
    "    \n",
    "    def predict_proba(self, sentence):\n",
    "        result = dict()\n",
    "        for tag in self._tags:\n",
    "            z = self._b[tag]\n",
    "            for word in sentence.lower().split(' '):\n",
    "                if word in self._vocab:\n",
    "                    z += self._w[tag][self._vocab[word]]\n",
    "            sigma = 1.0 / (1.0 + np.exp(-z)) if z > 0 else \\\n",
    "                    1.0 - 1.0 / (1.0 + np.exp(z))        \n",
    "            result[tag] = sigma\n",
    "        return result"
   ]
  },
  {
   "cell_type": "code",
   "execution_count": 10,
   "metadata": {
    "scrolled": true
   },
   "outputs": [
    {
     "data": {
      "application/vnd.jupyter.widget-view+json": {
       "model_id": "767a9a2770bf458481d189be4106458c"
      }
     },
     "metadata": {},
     "output_type": "display_data"
    },
    {
     "name": "stdout",
     "output_type": "stream",
     "text": [
      "1000 {'jquery'} {'javascript'}\n",
      "2000 {'java'} {'c#', 'java'}\n",
      "3000 {'android'} {'android'}\n",
      "4000 {'ios'} {'c#', 'ios'}\n",
      "5000 {'android'} {'android'}\n",
      "6000 {'javascript'} {'javascript'}\n",
      "7000 {'jquery', 'javascript'} {'javascript', 'jquery', 'php'}\n",
      "8000 {'jquery'} {'jquery', 'python'}\n",
      "9000 {'c#'} {'ios'}\n",
      "10000 {'android'} {'android'}\n",
      "11000 {'c#'} set()\n",
      "12000 {'c#'} {'c#'}\n",
      "13000 {'java'} set()\n",
      "14000 {'python'} {'html', 'android', 'javascript'}\n",
      "15000 {'python'} set()\n",
      "16000 {'java'} {'java'}\n",
      "17000 {'ios'} {'ios'}\n",
      "18000 {'html'} {'jquery', 'html'}\n",
      "19000 {'javascript'} {'javascript'}\n",
      "20000 {'java'} {'java'}\n",
      "21000 {'php'} {'c#'}\n",
      "22000 {'java'} set()\n",
      "23000 {'c#', 'javascript'} set()\n",
      "24000 {'ios'} {'ios', 'android'}\n",
      "25000 {'ios'} {'ios'}\n",
      "26000 {'c#'} {'c#'}\n",
      "27000 {'php'} {'php'}\n",
      "28000 {'php'} {'php'}\n",
      "29000 {'c#'} {'c#'}\n",
      "30000 {'java'} {'php'}\n",
      "31000 {'jquery', 'javascript'} {'javascript'}\n",
      "32000 {'c#'} {'c#', 'php'}\n",
      "33000 {'android'} {'android'}\n",
      "34000 {'java'} {'java'}\n",
      "35000 {'java'} {'java'}\n",
      "36000 {'c#'} {'c#'}\n",
      "37000 {'javascript'} {'jquery', 'html', 'javascript'}\n",
      "38000 {'c#'} set()\n",
      "39000 {'jquery', 'javascript'} {'javascript', 'c#', 'php'}\n",
      "40000 {'android'} {'android'}\n",
      "41000 {'php'} {'php'}\n",
      "42000 {'php'} {'php'}\n",
      "43000 {'java'} {'c#', 'android'}\n",
      "44000 {'jquery'} set()\n",
      "45000 {'python', 'php'} {'php'}\n",
      "46000 {'ios'} set()\n",
      "47000 {'python'} {'python'}\n",
      "48000 {'php'} {'php'}\n",
      "49000 {'php'} {'html', 'php'}\n",
      "50000 {'php'} {'android', 'php'}\n",
      "51000 {'c++'} {'c++'}\n",
      "52000 {'ios'} set()\n",
      "53000 {'python'} {'javascript', 'html', 'python', 'php'}\n",
      "54000 {'c#'} set()\n",
      "55000 {'ios'} {'ios'}\n",
      "56000 {'ios'} {'ios'}\n",
      "57000 {'c++'} {'c++'}\n",
      "58000 {'c#'} {'html', 'javascript'}\n",
      "59000 {'c++'} {'c#'}\n",
      "60000 {'jquery', 'javascript'} {'jquery', 'javascript'}\n",
      "61000 {'c#'} set()\n",
      "62000 {'java'} {'java'}\n",
      "63000 {'c++'} set()\n",
      "64000 {'c#'} {'c#'}\n",
      "65000 {'html'} {'java', 'ios'}\n",
      "66000 {'php'} {'php'}\n",
      "67000 {'c#'} set()\n",
      "68000 {'python'} {'python'}\n",
      "69000 {'c++'} {'python'}\n",
      "70000 {'c++'} {'php'}\n",
      "71000 {'php'} {'javascript', 'c#', 'php'}\n",
      "72000 {'android'} {'android'}\n",
      "73000 {'python'} {'javascript'}\n",
      "74000 {'jquery', 'javascript'} {'jquery', 'html'}\n",
      "75000 {'ios'} {'ios'}\n",
      "76000 {'java'} set()\n",
      "77000 {'html'} {'html', 'javascript'}\n",
      "78000 {'c++'} {'c++'}\n",
      "79000 {'c++'} {'c++'}\n",
      "80000 {'c#'} {'c#', 'android'}\n",
      "81000 {'javascript'} {'javascript'}\n",
      "82000 {'c++'} {'c++'}\n",
      "83000 {'jquery', 'php'} {'javascript', 'jquery', 'php'}\n",
      "84000 {'c#'} {'c#'}\n",
      "85000 {'c#'} {'c#'}\n",
      "86000 {'c#'} {'c#'}\n",
      "87000 {'html'} {'java'}\n",
      "88000 {'jquery', 'html', 'javascript'} {'html', 'php'}\n",
      "89000 {'c++'} {'java'}\n",
      "90000 {'jquery'} {'jquery', 'html', 'javascript'}\n",
      "91000 {'java'} {'java'}\n",
      "92000 {'javascript'} {'javascript'}\n",
      "93000 {'c#'} set()\n",
      "94000 {'jquery', 'php'} {'jquery', 'php'}\n",
      "95000 {'javascript'} {'javascript'}\n",
      "96000 {'java'} {'java'}\n",
      "97000 {'c#'} {'c#'}\n",
      "98000 {'c#'} {'c#'}\n",
      "99000 {'php'} {'php'}\n",
      "100000 {'javascript'} set()\n",
      "101000 {'php'} {'python', 'php'}\n",
      "102000 {'java'} {'java'}\n",
      "103000 {'c#'} {'c#'}\n",
      "104000 {'java'} {'c#'}\n",
      "105000 {'html', 'javascript'} {'html', 'javascript'}\n",
      "106000 {'html', 'php'} {'php'}\n",
      "107000 {'c#'} set()\n",
      "108000 {'html', 'javascript'} {'html'}\n",
      "109000 {'python'} {'python'}\n",
      "110000 {'android'} {'android'}\n",
      "111000 {'html'} {'html', 'php'}\n",
      "112000 {'java'} {'java', 'html'}\n",
      "113000 {'c#'} {'c#'}\n",
      "114000 {'android'} {'c#', 'android'}\n",
      "115000 {'javascript'} {'javascript'}\n",
      "116000 {'java'} {'c#', 'python'}\n",
      "117000 {'android'} {'android'}\n",
      "118000 {'javascript'} {'html'}\n",
      "119000 {'c++'} {'c++'}\n",
      "120000 {'c#'} {'c#', 'python'}\n",
      "121000 {'c#'} {'c#'}\n",
      "122000 {'android'} {'android'}\n",
      "123000 {'html'} {'c#', 'java', 'html', 'python', 'javascript'}\n",
      "124000 {'jquery'} {'jquery', 'javascript'}\n",
      "125000 {'jquery', 'javascript'} {'javascript', 'jquery', 'html', 'php'}\n",
      "\n",
      "0.59\n"
     ]
    }
   ],
   "source": [
    "model = LogRegressorElasticNet()\n",
    "acc = model.iterate_file()\n",
    "print('%0.2f' % acc)"
   ]
  },
  {
   "cell_type": "code",
   "execution_count": 11,
   "metadata": {},
   "outputs": [
    {
     "data": {
      "text/plain": [
       "[]"
      ]
     },
     "execution_count": 11,
     "metadata": {},
     "output_type": "execute_result"
    },
    {
     "data": {
      "image/png": "[encoded data removed]",
      "text/plain": [
       "<matplotlib.figure.Figure at 0x25b7efd0>"
      ]
     },
     "metadata": {},
     "output_type": "display_data"
    }
   ],
   "source": [
    "plt.figure(figsize=(8, 6))\n",
    "plt.plot(pd.Series(model._loss[:-25000]).rolling(10000).mean())\n",
    "plt.grid()\n",
    "plt.plot()"
   ]
  },
  {
   "cell_type": "markdown",
   "metadata": {
    "collapsed": true
   },
   "source": [
    "Ответьте на вопрос,  к какому значению ближе всего полученное значение точности:\n",
    "<font color=\"red\">Варианты ответа:</font>\n",
    "1. 0.59\n",
    "2. 0.69\n",
    "3. 0.79\n",
    "4. 0.82"
   ]
  },
  {
   "cell_type": "markdown",
   "metadata": {},
   "source": [
    "## 8. Самые важные слова для тега\n",
    "\n",
    "Прелесть линейных моделей в том, что они легко интерпретируемы. Вам предлагается вычислить, какие слова вносят наибольший вклад в вероятность каждого из тегов. А затем ответьте на контрольный вопрос."
   ]
  },
  {
   "cell_type": "code",
   "execution_count": 12,
   "metadata": {
    "scrolled": true
   },
   "outputs": [
    {
     "name": "stdout",
     "output_type": "stream",
     "text": [
      "c#\n",
      "[('writeline', 26.017583270194006), ('binding', 23.309214372227014), ('linq', 21.549397861680678), ('net', 19.227046169181303), ('runat', 19.178701716490664)]\n",
      "c#\n",
      "\n",
      "jquery\n",
      "[('jquery', 94.044563112868474), ('ready', 31.714440177642764), ('span', 31.538516437966795), ('ajax', 28.790173626482986), ('val', 23.315201745913402)]\n",
      "\n",
      "ios\n",
      "[('ios', 46.640375885437038), ('dylib', 31.925458798995418), ('nsstring', 29.13305436548707), ('nil', 28.260565684644071), ('uiview', 25.625261357145952)]\n",
      "\n",
      "android\n",
      "[('android', 57.88851150890487), ('activity', 28.073533082998022), ('art', 25.661102434480288), ('imgsrv', 25.282719342648132), ('29297', 25.282719342648132)]\n",
      "\n",
      "php\n",
      "[('php', 74.858594424229935), ('x5c', 44.552326597122224), ('_post', 42.878584069108008), ('echo', 40.930439179984894), ('125', 39.629133107292979)]\n",
      "\n",
      "javascript\n",
      "[('javascript', 62.217233385514497), ('x20', 50.639502751641437), ('125', 37.044147761289715), ('3', 36.663144913444221), ('x30', 35.368687771275198)]\n",
      "\n",
      "java\n",
      "[('hibernate', 30.225010899731267), ('println', 29.965595887920923), ('spring', 28.713204771573089), ('servlet', 28.438197548983741), ('jsp', 25.912107464748154)]\n",
      "java\n",
      "\n",
      "python\n",
      "[('python', 69.097877484974646), ('def', 37.642076900272606), ('py', 33.996941492400268), ('django', 27.905740604754726), ('np', 24.55107347350976)]\n",
      "\n",
      "html\n",
      "[('3', 49.444672336527319), ('html', 29.120479574038281), ('br', 26.348298750373097), ('nav', 21.82474509719437), ('try', 20.513235515506707)]\n",
      "\n",
      "c++\n",
      "[('avrf', 57.12446089678545), ('c++', 46.781087484756689), ('std', 33.067361892741722), ('cout', 31.576354510477689), ('boost', 22.038628566652179)]\n",
      "\n"
     ]
    }
   ],
   "source": [
    "# Ваш код здесь\n",
    "inverseVoc = dict([(v, k) for k, v in model._vocab.items()])\n",
    "for tag in model._tags:\n",
    "    print(tag)\n",
    "    mainTags = [(inverseVoc[e[0]], e[1]) for e in sorted(model._w[tag].items(), key=lambda x: -x[1])[:5]]\n",
    "    print(mainTags)\n",
    "    if tag not in set([e[0] for e in mainTags]):\n",
    "        print(tag)\n",
    "    print()"
   ]
  },
  {
   "cell_type": "markdown",
   "metadata": {},
   "source": [
    "Для многих тегов наличие самого тега в предложении является важным сигналом, у многих сам тег является самым сильным сигналом, что неудивительно. Для каких из тегов само название тега не входит в топ-5 самых важных?\n",
    "\n",
    "<font color=\"red\">Варианты ответа:</font>\n",
    "1. java, c#\n",
    "2. php, javascript\n",
    "3. html, jquery\n",
    "4. ios, android"
   ]
  },
  {
   "cell_type": "markdown",
   "metadata": {
    "collapsed": true
   },
   "source": [
    "## 9. Сокращаем размер словаря\n",
    "Сейчас количество слов в словаре около 90 000, если бы это была выборка из 10 миллионов вопросов с сайта StackOverflow, то размер словаря был бы миллионов 10. Регуляризировать модель можно не только изящно математически, но и топорно, например, ограничить размер словаря. Вам предоставляется возможность внести следующие изменения в класс `LogRegressor`:\n",
    "- добавить в метод `iterate_file` еще один аргумент со значением по умолчанию `update_vocab=True`\n",
    "- при `update_vocab=True` разрешать добавлять слова в словарь в режиме обучения\n",
    "- при `update_vocab=False` игнорировать слова не из словаря\n",
    "- добавить в класс метод `filter_vocab(n=10000)`, который оставит в словаре только топ-n самых популярных слов"
   ]
  },
  {
   "cell_type": "code",
   "execution_count": 16,
   "metadata": {
    "scrolled": true
   },
   "outputs": [
    {
     "data": {
      "application/vnd.jupyter.widget-view+json": {
       "model_id": "361b7483d18c48abb729afadbb1e84fa"
      }
     },
     "metadata": {},
     "output_type": "display_data"
    },
    {
     "name": "stdout",
     "output_type": "stream",
     "text": [
      "1000 {'jquery'} {'javascript'}\n",
      "2000 {'java'} {'java', 'c#'}\n",
      "3000 {'android'} {'android'}\n",
      "4000 {'ios'} {'ios', 'c#'}\n",
      "5000 {'android'} {'android'}\n",
      "6000 {'javascript'} {'javascript'}\n",
      "7000 {'javascript', 'jquery'} {'javascript', 'jquery', 'php'}\n",
      "8000 {'jquery'} {'python', 'jquery'}\n",
      "9000 {'c#'} {'ios'}\n",
      "10000 {'android'} {'android'}\n",
      "11000 {'c#'} set()\n",
      "12000 {'c#'} {'c#'}\n",
      "13000 {'java'} set()\n",
      "14000 {'python'} {'javascript', 'html', 'android'}\n",
      "15000 {'python'} set()\n",
      "16000 {'java'} {'java'}\n",
      "17000 {'ios'} {'ios'}\n",
      "18000 {'html'} {'jquery', 'html'}\n",
      "19000 {'javascript'} {'javascript'}\n",
      "20000 {'java'} {'java'}\n",
      "21000 {'php'} {'c#'}\n",
      "22000 {'java'} set()\n",
      "23000 {'javascript', 'c#'} set()\n",
      "24000 {'ios'} {'ios', 'android'}\n",
      "25000 {'ios'} {'ios'}\n",
      "26000 {'c#'} {'c#'}\n",
      "27000 {'php'} {'php'}\n",
      "28000 {'php'} {'php'}\n",
      "29000 {'c#'} {'c#'}\n",
      "30000 {'java'} {'php'}\n",
      "31000 {'javascript', 'jquery'} {'javascript'}\n",
      "32000 {'c#'} {'c#', 'php'}\n",
      "33000 {'android'} {'android'}\n",
      "34000 {'java'} {'java'}\n",
      "35000 {'java'} {'java'}\n",
      "36000 {'c#'} {'c#'}\n",
      "37000 {'javascript'} {'javascript', 'jquery', 'html'}\n",
      "38000 {'c#'} set()\n",
      "39000 {'javascript', 'jquery'} {'javascript', 'c#', 'php'}\n",
      "40000 {'android'} {'android'}\n",
      "41000 {'php'} {'php'}\n",
      "42000 {'php'} {'php'}\n",
      "43000 {'java'} {'c#', 'android'}\n",
      "44000 {'jquery'} set()\n",
      "45000 {'python', 'php'} {'php'}\n",
      "46000 {'ios'} set()\n",
      "47000 {'python'} {'python'}\n",
      "48000 {'php'} {'php'}\n",
      "49000 {'php'} {'html', 'php'}\n",
      "50000 {'php'} {'android', 'php'}\n",
      "51000 {'c++'} {'c++'}\n",
      "52000 {'ios'} set()\n",
      "53000 {'python'} {'javascript', 'python', 'html', 'php'}\n",
      "54000 {'c#'} set()\n",
      "55000 {'ios'} {'ios'}\n",
      "56000 {'ios'} {'ios'}\n",
      "57000 {'c++'} {'c++'}\n",
      "58000 {'c#'} {'javascript', 'html'}\n",
      "59000 {'c++'} {'c#'}\n",
      "60000 {'javascript', 'jquery'} {'javascript', 'jquery'}\n",
      "61000 {'c#'} set()\n",
      "62000 {'java'} {'java'}\n",
      "63000 {'c++'} set()\n",
      "64000 {'c#'} {'c#'}\n",
      "65000 {'html'} {'java', 'ios'}\n",
      "66000 {'php'} {'php'}\n",
      "67000 {'c#'} set()\n",
      "68000 {'python'} {'python'}\n",
      "69000 {'c++'} {'python'}\n",
      "70000 {'c++'} {'php'}\n",
      "71000 {'php'} {'javascript', 'c#', 'php'}\n",
      "72000 {'android'} {'android'}\n",
      "73000 {'python'} {'javascript'}\n",
      "74000 {'javascript', 'jquery'} {'jquery', 'html'}\n",
      "75000 {'ios'} {'ios'}\n",
      "76000 {'java'} set()\n",
      "77000 {'html'} {'javascript', 'html'}\n",
      "78000 {'c++'} {'c++'}\n",
      "79000 {'c++'} {'c++'}\n",
      "80000 {'c#'} {'c#', 'android'}\n",
      "81000 {'javascript'} {'javascript'}\n",
      "82000 {'c++'} {'c++'}\n",
      "83000 {'jquery', 'php'} {'javascript', 'jquery', 'php'}\n",
      "84000 {'c#'} {'c#'}\n",
      "85000 {'c#'} {'c#'}\n",
      "86000 {'c#'} {'c#'}\n",
      "87000 {'html'} {'java'}\n",
      "88000 {'javascript', 'jquery', 'html'} {'html', 'php'}\n",
      "89000 {'c++'} {'java'}\n",
      "90000 {'jquery'} {'javascript', 'jquery', 'html'}\n",
      "91000 {'java'} {'java'}\n",
      "92000 {'javascript'} {'javascript'}\n",
      "93000 {'c#'} set()\n",
      "94000 {'jquery', 'php'} {'jquery', 'php'}\n",
      "95000 {'javascript'} {'javascript'}\n",
      "96000 {'java'} {'java'}\n",
      "97000 {'c#'} {'c#'}\n",
      "98000 {'c#'} {'c#'}\n",
      "99000 {'php'} {'php'}\n",
      "100000 {'javascript'} set()\n",
      "101000 {'php'} {'python', 'php'}\n",
      "102000 {'java'} {'java'}\n",
      "103000 {'c#'} {'c#'}\n",
      "104000 {'java'} {'c#'}\n",
      "105000 {'javascript', 'html'} {'javascript', 'html'}\n",
      "106000 {'html', 'php'} {'php'}\n",
      "107000 {'c#'} set()\n",
      "108000 {'javascript', 'html'} {'html'}\n",
      "109000 {'python'} {'python'}\n",
      "110000 {'android'} {'android'}\n",
      "111000 {'html'} {'html', 'php'}\n",
      "112000 {'java'} {'java', 'html'}\n",
      "113000 {'c#'} {'c#'}\n",
      "114000 {'android'} {'c#', 'android'}\n",
      "115000 {'javascript'} {'javascript'}\n",
      "116000 {'java'} {'python', 'c#'}\n",
      "117000 {'android'} {'android'}\n",
      "118000 {'javascript'} {'html'}\n",
      "119000 {'c++'} {'c++'}\n",
      "120000 {'c#'} {'python', 'c#'}\n",
      "121000 {'c#'} {'c#'}\n",
      "122000 {'android'} {'android'}\n",
      "123000 {'html'} {'javascript', 'python', 'java', 'html', 'c#'}\n",
      "124000 {'jquery'} {'javascript', 'jquery'}\n",
      "125000 {'javascript', 'jquery'} {'javascript', 'jquery', 'html', 'php'}\n",
      "\n",
      "0.59\n"
     ]
    },
    {
     "data": {
      "image/png": "[encoded data removed]",
      "text/plain": [
       "<matplotlib.figure.Figure at 0x285c0518>"
      ]
     },
     "metadata": {},
     "output_type": "display_data"
    }
   ],
   "source": [
    "model = LogRegressorElasticNet()\n",
    "acc = model.iterate_file(update_vocab=True)\n",
    "print('%0.2f' % acc)\n",
    "plt.plot(pd.Series(model._loss[:-25000]).rolling(10000).mean());"
   ]
  },
  {
   "cell_type": "code",
   "execution_count": 17,
   "metadata": {},
   "outputs": [
    {
     "data": {
      "application/vnd.jupyter.widget-view+json": {
       "model_id": "434995c6a74642fb81838140da2a0595"
      }
     },
     "metadata": {},
     "output_type": "display_data"
    },
    {
     "name": "stdout",
     "output_type": "stream",
     "text": [
      "\n",
      "10000\n"
     ]
    }
   ],
   "source": [
    "# оставим только топ 10 000 слов\n",
    "model.filter_vocab(n=10000)\n",
    "print(len(model._vocab))"
   ]
  },
  {
   "cell_type": "code",
   "execution_count": 18,
   "metadata": {
    "scrolled": true
   },
   "outputs": [
    {
     "data": {
      "application/vnd.jupyter.widget-view+json": {
       "model_id": "6a6b1eb771734a93803e6c9aa82c5446"
      }
     },
     "metadata": {},
     "output_type": "display_data"
    },
    {
     "name": "stdout",
     "output_type": "stream",
     "text": [
      "1000 {'jquery'} {'javascript', 'jquery', 'html'}\n",
      "2000 {'java'} {'java'}\n",
      "3000 {'android'} {'java', 'android'}\n",
      "4000 {'ios'} {'javascript', 'ios'}\n",
      "5000 {'android'} {'android'}\n",
      "6000 {'javascript'} {'javascript'}\n",
      "7000 {'javascript', 'jquery'} {'javascript', 'jquery'}\n",
      "8000 {'jquery'} {'jquery', 'ios'}\n",
      "9000 {'c#'} {'c#'}\n",
      "10000 {'android'} {'android'}\n",
      "11000 {'c#'} {'c#'}\n",
      "12000 {'c#'} {'c#'}\n",
      "13000 {'java'} set()\n",
      "14000 {'python'} {'javascript', 'python', 'html'}\n",
      "15000 {'python'} {'javascript'}\n",
      "16000 {'java'} set()\n",
      "17000 {'ios'} {'ios'}\n",
      "18000 {'html'} {'jquery', 'html'}\n",
      "19000 {'javascript'} {'javascript'}\n",
      "20000 {'java'} set()\n",
      "21000 {'php'} set()\n",
      "22000 {'java'} {'android'}\n",
      "23000 {'javascript', 'c#'} {'jquery'}\n",
      "24000 {'ios'} {'ios', 'android'}\n",
      "25000 {'ios'} {'ios'}\n",
      "26000 {'c#'} {'c#'}\n",
      "27000 {'php'} {'php'}\n",
      "28000 {'php'} {'php'}\n",
      "29000 {'c#'} {'c#'}\n",
      "30000 {'java'} {'php'}\n",
      "31000 {'javascript', 'jquery'} {'javascript', 'jquery'}\n",
      "32000 {'c#'} {'c#'}\n",
      "33000 {'android'} {'java', 'android'}\n",
      "34000 {'java'} {'java'}\n",
      "35000 {'java'} {'java'}\n",
      "36000 {'c#'} {'c#'}\n",
      "37000 {'javascript'} {'html'}\n",
      "38000 {'c#'} {'java', 'c#'}\n",
      "39000 {'javascript', 'jquery'} {'javascript', 'python'}\n",
      "40000 {'android'} {'android'}\n",
      "41000 {'php'} {'javascript', 'html', 'php'}\n",
      "42000 {'php'} {'php'}\n",
      "43000 {'java'} {'java'}\n",
      "44000 {'jquery'} {'jquery'}\n",
      "45000 {'python', 'php'} {'php'}\n",
      "46000 {'ios'} {'ios'}\n",
      "47000 {'python'} {'python'}\n",
      "48000 {'php'} {'javascript', 'php'}\n",
      "49000 {'php'} {'php'}\n",
      "50000 {'php'} {'android', 'php'}\n",
      "51000 {'c++'} {'c++'}\n",
      "52000 {'ios'} {'ios'}\n",
      "53000 {'python'} {'python', 'html'}\n",
      "54000 {'c#'} set()\n",
      "55000 {'ios'} {'ios'}\n",
      "56000 {'ios'} {'ios'}\n",
      "57000 {'c++'} {'c++'}\n",
      "58000 {'c#'} {'java', 'html'}\n",
      "59000 {'c++'} {'c++'}\n",
      "60000 {'javascript', 'jquery'} {'javascript', 'jquery'}\n",
      "61000 {'c#'} {'c#'}\n",
      "62000 {'java'} set()\n",
      "63000 {'c++'} {'javascript', 'java', 'html'}\n",
      "64000 {'c#'} {'c#'}\n",
      "65000 {'html'} set()\n",
      "66000 {'php'} set()\n",
      "67000 {'c#'} {'c#'}\n",
      "68000 {'python'} {'python'}\n",
      "69000 {'c++'} {'python'}\n",
      "70000 {'c++'} set()\n",
      "71000 {'php'} {'php'}\n",
      "72000 {'android'} {'android'}\n",
      "73000 {'python'} {'java', 'c++'}\n",
      "74000 {'javascript', 'jquery'} {'html'}\n",
      "75000 {'ios'} {'ios'}\n",
      "76000 {'java'} {'java'}\n",
      "77000 {'html'} {'javascript', 'html'}\n",
      "78000 {'c++'} {'c++'}\n",
      "79000 {'c++'} {'javascript', 'c++'}\n",
      "80000 {'c#'} {'c#'}\n",
      "81000 {'javascript'} {'javascript'}\n",
      "82000 {'c++'} {'c++'}\n",
      "83000 {'jquery', 'php'} {'jquery', 'php'}\n",
      "84000 {'c#'} {'c#'}\n",
      "85000 {'c#'} {'c#'}\n",
      "86000 {'c#'} {'c#'}\n",
      "87000 {'html'} set()\n",
      "88000 {'javascript', 'jquery', 'html'} {'html', 'php'}\n",
      "89000 {'c++'} {'c++'}\n",
      "90000 {'jquery'} {'javascript', 'jquery', 'html'}\n",
      "91000 {'java'} {'java', 'c#'}\n",
      "92000 {'javascript'} {'javascript'}\n",
      "93000 {'c#'} set()\n",
      "94000 {'jquery', 'php'} {'javascript', 'jquery', 'php'}\n",
      "95000 {'javascript'} {'javascript'}\n",
      "96000 {'java'} {'java'}\n",
      "97000 {'c#'} {'c#'}\n",
      "98000 {'c#'} {'c#'}\n",
      "99000 {'php'} {'php'}\n",
      "100000 {'javascript'} set()\n",
      "101000 {'php'} {'php'}\n",
      "102000 {'java'} {'java'}\n",
      "103000 {'c#'} {'c#'}\n",
      "104000 {'java'} {'java'}\n",
      "105000 {'javascript', 'html'} {'javascript', 'html'}\n",
      "106000 {'html', 'php'} {'php'}\n",
      "107000 {'c#'} {'javascript'}\n",
      "108000 {'javascript', 'html'} {'javascript', 'html'}\n",
      "109000 {'python'} {'python'}\n",
      "110000 {'android'} {'ios', 'android'}\n",
      "111000 {'html'} {'html', 'php'}\n",
      "112000 {'java'} {'java'}\n",
      "113000 {'c#'} {'c#'}\n",
      "114000 {'android'} {'android'}\n",
      "115000 {'javascript'} {'javascript'}\n",
      "116000 {'java'} {'python'}\n",
      "117000 {'android'} {'android'}\n",
      "118000 {'javascript'} {'html'}\n",
      "119000 {'c++'} {'c++'}\n",
      "120000 {'c#'} {'python', 'c#'}\n",
      "121000 {'c#'} {'c#'}\n",
      "122000 {'android'} {'java', 'android'}\n",
      "123000 {'html'} {'javascript', 'python', 'java', 'html'}\n",
      "124000 {'jquery'} {'javascript', 'jquery'}\n",
      "125000 {'javascript', 'jquery'} {'javascript', 'jquery'}\n",
      "\n",
      "0.68\n"
     ]
    },
    {
     "data": {
      "text/plain": [
       "[]"
      ]
     },
     "execution_count": 18,
     "metadata": {},
     "output_type": "execute_result"
    },
    {
     "data": {
      "image/png": "[encoded data removed]",
      "text/plain": [
       "<matplotlib.figure.Figure at 0x28e72780>"
      ]
     },
     "metadata": {},
     "output_type": "display_data"
    }
   ],
   "source": [
    "# сделаем еще одну итерацию по датасету, уменьшив скорость обучения в 10 раз\n",
    "acc = model.iterate_file(update_vocab=False, learning_rate=0.01)\n",
    "print('%0.2f' % acc)\n",
    "plt.figure(figsize=(8, 6))\n",
    "plt.plot(pd.Series(model._loss[:-25000]).rolling(10000).mean())\n",
    "plt.grid()\n",
    "plt.plot()"
   ]
  },
  {
   "cell_type": "markdown",
   "metadata": {
    "collapsed": true
   },
   "source": [
    "Ответьте на вопрос,  к какому значению ближе всего полученное значение точности:\n",
    "<font color=\"red\">Варианты ответа:</font>\n",
    "1. 0.48\n",
    "2. 0.58\n",
    "3. 0.68\n",
    "4. 0.78"
   ]
  },
  {
   "cell_type": "markdown",
   "metadata": {},
   "source": [
    "## 10. Прогнозирование тегов для новых вопросов\n",
    "\n",
    "В завершение сегодняшней домашки, вам предлагается реализовать метод `predict_proba`, который принимает строку,  содержащую вопрос, а возвращает список предсказанных тегов вопроса с их вероятностями."
   ]
  },
  {
   "cell_type": "code",
   "execution_count": null,
   "metadata": {
    "collapsed": true
   },
   "outputs": [],
   "source": [
    "# Обновите определение класса LogRegressor\n",
    "# Ваш код здесь"
   ]
  },
  {
   "cell_type": "code",
   "execution_count": 4,
   "metadata": {
    "scrolled": true
   },
   "outputs": [
    {
     "data": {
      "application/vnd.jupyter.widget-view+json": {
       "model_id": "36d97b59dbf74f42a7d24140c90577fd"
      }
     },
     "metadata": {},
     "output_type": "display_data"
    },
    {
     "name": "stdout",
     "output_type": "stream",
     "text": [
      "1000 {'jquery'} {'javascript'}\n",
      "2000 {'java'} {'java', 'c#'}\n",
      "3000 {'android'} {'android'}\n",
      "4000 {'ios'} {'ios', 'c#'}\n",
      "5000 {'android'} {'android'}\n",
      "6000 {'javascript'} {'javascript'}\n",
      "7000 {'javascript', 'jquery'} {'php', 'jquery', 'javascript'}\n",
      "8000 {'jquery'} {'jquery', 'python'}\n",
      "9000 {'c#'} {'ios'}\n",
      "10000 {'android'} {'android'}\n",
      "11000 {'c#'} set()\n",
      "12000 {'c#'} {'c#'}\n",
      "13000 {'java'} set()\n",
      "14000 {'python'} {'html', 'android', 'javascript'}\n",
      "15000 {'python'} set()\n",
      "16000 {'java'} {'java'}\n",
      "17000 {'ios'} {'ios'}\n",
      "18000 {'html'} {'html', 'jquery'}\n",
      "19000 {'javascript'} {'javascript'}\n",
      "20000 {'java'} {'java'}\n",
      "21000 {'php'} {'c#'}\n",
      "22000 {'java'} set()\n",
      "23000 {'javascript', 'c#'} set()\n",
      "24000 {'ios'} {'android', 'ios'}\n",
      "25000 {'ios'} {'ios'}\n",
      "26000 {'c#'} {'c#'}\n",
      "27000 {'php'} {'php'}\n",
      "28000 {'php'} {'php'}\n",
      "29000 {'c#'} {'c#'}\n",
      "30000 {'java'} {'php'}\n",
      "31000 {'javascript', 'jquery'} {'javascript'}\n",
      "32000 {'c#'} {'php', 'c#'}\n",
      "33000 {'android'} {'android'}\n",
      "34000 {'java'} {'java'}\n",
      "35000 {'java'} {'java'}\n",
      "36000 {'c#'} {'c#'}\n",
      "37000 {'javascript'} {'html', 'jquery', 'javascript'}\n",
      "38000 {'c#'} set()\n",
      "39000 {'javascript', 'jquery'} {'php', 'c#', 'javascript'}\n",
      "40000 {'android'} {'android'}\n",
      "41000 {'php'} {'php'}\n",
      "42000 {'php'} {'php'}\n",
      "43000 {'java'} {'android', 'c#'}\n",
      "44000 {'jquery'} set()\n",
      "45000 {'php', 'python'} {'php'}\n",
      "46000 {'ios'} set()\n",
      "47000 {'python'} {'python'}\n",
      "48000 {'php'} {'php'}\n",
      "49000 {'php'} {'html', 'php'}\n",
      "50000 {'php'} {'php', 'android'}\n",
      "51000 {'c++'} {'c++'}\n",
      "52000 {'ios'} set()\n",
      "53000 {'python'} {'html', 'php', 'javascript', 'python'}\n",
      "54000 {'c#'} set()\n",
      "55000 {'ios'} {'ios'}\n",
      "56000 {'ios'} {'ios'}\n",
      "57000 {'c++'} {'c++'}\n",
      "58000 {'c#'} {'html', 'javascript'}\n",
      "59000 {'c++'} {'c#'}\n",
      "60000 {'javascript', 'jquery'} {'jquery', 'javascript'}\n",
      "61000 {'c#'} set()\n",
      "62000 {'java'} {'java'}\n",
      "63000 {'c++'} set()\n",
      "64000 {'c#'} {'c#'}\n",
      "65000 {'html'} {'java', 'ios'}\n",
      "66000 {'php'} {'php'}\n",
      "67000 {'c#'} set()\n",
      "68000 {'python'} {'python'}\n",
      "69000 {'c++'} {'python'}\n",
      "70000 {'c++'} {'php'}\n",
      "71000 {'php'} {'php', 'c#', 'javascript'}\n",
      "72000 {'android'} {'android'}\n",
      "73000 {'python'} {'javascript'}\n",
      "74000 {'javascript', 'jquery'} {'html', 'jquery'}\n",
      "75000 {'ios'} {'ios'}\n",
      "76000 {'java'} set()\n",
      "77000 {'html'} {'html', 'javascript'}\n",
      "78000 {'c++'} {'c++'}\n",
      "79000 {'c++'} {'c++'}\n",
      "80000 {'c#'} {'android', 'c#'}\n",
      "81000 {'javascript'} {'javascript'}\n",
      "82000 {'c++'} {'c++'}\n",
      "83000 {'php', 'jquery'} {'php', 'jquery', 'javascript'}\n",
      "84000 {'c#'} {'c#'}\n",
      "85000 {'c#'} {'c#'}\n",
      "86000 {'c#'} {'c#'}\n",
      "87000 {'html'} {'java'}\n",
      "88000 {'html', 'javascript', 'jquery'} {'html', 'php'}\n",
      "89000 {'c++'} {'java'}\n",
      "90000 {'jquery'} {'html', 'jquery', 'javascript'}\n",
      "91000 {'java'} {'java'}\n",
      "92000 {'javascript'} {'javascript'}\n",
      "93000 {'c#'} set()\n",
      "94000 {'php', 'jquery'} {'php', 'jquery'}\n",
      "95000 {'javascript'} {'javascript'}\n",
      "96000 {'java'} {'java'}\n",
      "97000 {'c#'} {'c#'}\n",
      "98000 {'c#'} {'c#'}\n",
      "99000 {'php'} {'php'}\n",
      "100000 {'javascript'} set()\n",
      "101000 {'php'} {'php', 'python'}\n",
      "102000 {'java'} {'java'}\n",
      "103000 {'c#'} {'c#'}\n",
      "104000 {'java'} {'c#'}\n",
      "105000 {'html', 'javascript'} {'html', 'javascript'}\n",
      "106000 {'html', 'php'} {'php'}\n",
      "107000 {'c#'} set()\n",
      "108000 {'html', 'javascript'} {'html'}\n",
      "109000 {'python'} {'python'}\n",
      "110000 {'android'} {'android'}\n",
      "111000 {'html'} {'html', 'php'}\n",
      "112000 {'java'} {'java', 'html'}\n",
      "113000 {'c#'} {'c#'}\n",
      "114000 {'android'} {'android', 'c#'}\n",
      "115000 {'javascript'} {'javascript'}\n",
      "116000 {'java'} {'c#', 'python'}\n",
      "117000 {'android'} {'android'}\n",
      "118000 {'javascript'} {'html'}\n",
      "119000 {'c++'} {'c++'}\n",
      "120000 {'c#'} {'c#', 'python'}\n",
      "121000 {'c#'} {'c#'}\n",
      "122000 {'android'} {'android'}\n",
      "123000 {'html'} {'java', 'html', 'c#', 'javascript', 'python'}\n",
      "124000 {'jquery'} {'jquery', 'javascript'}\n",
      "125000 {'javascript', 'jquery'} {'html', 'php', 'jquery', 'javascript'}\n",
      "\n",
      "0.59\n"
     ]
    },
    {
     "data": {
      "application/vnd.jupyter.widget-view+json": {
       "model_id": "7c7459bfc8394df780b12b28ea1cdf3a"
      }
     },
     "metadata": {},
     "output_type": "display_data"
    },
    {
     "name": "stdout",
     "output_type": "stream",
     "text": [
      "\n"
     ]
    },
    {
     "data": {
      "application/vnd.jupyter.widget-view+json": {
       "model_id": "dbd0db73c67b4fb9a7701cd43ce072d0"
      }
     },
     "metadata": {},
     "output_type": "display_data"
    },
    {
     "name": "stdout",
     "output_type": "stream",
     "text": [
      "1000 {'jquery'} {'html', 'jquery', 'javascript'}\n",
      "2000 {'java'} {'java'}\n",
      "3000 {'android'} {'java', 'android'}\n",
      "4000 {'ios'} {'ios', 'javascript'}\n",
      "5000 {'android'} {'android'}\n",
      "6000 {'javascript'} {'javascript'}\n",
      "7000 {'javascript', 'jquery'} {'jquery', 'javascript'}\n",
      "8000 {'jquery'} {'ios', 'jquery'}\n",
      "9000 {'c#'} {'c#'}\n",
      "10000 {'android'} {'android'}\n",
      "11000 {'c#'} {'c#'}\n",
      "12000 {'c#'} {'c#'}\n",
      "13000 {'java'} set()\n",
      "14000 {'python'} {'html', 'javascript', 'python'}\n",
      "15000 {'python'} {'javascript'}\n",
      "16000 {'java'} set()\n",
      "17000 {'ios'} {'ios'}\n",
      "18000 {'html'} {'html', 'jquery'}\n",
      "19000 {'javascript'} {'javascript'}\n",
      "20000 {'java'} set()\n",
      "21000 {'php'} set()\n",
      "22000 {'java'} {'android'}\n",
      "23000 {'javascript', 'c#'} {'jquery'}\n",
      "24000 {'ios'} {'android', 'ios'}\n",
      "25000 {'ios'} {'ios'}\n",
      "26000 {'c#'} {'c#'}\n",
      "27000 {'php'} {'php'}\n",
      "28000 {'php'} {'php'}\n",
      "29000 {'c#'} {'c#'}\n",
      "30000 {'java'} {'php'}\n",
      "31000 {'javascript', 'jquery'} {'jquery', 'javascript'}\n",
      "32000 {'c#'} {'c#'}\n",
      "33000 {'android'} {'java', 'android'}\n",
      "34000 {'java'} {'java'}\n",
      "35000 {'java'} {'java'}\n",
      "36000 {'c#'} {'c#'}\n",
      "37000 {'javascript'} {'html'}\n",
      "38000 {'c#'} {'java', 'c#'}\n",
      "39000 {'javascript', 'jquery'} {'javascript', 'python'}\n",
      "40000 {'android'} {'android'}\n",
      "41000 {'php'} {'html', 'php', 'javascript'}\n",
      "42000 {'php'} {'php'}\n",
      "43000 {'java'} {'java'}\n",
      "44000 {'jquery'} {'jquery'}\n",
      "45000 {'php', 'python'} {'php'}\n",
      "46000 {'ios'} {'ios'}\n",
      "47000 {'python'} {'python'}\n",
      "48000 {'php'} {'php', 'javascript'}\n",
      "49000 {'php'} {'php'}\n",
      "50000 {'php'} {'php', 'android'}\n",
      "51000 {'c++'} {'c++'}\n",
      "52000 {'ios'} {'ios'}\n",
      "53000 {'python'} {'html', 'python'}\n",
      "54000 {'c#'} set()\n",
      "55000 {'ios'} {'ios'}\n",
      "56000 {'ios'} {'ios'}\n",
      "57000 {'c++'} {'c++'}\n",
      "58000 {'c#'} {'java', 'html'}\n",
      "59000 {'c++'} {'c++'}\n",
      "60000 {'javascript', 'jquery'} {'jquery', 'javascript'}\n",
      "61000 {'c#'} {'c#'}\n",
      "62000 {'java'} set()\n",
      "63000 {'c++'} {'java', 'html', 'javascript'}\n",
      "64000 {'c#'} {'c#'}\n",
      "65000 {'html'} set()\n",
      "66000 {'php'} set()\n",
      "67000 {'c#'} {'c#'}\n",
      "68000 {'python'} {'python'}\n",
      "69000 {'c++'} {'python'}\n",
      "70000 {'c++'} set()\n",
      "71000 {'php'} {'php'}\n",
      "72000 {'android'} {'android'}\n",
      "73000 {'python'} {'java', 'c++'}\n",
      "74000 {'javascript', 'jquery'} {'html'}\n",
      "75000 {'ios'} {'ios'}\n",
      "76000 {'java'} {'java'}\n",
      "77000 {'html'} {'html', 'javascript'}\n",
      "78000 {'c++'} {'c++'}\n",
      "79000 {'c++'} {'c++', 'javascript'}\n",
      "80000 {'c#'} {'c#'}\n",
      "81000 {'javascript'} {'javascript'}\n",
      "82000 {'c++'} {'c++'}\n",
      "83000 {'php', 'jquery'} {'php', 'jquery'}\n",
      "84000 {'c#'} {'c#'}\n",
      "85000 {'c#'} {'c#'}\n",
      "86000 {'c#'} {'c#'}\n",
      "87000 {'html'} set()\n",
      "88000 {'html', 'javascript', 'jquery'} {'html', 'php'}\n",
      "89000 {'c++'} {'c++'}\n",
      "90000 {'jquery'} {'jquery', 'javascript'}\n",
      "91000 {'java'} {'java', 'c#'}\n",
      "92000 {'javascript'} {'javascript'}\n",
      "93000 {'c#'} set()\n",
      "94000 {'php', 'jquery'} {'php', 'jquery', 'javascript'}\n",
      "95000 {'javascript'} {'javascript'}\n",
      "96000 {'java'} {'java'}\n",
      "97000 {'c#'} {'c#'}\n",
      "98000 {'c#'} {'c#'}\n",
      "99000 {'php'} {'php'}\n",
      "100000 {'javascript'} set()\n",
      "101000 {'php'} {'php'}\n",
      "102000 {'java'} {'java'}\n",
      "103000 {'c#'} {'c#'}\n",
      "104000 {'java'} {'java'}\n",
      "105000 {'html', 'javascript'} {'html', 'javascript'}\n",
      "106000 {'html', 'php'} {'php'}\n",
      "107000 {'c#'} {'javascript'}\n",
      "108000 {'html', 'javascript'} {'html', 'javascript'}\n",
      "109000 {'python'} {'python'}\n",
      "110000 {'android'} {'android', 'ios'}\n",
      "111000 {'html'} {'html', 'php'}\n",
      "112000 {'java'} {'java'}\n",
      "113000 {'c#'} {'c#'}\n",
      "114000 {'android'} {'android'}\n",
      "115000 {'javascript'} {'javascript'}\n",
      "116000 {'java'} {'python'}\n",
      "117000 {'android'} {'android'}\n",
      "118000 {'javascript'} {'html'}\n",
      "119000 {'c++'} {'c++'}\n",
      "120000 {'c#'} {'c#', 'python'}\n",
      "121000 {'c#'} {'c#'}\n",
      "122000 {'android'} {'java', 'android'}\n",
      "123000 {'html'} {'java', 'html', 'javascript', 'python'}\n",
      "124000 {'jquery'} {'jquery', 'javascript'}\n",
      "125000 {'javascript', 'jquery'} {'jquery', 'javascript'}\n",
      "\n",
      "0.68\n"
     ]
    }
   ],
   "source": [
    "model = LogRegressorElasticNet()\n",
    "acc = model.iterate_file(update_vocab=True)\n",
    "print('%0.2f' % acc)\n",
    "model.filter_vocab(n=10000)\n",
    "acc = model.iterate_file(update_vocab=False, learning_rate=0.01)\n",
    "print('%0.2f' % acc)"
   ]
  },
  {
   "cell_type": "code",
   "execution_count": 19,
   "metadata": {
    "collapsed": true
   },
   "outputs": [],
   "source": [
    "sentence = (\"I want to improve my coding skills, so I have planned write \" +\n",
    "            \"a Mobile Application.need to choose between Apple's iOS or Google's Android.\" +\n",
    "            \" my background: I have done basic programming in .Net,C/C++,Python and PHP \" +\n",
    "            \"in college, so got OOP concepts covered. about my skill level, I just know \" +\n",
    "            \"concepts and basic syntax. But can't write complex applications, if asked :(\" +\n",
    "            \" So decided to hone my skills, And I wanted to know which is easier to \" +\n",
    "            \"learn for a programming n00b. A) iOS which uses Objective C B) Android \" + \n",
    "            \"which uses Java. I want to decide based on difficulty level\")"
   ]
  },
  {
   "cell_type": "code",
   "execution_count": 30,
   "metadata": {},
   "outputs": [
    {
     "name": "stdout",
     "output_type": "stream",
     "text": [
      "('ios', 1.0)\n",
      "('php', 0.99940006454276553)\n",
      "('android', 4.6988390955959858e-10)\n",
      "('javascript', 0.0)\n",
      "('python', 0.0)\n",
      "('c#', 0.0)\n",
      "('html', 0.0)\n",
      "('jquery', 0.0)\n",
      "('java', 0.0)\n",
      "('c++', 0.0)\n"
     ]
    }
   ],
   "source": [
    "for e in sorted(model.predict_proba(sentence).items(), key=lambda x: -x[1]):\n",
    "    print(e)"
   ]
  },
  {
   "cell_type": "code",
   "execution_count": 28,
   "metadata": {},
   "outputs": [
    {
     "name": "stdout",
     "output_type": "stream",
     "text": [
      "('ios', 0.7812271801702384)\n",
      "('android', 2.6490474007712095e-06)\n",
      "('javascript', 0.0)\n",
      "('python', 0.0)\n",
      "('php', 0.0)\n",
      "('c#', 0.0)\n",
      "('html', 0.0)\n",
      "('jquery', 0.0)\n",
      "('java', 0.0)\n",
      "('c++', 0.0)\n"
     ]
    }
   ],
   "source": [
    "import re\n",
    "for e in sorted(model.predict_proba(' '.join(re.findall(\"\\w+\", sentence, re.UNICODE))).items(), key=lambda x: -x[1]):\n",
    "    print(e)"
   ]
  },
  {
   "cell_type": "code",
   "execution_count": 25,
   "metadata": {},
   "outputs": [],
   "source": [
    "def predict_proba(model, sentence): \n",
    "    result = dict()\n",
    "    for tag in model._tags:\n",
    "        z = model._b[tag]\n",
    "        for word in sentence.split(' '):\n",
    "            if word in model._vocab:\n",
    "                z += model._w[tag][model._vocab[word]]\n",
    "        sigma = 1.0 / (1.0 + np.exp(-z)) if z > 0 else \\\n",
    "                1.0 - 1.0 / (1.0 + np.exp(z))        \n",
    "        result[tag] = sigma \n",
    "    return result"
   ]
  },
  {
   "cell_type": "code",
   "execution_count": 26,
   "metadata": {},
   "outputs": [
    {
     "name": "stdout",
     "output_type": "stream",
     "text": [
      "('java', 0.99999974727060736)\n",
      "('c#', 0.04947104484582765)\n",
      "('python', 0.024673895108592525)\n",
      "('javascript', 0.017308355976665246)\n",
      "('ios', 4.831287891970959e-08)\n",
      "('php', 4.1054077914992604e-09)\n",
      "('c++', 2.6512125828048738e-13)\n",
      "('android', 2.1183055309847987e-13)\n",
      "('html', 0.0)\n",
      "('jquery', 0.0)\n"
     ]
    }
   ],
   "source": [
    "for e in sorted(predict_proba(model, sentence).items(), key=lambda x: -x[1]):\n",
    "    print(e)"
   ]
  },
  {
   "cell_type": "code",
   "execution_count": 27,
   "metadata": {},
   "outputs": [
    {
     "name": "stdout",
     "output_type": "stream",
     "text": [
      "('java', 0.99999999999327183)\n",
      "('javascript', 0.050566293093480263)\n",
      "('python', 4.8537068210174894e-06)\n",
      "('c#', 4.2253387944057863e-07)\n",
      "('php', 1.7948058261829658e-08)\n",
      "('ios', 9.8325791952902364e-12)\n",
      "('android', 1.3322676295501878e-15)\n",
      "('html', 0.0)\n",
      "('jquery', 0.0)\n",
      "('c++', 0.0)\n"
     ]
    }
   ],
   "source": [
    "import re\n",
    "for e in sorted(predict_proba(model, ' '.join(re.findall(\"\\w+\", sentence, re.UNICODE))).items(), key=lambda x: -x[1]):\n",
    "    print(e)"
   ]
  },
  {
   "cell_type": "markdown",
   "metadata": {},
   "source": [
    "Ответьте на вопрос, какой или какие теги ассоциируются с данным вопросом, если порог принятия равен $0.9$?:\n",
    "<font color=\"red\">Варианты ответа:</font>\n",
    "1. android\n",
    "2. ios\n",
    "3. ios, php\n",
    "4. c#, c++, ods"
   ]
  }
 ],
 "metadata": {
  "kernelspec": {
   "display_name": "Python 3",
   "language": "python",
   "name": "python3"
  },
  "language_info": {
   "codemirror_mode": {
    "name": "ipython",
    "version": 3
   },
   "file_extension": ".py",
   "mimetype": "text/x-python",
   "name": "python",
   "nbconvert_exporter": "python",
   "pygments_lexer": "ipython3",
   "version": "3.4.0"
  }
 },
 "nbformat": 4,
 "nbformat_minor": 2
}
